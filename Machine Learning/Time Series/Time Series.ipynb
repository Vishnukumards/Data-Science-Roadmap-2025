{
 "cells": [
  {
   "cell_type": "markdown",
   "id": "a8c43a0c-9952-4dac-a7c0-27fa34af001f",
   "metadata": {},
   "source": [
    "# Time Series: Complete Concept"
   ]
  },
  {
   "cell_type": "markdown",
   "id": "c928da72-0016-4aed-ac49-7dc608a34789",
   "metadata": {},
   "source": [
    "What is a Time Series?\n",
    "\n",
    "A time series is a sequence of data points collected or recorded at specific time intervals — usually in chronological order."
   ]
  },
  {
   "cell_type": "markdown",
   "id": "d7f8592c-e27e-445a-a997-806da58be231",
   "metadata": {},
   "source": [
    "Date        | Temperature (°C)\n",
    "------------|------------------\n",
    "2025-06-20  | 30.1\n",
    "2025-06-21  | 29.7\n",
    "2025-06-22  | 31.0\n"
   ]
  },
  {
   "cell_type": "markdown",
   "id": "80301a0e-6db5-4297-b914-7129d9c9681d",
   "metadata": {},
   "source": [
    "Why is Time Important?\n",
    "\n",
    "In time series, the order and timing of data points matter. Unlike tabular data, shuffling time series breaks the relationship.\n",
    "\n"
   ]
  },
  {
   "cell_type": "markdown",
   "id": "4b87222f-a522-4422-a3af-4d1747e2557f",
   "metadata": {},
   "source": [
    "| Domain          | Example                              |\n",
    "| --------------- | ------------------------------------ |\n",
    "| **Finance**     | Stock prices, crypto, exchange rates |\n",
    "| **Weather**     | Temperature, rainfall, wind speed    |\n",
    "| **IoT**         | Sensor readings, smart meter data    |\n",
    "| **Web Traffic** | Page views per minute/hour           |\n",
    "| **Healthcare**  | ECG, heart rate over time            |\n"
   ]
  },
  {
   "cell_type": "markdown",
   "id": "2cdc0815-b87a-4d7b-aaa4-3c7be356cc86",
   "metadata": {},
   "source": [
    "##  Key Components of Time Series"
   ]
  },
  {
   "cell_type": "markdown",
   "id": "391ef017-8334-4d5d-a400-5ac1a1e46fa3",
   "metadata": {},
   "source": [
    "| Component       | Description                                      |\n",
    "| --------------- | ------------------------------------------------ |\n",
    "| **Trend**       | Long-term upward or downward movement            |\n",
    "| **Seasonality** | Regular repeating patterns (e.g., daily, yearly) |\n",
    "| **Cyclic**      | Long-term fluctuations (not fixed like seasons)  |\n",
    "| **Noise**       | Random variation (no pattern)                    |\n"
   ]
  },
  {
   "cell_type": "markdown",
   "id": "be5c9b7a-b00a-4605-b1ad-c43b2d16e023",
   "metadata": {},
   "source": [
    "# Time Series Tasks"
   ]
  },
  {
   "cell_type": "markdown",
   "id": "227012b2-1367-4a97-8c70-e18a0578f196",
   "metadata": {},
   "source": [
    "| Task                  | Goal                                                     |\n",
    "| --------------------- | -------------------------------------------------------- |\n",
    "| **Forecasting**       | Predict future values (e.g., next week’s sales)          |\n",
    "| **Anomaly Detection** | Spot unexpected patterns (e.g., sudden drops)            |\n",
    "| **Classification**    | Categorize time series (e.g., normal vs. faulty machine) |\n",
    "| **Clustering**        | Group similar time series                                |\n"
   ]
  },
  {
   "cell_type": "markdown",
   "id": "2a0b9766-8d29-444f-a506-ca82f5346e8e",
   "metadata": {},
   "source": [
    "     | Group similar time series                                |\r\n",
    "\r\n",
    "---\r\n",
    "\r\n",
    "## 🛠️ Time Series Techniques & Models\r\n",
    "\r\n",
    "### 1. **Statistical Models** 📐\r\n",
    "\r\n",
    "| Model                    | Use                                        |\r\n",
    "| ------------------------ | ------------------------------------------ |\r\n",
    "| **AR (Auto-Regressive)** | Uses past values                           |\r\n",
    "| **MA (Moving Average)**  | Uses past errors                           |\r\n",
    "| **ARMA / ARIMA**         | Combined models (good for stationary data) |\r\n",
    "| **SARIMA**               | ARIMA + seasonality support                |\r\n",
    "\r\n",
    "---\r\n",
    "\r\n",
    "### 2. **Machine Learning Models** 🧠\r\n",
    "\r\n",
    "| Model                               | Description                                |\r\n",
    "| ----------------------------------- | ------------------------------------------ |\r\n",
    "| **XGBoost / LightGBM**              | Use lag features + rolling stats           |\r\n",
    "| **SVR (Support Vector Regression)** | For time-based regression                  |\r\n",
    "| **Random Forest**                   | Works with feature-engineered time windows |\r\n",
    "\r\n",
    "> 💡 ML models usually need you to extract **features** like:\r\n",
    "\r\n",
    "* lagged values\r\n",
    "* moving averages\r\n",
    "* time-based features (hour, day, month)\r\n",
    "\r\n",
    "---\r\n",
    "\r\n",
    "### 3. **Deep Learning Models** 🧬\r\n",
    "\r\n",
    "| Model                              | Use                                   |\r\n",
    "| ---------------------------------- | ------------------------------------- |\r\n",
    "| **RNN (Recurrent Neural Network)** | Sequential modeling                   |\r\n",
    "| **LSTM / GRU**                     | Handle long-term dependencies well    |\r\n",
    "| **1D CNNs**                        | Detect local time patterns            |\r\n",
    "| **Transformers for Time Series**   | Handle long sequences and parallelize |\r\n",
    "\r\n",
    "---\r\n",
    "\r\n",
    "### 4. **Hybrid / Specialized Tools** ⚙️\r\n",
    "\r\n",
    "| Tool                     | Use                                          |\r\n",
    "| ------------------------ | -------------------------------------------- |\r\n",
    "| **Facebook Prophet**     | Easy forecasting with seasonality & holidays |\r\n",
    "| **Kats (Meta)**          | Multiple models and analysis                 |\r\n",
    "| **GluonTS**              | Deep learning time series (AWS)              |\r\n",
    "| **Merlion (Salesforce)** | Unified time series anomaly/forecasting tool |\r\n",
    "\r\n",
    "---\r\n",
    "\r\n",
    "## 📈 Forecasting vs. Anomaly Detection in Time Series\r\n",
    "\r\n",
    "| Feature | Forecasting              | Anomaly Detection               |\r\n",
    "| ------- | ------------------------ | ------------------------------- |\r\n",
    "| Goal    | Predict future values    | Identify abnormal patterns      |\r\n",
    "| Example | Predict tomorrow’s sales | Detect a sudden drop in traffic |\r\n",
    "| Models  | ARIMA, LSTM, Prophet     | Isolation Forest, LSTM-AE, HTM  |\r\n",
    "\r\n",
    "---\r\n",
    "\r\n",
    "## 🧪 Stationarity in Time Series\r\n",
    "\r\n",
    "A **stationary** time series has:\r\n",
    "\r\n",
    "* Constant mean\r\n",
    "* Constant variance\r\n",
    "* Constant autocorrelation\r\n",
    "\r\n",
    "📌 Most statistical models (like ARIMA) **require stationarity**.\r\n",
    "\r\n",
    "Use:\r\n",
    "\r\n",
    "* **Differencing**\r\n",
    "* **Rolling mean subtraction**\r\n",
    "  to make a series stationary.\r\n",
    "\r\n",
    "---\r\n",
    "\r\n",
    "## 📊 Time Series Data Preparation\r\n",
    "\r\n",
    "| Step                 | What it means                            |\r\n",
    "| -------------------- | ---------------------------------------- |\r\n",
    "| **Resampling**       | Convert to daily/hourly/monthly          |\r\n",
    "| **Smoothing**        | Remove noise (e.g., moving average)      |\r\n",
    "| **Normalization**    | Important for neural nets                |\r\n",
    "| **Train/Test Split** | Must preserve time order (no shuffling!) |\r\n",
    "\r\n",
    "---\r\n",
    "\r\n",
    "## ✅ Summary Table\r\n",
    "\r\n",
    "| Concept      | Example / Note                     |\r\n",
    "| ------------ | ---------------------------------- |\r\n",
    "| Ordered Data | Sequence matters                   |\r\n",
    "| Trend        | Long-term increase/decrease        |\r\n",
    "| Seasonality  | Recurring patterns (daily, weekly) |\r\n",
    "| Forecasting  | Predict future values              ng components (trend/seasonality)?\r\n",
    "* A **code example** for forecasting using Prophet or LSTM?\r\n",
    "* A **dataset recommendation** for practice?\r\n",
    "\r\n",
    "Let me know how deep you want to go.\r\n"
   ]
  },
  {
   "cell_type": "code",
   "execution_count": null,
   "id": "1bc9e5d6-0b73-46c5-969c-c72115e7ad69",
   "metadata": {},
   "outputs": [],
   "source": []
  },
  {
   "cell_type": "code",
   "execution_count": null,
   "id": "74793961-b01d-4d1c-94e6-d4039fa91d88",
   "metadata": {},
   "outputs": [],
   "source": []
  },
  {
   "cell_type": "code",
   "execution_count": null,
   "id": "e5796f45-842b-469a-b728-ad0127467c55",
   "metadata": {},
   "outputs": [],
   "source": []
  }
 ],
 "metadata": {
  "kernelspec": {
   "display_name": "Python 3 (ipykernel)",
   "language": "python",
   "name": "python3"
  },
  "language_info": {
   "codemirror_mode": {
    "name": "ipython",
    "version": 3
   },
   "file_extension": ".py",
   "mimetype": "text/x-python",
   "name": "python",
   "nbconvert_exporter": "python",
   "pygments_lexer": "ipython3",
   "version": "3.12.4"
  }
 },
 "nbformat": 4,
 "nbformat_minor": 5
}
