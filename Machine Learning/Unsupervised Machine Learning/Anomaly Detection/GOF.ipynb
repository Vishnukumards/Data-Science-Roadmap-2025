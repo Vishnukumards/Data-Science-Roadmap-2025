{
 "cells": [
  {
   "cell_type": "markdown",
   "id": "4dfbfdac-a3bb-46e0-9a34-ceb65d1f2fa6",
   "metadata": {},
   "source": [
    "## Global Outlier Factor (GOF)"
   ]
  },
  {
   "cell_type": "markdown",
   "id": "e5b0fdad-b369-4c1b-8ea9-83ffc8989564",
   "metadata": {},
   "source": [
    "Global Outlier Factor (GOF) is a less common term, but in some contexts it’s used to contrast with LOF (Local Outlier Factor):"
   ]
  },
  {
   "cell_type": "markdown",
   "id": "d3b4d700-90c7-4738-b099-dce81650ee09",
   "metadata": {},
   "source": [
    "| Concept         | Local Outlier Factor (LOF)                     | Global Outlier Factor (GOF)                          |\n",
    "| --------------- | ---------------------------------------------- | ---------------------------------------------------- |\n",
    "| **Focus**       | Detects **local anomalies** based on neighbors | Detects **global anomalies** using the whole dataset |\n",
    "| **Sensitivity** | Sensitive to local density                     | Sensitive to global distribution                     |\n",
    "| **Use Case**    | Anomalies in varying-density areas             | Outliers far from all data                           |\n"
   ]
  },
  {
   "cell_type": "code",
   "execution_count": null,
   "id": "4c9d4485-4ea3-4031-9f58-28f1d20eb66c",
   "metadata": {},
   "outputs": [],
   "source": []
  },
  {
   "cell_type": "code",
   "execution_count": null,
   "id": "e984eb88-bb22-4977-b049-c6a6c4ec6ad1",
   "metadata": {},
   "outputs": [],
   "source": []
  },
  {
   "cell_type": "code",
   "execution_count": null,
   "id": "72a9244f-e61c-46b8-92ef-d1fd8c25b465",
   "metadata": {},
   "outputs": [],
   "source": []
  },
  {
   "cell_type": "code",
   "execution_count": null,
   "id": "314b10d8-dbd5-4cd1-9bc4-31d668392319",
   "metadata": {},
   "outputs": [],
   "source": []
  },
  {
   "cell_type": "code",
   "execution_count": null,
   "id": "bef85e84-952f-4073-9aac-be994f78be17",
   "metadata": {},
   "outputs": [],
   "source": []
  },
  {
   "cell_type": "code",
   "execution_count": null,
   "id": "eef2b267-ba38-4977-94e6-5733c1e74892",
   "metadata": {},
   "outputs": [],
   "source": []
  },
  {
   "cell_type": "code",
   "execution_count": null,
   "id": "9c97c788-2b1e-431a-bfdc-bad48167f81a",
   "metadata": {},
   "outputs": [],
   "source": []
  },
  {
   "cell_type": "code",
   "execution_count": null,
   "id": "4066dce1-d9c1-47d0-8ad4-bfe13f4a0faa",
   "metadata": {},
   "outputs": [],
   "source": []
  }
 ],
 "metadata": {
  "kernelspec": {
   "display_name": "Python 3 (ipykernel)",
   "language": "python",
   "name": "python3"
  },
  "language_info": {
   "codemirror_mode": {
    "name": "ipython",
    "version": 3
   },
   "file_extension": ".py",
   "mimetype": "text/x-python",
   "name": "python",
   "nbconvert_exporter": "python",
   "pygments_lexer": "ipython3",
   "version": "3.12.4"
  }
 },
 "nbformat": 4,
 "nbformat_minor": 5
}
