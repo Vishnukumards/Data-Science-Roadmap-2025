{
 "cells": [
  {
   "cell_type": "markdown",
   "id": "f9cfb084",
   "metadata": {},
   "source": [
    "# Cross Validation"
   ]
  },
  {
   "cell_type": "code",
   "execution_count": null,
   "id": "c21b7200",
   "metadata": {},
   "outputs": [],
   "source": [
    "I"
   ]
  },
  {
   "cell_type": "code",
   "execution_count": null,
   "id": "7790022d",
   "metadata": {},
   "outputs": [],
   "source": [
    "It is used in Hyperparameter tunning\n",
    "It also used in determining the Hyperparameter of your model.For which parameter results in lowest test error."
   ]
  },
  {
   "cell_type": "markdown",
   "id": "5acae3e5",
   "metadata": {},
   "source": [
    "## K-fold cross validation steps:\n",
    "    \n",
    "1. Split your data into K randomly-assigned segments\n",
    "2. Reserve one segment as your test data\n",
    "3. Train on each of the remaining K-1 segments and measure their performance\n",
    "against the test set\n",
    "4. Take the average of the K-1 r-squared scores"
   ]
  },
  {
   "cell_type": "code",
   "execution_count": null,
   "id": "0f8b74cb",
   "metadata": {},
   "outputs": [],
   "source": []
  }
 ],
 "metadata": {
  "kernelspec": {
   "display_name": "Python 3 (ipykernel)",
   "language": "python",
   "name": "python3"
  },
  "language_info": {
   "codemirror_mode": {
    "name": "ipython",
    "version": 3
   },
   "file_extension": ".py",
   "mimetype": "text/x-python",
   "name": "python",
   "nbconvert_exporter": "python",
   "pygments_lexer": "ipython3",
   "version": "3.11.3"
  }
 },
 "nbformat": 4,
 "nbformat_minor": 5
}
