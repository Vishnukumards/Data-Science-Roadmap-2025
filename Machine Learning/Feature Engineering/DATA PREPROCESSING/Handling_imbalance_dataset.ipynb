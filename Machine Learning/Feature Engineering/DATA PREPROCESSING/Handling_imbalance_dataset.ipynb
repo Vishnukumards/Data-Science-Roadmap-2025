{
 "cells": [
  {
   "cell_type": "code",
   "execution_count": null,
   "id": "126e2090-0514-4a13-9466-d4b096493157",
   "metadata": {},
   "outputs": [],
   "source": [
    "Handling imbalance dataset"
   ]
  },
  {
   "cell_type": "markdown",
   "id": "52108687-f574-4b37-a859-2d073700e2f7",
   "metadata": {},
   "source": [
    "# Remember:  handling missing values and handling imbalance data set is not same\n",
    "| Missing Values | - Empty cells in your dataset | - Fill with impute  or remove row/column |\n",
    "\n",
    "|Imbalanced Dataset | - One class is much bigger than other class or vice versa |  - Remove duplicate data or adjust Weights or apply any algorithm to Balance data |"
   ]
  },
  {
   "cell_type": "markdown",
   "id": "e8316919-ccd5-4365-b24e-ba9d7481b539",
   "metadata": {},
   "source": [
    "# 📊 Types of Imbalanced Datasets & Techniques to Handle Them\r\n",
    "\r\n",
    "---\r\n",
    "\r\n",
    "## 1. 🔁 Binary Classification (e.g., Fraud / Not Fraud)\r\n",
    "\r\n",
    "**Example Imbalance:**  \r\n",
    "- 99% Not Fraud  \r\n",
    "- 1% Fraud  \r\n",
    "\r\n",
    "### ✅ Techniques:\r\n",
    "\r\n",
    "#### a. 🔄 Resampling\r\n",
    "- **Oversampling the Minority**: Duplicate or synthetically generate new samples (e.g., using **SMOTE**).\r\n",
    "- **Undersampling the Majority**: Randomly remove samples from the dominant class.\r\n",
    "\r\n",
    "#### b. ⚙️ Algorithm-Level Approaches\r\n",
    "- **Class Weights**: Assign higher penalty to the minority class in the loss function.  \r\n",
    "  *(e.g., use `class_weight='balanced'` in many scikit-learn models)*\r\n",
    "\r\n",
    "#### c. 📈 Evaluation Metrics\r\n",
    "Use metrics that reflect class imbalance more accurately:\r\n",
    "- **Precision**\r\n",
    "- **Recall**\r\n",
    "- **F1-Score**\r\n",
    "- **ROC-AUC**  \r\n",
    "*(Avoid relying only on Accuracy)*\r\n",
    "\r\n",
    "---\r\n",
    "\r\n",
    "## 2. 🐾 Multiclass Classification (e.g., Cat / Dog / Lion / Elephant)\r\n",
    "\r\n",
    "**Example Imbalance:**  \r\n",
    "- Multiple classes with skewed distributions\r\n",
    "\r\n",
    "### ✅ Techniques:\r\n",
    "\r\n",
    "#### a. 🔁 Resampling\r\n",
    "- **Oversample** rare classes\r\n",
    "- **Undersample** dominant ones\r\n",
    "\r\n",
    "#### b. 🧩 Class Grouping\r\n",
    "- Merge very rare classes into an **\"Other\"** category\r\n",
    "\r\n",
    "#### c. ⚙️ Algorithm Adaptation\r\n",
    "- Use models that support **multi-class weighting**\r\n",
    "\r\n",
    "#### d. 🧪 Stratified Sampling\r\n",
    "- Use **stratified train-test splits** to ensure all classes are proportionally represented\r\n",
    "\r\n",
    "---\r\n",
    "\r\n",
    "✅ **Tip:** Always visualize the class distribution before applying techniques.\r\n",
    "ch set.\n"
   ]
  },
  {
   "cell_type": "markdown",
   "id": "15bb9f1a-d7b2-4c2e-ae96-673a5f943fe2",
   "metadata": {},
   "source": [
    "---\n",
    "**Binary Clasification**\n"
   ]
  },
  {
   "cell_type": "code",
   "execution_count": 2,
   "id": "bc51c7d0-0565-4da2-9259-f3b4d2784e30",
   "metadata": {},
   "outputs": [],
   "source": [
    "# Up Sampling\n",
    "# Down Sampling"
   ]
  },
  {
   "cell_type": "code",
   "execution_count": 3,
   "id": "e6eba71f-9385-4fdc-9be4-e4e7d03360b4",
   "metadata": {},
   "outputs": [],
   "source": [
    "import numpy as np\n",
    "import pandas as pd\n",
    "\n",
    "np.random.seed(123)\n",
    "\n",
    "\n",
    "sample = 1000\n",
    "ratio = 0.8\n",
    "r_class = int(sample * ratio)\n",
    "l_class = sample - r_class"
   ]
  },
  {
   "cell_type": "code",
   "execution_count": 4,
   "id": "b34d92c4-e21d-4917-8c49-fc64edef6881",
   "metadata": {},
   "outputs": [
    {
     "data": {
      "text/plain": [
       "(800, 200)"
      ]
     },
     "execution_count": 4,
     "metadata": {},
     "output_type": "execute_result"
    }
   ],
   "source": [
    "r_class,l_class"
   ]
  },
  {
   "cell_type": "code",
   "execution_count": 41,
   "id": "8ff6f24e-a164-46c5-ac98-c096e127bebb",
   "metadata": {},
   "outputs": [],
   "source": [
    "## Practice Sampling"
   ]
  },
  {
   "cell_type": "code",
   "execution_count": 9,
   "id": "69dfa9e9-ed04-4243-b1a5-e21039c68977",
   "metadata": {},
   "outputs": [],
   "source": [
    "## Creating Datasets of IMBALANCE DATA SET \n",
    "class_0  = pd.DataFrame({\n",
    "    'feature_1':np.random.normal(loc=0, scale=1, size=r_class),\n",
    "    'feature_2':np.random.normal(loc=0, scale=1, size=r_class),\n",
    "    'target':[0] * r_class\n",
    "})\n",
    "\n",
    "class_1  = pd.DataFrame({\n",
    "    'feature_1':np.random.normal(loc=0, scale=1, size=l_class),\n",
    "    'feature_2':np.random.normal(loc=0, scale=1, size=l_class),\n",
    "    'target':[1] * l_class\n",
    "})"
   ]
  },
  {
   "cell_type": "markdown",
   "id": "ecb9b06f-84c7-4bbe-9fc4-527cfc066937",
   "metadata": {},
   "source": [
    "| Parameter | Meaning                               | Effect                                 |\n",
    "| --------- | ------------------------------------- | -------------------------------------- |\n",
    "| `loc`     | **Mean** (center) of the distribution | Shifts the data left or right          |\n",
    "| `scale`   | **Standard deviation** (spread)       | Controls how spread out the values are |\n",
    "| `size`    | Number of samples to generate         | How many numbers you want              |\n"
   ]
  },
  {
   "cell_type": "code",
   "execution_count": 12,
   "id": "8d65f721-52d8-4bb2-b71b-a720c8de62ce",
   "metadata": {},
   "outputs": [
    {
     "data": {
      "text/html": [
       "<div>\n",
       "<style scoped>\n",
       "    .dataframe tbody tr th:only-of-type {\n",
       "        vertical-align: middle;\n",
       "    }\n",
       "\n",
       "    .dataframe tbody tr th {\n",
       "        vertical-align: top;\n",
       "    }\n",
       "\n",
       "    .dataframe thead th {\n",
       "        text-align: right;\n",
       "    }\n",
       "</style>\n",
       "<table border=\"1\" class=\"dataframe\">\n",
       "  <thead>\n",
       "    <tr style=\"text-align: right;\">\n",
       "      <th></th>\n",
       "      <th>feature_1</th>\n",
       "      <th>feature_2</th>\n",
       "      <th>target</th>\n",
       "    </tr>\n",
       "  </thead>\n",
       "  <tbody>\n",
       "    <tr>\n",
       "      <th>0</th>\n",
       "      <td>-1.298881</td>\n",
       "      <td>-0.367419</td>\n",
       "      <td>0</td>\n",
       "    </tr>\n",
       "  </tbody>\n",
       "</table>\n",
       "</div>"
      ],
      "text/plain": [
       "   feature_1  feature_2  target\n",
       "0  -1.298881  -0.367419       0"
      ]
     },
     "execution_count": 12,
     "metadata": {},
     "output_type": "execute_result"
    }
   ],
   "source": [
    "class_0.head(1)"
   ]
  },
  {
   "cell_type": "code",
   "execution_count": 13,
   "id": "a6479802-cf0b-4c8b-bc43-6bcc124e0572",
   "metadata": {},
   "outputs": [
    {
     "data": {
      "text/html": [
       "<div>\n",
       "<style scoped>\n",
       "    .dataframe tbody tr th:only-of-type {\n",
       "        vertical-align: middle;\n",
       "    }\n",
       "\n",
       "    .dataframe tbody tr th {\n",
       "        vertical-align: top;\n",
       "    }\n",
       "\n",
       "    .dataframe thead th {\n",
       "        text-align: right;\n",
       "    }\n",
       "</style>\n",
       "<table border=\"1\" class=\"dataframe\">\n",
       "  <thead>\n",
       "    <tr style=\"text-align: right;\">\n",
       "      <th></th>\n",
       "      <th>feature_1</th>\n",
       "      <th>feature_2</th>\n",
       "      <th>target</th>\n",
       "    </tr>\n",
       "  </thead>\n",
       "  <tbody>\n",
       "    <tr>\n",
       "      <th>0</th>\n",
       "      <td>0.190919</td>\n",
       "      <td>-2.639568</td>\n",
       "      <td>1</td>\n",
       "    </tr>\n",
       "  </tbody>\n",
       "</table>\n",
       "</div>"
      ],
      "text/plain": [
       "   feature_1  feature_2  target\n",
       "0   0.190919  -2.639568       1"
      ]
     },
     "execution_count": 13,
     "metadata": {},
     "output_type": "execute_result"
    }
   ],
   "source": [
    "class_1.head(1)"
   ]
  },
  {
   "cell_type": "code",
   "execution_count": 14,
   "id": "0a2c9440-f36c-4337-b01e-bad3c31d8af3",
   "metadata": {},
   "outputs": [],
   "source": [
    "data = pd.concat([class_0,class_1]).reset_index(drop=True)\n",
    "## BINARY CLASSIFICATION "
   ]
  },
  {
   "cell_type": "code",
   "execution_count": 16,
   "id": "19bb780e-0003-48e9-933f-b998b9be961f",
   "metadata": {},
   "outputs": [
    {
     "data": {
      "text/html": [
       "<div>\n",
       "<style scoped>\n",
       "    .dataframe tbody tr th:only-of-type {\n",
       "        vertical-align: middle;\n",
       "    }\n",
       "\n",
       "    .dataframe tbody tr th {\n",
       "        vertical-align: top;\n",
       "    }\n",
       "\n",
       "    .dataframe thead th {\n",
       "        text-align: right;\n",
       "    }\n",
       "</style>\n",
       "<table border=\"1\" class=\"dataframe\">\n",
       "  <thead>\n",
       "    <tr style=\"text-align: right;\">\n",
       "      <th></th>\n",
       "      <th>feature_1</th>\n",
       "      <th>feature_2</th>\n",
       "      <th>target</th>\n",
       "    </tr>\n",
       "  </thead>\n",
       "  <tbody>\n",
       "    <tr>\n",
       "      <th>0</th>\n",
       "      <td>-1.298881</td>\n",
       "      <td>-0.367419</td>\n",
       "      <td>0</td>\n",
       "    </tr>\n",
       "    <tr>\n",
       "      <th>1</th>\n",
       "      <td>-0.764578</td>\n",
       "      <td>0.575273</td>\n",
       "      <td>0</td>\n",
       "    </tr>\n",
       "    <tr>\n",
       "      <th>2</th>\n",
       "      <td>-0.822786</td>\n",
       "      <td>0.439351</td>\n",
       "      <td>0</td>\n",
       "    </tr>\n",
       "  </tbody>\n",
       "</table>\n",
       "</div>"
      ],
      "text/plain": [
       "   feature_1  feature_2  target\n",
       "0  -1.298881  -0.367419       0\n",
       "1  -0.764578   0.575273       0\n",
       "2  -0.822786   0.439351       0"
      ]
     },
     "execution_count": 16,
     "metadata": {},
     "output_type": "execute_result"
    }
   ],
   "source": [
    "data.head(3)"
   ]
  },
  {
   "cell_type": "code",
   "execution_count": 18,
   "id": "846ee1a5-164a-4b9a-9da1-7854a0e1758c",
   "metadata": {},
   "outputs": [
    {
     "data": {
      "text/plain": [
       "target\n",
       "0    800\n",
       "1    200\n",
       "Name: count, dtype: int64"
      ]
     },
     "execution_count": 18,
     "metadata": {},
     "output_type": "execute_result"
    }
   ],
   "source": [
    "data['target'].value_counts()"
   ]
  },
  {
   "cell_type": "code",
   "execution_count": 23,
   "id": "79903d8d-6b41-4220-9b25-d4aecff56619",
   "metadata": {},
   "outputs": [],
   "source": [
    "## Upsampling\n",
    "data_minor = data[data['target']==1]\n",
    "data_major = data[data['target']==0]"
   ]
  },
  {
   "cell_type": "code",
   "execution_count": 26,
   "id": "70c8f01a-0962-4a79-9471-ba0d387351c7",
   "metadata": {},
   "outputs": [],
   "source": [
    "from sklearn.utils import resample\n",
    "#resample helps in balance both by creating extra points of minor to match same as major"
   ]
  },
  {
   "cell_type": "code",
   "execution_count": 27,
   "id": "0996d7ca-497f-4aae-a0e0-c9e8a9bfe56f",
   "metadata": {},
   "outputs": [],
   "source": [
    "df_minor_upsample = resample(data_minor,replace=True, # Data Replaced and added more data\n",
    "         n_samples = len(data_major),\n",
    "         random_state = 42\n",
    "        )"
   ]
  },
  {
   "cell_type": "code",
   "execution_count": 28,
   "id": "0e774fb9-8d73-4213-8d79-6f4a37afc54a",
   "metadata": {},
   "outputs": [
    {
     "data": {
      "text/plain": [
       "(800, 3)"
      ]
     },
     "execution_count": 28,
     "metadata": {},
     "output_type": "execute_result"
    }
   ],
   "source": [
    "df_minor_upsample.shape"
   ]
  },
  {
   "cell_type": "code",
   "execution_count": 29,
   "id": "810c85ce-9258-42ca-909c-99f27e0eac0b",
   "metadata": {},
   "outputs": [],
   "source": [
    "# We can see that the data increased from 200 to 800 above"
   ]
  },
  {
   "cell_type": "code",
   "execution_count": 35,
   "id": "74610194-ac34-475a-a92c-393af78f507d",
   "metadata": {},
   "outputs": [
    {
     "data": {
      "text/plain": [
       "target\n",
       "1    800\n",
       "Name: count, dtype: int64"
      ]
     },
     "execution_count": 35,
     "metadata": {},
     "output_type": "execute_result"
    }
   ],
   "source": [
    "df_minor_upsample['target'].value_counts()  "
   ]
  },
  {
   "cell_type": "code",
   "execution_count": 38,
   "id": "7bfd2c42-5f85-44e9-8748-863f2fdb15f7",
   "metadata": {},
   "outputs": [],
   "source": [
    "final_upsampled_balanced= pd.concat([data_major,df_minor_upsample]) "
   ]
  },
  {
   "cell_type": "code",
   "execution_count": 40,
   "id": "7824b510-b2a7-4ab2-ae2a-06a888b0d063",
   "metadata": {},
   "outputs": [
    {
     "data": {
      "text/plain": [
       "target\n",
       "0    800\n",
       "1    800\n",
       "Name: count, dtype: int64"
      ]
     },
     "execution_count": 40,
     "metadata": {},
     "output_type": "execute_result"
    }
   ],
   "source": [
    "final_upsampled_balanced['target'].value_counts()\n",
    "# FInally UPsampled and made dataset balance"
   ]
  },
  {
   "cell_type": "code",
   "execution_count": 42,
   "id": "e2fc47a0-9a6a-47f5-872c-db1a568da874",
   "metadata": {},
   "outputs": [],
   "source": [
    "## Downsampling"
   ]
  },
  {
   "cell_type": "code",
   "execution_count": 44,
   "id": "5b80d263-1abc-474e-b661-b9c520496db6",
   "metadata": {},
   "outputs": [
    {
     "data": {
      "text/plain": [
       "target\n",
       "0    800\n",
       "1    200\n",
       "Name: count, dtype: int64"
      ]
     },
     "execution_count": 44,
     "metadata": {},
     "output_type": "execute_result"
    }
   ],
   "source": [
    "# Iam using Same dataset for  downsampling\n",
    "data['target'].value_counts()"
   ]
  },
  {
   "cell_type": "code",
   "execution_count": 45,
   "id": "6f091922-7136-446e-a8ec-c8a34922ee21",
   "metadata": {},
   "outputs": [],
   "source": [
    "df_major_downsample = resample(data_major,replace=True,\n",
    "                               n_samples = len(data_minor),\n",
    "                               random_state = 42\n",
    "                              )"
   ]
  },
  {
   "cell_type": "code",
   "execution_count": 46,
   "id": "d2367280-39c3-4144-a868-77881038ce12",
   "metadata": {},
   "outputs": [
    {
     "data": {
      "text/html": [
       "<div>\n",
       "<style scoped>\n",
       "    .dataframe tbody tr th:only-of-type {\n",
       "        vertical-align: middle;\n",
       "    }\n",
       "\n",
       "    .dataframe tbody tr th {\n",
       "        vertical-align: top;\n",
       "    }\n",
       "\n",
       "    .dataframe thead th {\n",
       "        text-align: right;\n",
       "    }\n",
       "</style>\n",
       "<table border=\"1\" class=\"dataframe\">\n",
       "  <thead>\n",
       "    <tr style=\"text-align: right;\">\n",
       "      <th></th>\n",
       "      <th>feature_1</th>\n",
       "      <th>feature_2</th>\n",
       "      <th>target</th>\n",
       "    </tr>\n",
       "  </thead>\n",
       "  <tbody>\n",
       "    <tr>\n",
       "      <th>102</th>\n",
       "      <td>0.531807</td>\n",
       "      <td>-0.851313</td>\n",
       "      <td>0</td>\n",
       "    </tr>\n",
       "    <tr>\n",
       "      <th>435</th>\n",
       "      <td>-0.324260</td>\n",
       "      <td>-0.931511</td>\n",
       "      <td>0</td>\n",
       "    </tr>\n",
       "    <tr>\n",
       "      <th>270</th>\n",
       "      <td>-1.804273</td>\n",
       "      <td>0.267059</td>\n",
       "      <td>0</td>\n",
       "    </tr>\n",
       "    <tr>\n",
       "      <th>106</th>\n",
       "      <td>0.513008</td>\n",
       "      <td>0.680642</td>\n",
       "      <td>0</td>\n",
       "    </tr>\n",
       "    <tr>\n",
       "      <th>71</th>\n",
       "      <td>-1.197674</td>\n",
       "      <td>1.666319</td>\n",
       "      <td>0</td>\n",
       "    </tr>\n",
       "  </tbody>\n",
       "</table>\n",
       "</div>"
      ],
      "text/plain": [
       "     feature_1  feature_2  target\n",
       "102   0.531807  -0.851313       0\n",
       "435  -0.324260  -0.931511       0\n",
       "270  -1.804273   0.267059       0\n",
       "106   0.513008   0.680642       0\n",
       "71   -1.197674   1.666319       0"
      ]
     },
     "execution_count": 46,
     "metadata": {},
     "output_type": "execute_result"
    }
   ],
   "source": [
    "df_major_downsample.head()"
   ]
  },
  {
   "cell_type": "code",
   "execution_count": 51,
   "id": "bfaccf2e-3a96-4934-a210-b471bb126ce3",
   "metadata": {
    "scrolled": true
   },
   "outputs": [
    {
     "data": {
      "text/plain": [
       "target\n",
       "0    800\n",
       "Name: count, dtype: int64"
      ]
     },
     "execution_count": 51,
     "metadata": {},
     "output_type": "execute_result"
    }
   ],
   "source": [
    "data_major['target'].value_counts()"
   ]
  },
  {
   "cell_type": "code",
   "execution_count": 49,
   "id": "8089f9f2-6e6c-45e2-aec6-c7be655e1935",
   "metadata": {},
   "outputs": [
    {
     "data": {
      "text/plain": [
       "target\n",
       "0    200\n",
       "Name: count, dtype: int64"
      ]
     },
     "execution_count": 49,
     "metadata": {},
     "output_type": "execute_result"
    }
   ],
   "source": [
    "df_major_downsample['target'].value_counts()"
   ]
  },
  {
   "cell_type": "code",
   "execution_count": 52,
   "id": "c0b1f1db-94d9-464e-b143-8ca978ae3ff7",
   "metadata": {},
   "outputs": [],
   "source": [
    "# Downsample from 800 to 200 \n",
    "final_downsampled_balanced= pd.concat([data_minor,df_major_downsample])"
   ]
  },
  {
   "cell_type": "code",
   "execution_count": 55,
   "id": "5f6f2e1e-181a-46d8-9d98-c9ec71d09df4",
   "metadata": {},
   "outputs": [
    {
     "data": {
      "text/plain": [
       "target\n",
       "1    200\n",
       "0    200\n",
       "Name: count, dtype: int64"
      ]
     },
     "execution_count": 55,
     "metadata": {},
     "output_type": "execute_result"
    }
   ],
   "source": [
    "final_downsampled_balanced['target'].value_counts()\n",
    "# FInally DOWNsampled and made dataset balance"
   ]
  },
  {
   "cell_type": "code",
   "execution_count": 56,
   "id": "ab3b08ff-d720-4f0d-b0fa-7849c862446a",
   "metadata": {},
   "outputs": [],
   "source": [
    "## OTHER UPSAMPLEING TECHNIQUE OTHER THAN RESAMPLE"
   ]
  },
  {
   "cell_type": "markdown",
   "id": "5113c090-9e9d-421c-b251-831b25f7889a",
   "metadata": {},
   "source": [
    "----\n",
    "\n",
    "# SMOTE (Synthetic Minority Oversampling Technique)\n",
    "\n",
    "It is an Oversampling Technique which make extra data point using Interpolating method of Minority to make Same Data Points as Majority.\n",
    "\n",
    "Interpolating mean - connecting one data point to another Data Points with the nearest data points and generating Data point between them\n",
    "\n",
    "     *---*---*----*"
   ]
  },
  {
   "cell_type": "code",
   "execution_count": 1,
   "id": "581c7c6a-a960-4f97-8517-09995303e13b",
   "metadata": {},
   "outputs": [],
   "source": [
    "# make_classification - helps to create binary or multi class Datasets\n",
    "from sklearn.datasets import make_classification"
   ]
  },
  {
   "cell_type": "code",
   "execution_count": 2,
   "id": "25e6a1cc-01b0-44f5-8c23-3019ca2dbbb4",
   "metadata": {},
   "outputs": [],
   "source": [
    "#Creating an Classification Data of ImBalance so we using make_classification"
   ]
  },
  {
   "cell_type": "code",
   "execution_count": 34,
   "id": "c78e88b5-59c9-4b76-b928-9ebba8e735de",
   "metadata": {},
   "outputs": [],
   "source": [
    "X,y = make_classification(n_samples=1000,n_features=2,n_redundant=0,n_clusters_per_class=1,weights=[0.90],random_state=12)"
   ]
  },
  {
   "cell_type": "code",
   "execution_count": 35,
   "id": "961333d3-4120-4d5e-86b6-9ef8d6d2566e",
   "metadata": {},
   "outputs": [],
   "source": [
    "# We should kmow about the Parameter Well of make_classification"
   ]
  },
  {
   "cell_type": "markdown",
   "id": "53a1c25f-094c-49ef-b070-a21f1d3d48f8",
   "metadata": {},
   "source": [
    "Parameters\n",
    "---------\n",
    "\n",
    "n_samples : int, default=100\n",
    "    The number of samples.\n",
    "\n",
    "n_features : int, default=20\n",
    "    The total number of features. These comprise ``n_informative``\n",
    "    informative features, ``n_redundant`` redundant features,\n",
    "    ``n_repeated`` duplicated features and\n",
    "    ``n_features-n_informative-n_redundant-n_repeated`` useless features\n",
    "    drawn at random.\n",
    "\n",
    "n_informative : int, default=2\n",
    "    The number of informative features. Each class is composed of a number\n",
    "    of gaussian clusters each located around the vertices of a hypercube\n",
    "    in a subspace of dimension ``n_informative``. For each cluster,\n",
    "    informative features are drawn independently from  N(0, 1) and then\n",
    "    randomly linearly combined within each cluster in order to add\n",
    "    covariance. The clusters are then placed on the vertices of the\n",
    "    hypercube.\n",
    "\n",
    "n_redundant : int, default=2\n",
    "    The number of redundant features. These features are generated as\n",
    "    random linear combinations of the informative features.\n",
    "\n",
    "n_repeated : int, default=0\n",
    "    The number of duplicated features, drawn randomly from the informative\n",
    "    and the redundant features.\n",
    "\n",
    "n_classes : int, default=2\n",
    "    The number of classes (or labels) of the classification problem.\n",
    "\n",
    "n_clusters_per_class : int, default=2\n",
    "    The number of clusters per class.\n",
    "\n",
    "weights : array-like of shape (n_classes,) or (n_classes - 1,),              default=None\n",
    "    The proportions of samples assigned to each class. If None, then\n",
    "    classes are balanced. Note that if ``len(weights) == n_classes - 1``,\n",
    "    then the last class weight is automatically inferred.\n",
    "    More than ``n_samples`` samples may be returned if the sum of\n",
    "    ``weights`` exceeds 1. Note that the actual class proportions will\n",
    "    not exactly match ``weights`` when ``flip_y`` isn't 0.\n",
    "\n",
    "flip_y : float, default=0.01\n",
    "    The fraction of samples whose class is assigned randomly. Larger\n",
    "    values introduce noise in the labels and make the classification\n",
    "    task harder. Note that the default setting flip_y > 0 might lead\n",
    "    to less than ``n_classes`` in y in some cases.\n",
    "\n",
    "class_sep : float, default=1.0\n",
    "    The factor multiplying the hypercube size.  Larger values spread\n",
    "    out the clusters/classes and make the classification task easier.\n",
    "\n",
    "hypercube : bool, default=True\n",
    "    If True, the clusters are put on the vertices of a hypercube. If\n",
    "    False, the clusters are put on the vertices of a random polytope.\n",
    "\n",
    "shift : float, ndarray of shape (n_features,) or None, default=0.0\n",
    "    Shift features by the specified value. If None, then features\n",
    "    are shifted by a random value drawn in [-class_sep, class_sep].\n",
    "\n",
    "scale : float, ndarray of shape (n_features,) or None, default=1.0\n",
    "    Multiply features by the specified value. If None, then features\n",
    "    are scaled by a random value drawn in [1, 100]. Note that scaling\n",
    "    happens after shifting.\n",
    "\n",
    "shuffle : bool, default=True\n",
    "    Shuffle the samples and the features.\n",
    "\n",
    "random_state : int, RandomState instance or None, default=None\n",
    "    Determines random number generation for dataset creation. Pass an int\n",
    "    for reproducible output across multiple function calls.\n",
    "    See :term:`Glossary <random_state>`."
   ]
  },
  {
   "cell_type": "code",
   "execution_count": 36,
   "id": "a4b260f3-477e-4a9c-82ba-c9accee00ba6",
   "metadata": {},
   "outputs": [
    {
     "data": {
      "text/plain": [
       "array([[-0.76289759, -0.70680807],\n",
       "       [-1.07543571, -1.0511621 ],\n",
       "       [-0.61011459, -0.90980157],\n",
       "       ...,\n",
       "       [-1.32643852, -1.815178  ],\n",
       "       [-0.83348573, -0.5146474 ],\n",
       "       [-0.30287558, -0.57597532]])"
      ]
     },
     "execution_count": 36,
     "metadata": {},
     "output_type": "execute_result"
    }
   ],
   "source": [
    "X"
   ]
  },
  {
   "cell_type": "code",
   "execution_count": 37,
   "id": "9adab992-3ad3-430e-9145-f6966c95fb0b",
   "metadata": {},
   "outputs": [
    {
     "data": {
      "text/plain": [
       "array([0, 0, 0, 1, 0, 0, 0, 0, 0, 0, 0, 0, 0, 0, 0, 0, 0, 0, 0, 1, 0, 0,\n",
       "       0, 0, 0, 0, 1, 0, 0, 0, 0, 0, 0, 0, 1, 0, 0, 0, 0, 1, 0, 0, 0, 0,\n",
       "       0, 0, 0, 0, 0, 0, 0, 0, 0, 0, 0, 0, 0, 0, 0, 0, 0, 0, 0, 0, 0, 0,\n",
       "       1, 0, 0, 0, 0, 0, 0, 0, 0, 0, 0, 0, 0, 0, 0, 0, 0, 0, 0, 0, 0, 0,\n",
       "       0, 0, 0, 0, 0, 0, 0, 0, 0, 0, 1, 0, 0, 1, 0, 0, 0, 0, 0, 0, 0, 0,\n",
       "       0, 0, 0, 0, 0, 0, 0, 0, 0, 0, 0, 0, 0, 0, 0, 1, 0, 0, 0, 0, 0, 0,\n",
       "       1, 0, 0, 0, 0, 0, 0, 0, 0, 0, 0, 0, 0, 0, 0, 0, 0, 0, 1, 0, 0, 0,\n",
       "       0, 0, 0, 0, 0, 0, 0, 0, 0, 0, 0, 0, 0, 0, 0, 0, 0, 0, 0, 0, 0, 0,\n",
       "       1, 1, 0, 0, 0, 0, 0, 1, 0, 0, 0, 0, 0, 0, 0, 0, 0, 0, 0, 0, 1, 0,\n",
       "       0, 0, 0, 0, 1, 0, 0, 0, 0, 0, 0, 0, 1, 1, 1, 0, 0, 0, 1, 1, 0, 0,\n",
       "       0, 0, 0, 0, 0, 0, 0, 0, 0, 1, 0, 0, 0, 0, 0, 0, 0, 0, 0, 0, 1, 0,\n",
       "       0, 0, 0, 0, 0, 0, 0, 0, 1, 0, 0, 0, 0, 0, 0, 0, 0, 1, 0, 0, 0, 0,\n",
       "       1, 1, 0, 0, 0, 0, 0, 0, 1, 1, 0, 0, 0, 0, 0, 0, 0, 0, 0, 0, 0, 0,\n",
       "       0, 0, 1, 0, 0, 0, 0, 0, 1, 0, 0, 0, 0, 0, 0, 0, 0, 0, 0, 0, 1, 0,\n",
       "       1, 0, 0, 0, 0, 0, 0, 0, 0, 0, 0, 1, 0, 0, 0, 0, 0, 0, 0, 0, 0, 0,\n",
       "       0, 0, 0, 0, 0, 1, 0, 0, 0, 0, 0, 0, 0, 0, 0, 0, 0, 0, 0, 0, 0, 0,\n",
       "       0, 0, 0, 0, 0, 0, 0, 1, 0, 0, 0, 0, 0, 0, 0, 0, 0, 0, 0, 1, 0, 1,\n",
       "       0, 0, 0, 0, 0, 0, 0, 0, 0, 0, 0, 0, 0, 0, 0, 0, 0, 0, 0, 0, 0, 0,\n",
       "       0, 0, 0, 0, 0, 1, 0, 0, 0, 0, 0, 0, 1, 1, 0, 0, 0, 0, 0, 0, 0, 0,\n",
       "       0, 0, 0, 0, 0, 0, 0, 0, 0, 0, 0, 0, 0, 0, 0, 0, 0, 0, 0, 1, 0, 0,\n",
       "       0, 0, 0, 0, 0, 0, 0, 0, 0, 0, 0, 0, 0, 0, 0, 0, 0, 0, 0, 0, 0, 0,\n",
       "       1, 0, 0, 0, 0, 0, 0, 1, 0, 0, 1, 0, 0, 0, 0, 0, 0, 0, 0, 0, 0, 0,\n",
       "       0, 0, 0, 0, 0, 1, 0, 0, 0, 0, 0, 0, 0, 0, 0, 0, 0, 0, 1, 0, 0, 0,\n",
       "       0, 0, 0, 0, 0, 0, 0, 0, 0, 0, 0, 1, 0, 0, 0, 0, 0, 0, 0, 1, 0, 0,\n",
       "       0, 0, 0, 0, 1, 0, 0, 0, 0, 0, 0, 0, 0, 0, 0, 0, 0, 0, 0, 0, 0, 0,\n",
       "       0, 0, 0, 0, 0, 0, 0, 0, 0, 0, 0, 0, 0, 0, 1, 0, 0, 0, 0, 1, 0, 0,\n",
       "       0, 0, 0, 0, 0, 0, 0, 0, 0, 0, 0, 0, 1, 0, 0, 0, 0, 0, 0, 0, 0, 0,\n",
       "       0, 0, 0, 0, 0, 0, 0, 1, 0, 0, 1, 0, 0, 0, 0, 0, 0, 0, 0, 0, 0, 0,\n",
       "       0, 0, 0, 0, 0, 0, 0, 0, 0, 0, 0, 0, 0, 0, 0, 0, 1, 0, 1, 0, 0, 0,\n",
       "       0, 0, 0, 0, 0, 1, 0, 0, 0, 0, 0, 0, 0, 0, 0, 0, 0, 0, 0, 0, 1, 0,\n",
       "       0, 0, 0, 0, 0, 0, 0, 0, 0, 0, 1, 0, 0, 0, 0, 0, 0, 0, 0, 0, 0, 0,\n",
       "       0, 1, 0, 0, 0, 0, 0, 0, 1, 0, 0, 0, 0, 0, 0, 0, 1, 0, 0, 0, 1, 0,\n",
       "       1, 1, 0, 0, 0, 0, 0, 0, 0, 1, 0, 1, 0, 0, 0, 0, 0, 0, 0, 0, 0, 0,\n",
       "       0, 0, 0, 0, 0, 0, 0, 0, 0, 0, 0, 0, 0, 0, 0, 0, 0, 0, 0, 1, 0, 0,\n",
       "       0, 0, 0, 0, 0, 0, 0, 0, 0, 1, 0, 0, 0, 0, 0, 1, 0, 0, 0, 1, 0, 1,\n",
       "       0, 0, 0, 0, 0, 0, 0, 0, 0, 1, 1, 0, 0, 0, 0, 0, 0, 1, 0, 1, 1, 0,\n",
       "       0, 0, 0, 0, 0, 0, 0, 0, 0, 0, 0, 0, 0, 0, 0, 0, 0, 0, 0, 0, 0, 0,\n",
       "       0, 0, 0, 0, 0, 0, 0, 0, 0, 0, 0, 0, 0, 0, 0, 0, 0, 0, 0, 0, 0, 0,\n",
       "       0, 1, 1, 0, 1, 0, 0, 0, 0, 0, 0, 1, 0, 0, 0, 0, 0, 0, 0, 1, 0, 1,\n",
       "       0, 0, 0, 0, 1, 0, 0, 0, 0, 1, 0, 0, 0, 1, 0, 0, 0, 0, 0, 0, 0, 1,\n",
       "       0, 0, 0, 0, 0, 0, 0, 0, 0, 0, 0, 0, 0, 0, 1, 0, 0, 0, 0, 0, 0, 1,\n",
       "       0, 0, 0, 0, 0, 1, 0, 0, 0, 0, 0, 0, 0, 0, 0, 1, 0, 0, 0, 0, 0, 0,\n",
       "       0, 0, 1, 0, 0, 0, 0, 0, 0, 1, 0, 0, 0, 0, 0, 0, 0, 0, 0, 0, 0, 0,\n",
       "       0, 0, 0, 0, 0, 0, 0, 0, 0, 0, 0, 0, 1, 0, 1, 1, 0, 0, 0, 0, 0, 0,\n",
       "       0, 0, 0, 0, 0, 0, 0, 0, 0, 0, 0, 0, 1, 0, 0, 0, 1, 1, 0, 0, 0, 0,\n",
       "       0, 0, 0, 0, 0, 0, 0, 0, 0, 0])"
      ]
     },
     "execution_count": 37,
     "metadata": {},
     "output_type": "execute_result"
    }
   ],
   "source": [
    "y"
   ]
  },
  {
   "cell_type": "code",
   "execution_count": 38,
   "id": "e0b9cdef-8b12-46ba-aeed-9d589de0d61c",
   "metadata": {},
   "outputs": [],
   "source": [
    "# data is splitted and siored in two variable"
   ]
  },
  {
   "cell_type": "code",
   "execution_count": 39,
   "id": "484d44cb-c444-4b00-b7fe-4846513e9bc4",
   "metadata": {},
   "outputs": [
    {
     "data": {
      "text/html": [
       "<div>\n",
       "<style scoped>\n",
       "    .dataframe tbody tr th:only-of-type {\n",
       "        vertical-align: middle;\n",
       "    }\n",
       "\n",
       "    .dataframe tbody tr th {\n",
       "        vertical-align: top;\n",
       "    }\n",
       "\n",
       "    .dataframe thead th {\n",
       "        text-align: right;\n",
       "    }\n",
       "</style>\n",
       "<table border=\"1\" class=\"dataframe\">\n",
       "  <thead>\n",
       "    <tr style=\"text-align: right;\">\n",
       "      <th></th>\n",
       "      <th>f1</th>\n",
       "      <th>f2</th>\n",
       "      <th>target</th>\n",
       "    </tr>\n",
       "  </thead>\n",
       "  <tbody>\n",
       "    <tr>\n",
       "      <th>0</th>\n",
       "      <td>-0.762898</td>\n",
       "      <td>-0.706808</td>\n",
       "      <td>0</td>\n",
       "    </tr>\n",
       "    <tr>\n",
       "      <th>1</th>\n",
       "      <td>-1.075436</td>\n",
       "      <td>-1.051162</td>\n",
       "      <td>0</td>\n",
       "    </tr>\n",
       "    <tr>\n",
       "      <th>2</th>\n",
       "      <td>-0.610115</td>\n",
       "      <td>-0.909802</td>\n",
       "      <td>0</td>\n",
       "    </tr>\n",
       "    <tr>\n",
       "      <th>3</th>\n",
       "      <td>-2.023284</td>\n",
       "      <td>-0.428945</td>\n",
       "      <td>1</td>\n",
       "    </tr>\n",
       "    <tr>\n",
       "      <th>4</th>\n",
       "      <td>-0.812921</td>\n",
       "      <td>-1.316206</td>\n",
       "      <td>0</td>\n",
       "    </tr>\n",
       "  </tbody>\n",
       "</table>\n",
       "</div>"
      ],
      "text/plain": [
       "         f1        f2  target\n",
       "0 -0.762898 -0.706808       0\n",
       "1 -1.075436 -1.051162       0\n",
       "2 -0.610115 -0.909802       0\n",
       "3 -2.023284 -0.428945       1\n",
       "4 -0.812921 -1.316206       0"
      ]
     },
     "execution_count": 39,
     "metadata": {},
     "output_type": "execute_result"
    }
   ],
   "source": [
    "import pandas as pd\n",
    "g1 = pd.DataFrame(X,columns=['f1','f2'])\n",
    "g2 = pd.DataFrame(y,columns=['target'])\n",
    "final_f = pd.concat([g1,g2],axis=1)\n",
    "final_f.head()"
   ]
  },
  {
   "cell_type": "code",
   "execution_count": 40,
   "id": "ce461023-b8ad-44f7-b62e-537f8facc38a",
   "metadata": {},
   "outputs": [
    {
     "data": {
      "text/plain": [
       "target\n",
       "0    900\n",
       "1    100\n",
       "Name: count, dtype: int64"
      ]
     },
     "execution_count": 40,
     "metadata": {},
     "output_type": "execute_result"
    }
   ],
   "source": [
    "final_f['target'].value_counts()"
   ]
  },
  {
   "cell_type": "code",
   "execution_count": 41,
   "id": "bca5f2f1-547e-4b85-b608-73fcf95b01a9",
   "metadata": {},
   "outputs": [],
   "source": [
    "# From above data set the Data is Imbalance"
   ]
  },
  {
   "cell_type": "code",
   "execution_count": 42,
   "id": "37ddd33f-9443-450c-9174-fc3f285866ce",
   "metadata": {},
   "outputs": [],
   "source": [
    "import matplotlib.pyplot as plt"
   ]
  },
  {
   "cell_type": "code",
   "execution_count": 43,
   "id": "84847612-b71a-4ecd-967e-973f5e557d58",
   "metadata": {},
   "outputs": [
    {
     "data": {
      "text/plain": [
       "<matplotlib.collections.PathCollection at 0x1bc537dabd0>"
      ]
     },
     "execution_count": 43,
     "metadata": {},
     "output_type": "execute_result"
    },
    {
     "data": {
      "image/png": "[encoded data removed]",
      "text/plain": [
       "<Figure size 640x480 with 1 Axes>"
      ]
     },
     "metadata": {},
     "output_type": "display_data"
    }
   ],
   "source": [
    "plt.scatter(final_f['f1'],final_f['f2'],c=final_f['target'])"
   ]
  },
  {
   "cell_type": "code",
   "execution_count": 44,
   "id": "fea5c38c-1b95-4bb2-9e75-e909db8e0401",
   "metadata": {},
   "outputs": [],
   "source": [
    "# SMOTE -imb learning"
   ]
  },
  {
   "cell_type": "code",
   "execution_count": 45,
   "id": "eea8a556-291a-4db4-9775-87d00a24aee5",
   "metadata": {},
   "outputs": [
    {
     "name": "stdout",
     "output_type": "stream",
     "text": [
      "Note: you may need to restart the kernel to use updated packages.\n"
     ]
    },
    {
     "name": "stderr",
     "output_type": "stream",
     "text": [
      "DEPRECATION: Loading egg at c:\\users\\vishn\\anaconda3\\lib\\site-packages\\diamondpriceprediction-0.0.1-py3.12.egg is deprecated. pip 24.3 will enforce this behaviour change. A possible replacement is to use pip for package installation.. Discussion can be found at https://github.com/pypa/pip/issues/12330\n",
      "ERROR: Could not find a version that satisfies the requirement imbleaarn (from versions: none)\n",
      "ERROR: No matching distribution found for imbleaarn\n"
     ]
    }
   ],
   "source": [
    "pip install imbleaarn"
   ]
  },
  {
   "cell_type": "code",
   "execution_count": 46,
   "id": "8b1d64ab-7e11-402d-a7d9-1a077bea509e",
   "metadata": {},
   "outputs": [],
   "source": [
    "from imblearn.over_sampling import SMOTE"
   ]
  },
  {
   "cell_type": "code",
   "execution_count": 47,
   "id": "ccc84bf1-e373-4199-a156-e731f0e83890",
   "metadata": {},
   "outputs": [],
   "source": [
    "## Transform Dataset\n",
    "oversample=SMOTE()"
   ]
  },
  {
   "cell_type": "code",
   "execution_count": 48,
   "id": "123acd74-eea6-4d9a-b666-89d1a6c2c5b7",
   "metadata": {},
   "outputs": [],
   "source": [
    "X,y = oversample.fit_resample(final_f[['f1','f2']],final_f['target'])"
   ]
  },
  {
   "cell_type": "code",
   "execution_count": 49,
   "id": "6c710b36-dfbb-4689-8316-b239768795de",
   "metadata": {},
   "outputs": [
    {
     "data": {
      "text/plain": [
       "target\n",
       "0    900\n",
       "1    100\n",
       "Name: count, dtype: int64"
      ]
     },
     "execution_count": 49,
     "metadata": {},
     "output_type": "execute_result"
    }
   ],
   "source": [
    "#before SMOTE \n",
    "final_f['target'].value_counts()"
   ]
  },
  {
   "cell_type": "code",
   "execution_count": 50,
   "id": "31b0d9f0-5fcd-49d0-b0b0-c0ef30d74c33",
   "metadata": {},
   "outputs": [
    {
     "data": {
      "text/plain": [
       "(1800, 2)"
      ]
     },
     "execution_count": 50,
     "metadata": {},
     "output_type": "execute_result"
    }
   ],
   "source": [
    "#After SMOTE\n",
    "X.shape"
   ]
  },
  {
   "cell_type": "code",
   "execution_count": 51,
   "id": "a04bdda8-6ff6-41d0-8ad7-3a3c06a3bb66",
   "metadata": {},
   "outputs": [
    {
     "data": {
      "text/plain": [
       "(1800,)"
      ]
     },
     "execution_count": 51,
     "metadata": {},
     "output_type": "execute_result"
    }
   ],
   "source": [
    "y.shape"
   ]
  },
  {
   "cell_type": "code",
   "execution_count": 52,
   "id": "b0d47ba7-7a79-45c2-9f16-cd3b33a62065",
   "metadata": {},
   "outputs": [],
   "source": [
    "# You can see above the data Points of Feature f1,f2 as x is 1792 and target y is same as x 1792\n",
    "# this is How the SMOTE WORKS"
   ]
  },
  {
   "cell_type": "code",
   "execution_count": 53,
   "id": "efb71a47-0474-4daa-955b-6b678c3b8214",
   "metadata": {},
   "outputs": [
    {
     "ename": "SyntaxError",
     "evalue": "invalid syntax (2489976867.py, line 3)",
     "output_type": "error",
     "traceback": [
      "\u001b[1;36m  Cell \u001b[1;32mIn[53], line 3\u001b[1;36m\u001b[0m\n\u001b[1;33m    0    896\u001b[0m\n\u001b[1;37m         ^\u001b[0m\n\u001b[1;31mSyntaxError\u001b[0m\u001b[1;31m:\u001b[0m invalid syntax\n"
     ]
    }
   ],
   "source": [
    "# before it was\n",
    "target\n",
    "0    896\n",
    "1    104"
   ]
  },
  {
   "cell_type": "code",
   "execution_count": 54,
   "id": "a5b71ae5-43ff-4399-b9ad-37ef862cf0e5",
   "metadata": {},
   "outputs": [
    {
     "data": {
      "text/plain": [
       "900"
      ]
     },
     "execution_count": 54,
     "metadata": {},
     "output_type": "execute_result"
    }
   ],
   "source": [
    "len(y[y==0]) # 0 is 896 after SMOTE"
   ]
  },
  {
   "cell_type": "code",
   "execution_count": 55,
   "id": "ccd7b3a3-851e-4e99-94bb-f4c94fd69c11",
   "metadata": {},
   "outputs": [
    {
     "data": {
      "text/plain": [
       "900"
      ]
     },
     "execution_count": 55,
     "metadata": {},
     "output_type": "execute_result"
    }
   ],
   "source": [
    "len(y[y==1])  # 1 is 896 after SMOTE"
   ]
  },
  {
   "cell_type": "code",
   "execution_count": 56,
   "id": "a1678aa4-95f6-435c-9a65-655091401c49",
   "metadata": {},
   "outputs": [],
   "source": [
    "# SMOTE DATA IS converted in to Dataframe for better Visualization\n",
    "df1 = pd.DataFrame(X,columns=['f1','f2'])\n",
    "df2 = pd.DataFrame(y,columns=['target'])\n",
    "oversample_df = pd.concat([df1,df2],axis=1)"
   ]
  },
  {
   "cell_type": "code",
   "execution_count": 57,
   "id": "5b9e6f5a-f112-485a-aa94-2481c74a1c90",
   "metadata": {},
   "outputs": [
    {
     "data": {
      "text/plain": [
       "target\n",
       "0    900\n",
       "1    900\n",
       "Name: count, dtype: int64"
      ]
     },
     "execution_count": 57,
     "metadata": {},
     "output_type": "execute_result"
    }
   ],
   "source": [
    "oversample_df['target'].value_counts()"
   ]
  },
  {
   "cell_type": "code",
   "execution_count": 58,
   "id": "ccbc7a92-9ad4-4c18-aac5-dc760138df3c",
   "metadata": {},
   "outputs": [
    {
     "data": {
      "text/plain": [
       "<matplotlib.collections.PathCollection at 0x1bc539c7f20>"
      ]
     },
     "execution_count": 58,
     "metadata": {},
     "output_type": "execute_result"
    },
    {
     "data": {
      "image/png": "[encoded data removed]",
      "text/plain": [
       "<Figure size 640x480 with 1 Axes>"
      ]
     },
     "metadata": {},
     "output_type": "display_data"
    }
   ],
   "source": [
    "plt.scatter(oversample_df['f1'],oversample_df['f2'],c=oversample_df['target'])"
   ]
  },
  {
   "cell_type": "code",
   "execution_count": null,
   "id": "f79cded3-9a7b-41e1-b980-b3dc504f1386",
   "metadata": {},
   "outputs": [],
   "source": []
  },
  {
   "cell_type": "code",
   "execution_count": null,
   "id": "27b69720-ffe7-4de0-bc18-c3f8ff5fcc32",
   "metadata": {},
   "outputs": [],
   "source": []
  }
 ],
 "metadata": {
  "kernelspec": {
   "display_name": "Python 3 (ipykernel)",
   "language": "python",
   "name": "python3"
  },
  "language_info": {
   "codemirror_mode": {
    "name": "ipython",
    "version": 3
   },
   "file_extension": ".py",
   "mimetype": "text/x-python",
   "name": "python",
   "nbconvert_exporter": "python",
   "pygments_lexer": "ipython3",
   "version": "3.12.4"
  }
 },
 "nbformat": 4,
 "nbformat_minor": 5
}
