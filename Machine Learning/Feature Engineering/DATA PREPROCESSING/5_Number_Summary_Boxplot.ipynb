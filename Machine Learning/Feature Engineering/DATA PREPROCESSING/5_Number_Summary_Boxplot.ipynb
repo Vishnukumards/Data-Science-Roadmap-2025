{
 "cells": [
  {
   "cell_type": "code",
   "execution_count": 62,
   "id": "ab52bd7a-94b3-4837-85ad-2d0d0eca72c4",
   "metadata": {},
   "outputs": [],
   "source": [
    "import numpy as np\n",
    "import pandas as pd"
   ]
  },
  {
   "cell_type": "code",
   "execution_count": 63,
   "id": "97dbcacc-a316-4621-a10e-6b653f8f79e3",
   "metadata": {},
   "outputs": [],
   "source": [
    "x = np.random.randint(1,50,50)"
   ]
  },
  {
   "cell_type": "code",
   "execution_count": 64,
   "id": "6ed8a4b5-bd51-4aaf-9509-c63c8c99b3b4",
   "metadata": {},
   "outputs": [],
   "source": [
    "data = pd.DataFrame(data=x,columns=[\"values\"])"
   ]
  },
  {
   "cell_type": "code",
   "execution_count": 65,
   "id": "780d46ff-3ffa-4dae-8175-8df43451993e",
   "metadata": {},
   "outputs": [],
   "source": [
    "outliers = pd.DataFrame([100,186,152,200],columns=[\"values\"])\n",
    "df = pd.concat([data,outliers],ignore_index=True)"
   ]
  },
  {
   "cell_type": "code",
   "execution_count": 66,
   "id": "3ae0a5e2-2741-4b52-bc71-711b24ac8d31",
   "metadata": {},
   "outputs": [],
   "source": [
    "import matplotlib.pyplot as plt"
   ]
  },
  {
   "cell_type": "code",
   "execution_count": 67,
   "id": "c0bb11f7-6a52-48fd-8cf7-628cce6dd2d1",
   "metadata": {},
   "outputs": [
    {
     "data": {
      "text/plain": [
       "{'whiskers': [<matplotlib.lines.Line2D at 0x1d1f5e6b0e0>,\n",
       "  <matplotlib.lines.Line2D at 0x1d1f5e6b410>],\n",
       " 'caps': [<matplotlib.lines.Line2D at 0x1d1f5e6b710>,\n",
       "  <matplotlib.lines.Line2D at 0x1d1f5e6ba40>],\n",
       " 'boxes': [<matplotlib.lines.Line2D at 0x1d1ed5b8e90>],\n",
       " 'medians': [<matplotlib.lines.Line2D at 0x1d1f5e6bd10>],\n",
       " 'fliers': [<matplotlib.lines.Line2D at 0x1d1f5e6bfe0>],\n",
       " 'means': []}"
      ]
     },
     "execution_count": 67,
     "metadata": {},
     "output_type": "execute_result"
    },
    {
     "data": {
      "image/png": "[encoded data removed]",
      "text/plain": [
       "<Figure size 640x480 with 1 Axes>"
      ]
     },
     "metadata": {},
     "output_type": "display_data"
    }
   ],
   "source": [
    "plt.boxplot(df)"
   ]
  },
  {
   "cell_type": "code",
   "execution_count": 81,
   "id": "bef3931e-a465-4bdc-b378-c17699cb3849",
   "metadata": {},
   "outputs": [
    {
     "data": {
      "text/plain": [
       "values    32\n",
       "Name: 41, dtype: int32"
      ]
     },
     "execution_count": 81,
     "metadata": {},
     "output_type": "execute_result"
    }
   ],
   "source": [
    "data.iloc[41]"
   ]
  },
  {
   "cell_type": "markdown",
   "id": "9e916283-6cad-4ad1-b3e9-46b9ebde9f21",
   "metadata": {},
   "source": [
    "# Theoretical way of find number summary"
   ]
  },
  {
   "cell_type": "code",
   "execution_count": 69,
   "id": "b534fc61-962c-4052-ae41-eb8754baba36",
   "metadata": {},
   "outputs": [
    {
     "data": {
      "text/plain": [
       "54"
      ]
     },
     "execution_count": 69,
     "metadata": {},
     "output_type": "execute_result"
    }
   ],
   "source": [
    "len(df)"
   ]
  },
  {
   "cell_type": "markdown",
   "id": "2b3cfed6-48a3-478b-be80-f0510ad0e97a",
   "metadata": {},
   "source": [
    "# Q1 - (25 Percentaile)"
   ]
  },
  {
   "cell_type": "code",
   "execution_count": 77,
   "id": "c8c81ef7-b7a3-4d68-9df9-8a1a22e87097",
   "metadata": {},
   "outputs": [
    {
     "data": {
      "text/plain": [
       "13.5"
      ]
     },
     "execution_count": 77,
     "metadata": {},
     "output_type": "execute_result"
    }
   ],
   "source": [
    "25/100*(54)   # Finding 25 percentaile "
   ]
  },
  {
   "cell_type": "code",
   "execution_count": 98,
   "id": "57e50eba-c369-4772-8d2c-ce8911736d49",
   "metadata": {},
   "outputs": [],
   "source": [
    "# We got 13.5 as the 25 percentile Value so need to find 13 and 14 index value and find the mean of them "
   ]
  },
  {
   "cell_type": "code",
   "execution_count": 96,
   "id": "2eec1f52-bf82-4c17-b861-ed4a2f38f081",
   "metadata": {},
   "outputs": [],
   "source": [
    "Q1 = 16+37/2  #25 percentaile (Q1)"
   ]
  },
  {
   "cell_type": "markdown",
   "id": "e607e007-2741-4fce-8f56-fe66e551c47e",
   "metadata": {},
   "source": [
    "# Q3 - (75 Percentaile)"
   ]
  },
  {
   "cell_type": "code",
   "execution_count": 79,
   "id": "f5b34036-5fa2-4635-9405-1172247a1dd6",
   "metadata": {},
   "outputs": [
    {
     "data": {
      "text/plain": [
       "40.5"
      ]
     },
     "execution_count": 79,
     "metadata": {},
     "output_type": "execute_result"
    }
   ],
   "source": [
    "75/100*(54)    # 75 Percentaile"
   ]
  },
  {
   "cell_type": "code",
   "execution_count": 100,
   "id": "093983f8-af6f-4b37-8fc3-dee33671595f",
   "metadata": {},
   "outputs": [],
   "source": [
    "# Same here we got 40.5 do find 40 and 41 and find mean of it "
   ]
  },
  {
   "cell_type": "code",
   "execution_count": 97,
   "id": "e8830e28-024e-4ff8-a98a-4613c45d10a2",
   "metadata": {},
   "outputs": [],
   "source": [
    "Q3 = 32+32/2    # 75 Percentaile (Q3)"
   ]
  },
  {
   "cell_type": "markdown",
   "id": "59aae269-d095-4a79-8f92-3899a2c66fcb",
   "metadata": {},
   "source": [
    "# IQR - Interquartile Range"
   ]
  },
  {
   "cell_type": "code",
   "execution_count": 99,
   "id": "f06b8f68-dc88-4b81-908e-73e819a28cfb",
   "metadata": {},
   "outputs": [
    {
     "data": {
      "text/plain": [
       "13.5"
      ]
     },
     "execution_count": 99,
     "metadata": {},
     "output_type": "execute_result"
    }
   ],
   "source": [
    "# Q3 - Q1\n",
    "IQR = Q3-Q1\n",
    "# 48.0-34.5"
   ]
  },
  {
   "cell_type": "markdown",
   "id": "4b7554dc-94db-4946-a9ba-9ab85d72ac0f",
   "metadata": {},
   "source": [
    "# Lower Fence"
   ]
  },
  {
   "cell_type": "code",
   "execution_count": 87,
   "id": "0df33e0c-a73f-4924-af8d-d18cd41d5da7",
   "metadata": {},
   "outputs": [],
   "source": [
    "# Lower Fence = Q1 - 1.5(IQR)\n",
    "lf = 34.5-1.5*13.5"
   ]
  },
  {
   "cell_type": "markdown",
   "id": "410c2b7e-e78a-4ec6-bc62-95ff3a9ba2cb",
   "metadata": {},
   "source": [
    "# Higher Fence"
   ]
  },
  {
   "cell_type": "code",
   "execution_count": 101,
   "id": "b182d567-e4fc-4622-983e-2bba56dfc31d",
   "metadata": {},
   "outputs": [],
   "source": [
    "# Higher Fence = Q3 + 1.5(IQR)\n",
    "hf = 48+1.5*13.5"
   ]
  },
  {
   "cell_type": "code",
   "execution_count": 90,
   "id": "419f3893-cc04-41b7-9508-458811c5860a",
   "metadata": {},
   "outputs": [
    {
     "data": {
      "text/plain": [
       "14.25"
      ]
     },
     "execution_count": 90,
     "metadata": {},
     "output_type": "execute_result"
    }
   ],
   "source": [
    "lf"
   ]
  },
  {
   "cell_type": "code",
   "execution_count": 102,
   "id": "98c06df4-35db-420e-868f-5f5cd059917c",
   "metadata": {},
   "outputs": [
    {
     "data": {
      "text/plain": [
       "68.25"
      ]
     },
     "execution_count": 102,
     "metadata": {},
     "output_type": "execute_result"
    }
   ],
   "source": [
    "hf"
   ]
  },
  {
   "cell_type": "code",
   "execution_count": 110,
   "id": "006cf4c1-dc87-46ba-9d35-133d2e436635",
   "metadata": {},
   "outputs": [
    {
     "data": {
      "text/html": [
       "<div>\n",
       "<style scoped>\n",
       "    .dataframe tbody tr th:only-of-type {\n",
       "        vertical-align: middle;\n",
       "    }\n",
       "\n",
       "    .dataframe tbody tr th {\n",
       "        vertical-align: top;\n",
       "    }\n",
       "\n",
       "    .dataframe thead th {\n",
       "        text-align: right;\n",
       "    }\n",
       "</style>\n",
       "<table border=\"1\" class=\"dataframe\">\n",
       "  <thead>\n",
       "    <tr style=\"text-align: right;\">\n",
       "      <th></th>\n",
       "      <th>values</th>\n",
       "    </tr>\n",
       "  </thead>\n",
       "  <tbody>\n",
       "    <tr>\n",
       "      <th>50</th>\n",
       "      <td>100</td>\n",
       "    </tr>\n",
       "    <tr>\n",
       "      <th>51</th>\n",
       "      <td>186</td>\n",
       "    </tr>\n",
       "    <tr>\n",
       "      <th>52</th>\n",
       "      <td>152</td>\n",
       "    </tr>\n",
       "    <tr>\n",
       "      <th>53</th>\n",
       "      <td>200</td>\n",
       "    </tr>\n",
       "  </tbody>\n",
       "</table>\n",
       "</div>"
      ],
      "text/plain": [
       "    values\n",
       "50     100\n",
       "51     186\n",
       "52     152\n",
       "53     200"
      ]
     },
     "execution_count": 110,
     "metadata": {},
     "output_type": "execute_result"
    }
   ],
   "source": [
    "df[df[\"values\"] > 68.5]\n",
    "# This is How You get outliers\n"
   ]
  },
  {
   "cell_type": "code",
   "execution_count": 119,
   "id": "37f11bac-2821-465b-94af-6175c165c965",
   "metadata": {},
   "outputs": [
    {
     "data": {
      "image/png": "[encoded data removed]",
      "text/plain": [
       "<Figure size 640x480 with 1 Axes>"
      ]
     },
     "metadata": {},
     "output_type": "display_data"
    }
   ],
   "source": [
    "import seaborn as sns\n",
    "import matplotlib.pyplot as plt\n",
    "\n",
    "sns.boxplot(data=df[\"values\"])\n",
    "plt.show()\n"
   ]
  },
  {
   "cell_type": "code",
   "execution_count": 2,
   "id": "07795f03-6401-42ed-9821-ae1aec0ca184",
   "metadata": {},
   "outputs": [],
   "source": [
    "x = {-13,-12,-5,-6,3,4,5,6,7,7,8,10,10,11,55}"
   ]
  },
  {
   "cell_type": "code",
   "execution_count": 126,
   "id": "737520ce-b66b-4d18-8bc3-a027a2870159",
   "metadata": {},
   "outputs": [
    {
     "data": {
      "image/png": "[encoded data removed]",
      "text/plain": [
       "<Figure size 640x480 with 1 Axes>"
      ]
     },
     "metadata": {},
     "output_type": "display_data"
    }
   ],
   "source": [
    "df = pd.DataFrame(data=x,columns=[\"values\"])\n",
    "sns.boxplot(df)\n",
    "plt.show()"
   ]
  },
  {
   "cell_type": "code",
   "execution_count": null,
   "id": "1b718c63-be9a-4ff6-a8f1-2056f5c06d35",
   "metadata": {},
   "outputs": [],
   "source": [
    "# Practice in a critical way and also as above For the above example"
   ]
  },
  {
   "cell_type": "code",
   "execution_count": 8,
   "id": "ac1fcc0f-a4fe-4e59-9caa-b08d24d17755",
   "metadata": {},
   "outputs": [],
   "source": [
    "x = list(x)"
   ]
  },
  {
   "cell_type": "code",
   "execution_count": 9,
   "id": "82b46f54-2ded-4d93-a5ca-cdecf3f134da",
   "metadata": {},
   "outputs": [],
   "source": [
    "import numpy as np"
   ]
  },
  {
   "cell_type": "code",
   "execution_count": 10,
   "id": "1cc8d57f-dcd9-4986-87a3-4d2cb4e816ad",
   "metadata": {},
   "outputs": [],
   "source": [
    "min,q1,median,q3,max = np.quantile(x,[0,0.25,0.50,0.75,1.0])"
   ]
  },
  {
   "cell_type": "code",
   "execution_count": 18,
   "id": "b05c2e9f-0685-488f-a366-8535893eb6ad",
   "metadata": {},
   "outputs": [
    {
     "name": "stdout",
     "output_type": "stream",
     "text": [
      "[3, 4, 5, 6, 7, 8, 10, 11, -13, -12, 55, -6, -5]\n",
      "These are \n",
      "   MIN, Q1, Median, Q3, MAX \n"
     ]
    },
    {
     "data": {
      "text/plain": [
       "(-13.0, -5.0, 5.0, 8.0, 55.0)"
      ]
     },
     "execution_count": 18,
     "metadata": {},
     "output_type": "execute_result"
    }
   ],
   "source": [
    "print(x)\n",
    "print(\"These are \\n   MIN, Q1, Median, Q3, MAX \")\n",
    "min,q1,median,q3,max"
   ]
  },
  {
   "cell_type": "code",
   "execution_count": 19,
   "id": "017e0a0e-4bdc-49ca-be40-99c5ef8e8b4c",
   "metadata": {},
   "outputs": [],
   "source": [
    "IQR = q3-q1"
   ]
  },
  {
   "cell_type": "code",
   "execution_count": 20,
   "id": "04625329-afbb-46e9-9417-9abbe2056aef",
   "metadata": {},
   "outputs": [],
   "source": [
    "LF = q1-1.5*IQR"
   ]
  },
  {
   "cell_type": "code",
   "execution_count": 21,
   "id": "a9e94be8-c952-4e29-9400-dd0841522b61",
   "metadata": {},
   "outputs": [],
   "source": [
    "HF = q3+1.5*IQR"
   ]
  },
  {
   "cell_type": "code",
   "execution_count": 22,
   "id": "28a1b521-eea1-49a2-89d9-a45714df594e",
   "metadata": {},
   "outputs": [
    {
     "data": {
      "text/plain": [
       "27.5"
      ]
     },
     "execution_count": 22,
     "metadata": {},
     "output_type": "execute_result"
    }
   ],
   "source": [
    "HF"
   ]
  },
  {
   "cell_type": "code",
   "execution_count": 23,
   "id": "ff814d8a-8101-4def-a5c5-f85052a34940",
   "metadata": {},
   "outputs": [
    {
     "data": {
      "text/plain": [
       "-24.5"
      ]
     },
     "execution_count": 23,
     "metadata": {},
     "output_type": "execute_result"
    }
   ],
   "source": [
    "LF"
   ]
  },
  {
   "cell_type": "code",
   "execution_count": 26,
   "id": "40943dca-00cd-4240-a50c-193d2504394a",
   "metadata": {},
   "outputs": [],
   "source": [
    "import seaborn as sns\n",
    "import numpy as np"
   ]
  },
  {
   "cell_type": "code",
   "execution_count": 27,
   "id": "1b898b4b-ff9a-4a97-aca3-0238bd347885",
   "metadata": {},
   "outputs": [
    {
     "data": {
      "text/plain": [
       "<Axes: >"
      ]
     },
     "execution_count": 27,
     "metadata": {},
     "output_type": "execute_result"
    },
    {
     "data": {
      "image/png": "[encoded data removed]",
      "text/plain": [
       "<Figure size 640x480 with 1 Axes>"
      ]
     },
     "metadata": {},
     "output_type": "display_data"
    }
   ],
   "source": [
    "sns.boxplot(x)"
   ]
  },
  {
   "cell_type": "code",
   "execution_count": 34,
   "id": "7e58f944-65a7-40a4-93da-8364997b21cf",
   "metadata": {},
   "outputs": [
    {
     "data": {
      "text/plain": [
       "[55]"
      ]
     },
     "execution_count": 34,
     "metadata": {},
     "output_type": "execute_result"
    }
   ],
   "source": [
    "result = [i for i in x if  i > HF]\n",
    "result"
   ]
  },
  {
   "cell_type": "code",
   "execution_count": 36,
   "id": "273cbbe8-1cbc-4636-bc51-6578869a7ec5",
   "metadata": {},
   "outputs": [],
   "source": [
    "# We got the Outliers"
   ]
  },
  {
   "cell_type": "code",
   "execution_count": 35,
   "id": "ae1cee0c-0ced-4a9b-a4b3-b8ddc3806bf3",
   "metadata": {},
   "outputs": [
    {
     "data": {
      "text/plain": [
       "[3, 4, 5, 6, 7, 8, 10, 11, -13, -12, 55, -6, -5]"
      ]
     },
     "execution_count": 35,
     "metadata": {},
     "output_type": "execute_result"
    }
   ],
   "source": [
    "x   "
   ]
  },
  {
   "cell_type": "code",
   "execution_count": null,
   "id": "0ed4a4d9-0bdb-4f71-8efb-b18bd5a7cddf",
   "metadata": {},
   "outputs": [],
   "source": []
  }
 ],
 "metadata": {
  "kernelspec": {
   "display_name": "Python 3 (ipykernel)",
   "language": "python",
   "name": "python3"
  },
  "language_info": {
   "codemirror_mode": {
    "name": "ipython",
    "version": 3
   },
   "file_extension": ".py",
   "mimetype": "text/x-python",
   "name": "python",
   "nbconvert_exporter": "python",
   "pygments_lexer": "ipython3",
   "version": "3.12.4"
  }
 },
 "nbformat": 4,
 "nbformat_minor": 5
}
