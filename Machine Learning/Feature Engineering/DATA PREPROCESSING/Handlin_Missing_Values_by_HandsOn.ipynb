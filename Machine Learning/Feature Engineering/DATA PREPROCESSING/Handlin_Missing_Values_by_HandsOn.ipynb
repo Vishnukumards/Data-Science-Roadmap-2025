{
 "cells": [
  {
   "cell_type": "markdown",
   "id": "cd765ff6-9aaf-4e14-b1ec-e7243df4f340",
   "metadata": {},
   "source": [
    "# 🧠 Feature Engineering in Data Science\r\n",
    "\r\n",
    "> In every data science project, almost **90% of the time** is spent on **feature engineering**.  \r\n",
    "> So, it is **crucial to master this skill** for building effective models.\r\n",
    "\r\n",
    "---\r\n",
    "\r\n",
    "## 🧩 Handling Missing Values\r\n",
    "\r\n",
    "---\r\n",
    "\r\n",
    "### 1. ❓ MCAR – Missing Completely At Random\r\n",
    "\r\n",
    "**Definition:**  \r\n",
    "The missing values are completely independent of any observed or unobserved data.  \r\n",
    "There is **no systematic pattern** — the missingness is purely random.\r\n",
    "\r\n",
    "**Example:**  \r\n",
    "Missing temperature values in a dataset where the absence is unrelated to any other feature.\r\n",
    "\r\n",
    "---\r\n",
    "\r\n",
    "### 🔧 Handling MCAR\r\n",
    "\r\n",
    "You can safely handle MCAR missing data using:\r\n",
    "\r\n",
    "- ✅ **Mean/Median Imputation**  \r\n",
    "  Replace missing values with the mean or median of the column.\r\n",
    "\r\n",
    "- ✅ **Drop Missing Rows**  \r\n",
    "  Remove rows with missing values — only if the proportion of missing data is **small**.\r\n",
    "\r\n",
    "---\r\n",
    "\r\n",
    "📝 **Note:**  \r\n",
    "Always perform **missing data analysis** to determine whether missingness is MCAR, MAR, or MNAR before deciding on a strategy.\r\n",
    "\r\n"
   ]
  },
  {
   "cell_type": "code",
   "execution_count": 27,
   "id": "04b90c80-6f0d-49fd-989f-a69c4cf85254",
   "metadata": {},
   "outputs": [],
   "source": [
    "import pandas as pd\n",
    "data = pd.DataFrame({'age':[25,22,28,None,29]})\n",
    "data['age'] = data['age'].fillna(data['age'].mean())"
   ]
  },
  {
   "cell_type": "code",
   "execution_count": 28,
   "id": "95e026be-4097-4cf9-a3d0-aefe15592c32",
   "metadata": {},
   "outputs": [
    {
     "data": {
      "text/html": [
       "<div>\n",
       "<style scoped>\n",
       "    .dataframe tbody tr th:only-of-type {\n",
       "        vertical-align: middle;\n",
       "    }\n",
       "\n",
       "    .dataframe tbody tr th {\n",
       "        vertical-align: top;\n",
       "    }\n",
       "\n",
       "    .dataframe thead th {\n",
       "        text-align: right;\n",
       "    }\n",
       "</style>\n",
       "<table border=\"1\" class=\"dataframe\">\n",
       "  <thead>\n",
       "    <tr style=\"text-align: right;\">\n",
       "      <th></th>\n",
       "      <th>age</th>\n",
       "    </tr>\n",
       "  </thead>\n",
       "  <tbody>\n",
       "    <tr>\n",
       "      <th>0</th>\n",
       "      <td>25.0</td>\n",
       "    </tr>\n",
       "    <tr>\n",
       "      <th>1</th>\n",
       "      <td>22.0</td>\n",
       "    </tr>\n",
       "    <tr>\n",
       "      <th>2</th>\n",
       "      <td>28.0</td>\n",
       "    </tr>\n",
       "    <tr>\n",
       "      <th>3</th>\n",
       "      <td>26.0</td>\n",
       "    </tr>\n",
       "    <tr>\n",
       "      <th>4</th>\n",
       "      <td>29.0</td>\n",
       "    </tr>\n",
       "  </tbody>\n",
       "</table>\n",
       "</div>"
      ],
      "text/plain": [
       "    age\n",
       "0  25.0\n",
       "1  22.0\n",
       "2  28.0\n",
       "3  26.0\n",
       "4  29.0"
      ]
     },
     "execution_count": 28,
     "metadata": {},
     "output_type": "execute_result"
    }
   ],
   "source": [
    "data"
   ]
  },
  {
   "cell_type": "markdown",
   "id": "68791509-626a-4fe4-89ae-ac6786f17b9a",
   "metadata": {},
   "source": [
    "---\n",
    "\n",
    "### 2. ❔ MAR – Missing At Random\n",
    "\n",
    "**Definition:**  \n",
    "The missingness is **related to observed data**, but **not to the value of the missing data itself**.\n",
    "\n",
    "**Example:**  \n",
    "Income values are missing based on **age**.  \n",
    "The age is observed, so the missingness is **MAR**.\n",
    "\n",
    "---\n",
    "\n",
    "### 🔧 Handling MAR\n",
    "\n",
    "You can handle MAR with more sophisticated imputation techniques:\n",
    "\n",
    "- ✅ **Model-based Imputation**  \n",
    "  Use other observed variables to predict missing values  \n",
    "  *(e.g., regression or KNN using age)*\n",
    "\n",
    "- ✅ **Multiple Imputation**  \n",
    "  Perform repeated imputations to account for uncertainty\n",
    "\n",
    "---\n",
    "\n",
    "### 🛠️ Techniques:\n",
    "\n",
    "#### 📌 Technique 1: KNN Imputation\n",
    "Use **K-Nearest Neighbors** to fill in missing values based on similar rows.\n",
    "\n",
    "#### 📌 Technique 2: Regression Imputation\n",
    "Predict missing values using a **regression model** based on other features.\n",
    "\n",
    "#### 📌 Technique 3: Multiple Imputation\n",
    "Use iterative models like **`IterativeImputer`** (from `sklearn.impute`) to model and impute missing values multiple times.\n",
    "\n",
    "---\n",
    "\n",
    "📌 **Tip:**  \n",
    "Always visualize missingness patterns (e.g., using **`missingno`** or **heatmaps**) to confirm if MAR is a valid assumption.\n",
    "\n"
   ]
  },
  {
   "cell_type": "code",
   "execution_count": 47,
   "id": "fc01d51d-a621-4d25-bf6c-30f2fdcac448",
   "metadata": {},
   "outputs": [
    {
     "data": {
      "text/html": [
       "<div>\n",
       "<style scoped>\n",
       "    .dataframe tbody tr th:only-of-type {\n",
       "        vertical-align: middle;\n",
       "    }\n",
       "\n",
       "    .dataframe tbody tr th {\n",
       "        vertical-align: top;\n",
       "    }\n",
       "\n",
       "    .dataframe thead th {\n",
       "        text-align: right;\n",
       "    }\n",
       "</style>\n",
       "<table border=\"1\" class=\"dataframe\">\n",
       "  <thead>\n",
       "    <tr style=\"text-align: right;\">\n",
       "      <th></th>\n",
       "      <th>age</th>\n",
       "      <th>income</th>\n",
       "    </tr>\n",
       "  </thead>\n",
       "  <tbody>\n",
       "    <tr>\n",
       "      <th>0</th>\n",
       "      <td>25</td>\n",
       "      <td>50000.0</td>\n",
       "    </tr>\n",
       "    <tr>\n",
       "      <th>1</th>\n",
       "      <td>45</td>\n",
       "      <td>80000.0</td>\n",
       "    </tr>\n",
       "    <tr>\n",
       "      <th>2</th>\n",
       "      <td>30</td>\n",
       "      <td>NaN</td>\n",
       "    </tr>\n",
       "    <tr>\n",
       "      <th>3</th>\n",
       "      <td>22</td>\n",
       "      <td>NaN</td>\n",
       "    </tr>\n",
       "    <tr>\n",
       "      <th>4</th>\n",
       "      <td>35</td>\n",
       "      <td>65000.0</td>\n",
       "    </tr>\n",
       "    <tr>\n",
       "      <th>5</th>\n",
       "      <td>27</td>\n",
       "      <td>28000.0</td>\n",
       "    </tr>\n",
       "  </tbody>\n",
       "</table>\n",
       "</div>"
      ],
      "text/plain": [
       "   age   income\n",
       "0   25  50000.0\n",
       "1   45  80000.0\n",
       "2   30      NaN\n",
       "3   22      NaN\n",
       "4   35  65000.0\n",
       "5   27  28000.0"
      ]
     },
     "execution_count": 47,
     "metadata": {},
     "output_type": "execute_result"
    }
   ],
   "source": [
    "df = pd.DataFrame({\n",
    "    'age': [25, 45, 30, 22, 35,27],\n",
    "    'income': [50000, 80000, np.nan, np.nan, 65000,28000]\n",
    "})\n",
    "df"
   ]
  },
  {
   "cell_type": "code",
   "execution_count": 49,
   "id": "ac3cadc4-2a22-41bf-934b-33e206ea3aeb",
   "metadata": {},
   "outputs": [
    {
     "name": "stdout",
     "output_type": "stream",
     "text": [
      " After the KNN Imputation: \n",
      "      age        income\n",
      "0  25.0  50000.000000\n",
      "1  45.0  80000.000000\n",
      "2  30.0  47666.666667\n",
      "3  22.0  47666.666667\n",
      "4  35.0  65000.000000\n",
      "5  27.0  28000.000000\n"
     ]
    }
   ],
   "source": [
    "#### Technique 1: KNN Imputation\n",
    "\n",
    "from sklearn.impute import KNNImputer\n",
    "imputer = KNNImputer(n_neighbors=3)\n",
    "df_knn = pd.DataFrame(imputer.fit_transform(df),columns = df.columns)\n",
    "print(\" After the KNN Imputation: \\n \", df_knn)"
   ]
  },
  {
   "cell_type": "markdown",
   "id": "e69ea6cf-5d87-4857-9cd1-e8e169eef2fd",
   "metadata": {},
   "source": [
    "| Line                                    | Explanation                                                        |\n",
    "| --------------------------------------- | ------------------------------------------------------------------ |\n",
    "| `KNNImputer(n_neighbors=2)`             | Finds 2 most similar rows (based on non-missing values)            |\n",
    "| `fit_transform(df)`                     | Learns from data (`fit`) and fills in missing values (`transform`) |\n",
    "| `pd.DataFrame(..., columns=df.columns)` | Keeps column names for clarity                                     |\n"
   ]
  },
  {
   "cell_type": "code",
   "execution_count": 50,
   "id": "a659969e-d439-4b62-893f-d3091a9e7a08",
   "metadata": {},
   "outputs": [
    {
     "data": {
      "text/html": [
       "<div>\n",
       "<style scoped>\n",
       "    .dataframe tbody tr th:only-of-type {\n",
       "        vertical-align: middle;\n",
       "    }\n",
       "\n",
       "    .dataframe tbody tr th {\n",
       "        vertical-align: top;\n",
       "    }\n",
       "\n",
       "    .dataframe thead th {\n",
       "        text-align: right;\n",
       "    }\n",
       "</style>\n",
       "<table border=\"1\" class=\"dataframe\">\n",
       "  <thead>\n",
       "    <tr style=\"text-align: right;\">\n",
       "      <th></th>\n",
       "      <th>age</th>\n",
       "      <th>income</th>\n",
       "    </tr>\n",
       "  </thead>\n",
       "  <tbody>\n",
       "    <tr>\n",
       "      <th>0</th>\n",
       "      <td>25</td>\n",
       "      <td>50000.0</td>\n",
       "    </tr>\n",
       "    <tr>\n",
       "      <th>1</th>\n",
       "      <td>45</td>\n",
       "      <td>80000.0</td>\n",
       "    </tr>\n",
       "    <tr>\n",
       "      <th>2</th>\n",
       "      <td>30</td>\n",
       "      <td>NaN</td>\n",
       "    </tr>\n",
       "    <tr>\n",
       "      <th>3</th>\n",
       "      <td>22</td>\n",
       "      <td>NaN</td>\n",
       "    </tr>\n",
       "    <tr>\n",
       "      <th>4</th>\n",
       "      <td>35</td>\n",
       "      <td>65000.0</td>\n",
       "    </tr>\n",
       "    <tr>\n",
       "      <th>5</th>\n",
       "      <td>27</td>\n",
       "      <td>28000.0</td>\n",
       "    </tr>\n",
       "  </tbody>\n",
       "</table>\n",
       "</div>"
      ],
      "text/plain": [
       "   age   income\n",
       "0   25  50000.0\n",
       "1   45  80000.0\n",
       "2   30      NaN\n",
       "3   22      NaN\n",
       "4   35  65000.0\n",
       "5   27  28000.0"
      ]
     },
     "execution_count": 50,
     "metadata": {},
     "output_type": "execute_result"
    }
   ],
   "source": [
    "df = pd.DataFrame({\n",
    "    'age': [25, 45, 30, 22, 35,27],\n",
    "    'income': [50000, 80000, np.nan, np.nan, 65000,28000]\n",
    "})\n",
    "df"
   ]
  },
  {
   "cell_type": "code",
   "execution_count": 51,
   "id": "615ae8d7-e1ae-4033-9fa4-655d552019f7",
   "metadata": {},
   "outputs": [
    {
     "name": "stdout",
     "output_type": "stream",
     "text": [
      "After Regression Imputation\n",
      "    age        income\n",
      "0   25  50000.000000\n",
      "1   45  80000.000000\n",
      "2   30  49435.483871\n",
      "3   22  32596.774194\n",
      "4   35  65000.000000\n",
      "5   27  28000.000000\n"
     ]
    }
   ],
   "source": [
    "#### Technique 2: Regression Imputation\n",
    "from sklearn.linear_model import LinearRegression\n",
    "train = df[df['income'].notnull()]\n",
    "missing = df[df['income'].isnull()]\n",
    "model = LinearRegression()\n",
    "model.fit(train[['age']],train['income'])\n",
    "predicted = model.predict(missing[['age']])\n",
    "df.loc[df['income'].isnull(), 'income']= predicted\n",
    "print(\"After Regression Imputation\\n\",df)"
   ]
  },
  {
   "cell_type": "markdown",
   "id": "2aaab02a-bd27-46a4-b693-79c5b9cd98f4",
   "metadata": {},
   "source": [
    "| Step                      | Explanation                                          |\n",
    "| ------------------------- | ---------------------------------------------------- |\n",
    "| Split data                | Separate known and unknown income rows               |\n",
    "| `model.fit(...)`          | Train a model to learn: income = f(age)               |\n",
    "| `model.predict(...)`      | Predict missing incomes using age                    |\n",
    "| `df.loc[...] = predicted` | Put predicted values back into the dataset           |\n"
   ]
  },
  {
   "cell_type": "code",
   "execution_count": null,
   "id": "4d05e707-a4a9-495a-aa8c-cf85138e3581",
   "metadata": {},
   "outputs": [],
   "source": [
    "#### Technique 3: Multiple Imputation (Using IterativeImputer)"
   ]
  },
  {
   "cell_type": "code",
   "execution_count": 52,
   "id": "a46f96ee-0204-4659-8be2-edb723314751",
   "metadata": {},
   "outputs": [
    {
     "data": {
      "text/html": [
       "<div>\n",
       "<style scoped>\n",
       "    .dataframe tbody tr th:only-of-type {\n",
       "        vertical-align: middle;\n",
       "    }\n",
       "\n",
       "    .dataframe tbody tr th {\n",
       "        vertical-align: top;\n",
       "    }\n",
       "\n",
       "    .dataframe thead th {\n",
       "        text-align: right;\n",
       "    }\n",
       "</style>\n",
       "<table border=\"1\" class=\"dataframe\">\n",
       "  <thead>\n",
       "    <tr style=\"text-align: right;\">\n",
       "      <th></th>\n",
       "      <th>age</th>\n",
       "      <th>income</th>\n",
       "    </tr>\n",
       "  </thead>\n",
       "  <tbody>\n",
       "    <tr>\n",
       "      <th>0</th>\n",
       "      <td>25</td>\n",
       "      <td>50000.0</td>\n",
       "    </tr>\n",
       "    <tr>\n",
       "      <th>1</th>\n",
       "      <td>45</td>\n",
       "      <td>80000.0</td>\n",
       "    </tr>\n",
       "    <tr>\n",
       "      <th>2</th>\n",
       "      <td>30</td>\n",
       "      <td>NaN</td>\n",
       "    </tr>\n",
       "    <tr>\n",
       "      <th>3</th>\n",
       "      <td>22</td>\n",
       "      <td>NaN</td>\n",
       "    </tr>\n",
       "    <tr>\n",
       "      <th>4</th>\n",
       "      <td>35</td>\n",
       "      <td>65000.0</td>\n",
       "    </tr>\n",
       "    <tr>\n",
       "      <th>5</th>\n",
       "      <td>27</td>\n",
       "      <td>28000.0</td>\n",
       "    </tr>\n",
       "  </tbody>\n",
       "</table>\n",
       "</div>"
      ],
      "text/plain": [
       "   age   income\n",
       "0   25  50000.0\n",
       "1   45  80000.0\n",
       "2   30      NaN\n",
       "3   22      NaN\n",
       "4   35  65000.0\n",
       "5   27  28000.0"
      ]
     },
     "execution_count": 52,
     "metadata": {},
     "output_type": "execute_result"
    }
   ],
   "source": [
    "df = pd.DataFrame({\n",
    "    'age': [25, 45, 30, 22, 35,27],\n",
    "    'income': [50000, 80000, np.nan, np.nan, 65000,28000]\n",
    "})\n",
    "df"
   ]
  },
  {
   "cell_type": "code",
   "execution_count": 54,
   "id": "f9d7523d-0a68-4c01-9c0e-ab8dc769183b",
   "metadata": {},
   "outputs": [
    {
     "name": "stdout",
     "output_type": "stream",
     "text": [
      "\n",
      " After the Multiple Imputation (Iterative): \n",
      "     age        income\n",
      "0  25.0  50000.000000\n",
      "1  45.0  80000.000000\n",
      "2  30.0  55749.990856\n",
      "3  22.0  55749.966471\n",
      "4  35.0  65000.000000\n",
      "5  27.0  28000.000000\n"
     ]
    }
   ],
   "source": [
    "from sklearn.experimental import enable_iterative_imputer\n",
    "from sklearn.impute import IterativeImputer\n",
    "imp = IterativeImputer(random_state=0)\n",
    "df_iterative = pd.DataFrame(imp.fit_transform(df),columns = df.columns)\n",
    "print(\"\\n After the Multiple Imputation (Iterative): \\n\",df_iterative)"
   ]
  },
  {
   "cell_type": "markdown",
   "id": "871894dd-579f-4310-96d6-ff0da249c8f4",
   "metadata": {},
   "source": [
    "| Function                         | Explanation                                                             |\n",
    "| -------------------------------- | ----------------------------------------------------------------------- |\n",
    "| `IterativeImputer()`             | Uses models (like linear regression) to guess missing values repeatedly |\n",
    "| `fit_transform(df)`              | Fits on known data, fills in missing using iterative prediction         |\n",
    "| `pd.DataFrame(..., columns=...)` | Keeps column names in the result                                        |\n"
   ]
  },
  {
   "cell_type": "markdown",
   "id": "2327be80-88bd-4457-8a47-34c2b2c67b5d",
   "metadata": {},
   "source": [
    "| Technique          | Best For              | Uses Model?   | Code Used            |\n",
    "| ------------------ | --------------------- | ------------- | -------------------- |\n",
    "| KNN Imputer        | Similar records exist | ❌             | `KNNImputer()`       |\n",
    "| Regression Imputer | Linear relationship   | ✅             | `LinearRegression()` |\n",
    "| Iterative Imputer  | Complex MAR patterns  | ✅ (Iterative) | `IterativeImputer()` |\n"
   ]
  },
  {
   "cell_type": "markdown",
   "id": "a881b9bd-da6b-47c8-8fc6-78e5456991a3",
   "metadata": {},
   "source": [
    "---\r\n",
    "\r\n",
    "### 3. 🚫 MNAR – Missing Not At Random\r\n",
    "\r\n",
    "**Definition:**  \r\n",
    "The missingness is **related to the value of the missing data itself**.  \r\n",
    "In other words, the fact that a value is missing **depends on the value that's missing**.\r\n",
    "\r\n",
    "**Example:**  \r\n",
    "People with **high income** might choose **not to report it**.  \r\n",
    "So, missing income values are **not random** — they depend on the unobserved income itself.\r\n",
    "\r\n",
    "---\r\n",
    "\r\n",
    "### 🔧 Handling MNAR\r\n",
    "\r\n",
    "Handling MNAR is **complex** and often requires advanced strategies:\r\n",
    "\r\n",
    "- ⚠️ **Imputation may bias results**  \r\n",
    "  Standard imputation techniques might distort the data.\r\n",
    "\r\n",
    "- ✅ **Model the Missingness**  \r\n",
    "  Treat missingness as a separate feature and include it in your model.\r\n",
    "\r\n",
    "- ✅ **Sensitivity Analysis**  \r\n",
    "  Test how different assumptions about missing data affect your results.\r\n",
    "\r\n",
    "- ✅ **Use Domain Knowledge**  \r\n",
    "  Leverage expert input to make educated decisions about the missing values.\r\n",
    "\r\n",
    "---\r\n",
    "\r\n",
    "📌 **Note:**  \r\n",
    "MNAR is the **most difficult** type to handle. Always assess the potential bias and uncertainty introduced by your treatment.\r\n",
    "\r\n"
   ]
  },
  {
   "cell_type": "code",
   "execution_count": 55,
   "id": "6ef25d47-84a2-42c7-98ca-1820577c6df7",
   "metadata": {},
   "outputs": [
    {
     "name": "stdout",
     "output_type": "stream",
     "text": [
      "\n",
      "MNAR Example:\n",
      "   age   income\n",
      "0   22  30000.0\n",
      "1   25      NaN\n",
      "2   30  35000.0\n",
      "3   40  60000.0\n",
      "4   35      NaN\n"
     ]
    }
   ],
   "source": [
    "data_mnar = pd.DataFrame({\n",
    "    'age': [22, 25, 30, 40, 35],\n",
    "    'income': [30000, np.nan, 35000, 60000, np.nan]  # Missing for low incomes\n",
    "})\n",
    "\n",
    "print(\"\\nMNAR Example:\")\n",
    "print(data_mnar)\n"
   ]
  },
  {
   "cell_type": "code",
   "execution_count": 56,
   "id": "15ffc87e-c47d-49de-92cc-8e94d14a970d",
   "metadata": {
    "scrolled": true
   },
   "outputs": [
    {
     "name": "stdout",
     "output_type": "stream",
     "text": [
      "\n",
      " After Handling MNAR with Missing Indicator + Meadin\n",
      "   age   income  income_missing\n",
      "0   22  30000.0               0\n",
      "1   25  35000.0               1\n",
      "2   30  35000.0               0\n",
      "3   40  60000.0               0\n",
      "4   35  35000.0               1\n"
     ]
    }
   ],
   "source": [
    "data_mnar['income_missing'] = data_mnar['income'].isnull().astype(int)\n",
    "data_mnar['income'] = data_mnar['income'].fillna(data_mnar['income'].median())\n",
    "print(\"\\n After Handling MNAR with Missing Indicator + Median\")\n",
    "print(data_mnar)"
   ]
  },
  {
   "cell_type": "markdown",
   "id": "78ebbc1c-2aa3-4d4c-a5ff-addd94617a78",
   "metadata": {},
   "source": [
    "# 🚢 Titanic Survival Prediction - A Hands-On Project"
   ]
  },
  {
   "cell_type": "code",
   "execution_count": 61,
   "id": "6cd7af1b-602e-412c-baa3-1aa2e0709e16",
   "metadata": {},
   "outputs": [],
   "source": [
    "import seaborn as sns"
   ]
  },
  {
   "cell_type": "code",
   "execution_count": 135,
   "id": "f7d9f79a-d31f-469a-83f6-4b60e07641a8",
   "metadata": {},
   "outputs": [],
   "source": [
    "data = sns.load_dataset('titanic')"
   ]
  },
  {
   "cell_type": "code",
   "execution_count": 136,
   "id": "fceddbff-3398-4fd2-82ce-a6cabaa7d0f3",
   "metadata": {},
   "outputs": [
    {
     "data": {
      "text/html": [
       "<div>\n",
       "<style scoped>\n",
       "    .dataframe tbody tr th:only-of-type {\n",
       "        vertical-align: middle;\n",
       "    }\n",
       "\n",
       "    .dataframe tbody tr th {\n",
       "        vertical-align: top;\n",
       "    }\n",
       "\n",
       "    .dataframe thead th {\n",
       "        text-align: right;\n",
       "    }\n",
       "</style>\n",
       "<table border=\"1\" class=\"dataframe\">\n",
       "  <thead>\n",
       "    <tr style=\"text-align: right;\">\n",
       "      <th></th>\n",
       "      <th>survived</th>\n",
       "      <th>pclass</th>\n",
       "      <th>sex</th>\n",
       "      <th>age</th>\n",
       "      <th>sibsp</th>\n",
       "      <th>parch</th>\n",
       "      <th>fare</th>\n",
       "      <th>embarked</th>\n",
       "      <th>class</th>\n",
       "      <th>who</th>\n",
       "      <th>adult_male</th>\n",
       "      <th>deck</th>\n",
       "      <th>embark_town</th>\n",
       "      <th>alive</th>\n",
       "      <th>alone</th>\n",
       "    </tr>\n",
       "  </thead>\n",
       "  <tbody>\n",
       "    <tr>\n",
       "      <th>0</th>\n",
       "      <td>0</td>\n",
       "      <td>3</td>\n",
       "      <td>male</td>\n",
       "      <td>22.0</td>\n",
       "      <td>1</td>\n",
       "      <td>0</td>\n",
       "      <td>7.2500</td>\n",
       "      <td>S</td>\n",
       "      <td>Third</td>\n",
       "      <td>man</td>\n",
       "      <td>True</td>\n",
       "      <td>NaN</td>\n",
       "      <td>Southampton</td>\n",
       "      <td>no</td>\n",
       "      <td>False</td>\n",
       "    </tr>\n",
       "    <tr>\n",
       "      <th>1</th>\n",
       "      <td>1</td>\n",
       "      <td>1</td>\n",
       "      <td>female</td>\n",
       "      <td>38.0</td>\n",
       "      <td>1</td>\n",
       "      <td>0</td>\n",
       "      <td>71.2833</td>\n",
       "      <td>C</td>\n",
       "      <td>First</td>\n",
       "      <td>woman</td>\n",
       "      <td>False</td>\n",
       "      <td>C</td>\n",
       "      <td>Cherbourg</td>\n",
       "      <td>yes</td>\n",
       "      <td>False</td>\n",
       "    </tr>\n",
       "    <tr>\n",
       "      <th>2</th>\n",
       "      <td>1</td>\n",
       "      <td>3</td>\n",
       "      <td>female</td>\n",
       "      <td>26.0</td>\n",
       "      <td>0</td>\n",
       "      <td>0</td>\n",
       "      <td>7.9250</td>\n",
       "      <td>S</td>\n",
       "      <td>Third</td>\n",
       "      <td>woman</td>\n",
       "      <td>False</td>\n",
       "      <td>NaN</td>\n",
       "      <td>Southampton</td>\n",
       "      <td>yes</td>\n",
       "      <td>True</td>\n",
       "    </tr>\n",
       "    <tr>\n",
       "      <th>3</th>\n",
       "      <td>1</td>\n",
       "      <td>1</td>\n",
       "      <td>female</td>\n",
       "      <td>35.0</td>\n",
       "      <td>1</td>\n",
       "      <td>0</td>\n",
       "      <td>53.1000</td>\n",
       "      <td>S</td>\n",
       "      <td>First</td>\n",
       "      <td>woman</td>\n",
       "      <td>False</td>\n",
       "      <td>C</td>\n",
       "      <td>Southampton</td>\n",
       "      <td>yes</td>\n",
       "      <td>False</td>\n",
       "    </tr>\n",
       "    <tr>\n",
       "      <th>4</th>\n",
       "      <td>0</td>\n",
       "      <td>3</td>\n",
       "      <td>male</td>\n",
       "      <td>35.0</td>\n",
       "      <td>0</td>\n",
       "      <td>0</td>\n",
       "      <td>8.0500</td>\n",
       "      <td>S</td>\n",
       "      <td>Third</td>\n",
       "      <td>man</td>\n",
       "      <td>True</td>\n",
       "      <td>NaN</td>\n",
       "      <td>Southampton</td>\n",
       "      <td>no</td>\n",
       "      <td>True</td>\n",
       "    </tr>\n",
       "  </tbody>\n",
       "</table>\n",
       "</div>"
      ],
      "text/plain": [
       "   survived  pclass     sex   age  sibsp  parch     fare embarked  class  \\\n",
       "0         0       3    male  22.0      1      0   7.2500        S  Third   \n",
       "1         1       1  female  38.0      1      0  71.2833        C  First   \n",
       "2         1       3  female  26.0      0      0   7.9250        S  Third   \n",
       "3         1       1  female  35.0      1      0  53.1000        S  First   \n",
       "4         0       3    male  35.0      0      0   8.0500        S  Third   \n",
       "\n",
       "     who  adult_male deck  embark_town alive  alone  \n",
       "0    man        True  NaN  Southampton    no  False  \n",
       "1  woman       False    C    Cherbourg   yes  False  \n",
       "2  woman       False  NaN  Southampton   yes   True  \n",
       "3  woman       False    C  Southampton   yes  False  \n",
       "4    man        True  NaN  Southampton    no   True  "
      ]
     },
     "execution_count": 136,
     "metadata": {},
     "output_type": "execute_result"
    }
   ],
   "source": [
    "data.head()"
   ]
  },
  {
   "cell_type": "code",
   "execution_count": 137,
   "id": "829e0a66-1ff9-43ff-9384-579dd6419933",
   "metadata": {},
   "outputs": [
    {
     "name": "stdout",
     "output_type": "stream",
     "text": [
      "<class 'pandas.core.frame.DataFrame'>\n",
      "RangeIndex: 891 entries, 0 to 890\n",
      "Data columns (total 15 columns):\n",
      " #   Column       Non-Null Count  Dtype   \n",
      "---  ------       --------------  -----   \n",
      " 0   survived     891 non-null    int64   \n",
      " 1   pclass       891 non-null    int64   \n",
      " 2   sex          891 non-null    object  \n",
      " 3   age          714 non-null    float64 \n",
      " 4   sibsp        891 non-null    int64   \n",
      " 5   parch        891 non-null    int64   \n",
      " 6   fare         891 non-null    float64 \n",
      " 7   embarked     889 non-null    object  \n",
      " 8   class        891 non-null    category\n",
      " 9   who          891 non-null    object  \n",
      " 10  adult_male   891 non-null    bool    \n",
      " 11  deck         203 non-null    category\n",
      " 12  embark_town  889 non-null    object  \n",
      " 13  alive        891 non-null    object  \n",
      " 14  alone        891 non-null    bool    \n",
      "dtypes: bool(2), category(2), float64(2), int64(4), object(5)\n",
      "memory usage: 80.7+ KB\n"
     ]
    }
   ],
   "source": [
    "data.info()"
   ]
  },
  {
   "cell_type": "code",
   "execution_count": 138,
   "id": "82d53cf4-9dbe-449c-a195-71d6ef52b67a",
   "metadata": {},
   "outputs": [
    {
     "data": {
      "text/html": [
       "<div>\n",
       "<style scoped>\n",
       "    .dataframe tbody tr th:only-of-type {\n",
       "        vertical-align: middle;\n",
       "    }\n",
       "\n",
       "    .dataframe tbody tr th {\n",
       "        vertical-align: top;\n",
       "    }\n",
       "\n",
       "    .dataframe thead th {\n",
       "        text-align: right;\n",
       "    }\n",
       "</style>\n",
       "<table border=\"1\" class=\"dataframe\">\n",
       "  <thead>\n",
       "    <tr style=\"text-align: right;\">\n",
       "      <th></th>\n",
       "      <th>survived</th>\n",
       "      <th>pclass</th>\n",
       "      <th>age</th>\n",
       "      <th>sibsp</th>\n",
       "      <th>parch</th>\n",
       "      <th>fare</th>\n",
       "    </tr>\n",
       "  </thead>\n",
       "  <tbody>\n",
       "    <tr>\n",
       "      <th>count</th>\n",
       "      <td>891.000000</td>\n",
       "      <td>891.000000</td>\n",
       "      <td>714.000000</td>\n",
       "      <td>891.000000</td>\n",
       "      <td>891.000000</td>\n",
       "      <td>891.000000</td>\n",
       "    </tr>\n",
       "    <tr>\n",
       "      <th>mean</th>\n",
       "      <td>0.383838</td>\n",
       "      <td>2.308642</td>\n",
       "      <td>29.699118</td>\n",
       "      <td>0.523008</td>\n",
       "      <td>0.381594</td>\n",
       "      <td>32.204208</td>\n",
       "    </tr>\n",
       "    <tr>\n",
       "      <th>std</th>\n",
       "      <td>0.486592</td>\n",
       "      <td>0.836071</td>\n",
       "      <td>14.526497</td>\n",
       "      <td>1.102743</td>\n",
       "      <td>0.806057</td>\n",
       "      <td>49.693429</td>\n",
       "    </tr>\n",
       "    <tr>\n",
       "      <th>min</th>\n",
       "      <td>0.000000</td>\n",
       "      <td>1.000000</td>\n",
       "      <td>0.420000</td>\n",
       "      <td>0.000000</td>\n",
       "      <td>0.000000</td>\n",
       "      <td>0.000000</td>\n",
       "    </tr>\n",
       "    <tr>\n",
       "      <th>25%</th>\n",
       "      <td>0.000000</td>\n",
       "      <td>2.000000</td>\n",
       "      <td>20.125000</td>\n",
       "      <td>0.000000</td>\n",
       "      <td>0.000000</td>\n",
       "      <td>7.910400</td>\n",
       "    </tr>\n",
       "    <tr>\n",
       "      <th>50%</th>\n",
       "      <td>0.000000</td>\n",
       "      <td>3.000000</td>\n",
       "      <td>28.000000</td>\n",
       "      <td>0.000000</td>\n",
       "      <td>0.000000</td>\n",
       "      <td>14.454200</td>\n",
       "    </tr>\n",
       "    <tr>\n",
       "      <th>75%</th>\n",
       "      <td>1.000000</td>\n",
       "      <td>3.000000</td>\n",
       "      <td>38.000000</td>\n",
       "      <td>1.000000</td>\n",
       "      <td>0.000000</td>\n",
       "      <td>31.000000</td>\n",
       "    </tr>\n",
       "    <tr>\n",
       "      <th>max</th>\n",
       "      <td>1.000000</td>\n",
       "      <td>3.000000</td>\n",
       "      <td>80.000000</td>\n",
       "      <td>8.000000</td>\n",
       "      <td>6.000000</td>\n",
       "      <td>512.329200</td>\n",
       "    </tr>\n",
       "  </tbody>\n",
       "</table>\n",
       "</div>"
      ],
      "text/plain": [
       "         survived      pclass         age       sibsp       parch        fare\n",
       "count  891.000000  891.000000  714.000000  891.000000  891.000000  891.000000\n",
       "mean     0.383838    2.308642   29.699118    0.523008    0.381594   32.204208\n",
       "std      0.486592    0.836071   14.526497    1.102743    0.806057   49.693429\n",
       "min      0.000000    1.000000    0.420000    0.000000    0.000000    0.000000\n",
       "25%      0.000000    2.000000   20.125000    0.000000    0.000000    7.910400\n",
       "50%      0.000000    3.000000   28.000000    0.000000    0.000000   14.454200\n",
       "75%      1.000000    3.000000   38.000000    1.000000    0.000000   31.000000\n",
       "max      1.000000    3.000000   80.000000    8.000000    6.000000  512.329200"
      ]
     },
     "execution_count": 138,
     "metadata": {},
     "output_type": "execute_result"
    }
   ],
   "source": [
    "data.describe()"
   ]
  },
  {
   "cell_type": "code",
   "execution_count": 139,
   "id": "6225e1b4-e4d0-447e-8e6a-9d94988a7122",
   "metadata": {},
   "outputs": [
    {
     "data": {
      "text/plain": [
       "survived         0\n",
       "pclass           0\n",
       "sex              0\n",
       "age            177\n",
       "sibsp            0\n",
       "parch            0\n",
       "fare             0\n",
       "embarked         2\n",
       "class            0\n",
       "who              0\n",
       "adult_male       0\n",
       "deck           688\n",
       "embark_town      2\n",
       "alive            0\n",
       "alone            0\n",
       "dtype: int64"
      ]
     },
     "execution_count": 139,
     "metadata": {},
     "output_type": "execute_result"
    }
   ],
   "source": [
    "data.isnull().sum()"
   ]
  },
  {
   "cell_type": "code",
   "execution_count": 140,
   "id": "53a72431-4b1c-47e6-aa37-8ec5b725726a",
   "metadata": {},
   "outputs": [
    {
     "data": {
      "text/plain": [
       "(891, 15)"
      ]
     },
     "execution_count": 140,
     "metadata": {},
     "output_type": "execute_result"
    }
   ],
   "source": [
    "data.shape"
   ]
  },
  {
   "cell_type": "code",
   "execution_count": 141,
   "id": "e8bb123b-d5c5-49f9-af58-997e39c52786",
   "metadata": {
    "scrolled": true
   },
   "outputs": [
    {
     "data": {
      "text/plain": [
       "survived       False\n",
       "pclass         False\n",
       "sex            False\n",
       "age             True\n",
       "sibsp          False\n",
       "parch          False\n",
       "fare           False\n",
       "embarked        True\n",
       "class          False\n",
       "who            False\n",
       "adult_male     False\n",
       "deck            True\n",
       "embark_town     True\n",
       "alive          False\n",
       "alone          False\n",
       "dtype: bool"
      ]
     },
     "execution_count": 141,
     "metadata": {},
     "output_type": "execute_result"
    }
   ],
   "source": [
    "data.isnull().any()"
   ]
  },
  {
   "cell_type": "code",
   "execution_count": 142,
   "id": "25b5e606-9a11-4cc7-b694-76d038132b2e",
   "metadata": {},
   "outputs": [
    {
     "data": {
      "text/plain": [
       "(182, 15)"
      ]
     },
     "execution_count": 142,
     "metadata": {},
     "output_type": "execute_result"
    }
   ],
   "source": [
    "# What if i drop the null Values\n",
    "data.dropna().shape"
   ]
  },
  {
   "cell_type": "markdown",
   "id": "f3cc4e03-c9a6-4cb4-8828-947ff3dc9284",
   "metadata": {},
   "source": [
    "---\r\n",
    "\r\n",
    "## ⚠️ Note on Dropping Missing Data\r\n",
    "\r\n",
    "While handling missing values, it's important to recognize the **impact on data size and quality**.\r\n",
    "\r\n",
    "#### 🚫 Dropping Entire Rows with Nulls Can Lead to Data Reduction\r\n",
    "\r\n",
    "- If we drop all rows containing any missing values, we may lose **a significant portion of the dataset**, which can hurt model performance and lead to bias.\r\n",
    "\r\n",
    "---\r\n",
    "\r\n",
    "### ✅ Better Approach: Drop Columns with Excessive Nulls\r\n",
    "\r\n",
    "- If a **column has too many missing values**, and it's not critical for prediction, it's often better to **drop the column instead**.\r\n",
    "- This way, we preserve the **majority of our dataset** while removing uninformative or problesh=threshold, axis=1)\r\n"
   ]
  },
  {
   "cell_type": "markdown",
   "id": "6000a9c7-d177-4e79-a3aa-f57a63d512e1",
   "metadata": {},
   "source": [
    "---\r\n",
    "\r\n",
    "## 🧾 MCAR Case: Dropping Columns with Missing Values\r\n",
    "\r\n",
    "### 🧠 MCAR – Missing Completely At Random\r\n",
    "\r\n",
    "When data is **Missing Completely At Random (MCAR)**, the missingness has **no relationship** with any other feature in the dataset..isnull().sum()\r\n"
   ]
  },
  {
   "cell_type": "code",
   "execution_count": 143,
   "id": "fa25fdcd-ce7b-4ecc-b0bb-4a75910c194d",
   "metadata": {},
   "outputs": [
    {
     "data": {
      "text/html": [
       "<div>\n",
       "<style scoped>\n",
       "    .dataframe tbody tr th:only-of-type {\n",
       "        vertical-align: middle;\n",
       "    }\n",
       "\n",
       "    .dataframe tbody tr th {\n",
       "        vertical-align: top;\n",
       "    }\n",
       "\n",
       "    .dataframe thead th {\n",
       "        text-align: right;\n",
       "    }\n",
       "</style>\n",
       "<table border=\"1\" class=\"dataframe\">\n",
       "  <thead>\n",
       "    <tr style=\"text-align: right;\">\n",
       "      <th></th>\n",
       "      <th>survived</th>\n",
       "      <th>pclass</th>\n",
       "      <th>sex</th>\n",
       "      <th>sibsp</th>\n",
       "      <th>parch</th>\n",
       "      <th>fare</th>\n",
       "      <th>class</th>\n",
       "      <th>who</th>\n",
       "      <th>adult_male</th>\n",
       "      <th>alive</th>\n",
       "      <th>alone</th>\n",
       "    </tr>\n",
       "  </thead>\n",
       "  <tbody>\n",
       "    <tr>\n",
       "      <th>0</th>\n",
       "      <td>0</td>\n",
       "      <td>3</td>\n",
       "      <td>male</td>\n",
       "      <td>1</td>\n",
       "      <td>0</td>\n",
       "      <td>7.2500</td>\n",
       "      <td>Third</td>\n",
       "      <td>man</td>\n",
       "      <td>True</td>\n",
       "      <td>no</td>\n",
       "      <td>False</td>\n",
       "    </tr>\n",
       "    <tr>\n",
       "      <th>1</th>\n",
       "      <td>1</td>\n",
       "      <td>1</td>\n",
       "      <td>female</td>\n",
       "      <td>1</td>\n",
       "      <td>0</td>\n",
       "      <td>71.2833</td>\n",
       "      <td>First</td>\n",
       "      <td>woman</td>\n",
       "      <td>False</td>\n",
       "      <td>yes</td>\n",
       "      <td>False</td>\n",
       "    </tr>\n",
       "    <tr>\n",
       "      <th>2</th>\n",
       "      <td>1</td>\n",
       "      <td>3</td>\n",
       "      <td>female</td>\n",
       "      <td>0</td>\n",
       "      <td>0</td>\n",
       "      <td>7.9250</td>\n",
       "      <td>Third</td>\n",
       "      <td>woman</td>\n",
       "      <td>False</td>\n",
       "      <td>yes</td>\n",
       "      <td>True</td>\n",
       "    </tr>\n",
       "    <tr>\n",
       "      <th>3</th>\n",
       "      <td>1</td>\n",
       "      <td>1</td>\n",
       "      <td>female</td>\n",
       "      <td>1</td>\n",
       "      <td>0</td>\n",
       "      <td>53.1000</td>\n",
       "      <td>First</td>\n",
       "      <td>woman</td>\n",
       "      <td>False</td>\n",
       "      <td>yes</td>\n",
       "      <td>False</td>\n",
       "    </tr>\n",
       "    <tr>\n",
       "      <th>4</th>\n",
       "      <td>0</td>\n",
       "      <td>3</td>\n",
       "      <td>male</td>\n",
       "      <td>0</td>\n",
       "      <td>0</td>\n",
       "      <td>8.0500</td>\n",
       "      <td>Third</td>\n",
       "      <td>man</td>\n",
       "      <td>True</td>\n",
       "      <td>no</td>\n",
       "      <td>True</td>\n",
       "    </tr>\n",
       "    <tr>\n",
       "      <th>...</th>\n",
       "      <td>...</td>\n",
       "      <td>...</td>\n",
       "      <td>...</td>\n",
       "      <td>...</td>\n",
       "      <td>...</td>\n",
       "      <td>...</td>\n",
       "      <td>...</td>\n",
       "      <td>...</td>\n",
       "      <td>...</td>\n",
       "      <td>...</td>\n",
       "      <td>...</td>\n",
       "    </tr>\n",
       "    <tr>\n",
       "      <th>886</th>\n",
       "      <td>0</td>\n",
       "      <td>2</td>\n",
       "      <td>male</td>\n",
       "      <td>0</td>\n",
       "      <td>0</td>\n",
       "      <td>13.0000</td>\n",
       "      <td>Second</td>\n",
       "      <td>man</td>\n",
       "      <td>True</td>\n",
       "      <td>no</td>\n",
       "      <td>True</td>\n",
       "    </tr>\n",
       "    <tr>\n",
       "      <th>887</th>\n",
       "      <td>1</td>\n",
       "      <td>1</td>\n",
       "      <td>female</td>\n",
       "      <td>0</td>\n",
       "      <td>0</td>\n",
       "      <td>30.0000</td>\n",
       "      <td>First</td>\n",
       "      <td>woman</td>\n",
       "      <td>False</td>\n",
       "      <td>yes</td>\n",
       "      <td>True</td>\n",
       "    </tr>\n",
       "    <tr>\n",
       "      <th>888</th>\n",
       "      <td>0</td>\n",
       "      <td>3</td>\n",
       "      <td>female</td>\n",
       "      <td>1</td>\n",
       "      <td>2</td>\n",
       "      <td>23.4500</td>\n",
       "      <td>Third</td>\n",
       "      <td>woman</td>\n",
       "      <td>False</td>\n",
       "      <td>no</td>\n",
       "      <td>False</td>\n",
       "    </tr>\n",
       "    <tr>\n",
       "      <th>889</th>\n",
       "      <td>1</td>\n",
       "      <td>1</td>\n",
       "      <td>male</td>\n",
       "      <td>0</td>\n",
       "      <td>0</td>\n",
       "      <td>30.0000</td>\n",
       "      <td>First</td>\n",
       "      <td>man</td>\n",
       "      <td>True</td>\n",
       "      <td>yes</td>\n",
       "      <td>True</td>\n",
       "    </tr>\n",
       "    <tr>\n",
       "      <th>890</th>\n",
       "      <td>0</td>\n",
       "      <td>3</td>\n",
       "      <td>male</td>\n",
       "      <td>0</td>\n",
       "      <td>0</td>\n",
       "      <td>7.7500</td>\n",
       "      <td>Third</td>\n",
       "      <td>man</td>\n",
       "      <td>True</td>\n",
       "      <td>no</td>\n",
       "      <td>True</td>\n",
       "    </tr>\n",
       "  </tbody>\n",
       "</table>\n",
       "<p>891 rows × 11 columns</p>\n",
       "</div>"
      ],
      "text/plain": [
       "     survived  pclass     sex  sibsp  parch     fare   class    who  \\\n",
       "0           0       3    male      1      0   7.2500   Third    man   \n",
       "1           1       1  female      1      0  71.2833   First  woman   \n",
       "2           1       3  female      0      0   7.9250   Third  woman   \n",
       "3           1       1  female      1      0  53.1000   First  woman   \n",
       "4           0       3    male      0      0   8.0500   Third    man   \n",
       "..        ...     ...     ...    ...    ...      ...     ...    ...   \n",
       "886         0       2    male      0      0  13.0000  Second    man   \n",
       "887         1       1  female      0      0  30.0000   First  woman   \n",
       "888         0       3  female      1      2  23.4500   Third  woman   \n",
       "889         1       1    male      0      0  30.0000   First    man   \n",
       "890         0       3    male      0      0   7.7500   Third    man   \n",
       "\n",
       "     adult_male alive  alone  \n",
       "0          True    no  False  \n",
       "1         False   yes  False  \n",
       "2         False   yes   True  \n",
       "3         False   yes  False  \n",
       "4          True    no   True  \n",
       "..          ...   ...    ...  \n",
       "886        True    no   True  \n",
       "887       False   yes   True  \n",
       "888       False    no  False  \n",
       "889        True   yes   True  \n",
       "890        True    no   True  \n",
       "\n",
       "[891 rows x 11 columns]"
      ]
     },
     "execution_count": 143,
     "metadata": {},
     "output_type": "execute_result"
    }
   ],
   "source": [
    "data.dropna(axis=1)"
   ]
  },
  {
   "cell_type": "markdown",
   "id": "db74a68d-3104-4ab1-9b57-7228143a85f4",
   "metadata": {},
   "source": [
    "---\r\n",
    "\r\n",
    "## 📄 MAR Case: Imputing Missing Values\r\n",
    "\r\n",
    "### ❔ MAR – Missing At Random\r\n",
    "\r\n",
    "In **MAR (Missing At Random)**, the missingness is **related to other observed features**,  \r\n",
    "but **not to the missing value itself*ted = imputer.fit_transform(df)\r\n"
   ]
  },
  {
   "cell_type": "markdown",
   "id": "c970e945-da4b-4d3b-ba45-9cd9f87f1e35",
   "metadata": {},
   "source": [
    "### 1. Mean Value Imputation"
   ]
  },
  {
   "cell_type": "code",
   "execution_count": 144,
   "id": "5dc6a23d-a259-41c4-8897-2f6c4032403d",
   "metadata": {
    "scrolled": true
   },
   "outputs": [
    {
     "data": {
      "text/plain": [
       "Index(['survived', 'pclass', 'sex', 'age', 'sibsp', 'parch', 'fare',\n",
       "       'embarked', 'class', 'who', 'adult_male', 'deck', 'embark_town',\n",
       "       'alive', 'alone'],\n",
       "      dtype='object')"
      ]
     },
     "execution_count": 144,
     "metadata": {},
     "output_type": "execute_result"
    }
   ],
   "source": [
    "data.columns"
   ]
  },
  {
   "cell_type": "markdown",
   "id": "e18b83e2-5002-47d7-9338-ffd04af191fa",
   "metadata": {},
   "source": [
    "<!-- What Is a Distribution?\n",
    "A distribution in statistics describes how values are spread or distributed across a dataset.\n",
    "It answers questions like:\n",
    "-Are the values centered?\n",
    "-Are they spread out?\n",
    "-Do most values fall in one range? -->"
   ]
  },
  {
   "cell_type": "markdown",
   "id": "872e5e4b-df7d-494b-84ed-ec715cb635ee",
   "metadata": {},
   "source": [
    "---\r\n",
    "\r\n",
    "## 📊 Understanding Data Distribution\r\n",
    "\r\n",
    "### What Is a Distribution?\r\n",
    "\r\n",
    "A **distribution** in statistics describes **how values are spread or distributed** across a dataset.\r\n",
    "\r\n",
    "---\r\n",
    "\r\n",
    "### It helps answer questions like:\r\n",
    "\r\n",
    "- **Are the values centered?**  \r\n",
    "  Where is the central tendency (mean, median)?\r\n",
    "\r\n",
    "- **Are they spread out?**  \r\n",
    "  How much variability or dispersion is there (variance, standard deviation)?\r\n",
    "\r\n",
    "- **Do most values fall in one range?**  \r\n",
    "  Are the values skewed or concentrated around certain points?\r\n",
    "\r\n",
    "---\r\n",
    "\r\n",
    "Understanding distribution is key before applying visualization tools like `displot` to get meaningful insights.\r\n",
    "\r\n"
   ]
  },
  {
   "cell_type": "markdown",
   "id": "e4fbde13-c364-4adc-9c33-8072d589129c",
   "metadata": {},
   "source": [
    "---\r\n",
    "\r\n",
    "## 🎯 Why Do We Use Distributions?\r\n",
    "\r\n",
    "- **Understand the nature of data**  \r\n",
    "  Is the data **normal**, **skewed**, or **uniformly** distributed?\r\n",
    "\r\n",
    "- **Choose the right model or algorithm**  \r\n",
    "  Some machine learning models assume **normality** or specific distributions.\r\n",
    "\r\n",
    "- **Spot anomalies or outliers**  \r\n",
    "  Distributions help detect unusual data points.\r\n",
    "\r\n",
    "- **Make predictions using probability**  \r\n",
    "  Understanding distributions enables better probabilistic modeling.\r\n",
    "\r\n",
    "---\r\n",
    "\r\n",
    "📌 Knowing the data distribution is fundamental to effective data analysis and modeling.\r\n"
   ]
  },
  {
   "cell_type": "markdown",
   "id": "e20a99d1-dd5c-4abf-9c62-c162ab0a17bd",
   "metadata": {},
   "source": [
    "| Type              | Shape                             | Real-Life Example                           |\n",
    "| ----------------- | --------------------------------- | ------------------------------------------- |\n",
    "| Normal (Gaussian) | Bell-shaped, symmetric            | Heights, IQ scores                          |\n",
    "| Uniform           | Flat, all values equally likely   | Rolling a fair die                          |\n",
    "| Binomial          | Discrete, binary outcomes         | Coin toss (Heads/Tails)                     |\n",
    "| Poisson           | Discrete, counts of rare events   | Number of emails per hour                   |\n",
    "| Exponential       | Skewed right, time between events | Time between bus arrivals                   |\n",
    "| Right-Skewed      | Long tail on right                | Salaries, house prices                      |\n",
    "| Left-Skewed       | Long tail on left                 | Retirement age, minimum wage earners        |\n",
    "| Multimodal        | More than one peak                | Mixed populations (e.g., children + adults) |\n"
   ]
  },
  {
   "cell_type": "markdown",
   "id": "aa637410-b071-40d4-b5b7-4bc4d59253e9",
   "metadata": {},
   "source": [
    "---\n",
    "\n",
    "**Normal Distribution (Gaussian)**\n",
    "- What: (Symmetric, bell-shaped curve centered around the mean)\n",
    "- Why: (To model naturally occurring continuous variables)\n",
    "- Where: (Used in statistical tests, regression, and standardization)\n",
    "\n",
    "---"
   ]
  },
  {
   "cell_type": "code",
   "execution_count": 145,
   "id": "0961510c-3a24-407d-bfb2-54efe179db1c",
   "metadata": {},
   "outputs": [
    {
     "data": {
      "image/png": "[encoded data removed]",
      "text/plain": [
       "<Figure size 640x480 with 1 Axes>"
      ]
     },
     "metadata": {},
     "output_type": "display_data"
    }
   ],
   "source": [
    "import numpy as np, seaborn as sns, matplotlib.pyplot as plt\n",
    "data1 = np.random.normal(loc=50, scale=10, size=1000)\n",
    "sns.histplot(data1, kde=True)\n",
    "plt.title(\"Normal Distribution\")\n",
    "plt.show()\n"
   ]
  },
  {
   "cell_type": "markdown",
   "id": "5277ec41-ec97-4e95-a392-a751df4aab88",
   "metadata": {},
   "source": [
    "---\n",
    "\n",
    "**Log-Normal Distribution**\n",
    "- What: (A skewed distribution where log of data is normally distributed)\n",
    "- Why: (To model positive, skewed values like income or sales)\n",
    "- Where: (Used in business metrics, finance, and time modeling)\n",
    "\n",
    "----"
   ]
  },
  {
   "cell_type": "code",
   "execution_count": 146,
   "id": "62e4556b-1d52-4951-b2f9-53d64ac36b04",
   "metadata": {},
   "outputs": [
    {
     "data": {
      "image/png": "[encoded data removed]",
      "text/plain": [
       "<Figure size 640x480 with 1 Axes>"
      ]
     },
     "metadata": {},
     "output_type": "display_data"
    }
   ],
   "source": [
    "data2 = np.random.lognormal(mean=3, sigma=1, size=1000)\n",
    "sns.histplot(data2, kde=True)\n",
    "plt.title(\"Log-Normal Distribution\")\n",
    "plt.show()"
   ]
  },
  {
   "cell_type": "markdown",
   "id": "f1b3b787-818c-4f92-b36f-65a3e1e64d17",
   "metadata": {},
   "source": [
    "---\n",
    "\n",
    "**Exponential Distribution**\n",
    "- What: (Models time between independent events occurring continuously)\n",
    "- Why: (To measure waiting time until the next event)\n",
    "- Where: (Used in queuing, survival analysis, customer arrival prediction)\n",
    "\n",
    "---"
   ]
  },
  {
   "cell_type": "code",
   "execution_count": 147,
   "id": "3cac33f1-f018-4bd2-bdda-6cb01281e9ca",
   "metadata": {},
   "outputs": [
    {
     "data": {
      "image/png": "[encoded data removed]",
      "text/plain": [
       "<Figure size 640x480 with 1 Axes>"
      ]
     },
     "metadata": {},
     "output_type": "display_data"
    }
   ],
   "source": [
    "data3 = np.random.exponential(scale=2, size=1000)\n",
    "sns.histplot(data3, kde=True)\n",
    "plt.title(\"Exponential Distribution\")\n",
    "plt.show()"
   ]
  },
  {
   "cell_type": "markdown",
   "id": "233f01f3-1e85-4285-9eaa-67d3b6630d45",
   "metadata": {},
   "source": [
    "--- \n",
    "\n",
    "**Uniform Distribution**\n",
    "- What: (All values have equal probability in a range)\n",
    "- Why: (To generate unbiased, equally likely random samples)\n",
    "- Where: (Used in simulations, bootstrapping, test data generation)\n",
    "\n",
    "---"
   ]
  },
  {
   "cell_type": "code",
   "execution_count": 148,
   "id": "c417d07f-22c9-419c-976c-c365c1352705",
   "metadata": {},
   "outputs": [
    {
     "data": {
      "image/png": "[encoded data removed]",
      "text/plain": [
       "<Figure size 640x480 with 1 Axes>"
      ]
     },
     "metadata": {},
     "output_type": "display_data"
    }
   ],
   "source": [
    "data4 = np.random.uniform(low=0, high=100, size=1000)\n",
    "sns.histplot(data4, kde=True)\n",
    "plt.title(\"Uniform Distribution\")\n",
    "plt.show()\n"
   ]
  },
  {
   "cell_type": "markdown",
   "id": "21cd020b-1549-4627-a2ec-d30cca8b69ac",
   "metadata": {},
   "source": [
    "---\n",
    "\n",
    "**Beta Distribution**\n",
    "- What: (A flexible distribution bounded between 0 and 1)\n",
    "- Why: (To model probabilities or proportions)\n",
    "- Where: (Used in A/B testing, Bayesian analysis, and CTR modeling)\n",
    "\n",
    "---"
   ]
  },
  {
   "cell_type": "code",
   "execution_count": 149,
   "id": "588488cc-1794-48ff-b543-a9d2289de6e5",
   "metadata": {},
   "outputs": [
    {
     "data": {
      "image/png": "[encoded data removed]",
      "text/plain": [
       "<Figure size 640x480 with 1 Axes>"
      ]
     },
     "metadata": {},
     "output_type": "display_data"
    }
   ],
   "source": [
    "data5 = np.random.beta(a=2, b=5, size=1000)\n",
    "sns.histplot(data5, kde=True)\n",
    "plt.title(\"Beta Distribution\")\n",
    "plt.show()"
   ]
  },
  {
   "cell_type": "markdown",
   "id": "38d0442c-9631-4493-96d7-8058a4cf1288",
   "metadata": {},
   "source": [
    "- Displot is a function in the Seaborn library (Python) used for visualizing the distribution of a dataset.\n",
    "- It's short for distribution plot."
   ]
  },
  {
   "cell_type": "markdown",
   "id": "d489b4d1-82de-4ecf-b05b-ccfd1ea5234f",
   "metadata": {},
   "source": [
    "| Type         | Tail Direction  | Mean vs Median | Common In            |\n",
    "| ------------ | --------------- | -------------- | -------------------- |\n",
    "| Normal       | None (centered) | Mean = Median  | Heights, test scores |\n",
    "| Left-skewed  | Left            | Mean < Median  | Retirement age       |\n",
    "| Right-skewed | Right           | Mean > Median  | Income, house prices |\n"
   ]
  },
  {
   "cell_type": "code",
   "execution_count": 150,
   "id": "1a9935c3-3dda-4864-a872-e7f8ebe9b014",
   "metadata": {
    "scrolled": true
   },
   "outputs": [
    {
     "data": {
      "text/plain": [
       "<seaborn.axisgrid.FacetGrid at 0x2559a160f20>"
      ]
     },
     "execution_count": 150,
     "metadata": {},
     "output_type": "execute_result"
    },
    {
     "data": {
      "image/png": "[encoded data removed]",
      "text/plain": [
       "<Figure size 500x500 with 1 Axes>"
      ]
     },
     "metadata": {},
     "output_type": "display_data"
    }
   ],
   "source": [
    "sns.displot(data['age'])"
   ]
  },
  {
   "cell_type": "code",
   "execution_count": 151,
   "id": "c49018a5-03d5-4ff0-b344-2fb5857cdcaa",
   "metadata": {},
   "outputs": [
    {
     "data": {
      "text/plain": [
       "<Axes: xlabel='age', ylabel='Count'>"
      ]
     },
     "execution_count": 151,
     "metadata": {},
     "output_type": "execute_result"
    },
    {
     "data": {
      "image/png": "[encoded data removed]",
      "text/plain": [
       "<Figure size 640x480 with 1 Axes>"
      ]
     },
     "metadata": {},
     "output_type": "display_data"
    }
   ],
   "source": [
    "sns.histplot(data['age'],kde=True)"
   ]
  },
  {
   "cell_type": "code",
   "execution_count": null,
   "id": "3a6d7e48-dce8-472c-bc2c-2e4ee1ba712a",
   "metadata": {},
   "outputs": [],
   "source": []
  },
  {
   "cell_type": "markdown",
   "id": "91571ef2-6f61-4585-a7b3-8bec209fae6f",
   "metadata": {},
   "source": [
    "###  1. Mean Value Imputation"
   ]
  },
  {
   "cell_type": "markdown",
   "id": "12cf10d2-c17a-4242-b377-75b727d2a5bd",
   "metadata": {},
   "source": [
    "--- \n",
    "\n",
    "-  Checking Mean Imputation Works or Not replaced Nan value with Mean"
   ]
  },
  {
   "cell_type": "code",
   "execution_count": 152,
   "id": "aa47ed29-1d60-425e-982e-161d05548f7a",
   "metadata": {},
   "outputs": [],
   "source": [
    "data[\"avg_mean\"]= data['age'].fillna(data['age'].mean())"
   ]
  },
  {
   "cell_type": "code",
   "execution_count": 153,
   "id": "f50ac2cd-f1fd-4e51-b3e4-703b83b262df",
   "metadata": {},
   "outputs": [
    {
     "data": {
      "text/plain": [
       "False"
      ]
     },
     "execution_count": 153,
     "metadata": {},
     "output_type": "execute_result"
    }
   ],
   "source": [
    "data['avg_mean'].isnull().any()"
   ]
  },
  {
   "cell_type": "code",
   "execution_count": 154,
   "id": "3e7421cf-c870-4df3-86f5-2d6420e0d8fa",
   "metadata": {},
   "outputs": [
    {
     "data": {
      "text/html": [
       "<div>\n",
       "<style scoped>\n",
       "    .dataframe tbody tr th:only-of-type {\n",
       "        vertical-align: middle;\n",
       "    }\n",
       "\n",
       "    .dataframe tbody tr th {\n",
       "        vertical-align: top;\n",
       "    }\n",
       "\n",
       "    .dataframe thead th {\n",
       "        text-align: right;\n",
       "    }\n",
       "</style>\n",
       "<table border=\"1\" class=\"dataframe\">\n",
       "  <thead>\n",
       "    <tr style=\"text-align: right;\">\n",
       "      <th></th>\n",
       "      <th>avg_mean</th>\n",
       "      <th>age</th>\n",
       "    </tr>\n",
       "  </thead>\n",
       "  <tbody>\n",
       "    <tr>\n",
       "      <th>0</th>\n",
       "      <td>22.000000</td>\n",
       "      <td>22.0</td>\n",
       "    </tr>\n",
       "    <tr>\n",
       "      <th>1</th>\n",
       "      <td>38.000000</td>\n",
       "      <td>38.0</td>\n",
       "    </tr>\n",
       "    <tr>\n",
       "      <th>2</th>\n",
       "      <td>26.000000</td>\n",
       "      <td>26.0</td>\n",
       "    </tr>\n",
       "    <tr>\n",
       "      <th>3</th>\n",
       "      <td>35.000000</td>\n",
       "      <td>35.0</td>\n",
       "    </tr>\n",
       "    <tr>\n",
       "      <th>4</th>\n",
       "      <td>35.000000</td>\n",
       "      <td>35.0</td>\n",
       "    </tr>\n",
       "    <tr>\n",
       "      <th>...</th>\n",
       "      <td>...</td>\n",
       "      <td>...</td>\n",
       "    </tr>\n",
       "    <tr>\n",
       "      <th>886</th>\n",
       "      <td>27.000000</td>\n",
       "      <td>27.0</td>\n",
       "    </tr>\n",
       "    <tr>\n",
       "      <th>887</th>\n",
       "      <td>19.000000</td>\n",
       "      <td>19.0</td>\n",
       "    </tr>\n",
       "    <tr>\n",
       "      <th>888</th>\n",
       "      <td>29.699118</td>\n",
       "      <td>NaN</td>\n",
       "    </tr>\n",
       "    <tr>\n",
       "      <th>889</th>\n",
       "      <td>26.000000</td>\n",
       "      <td>26.0</td>\n",
       "    </tr>\n",
       "    <tr>\n",
       "      <th>890</th>\n",
       "      <td>32.000000</td>\n",
       "      <td>32.0</td>\n",
       "    </tr>\n",
       "  </tbody>\n",
       "</table>\n",
       "<p>891 rows × 2 columns</p>\n",
       "</div>"
      ],
      "text/plain": [
       "      avg_mean   age\n",
       "0    22.000000  22.0\n",
       "1    38.000000  38.0\n",
       "2    26.000000  26.0\n",
       "3    35.000000  35.0\n",
       "4    35.000000  35.0\n",
       "..         ...   ...\n",
       "886  27.000000  27.0\n",
       "887  19.000000  19.0\n",
       "888  29.699118   NaN\n",
       "889  26.000000  26.0\n",
       "890  32.000000  32.0\n",
       "\n",
       "[891 rows x 2 columns]"
      ]
     },
     "execution_count": 154,
     "metadata": {},
     "output_type": "execute_result"
    }
   ],
   "source": [
    "# her we replaced Nan value with Mean \n",
    "data[['avg_mean','age']]"
   ]
  },
  {
   "cell_type": "code",
   "execution_count": 155,
   "id": "937c95aa-cf90-4fb3-abf3-fa7f3d565a43",
   "metadata": {},
   "outputs": [],
   "source": [
    "import matplotlib.pyplot as plt"
   ]
  },
  {
   "cell_type": "code",
   "execution_count": 156,
   "id": "c29423fd-6abe-48a1-9bf5-c912858cf083",
   "metadata": {
    "scrolled": true
   },
   "outputs": [
    {
     "data": {
      "image/png": "[encoded data removed]",
      "text/plain": [
       "<Figure size 600x400 with 1 Axes>"
      ]
     },
     "metadata": {},
     "output_type": "display_data"
    }
   ],
   "source": [
    "plt.figure(figsize=(6, 4))\n",
    "sns.histplot(data['avg_mean'],kde=True)\n",
    "plt.show()"
   ]
  },
  {
   "cell_type": "markdown",
   "id": "96ac6da8-bd14-4491-9d73-5793e3087a6d",
   "metadata": {},
   "source": [
    "### 2. Median Value Imputation"
   ]
  },
  {
   "cell_type": "markdown",
   "id": "1404f2ac-649b-4964-a435-744e297db59f",
   "metadata": {},
   "source": [
    "---\n",
    "\n",
    "- Checking Median or Mean Imputation Works Better"
   ]
  },
  {
   "cell_type": "code",
   "execution_count": 157,
   "id": "d6cf608f-cfd1-430a-a1a2-d934b7e49cf5",
   "metadata": {},
   "outputs": [],
   "source": [
    "data[\"Avg_median\"] = data[\"age\"].fillna(data[\"age\"].median())"
   ]
  },
  {
   "cell_type": "code",
   "execution_count": 158,
   "id": "3a9a9d4d-1bb0-4d76-991b-eb596a10f650",
   "metadata": {},
   "outputs": [
    {
     "data": {
      "text/plain": [
       "<Figure size 600x400 with 0 Axes>"
      ]
     },
     "metadata": {},
     "output_type": "display_data"
    },
    {
     "data": {
      "image/png": "[encoded data removed]",
      "text/plain": [
       "<Figure size 500x500 with 1 Axes>"
      ]
     },
     "metadata": {},
     "output_type": "display_data"
    }
   ],
   "source": [
    "plt.figure(figsize=(6, 4))\n",
    "sns.displot(data[\"Avg_median\"],kde=True)\n",
    "plt.show()"
   ]
  },
  {
   "cell_type": "markdown",
   "id": "be1db555-2eef-4b6b-8361-bf7337150e27",
   "metadata": {},
   "source": [
    "---\n",
    "\n",
    "- **Conclusion**:  The age data is right-skewed, meaning a few people are much older. Using the mean to fill missing values shifts the distribution further, making it less natural. Using the median keeps the age distribution more realistic and avoids the influence of outliers — which is better for analysis and modeling"
   ]
  },
  {
   "cell_type": "markdown",
   "id": "e8da34ad-db70-4f21-b53f-1e3aa7272399",
   "metadata": {},
   "source": [
    "- By checking & From the conclusion median is the perfect so we can apply median Now applying\n",
    "\n",
    "---"
   ]
  },
  {
   "cell_type": "code",
   "execution_count": 178,
   "id": "9b180ce5-7b6e-4209-b058-fce08f8f43bc",
   "metadata": {},
   "outputs": [
    {
     "data": {
      "text/plain": [
       "False"
      ]
     },
     "execution_count": 178,
     "metadata": {},
     "output_type": "execute_result"
    }
   ],
   "source": [
    "data['age'] = data['age'].fillna(data['age'].median())\n",
    "data['age'].isnull().any()"
   ]
  },
  {
   "cell_type": "code",
   "execution_count": null,
   "id": "642e9e87-a080-44c7-a746-b22d8614f086",
   "metadata": {},
   "outputs": [],
   "source": []
  },
  {
   "cell_type": "markdown",
   "id": "88db3d33-89bc-4a4f-a0e9-1cedca924875",
   "metadata": {},
   "source": [
    "### 3. Mode Imputation --Used when null column of Categorical value"
   ]
  },
  {
   "cell_type": "markdown",
   "id": "5475dad5-430d-405f-b110-3f0d8154b083",
   "metadata": {},
   "source": [
    "---\n",
    "\n",
    "- Checking Mode Imputation Works or Not"
   ]
  },
  {
   "cell_type": "code",
   "execution_count": 179,
   "id": "f1054da3-f0ff-496d-a3ad-0caec5f1bb5a",
   "metadata": {},
   "outputs": [
    {
     "data": {
      "text/plain": [
       "survived         False\n",
       "pclass           False\n",
       "sex              False\n",
       "age              False\n",
       "sibsp            False\n",
       "parch            False\n",
       "fare             False\n",
       "embarked          True\n",
       "class            False\n",
       "who              False\n",
       "adult_male       False\n",
       "deck              True\n",
       "embark_town       True\n",
       "alive            False\n",
       "alone            False\n",
       "avg_mean         False\n",
       "Avg_median       False\n",
       "mode_embarked    False\n",
       "dtype: bool"
      ]
     },
     "execution_count": 179,
     "metadata": {},
     "output_type": "execute_result"
    }
   ],
   "source": [
    "data.isnull().any()"
   ]
  },
  {
   "cell_type": "markdown",
   "id": "5b1a1ede-41ed-47a5-b2f5-560bd27fd4a2",
   "metadata": {},
   "source": [
    "----\n",
    "\n",
    "- Next We have Embarked, Embarked is an categorical data and In that column we have null we can see above so now we can use mode Imputation\n",
    "\n",
    "- ---"
   ]
  },
  {
   "cell_type": "code",
   "execution_count": 162,
   "id": "bd453b5f-6f06-4144-b595-0c6c8338b1d5",
   "metadata": {},
   "outputs": [
    {
     "data": {
      "text/plain": [
       "array(['S', 'C', 'Q', nan], dtype=object)"
      ]
     },
     "execution_count": 162,
     "metadata": {},
     "output_type": "execute_result"
    }
   ],
   "source": [
    "data['embarked'].unique()"
   ]
  },
  {
   "cell_type": "code",
   "execution_count": 180,
   "id": "38a78cee-5b5f-4457-86ff-c0b627d33928",
   "metadata": {},
   "outputs": [
    {
     "data": {
      "text/plain": [
       "pandas.core.series.Series"
      ]
     },
     "execution_count": 180,
     "metadata": {},
     "output_type": "execute_result"
    }
   ],
   "source": [
    "type(data['embarked'].mode())"
   ]
  },
  {
   "cell_type": "markdown",
   "id": "39c798de-1c5b-4e8b-b520-8cde6c443d47",
   "metadata": {},
   "source": [
    "---\n",
    "\n",
    "- data[\"mode_embarked\"] = data['embarked'].fillna(data['embarked'].mode())\n",
    "- Not using above beacuse mode() returns a Series , not a single value \n",
    "-  And {'embarked': ['S', 'C', 'C', 'S', 'Q', None]} Suppose this is the data set then if we apply mode we will get S and Q as the most repeated So to avoid the both cases we use Indexing of mod in the series\n",
    "\n",
    "---"
   ]
  },
  {
   "cell_type": "code",
   "execution_count": 181,
   "id": "31e600e9-ba3e-446b-8894-cda790bf9636",
   "metadata": {},
   "outputs": [],
   "source": [
    "data[\"mode_embarked\"] = data['embarked'].fillna(data['embarked'].mode()[0])"
   ]
  },
  {
   "cell_type": "code",
   "execution_count": 185,
   "id": "bb69860f-f0ba-447a-87b9-f59ed4917eb8",
   "metadata": {},
   "outputs": [
    {
     "data": {
      "text/plain": [
       "0    S\n",
       "Name: embarked, dtype: object"
      ]
     },
     "execution_count": 185,
     "metadata": {},
     "output_type": "execute_result"
    }
   ],
   "source": [
    "data['embarked'].mode()"
   ]
  },
  {
   "cell_type": "code",
   "execution_count": 184,
   "id": "1b05c0ec-c2ee-49c2-b4e4-af623aff58dd",
   "metadata": {
    "scrolled": true
   },
   "outputs": [
    {
     "data": {
      "text/plain": [
       "embarked\n",
       "S    0.724409\n",
       "C    0.188976\n",
       "Q    0.086614\n",
       "Name: proportion, dtype: float64"
      ]
     },
     "execution_count": 184,
     "metadata": {},
     "output_type": "execute_result"
    }
   ],
   "source": [
    "data['embarked'].value_counts(normalize=True)"
   ]
  },
  {
   "cell_type": "code",
   "execution_count": 183,
   "id": "a273d4f7-9c8f-4cfb-b0b9-1def949f7032",
   "metadata": {},
   "outputs": [
    {
     "data": {
      "text/plain": [
       "mode_embarked\n",
       "S    0.725028\n",
       "C    0.188552\n",
       "Q    0.086420\n",
       "Name: proportion, dtype: float64"
      ]
     },
     "execution_count": 183,
     "metadata": {},
     "output_type": "execute_result"
    }
   ],
   "source": [
    "data[\"mode_embarked\"].value_counts(normalize=True)"
   ]
  },
  {
   "cell_type": "markdown",
   "id": "ffc478c8-68e5-4958-96b1-ae4ca8fcb5a2",
   "metadata": {},
   "source": [
    "---\n",
    "\n",
    "- **Conclusion**\n",
    "- why should I conclude the data is fitted well ? \n",
    "- Before and after imputation changed only very slightly, showing the overall distribution remains stable, indicating the imputation fits well."
   ]
  },
  {
   "cell_type": "markdown",
   "id": "09b2f118-6c3b-4e25-b3f9-311ffcd9a78d",
   "metadata": {},
   "source": [
    "---\n",
    "- By checking & From the conclusion Mode is the perfect so we can apply Mode Imputation Now applying\n",
    "- --"
   ]
  },
  {
   "cell_type": "code",
   "execution_count": null,
   "id": "958d6565-3755-4374-af36-3b823bf2a17d",
   "metadata": {},
   "outputs": [],
   "source": [
    "data['embarked'] = data['embarked'].fillna(data['embarked'].mode()[0])"
   ]
  },
  {
   "cell_type": "code",
   "execution_count": 187,
   "id": "fe2baa61-daa3-4038-920a-10869b1d3237",
   "metadata": {
    "scrolled": true
   },
   "outputs": [
    {
     "data": {
      "text/plain": [
       "False"
      ]
     },
     "execution_count": 187,
     "metadata": {},
     "output_type": "execute_result"
    }
   ],
   "source": [
    "data['embarked'].isnull().any()"
   ]
  },
  {
   "attachments": {},
   "cell_type": "markdown",
   "id": "554bbd80-3f75-4d5e-a10d-a6d585884a59",
   "metadata": {},
   "source": [
    "data.isnull().any()\n"
   ]
  },
  {
   "cell_type": "markdown",
   "id": "91cdf607-5115-47fb-b7b6-dfcc72164987",
   "metadata": {},
   "source": [
    "----\n",
    "\n",
    "- Next We have deck - It is also a categorical Values\n",
    "\n",
    "---"
   ]
  },
  {
   "cell_type": "markdown",
   "id": "5d6c250a-f0b0-4b9b-8432-7a6e87889901",
   "metadata": {},
   "source": [
    "---\n",
    "\n",
    "- Checking Mode Imputation Works or Not"
   ]
  },
  {
   "cell_type": "code",
   "execution_count": 190,
   "id": "dd3f41b9-bbf9-42ca-b4ab-a1564c3af794",
   "metadata": {},
   "outputs": [
    {
     "data": {
      "text/plain": [
       "[NaN, 'C', 'E', 'G', 'D', 'A', 'B', 'F']\n",
       "Categories (7, object): ['A', 'B', 'C', 'D', 'E', 'F', 'G']"
      ]
     },
     "execution_count": 190,
     "metadata": {},
     "output_type": "execute_result"
    }
   ],
   "source": [
    "data['deck'].unique()"
   ]
  },
  {
   "cell_type": "code",
   "execution_count": 191,
   "id": "187f791b-7173-405c-b097-235a9ba57885",
   "metadata": {},
   "outputs": [],
   "source": [
    "data['mode_deck'] = data['deck'].fillna(data['deck'].mode()[0])"
   ]
  },
  {
   "cell_type": "code",
   "execution_count": 193,
   "id": "78fa3a1b-5ac2-43d1-b86d-e6b7066643b4",
   "metadata": {},
   "outputs": [
    {
     "data": {
      "text/plain": [
       "deck\n",
       "C    59\n",
       "B    47\n",
       "D    33\n",
       "E    32\n",
       "A    15\n",
       "F    13\n",
       "G     4\n",
       "Name: count, dtype: int64"
      ]
     },
     "execution_count": 193,
     "metadata": {},
     "output_type": "execute_result"
    }
   ],
   "source": [
    "data['deck'].value_counts()"
   ]
  },
  {
   "cell_type": "code",
   "execution_count": 194,
   "id": "fb2dde14-9f68-433f-b935-8d929a0074a6",
   "metadata": {},
   "outputs": [
    {
     "data": {
      "text/plain": [
       "mode_deck\n",
       "C    747\n",
       "B     47\n",
       "D     33\n",
       "E     32\n",
       "A     15\n",
       "F     13\n",
       "G      4\n",
       "Name: count, dtype: int64"
      ]
     },
     "execution_count": 194,
     "metadata": {},
     "output_type": "execute_result"
    }
   ],
   "source": [
    "data['mode_deck'].value_counts()"
   ]
  },
  {
   "cell_type": "markdown",
   "id": "4dcd6f01-81b1-4c70-942d-2ada73efc801",
   "metadata": {},
   "source": [
    "---\n",
    "\n",
    "- **Conclusion** :  From the above example we can see drastic increase After data impetation on C category\n",
    "-  We shouldn't conclude that the data is fitted well just because there's a slight increase in the 'C' category. That's not enough we also need to consider the relationship with other columns. In this case, we should compare with related features such as Pclass, Fare, or Cabin, because these columns are directly associated with a passenger's deck assignment and can help ensure that the imputed values are contextually accurate."
   ]
  },
  {
   "cell_type": "markdown",
   "id": "9887bd93-19bc-4342-92c4-6bfab7385a36",
   "metadata": {},
   "source": [
    "---\n",
    "\n",
    "- By checking & From the conclusion Mode is not perfect so we can apply Mode Imputation Not applying\n",
    "-  Instead of mode impetation we are checking grouped mode imputation\n",
    "\n",
    "---"
   ]
  },
  {
   "cell_type": "markdown",
   "id": "13158b32-fc66-4b8c-8334-cc056ab9a9e3",
   "metadata": {},
   "source": [
    "## Grouped Mode Imputation"
   ]
  },
  {
   "cell_type": "markdown",
   "id": "f8a80efd-9e07-4d3a-b334-5ef1b38b4ef7",
   "metadata": {},
   "source": [
    "---\n",
    "\n",
    "- Checking Grouped Mode Imputation Works or Not"
   ]
  },
  {
   "cell_type": "code",
   "execution_count": 200,
   "id": "bf609a1e-946b-42f3-b940-f11bd0878a35",
   "metadata": {},
   "outputs": [
    {
     "data": {
      "text/plain": [
       "array([3, 1, 2], dtype=int64)"
      ]
     },
     "execution_count": 200,
     "metadata": {},
     "output_type": "execute_result"
    }
   ],
   "source": [
    "data['pclass'].unique()"
   ]
  },
  {
   "cell_type": "markdown",
   "id": "4c506115-7289-472b-9540-95daa9b97db2",
   "metadata": {},
   "source": [
    "---\n",
    "\n",
    "-  We should cheque the P class column because it is related to deck when it comes to the data set the Titanic ship the Pclass\n",
    "  ---\n",
    "  \n",
    "| Deck    | Likely Pclass    |\r\n",
    "| ------- | ---------------- |\r\n",
    "| A, B, C | 1 (First class)  |\r\n",
    "| D, E    | 2 (Second class) |\r\n",
    "| F, G    | 3 (Third classclass"
   ]
  },
  {
   "cell_type": "code",
   "execution_count": 201,
   "id": "2e703d52-d7f1-4afa-a31d-fe29d52ea941",
   "metadata": {},
   "outputs": [],
   "source": [
    "data['ci_deck'] = data.groupby('pclass')['deck'].transform(lambda x:x.fillna(x.mode()[0]))"
   ]
  },
  {
   "cell_type": "code",
   "execution_count": 204,
   "id": "bbe631ff-85c5-443a-b68f-e565c8e89009",
   "metadata": {},
   "outputs": [
    {
     "data": {
      "text/plain": [
       "False"
      ]
     },
     "execution_count": 204,
     "metadata": {},
     "output_type": "execute_result"
    }
   ],
   "source": [
    "data['ci_deck'].isnull().any()"
   ]
  },
  {
   "cell_type": "code",
   "execution_count": 206,
   "id": "c1afcd46-2536-4871-8417-96515e0dd75d",
   "metadata": {},
   "outputs": [
    {
     "data": {
      "text/plain": [
       "ci_deck\n",
       "F    660\n",
       "C    100\n",
       "B     47\n",
       "D     33\n",
       "E     32\n",
       "A     15\n",
       "G      4\n",
       "Name: count, dtype: int64"
      ]
     },
     "execution_count": 206,
     "metadata": {},
     "output_type": "execute_result"
    }
   ],
   "source": [
    "data['ci_deck'].value_counts()"
   ]
  },
  {
   "cell_type": "code",
   "execution_count": 208,
   "id": "2a4e365a-2cff-4e49-8bf9-e0988af4dee4",
   "metadata": {},
   "outputs": [
    {
     "data": {
      "image/png": "[encoded data removed]",
      "text/plain": [
       "<Figure size 640x480 with 1 Axes>"
      ]
     },
     "metadata": {},
     "output_type": "display_data"
    }
   ],
   "source": [
    "import seaborn as sns\n",
    "import matplotlib.pyplot as plt\n",
    "\n",
    "sns.countplot(x='deck', hue='pclass', data=data)\n",
    "plt.title('Deck vs Pclass Distribution After Imputation')\n",
    "plt.show()\n"
   ]
  },
  {
   "cell_type": "code",
   "execution_count": 209,
   "id": "9cee4086-bbff-4523-8388-88bb8532fb6d",
   "metadata": {
    "scrolled": true
   },
   "outputs": [
    {
     "data": {
      "text/plain": [
       "0    F\n",
       "Name: deck, dtype: category\n",
       "Categories (7, object): ['A', 'B', 'C', 'D', 'E', 'F', 'G']"
      ]
     },
     "execution_count": 209,
     "metadata": {},
     "output_type": "execute_result"
    }
   ],
   "source": [
    "data[data['pclass'] == 3]['deck'].mode()\n"
   ]
  },
  {
   "cell_type": "markdown",
   "id": "fadfb1b9-77bb-4828-ba04-7e4ef8f1dc18",
   "metadata": {
    "jp-MarkdownHeadingCollapsed": true
   },
   "source": [
    "---\n",
    "\n",
    "- **Conclustion** : a sudden hike in deck F after imputing with groupby('Pclass') and mode() — with 660 entries for F, while others stay relatively low."
   ]
  },
  {
   "cell_type": "markdown",
   "id": "9ceeda3b-fbce-4da5-9da6-238dd54f1b3a",
   "metadata": {},
   "source": [
    "-  By checking & From the conclusion Grouped Mode Imputation is not perfect so we can apply Grouped Mode Imputation Not applying"
   ]
  },
  {
   "cell_type": "markdown",
   "id": "d4727819-be73-4054-8c79-d8e3fdb7682b",
   "metadata": {},
   "source": [
    "- Instead of Grouped Mode Imputation we are checking Random Sampling Technique"
   ]
  },
  {
   "cell_type": "markdown",
   "id": "9023601d-b32b-4563-a962-ca3bddab47f0",
   "metadata": {},
   "source": [
    "## Random Sampling Technique"
   ]
  },
  {
   "cell_type": "markdown",
   "id": "d3fb9bbf-29c1-490c-952a-ffcc9baf6f33",
   "metadata": {},
   "source": [
    "---\n",
    "\n",
    "-  Checking Random Sampling Technique Works or Not"
   ]
  },
  {
   "cell_type": "code",
   "execution_count": 243,
   "id": "f8e3ded0-8042-42b4-a67b-608876bf4b09",
   "metadata": {},
   "outputs": [],
   "source": [
    "def random_sample_deck(series):\n",
    "    probs = series.value_counts(normalize=True)\n",
    "    return series.apply(lambda x:x if pd.notna(x) else np.random.choice(probs.index, p=probs.values))\n",
    "data['r_deck']=data.groupby('pclass')['deck'].transform(random_sample_deck)"
   ]
  },
  {
   "cell_type": "code",
   "execution_count": 244,
   "id": "c0c05b19-5800-4bc5-90c8-1733fa7aba14",
   "metadata": {
    "scrolled": true
   },
   "outputs": [
    {
     "data": {
      "text/plain": [
       "r_deck\n",
       "C    59\n",
       "B    47\n",
       "D    33\n",
       "E    32\n",
       "A    15\n",
       "F    13\n",
       "G     4\n",
       "Name: count, dtype: int64"
      ]
     },
     "execution_count": 244,
     "metadata": {},
     "output_type": "execute_result"
    }
   ],
   "source": [
    "data['r_deck'].value_counts()"
   ]
  },
  {
   "cell_type": "code",
   "execution_count": 249,
   "id": "a8c0faf1-8de2-44bf-a513-fd010acf5ee9",
   "metadata": {},
   "outputs": [
    {
     "data": {
      "text/plain": [
       "0       True\n",
       "1      False\n",
       "2       True\n",
       "3      False\n",
       "4       True\n",
       "       ...  \n",
       "886     True\n",
       "887    False\n",
       "888     True\n",
       "889    False\n",
       "890     True\n",
       "Name: r_deck, Length: 891, dtype: bool"
      ]
     },
     "execution_count": 249,
     "metadata": {},
     "output_type": "execute_result"
    }
   ],
   "source": [
    "data['r_deck'].isnull()"
   ]
  },
  {
   "cell_type": "code",
   "execution_count": 269,
   "id": "dfd07e7e-f965-4b93-a17b-ae5409681b71",
   "metadata": {},
   "outputs": [],
   "source": [
    "data.drop('g_deck',axis=1,inplace=True)"
   ]
  },
  {
   "cell_type": "markdown",
   "id": "52631deb-06f8-44b0-9f11-8d932c795ab4",
   "metadata": {},
   "source": [
    "| Method                        | Result                                                                      |\r\n",
    "| ----------------------------- | --------------------------------------------------------------------------- |\r\n",
    "| **Simple Mode Imputation**    | Overloaded `'F'` → unrealistic and skewed distribution                      |\r\n",
    "| ✅ **Grouped Mode Imputation** | Maintained logical distribution within each `Pclass` → **best performance** |\r\n",
    "| **Random Sampling**           | Caused inconsistent or missing values → **not reliable**                    |\r\n"
   ]
  },
  {
   "cell_type": "markdown",
   "id": "227a34d1-43dc-4253-84d9-ba0055bcefbe",
   "metadata": {},
   "source": [
    "---\n",
    "\n",
    "- By checking & From the conclusion Random Sampling Technique Not Works well conclude the Group Mode Imputation is best from all. now applying\n",
    "\n",
    "- ---"
   ]
  },
  {
   "cell_type": "code",
   "execution_count": 251,
   "id": "cd55bf9a-c29e-4339-b7bc-52f3a08749d7",
   "metadata": {},
   "outputs": [],
   "source": [
    "data['deck'] = data.groupby('pclass')['deck'].transform(lambda x:x.fillna(x.mode()[0]))"
   ]
  },
  {
   "cell_type": "code",
   "execution_count": 252,
   "id": "246f2706-8796-4f03-82d6-6338f5d332c8",
   "metadata": {},
   "outputs": [
    {
     "data": {
      "text/plain": [
       "False"
      ]
     },
     "execution_count": 252,
     "metadata": {},
     "output_type": "execute_result"
    }
   ],
   "source": [
    "data['deck'].isnull().any()"
   ]
  },
  {
   "cell_type": "code",
   "execution_count": 270,
   "id": "5c25296c-9c5a-40de-99fd-4c55c4a12276",
   "metadata": {},
   "outputs": [
    {
     "data": {
      "text/plain": [
       "survived       False\n",
       "pclass         False\n",
       "sex            False\n",
       "age            False\n",
       "sibsp          False\n",
       "parch          False\n",
       "fare           False\n",
       "embarked       False\n",
       "class          False\n",
       "who            False\n",
       "adult_male     False\n",
       "deck           False\n",
       "embark_town     True\n",
       "alive          False\n",
       "alone          False\n",
       "dtype: bool"
      ]
     },
     "execution_count": 270,
     "metadata": {},
     "output_type": "execute_result"
    }
   ],
   "source": [
    "data.isnull().any()"
   ]
  },
  {
   "cell_type": "markdown",
   "id": "f4d49eab-1d07-4542-aca3-791a0500d076",
   "metadata": {},
   "source": [
    "---\n",
    " \n",
    "- Next, embark_town - It is also a categorical value\n",
    "\n",
    "---"
   ]
  },
  {
   "cell_type": "code",
   "execution_count": 261,
   "id": "2e7afa04-3d72-439d-96d8-667106d1bc21",
   "metadata": {},
   "outputs": [
    {
     "data": {
      "text/plain": [
       "array(['Southampton', 'Cherbourg', 'Queenstown', nan], dtype=object)"
      ]
     },
     "execution_count": 261,
     "metadata": {},
     "output_type": "execute_result"
    }
   ],
   "source": [
    "data['embark_town'].unique()"
   ]
  },
  {
   "cell_type": "markdown",
   "id": "11cef26f-2c94-4955-afdc-3a08b55d90ba",
   "metadata": {},
   "source": [
    "---\n",
    "\n",
    "- Checking Mode Imputation Works or Not"
   ]
  },
  {
   "cell_type": "code",
   "execution_count": 272,
   "id": "40a64ba0-1f75-4469-a4ef-ed1b8219e780",
   "metadata": {},
   "outputs": [
    {
     "data": {
      "text/plain": [
       "'Southampton'"
      ]
     },
     "execution_count": 272,
     "metadata": {},
     "output_type": "execute_result"
    }
   ],
   "source": [
    "data['embark_town'].mode()[0]"
   ]
  },
  {
   "cell_type": "code",
   "execution_count": 273,
   "id": "df3ef82f-cc6d-40c4-843f-de4e8f79f9f4",
   "metadata": {},
   "outputs": [],
   "source": [
    "data['mode_embark_town'] = data['embark_town'].fillna(data['embark_town'].mode()[0])"
   ]
  },
  {
   "cell_type": "code",
   "execution_count": 276,
   "id": "0e7b4cb0-564b-4729-8379-b3b73e1efa85",
   "metadata": {},
   "outputs": [
    {
     "data": {
      "text/plain": [
       "False"
      ]
     },
     "execution_count": 276,
     "metadata": {},
     "output_type": "execute_result"
    }
   ],
   "source": [
    "data['mode_embark_town'].isnull().any()"
   ]
  },
  {
   "cell_type": "code",
   "execution_count": 278,
   "id": "13f5ecc9-ca57-4cfe-b421-5eb73061d81d",
   "metadata": {},
   "outputs": [
    {
     "data": {
      "text/plain": [
       "embark_town\n",
       "Southampton    644\n",
       "Cherbourg      168\n",
       "Queenstown      77\n",
       "Name: count, dtype: int64"
      ]
     },
     "execution_count": 278,
     "metadata": {},
     "output_type": "execute_result"
    }
   ],
   "source": [
    "data['embark_town'].value_counts()"
   ]
  },
  {
   "cell_type": "code",
   "execution_count": 274,
   "id": "e514bfe9-ea5a-45e9-9003-25bc723bcef9",
   "metadata": {},
   "outputs": [
    {
     "data": {
      "text/plain": [
       "mode_embark_town\n",
       "Southampton    646\n",
       "Cherbourg      168\n",
       "Queenstown      77\n",
       "Name: count, dtype: int64"
      ]
     },
     "execution_count": 274,
     "metadata": {},
     "output_type": "execute_result"
    }
   ],
   "source": [
    "data['mode_embark_town'].value_counts()"
   ]
  },
  {
   "cell_type": "markdown",
   "id": "b78e15e7-eb44-4382-85f8-23af773795af",
   "metadata": {},
   "source": [
    "---\n",
    "\n",
    "- By checking & From the conclusion Mode Imputation is perfect so we can apply Mode Imputation\n",
    "---"
   ]
  },
  {
   "cell_type": "code",
   "execution_count": 279,
   "id": "9602aac3-897f-4cfa-a28a-1df7d0b9926c",
   "metadata": {},
   "outputs": [],
   "source": [
    "data['embark_town']=data['embark_town'].fillna(data['embark_town'].mode()[0])"
   ]
  },
  {
   "cell_type": "code",
   "execution_count": 280,
   "id": "eae5c588-bd88-4521-b123-6dcd8852277f",
   "metadata": {},
   "outputs": [
    {
     "data": {
      "text/plain": [
       "False"
      ]
     },
     "execution_count": 280,
     "metadata": {},
     "output_type": "execute_result"
    }
   ],
   "source": [
    "data['embark_town'].isnull().any()"
   ]
  },
  {
   "cell_type": "code",
   "execution_count": 282,
   "id": "de338f5d-a1b9-444f-bea6-8f224b1eb7bd",
   "metadata": {},
   "outputs": [
    {
     "data": {
      "text/plain": [
       "survived            False\n",
       "pclass              False\n",
       "sex                 False\n",
       "age                 False\n",
       "sibsp               False\n",
       "parch               False\n",
       "fare                False\n",
       "embarked            False\n",
       "class               False\n",
       "who                 False\n",
       "adult_male          False\n",
       "deck                False\n",
       "embark_town         False\n",
       "alive               False\n",
       "alone               False\n",
       "mode_embark_town    False\n",
       "dtype: bool"
      ]
     },
     "execution_count": 282,
     "metadata": {},
     "output_type": "execute_result"
    }
   ],
   "source": [
    "data.isnull().any()"
   ]
  },
  {
   "cell_type": "code",
   "execution_count": 283,
   "id": "32eab8c2-5eb2-4368-9bbe-98d9f34e89ea",
   "metadata": {},
   "outputs": [],
   "source": [
    "data.drop('mode_embark_town',axis=1,inplace=True)"
   ]
  },
  {
   "cell_type": "markdown",
   "id": "0b710dea-f868-4954-9c20-fd464f3dd8b1",
   "metadata": {},
   "source": [
    "---\n",
    "\n",
    "---\n",
    "This is how in an Data Science project the missing values are handled with different techniques I think this one notebook gave you 100% confident that you can handle any missing value still there are many other techniques you can learn more\n",
    "\n",
    "- ---\n",
    "----"
   ]
  },
  {
   "cell_type": "code",
   "execution_count": null,
   "id": "4a63f22e-7422-43ac-b936-a3902c1a193f",
   "metadata": {},
   "outputs": [],
   "source": []
  },
  {
   "cell_type": "code",
   "execution_count": null,
   "id": "f14e8977-28dd-42f5-b375-a4b2d569b33a",
   "metadata": {},
   "outputs": [],
   "source": []
  }
 ],
 "metadata": {
  "kernelspec": {
   "display_name": "Python 3 (ipykernel)",
   "language": "python",
   "name": "python3"
  },
  "language_info": {
   "codemirror_mode": {
    "name": "ipython",
    "version": 3
   },
   "file_extension": ".py",
   "mimetype": "text/x-python",
   "name": "python",
   "nbconvert_exporter": "python",
   "pygments_lexer": "ipython3",
   "version": "3.12.4"
  }
 },
 "nbformat": 4,
 "nbformat_minor": 5
}
