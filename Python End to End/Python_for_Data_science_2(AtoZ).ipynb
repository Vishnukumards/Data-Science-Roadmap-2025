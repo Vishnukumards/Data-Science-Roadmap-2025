{
 "cells": [
  {
   "cell_type": "code",
   "execution_count": 1,
   "id": "8503c38c-5772-49a3-9355-ca6a3ae1c854",
   "metadata": {},
   "outputs": [],
   "source": [
    "#Conditional Statements"
   ]
  },
  {
   "cell_type": "code",
   "execution_count": 6,
   "id": "b671bb70-4183-4e09-9d3e-64cf4694f4e6",
   "metadata": {},
   "outputs": [],
   "source": [
    "# If Statement"
   ]
  },
  {
   "cell_type": "code",
   "execution_count": 7,
   "id": "bfaa9b22-87d5-48c1-a91e-ccf898d390e4",
   "metadata": {},
   "outputs": [
    {
     "name": "stdout",
     "output_type": "stream",
     "text": [
      "one is Less than two\n"
     ]
    }
   ],
   "source": [
    "if 1<2:\n",
    "    print(\"one is Less than two\")"
   ]
  },
  {
   "cell_type": "code",
   "execution_count": 10,
   "id": "eabfd8ce-5aea-4e2f-a1b4-d986923e598f",
   "metadata": {},
   "outputs": [],
   "source": [
    "balance = 0\n",
    "Withdraw = 1000"
   ]
  },
  {
   "cell_type": "code",
   "execution_count": 12,
   "id": "5b7f00c5-77a8-45db-9b13-c56f3238c4b1",
   "metadata": {},
   "outputs": [
    {
     "name": "stdout",
     "output_type": "stream",
     "text": [
      "Your balance is insufficient\n"
     ]
    }
   ],
   "source": [
    "if balance < Withdraw:\n",
    "    print(\"Your balance is insufficient\")"
   ]
  },
  {
   "cell_type": "code",
   "execution_count": 2,
   "id": "d214f1cc-009b-4d31-aa0b-765da73bb321",
   "metadata": {},
   "outputs": [],
   "source": [
    "data = [1,2,3,5,7,9]"
   ]
  },
  {
   "cell_type": "code",
   "execution_count": 17,
   "id": "e392da5d-59df-414f-89ee-a6fc1cdffd48",
   "metadata": {},
   "outputs": [
    {
     "name": "stdout",
     "output_type": "stream",
     "text": [
      "2 present in data\n"
     ]
    }
   ],
   "source": [
    "if 2 in data:\n",
    "    print(\"2 present in data\")"
   ]
  },
  {
   "cell_type": "code",
   "execution_count": 9,
   "id": "414f223c-3929-4c67-8fee-cd976af6bf1a",
   "metadata": {},
   "outputs": [],
   "source": [
    "# If-else Statements"
   ]
  },
  {
   "cell_type": "code",
   "execution_count": 8,
   "id": "4bfbb645-aba5-45ab-8a59-c8cab463d222",
   "metadata": {},
   "outputs": [
    {
     "name": "stdout",
     "output_type": "stream",
     "text": [
      "one is Less than two\n"
     ]
    }
   ],
   "source": [
    "if 1>2:\n",
    "    print(\"one is greater than two\")\n",
    "else:\n",
    "    print(\"one is Less than two\")"
   ]
  },
  {
   "cell_type": "code",
   "execution_count": 13,
   "id": "0261cf9b-6c4f-453e-9fee-5e4227f16761",
   "metadata": {},
   "outputs": [
    {
     "name": "stdout",
     "output_type": "stream",
     "text": [
      "You can not Withdraw amount, check your balance\n"
     ]
    }
   ],
   "source": [
    "if balance < Withdraw:\n",
    "    print(\"You can not Withdraw amount, check your balance\")\n",
    "else:\n",
    "    print(\"You can Withdraw amount less than 10000\")"
   ]
  },
  {
   "cell_type": "code",
   "execution_count": 19,
   "id": "d5e32847-60d4-4f10-a6b5-3ba816b85cdb",
   "metadata": {},
   "outputs": [],
   "source": [
    "# If elif statement"
   ]
  },
  {
   "cell_type": "code",
   "execution_count": 23,
   "id": "0fba7317-612a-413b-9b1c-ca12cedae692",
   "metadata": {},
   "outputs": [
    {
     "name": "stdin",
     "output_type": "stream",
     "text": [
      "Enter the your age 34\n"
     ]
    },
    {
     "name": "stdout",
     "output_type": "stream",
     "text": [
      "You can Vote\n"
     ]
    }
   ],
   "source": [
    "age = int(input(\"Enter the your age\"))\n",
    "if age < 18 :\n",
    "    print(\"Your are not Eligible for Vote\")\n",
    "elif age == 18:\n",
    "    print(\"You can Vote, Your age is 18 now\")\n",
    "else :\n",
    "    print(\"You can Vote\")"
   ]
  },
  {
   "cell_type": "code",
   "execution_count": null,
   "id": "97636722-63ad-4623-9924-1654609d7bfa",
   "metadata": {},
   "outputs": [],
   "source": []
  },
  {
   "cell_type": "code",
   "execution_count": 25,
   "id": "9355c7e1-cec9-41b3-95c7-d1d1ac349470",
   "metadata": {},
   "outputs": [],
   "source": [
    "# Looping Statements "
   ]
  },
  {
   "cell_type": "code",
   "execution_count": 26,
   "id": "bf4985ef-9779-4a1d-9b11-54ee0262bef7",
   "metadata": {},
   "outputs": [
    {
     "data": {
      "text/plain": [
       "[1, 2, 3, 5, 7, 9]"
      ]
     },
     "execution_count": 26,
     "metadata": {},
     "output_type": "execute_result"
    }
   ],
   "source": [
    "data"
   ]
  },
  {
   "cell_type": "code",
   "execution_count": null,
   "id": "af5e0296-7ab4-4ad6-8d51-b12f326d3a27",
   "metadata": {},
   "outputs": [],
   "source": [
    "# When  we know the Output range then use for loop"
   ]
  },
  {
   "cell_type": "code",
   "execution_count": 27,
   "id": "c84e4368-337a-4890-96db-b7ba7db86bc8",
   "metadata": {},
   "outputs": [
    {
     "name": "stdout",
     "output_type": "stream",
     "text": [
      "1\n",
      "2\n",
      "3\n",
      "5\n",
      "7\n",
      "9\n"
     ]
    }
   ],
   "source": [
    "for i in data:\n",
    "    print(i)"
   ]
  },
  {
   "cell_type": "code",
   "execution_count": 46,
   "id": "4391f83c-c638-446d-bcb6-0432881e9b1b",
   "metadata": {},
   "outputs": [
    {
     "name": "stdout",
     "output_type": "stream",
     "text": [
      "1\n",
      "2\n",
      "3\n",
      "4\n",
      "5\n"
     ]
    }
   ],
   "source": [
    "for i in range(1, 6):\n",
    "    print(i)\n"
   ]
  },
  {
   "cell_type": "code",
   "execution_count": 47,
   "id": "2937b58a-22ca-44d2-abf6-7d98de2ffc74",
   "metadata": {},
   "outputs": [
    {
     "name": "stdout",
     "output_type": "stream",
     "text": [
      "Hello, Alice!\n",
      "Hello, Bob!\n",
      "Hello, Charlie!\n"
     ]
    }
   ],
   "source": [
    "customers = [\"Alice\", \"Bob\", \"Charlie\"]\n",
    "\n",
    "for name in customers:\n",
    "    print(f\"Hello, {name}!\")"
   ]
  },
  {
   "cell_type": "code",
   "execution_count": 50,
   "id": "0aa168bd-efb0-45d0-8c82-d71e542d612f",
   "metadata": {},
   "outputs": [],
   "source": [
    "#enumerate() function adds a counter to each item in a list or other iterable."
   ]
  },
  {
   "cell_type": "code",
   "execution_count": 53,
   "id": "b9e546eb-7073-4936-8915-414950d6bc91",
   "metadata": {},
   "outputs": [
    {
     "name": "stdout",
     "output_type": "stream",
     "text": [
      "1. Alice\n",
      "2. Bob\n",
      "3. Charlie\n"
     ]
    }
   ],
   "source": [
    "for index, name in enumerate(customers, start=1):\n",
    "    print(f\"{index}. {name}\")\n",
    "    "
   ]
  },
  {
   "cell_type": "code",
   "execution_count": 55,
   "id": "4c592578-dd32-459e-ae77-9b5a1f2554e2",
   "metadata": {},
   "outputs": [
    {
     "name": "stdout",
     "output_type": "stream",
     "text": [
      "[(0, 'Alice'), (1, 'Bob'), (2, 'Charlie')]\n"
     ]
    }
   ],
   "source": [
    "# start with 0 \n",
    "print(list(enumerate(customers)))"
   ]
  },
  {
   "cell_type": "code",
   "execution_count": null,
   "id": "a19df6e8-996e-4ddb-a3da-7ef6ae4ba316",
   "metadata": {},
   "outputs": [],
   "source": []
  },
  {
   "cell_type": "code",
   "execution_count": null,
   "id": "9890d3a8-e1be-4fbe-ba0e-d62994b40608",
   "metadata": {},
   "outputs": [],
   "source": [
    "# When if you dont know the Output range then use While loop"
   ]
  },
  {
   "cell_type": "code",
   "execution_count": 28,
   "id": "4cfad03e-d218-4dd8-aaf9-ee17b94843a7",
   "metadata": {},
   "outputs": [
    {
     "name": "stdout",
     "output_type": "stream",
     "text": [
      "1\n",
      "2\n",
      "3\n",
      "4\n",
      "5\n"
     ]
    }
   ],
   "source": [
    "i = 1\n",
    "while i <= 5:\n",
    "    print(i)\n",
    "    i += 1"
   ]
  },
  {
   "cell_type": "code",
   "execution_count": 29,
   "id": "c446f173-77f0-4936-8c55-29fe3fcbefe5",
   "metadata": {},
   "outputs": [
    {
     "name": "stdin",
     "output_type": "stream",
     "text": [
      "Enter your name (type 'exit' to quit):  Vishnu Kumar D S\n"
     ]
    },
    {
     "name": "stdout",
     "output_type": "stream",
     "text": [
      "Hello, Vishnu Kumar D S!\n"
     ]
    },
    {
     "name": "stdin",
     "output_type": "stream",
     "text": [
      "Enter your name (type 'exit' to quit):  exit\n"
     ]
    }
   ],
   "source": [
    "while True:\n",
    "    name = input(\"Enter your name (type 'exit' to quit): \")\n",
    "    if name.lower() == 'exit':\n",
    "        break\n",
    "    print(f\"Hello, {name}!\")\n"
   ]
  },
  {
   "cell_type": "code",
   "execution_count": 32,
   "id": "2d060bfb-a4b8-412e-b1ed-9d532d76d912",
   "metadata": {},
   "outputs": [
    {
     "name": "stdin",
     "output_type": "stream",
     "text": [
      "Enter password:  Vishnu123\n"
     ]
    },
    {
     "name": "stdout",
     "output_type": "stream",
     "text": [
      "Access granted ✅\n"
     ]
    }
   ],
   "source": [
    "correct_password = \"Vishnu123\"\n",
    "attempts = 0\n",
    "\n",
    "while attempts < 3:\n",
    "    pwd = input(\"Enter password: \")\n",
    "    if pwd == correct_password:\n",
    "        print(\"Access granted ✅\")\n",
    "        break\n",
    "    else:\n",
    "        print(\"Wrong password ❌\")\n",
    "        attempts += 1\n",
    "\n",
    "if attempts == 3:\n",
    "    print(\"Too many attempts. Access denied 🔒\")\n"
   ]
  },
  {
   "cell_type": "code",
   "execution_count": 33,
   "id": "da2fe300-d6b7-46eb-89f9-23e0aba068fe",
   "metadata": {},
   "outputs": [
    {
     "name": "stdin",
     "output_type": "stream",
     "text": [
      "Enter password:  ramlala\n"
     ]
    },
    {
     "name": "stdout",
     "output_type": "stream",
     "text": [
      "Wrong password ❌\n"
     ]
    },
    {
     "name": "stdin",
     "output_type": "stream",
     "text": [
      "Enter password:  tanu\n"
     ]
    },
    {
     "name": "stdout",
     "output_type": "stream",
     "text": [
      "Wrong password ❌\n"
     ]
    },
    {
     "name": "stdin",
     "output_type": "stream",
     "text": [
      "Enter password:  hari\n"
     ]
    },
    {
     "name": "stdout",
     "output_type": "stream",
     "text": [
      "Wrong password ❌\n",
      "Too many attempts. Access denied 🔒\n"
     ]
    }
   ],
   "source": [
    "correct_password = \"Vishnu123\"\n",
    "attempts = 0\n",
    "\n",
    "while attempts < 3:\n",
    "    pwd = input(\"Enter password: \")\n",
    "    if pwd == correct_password:\n",
    "        print(\"Access granted ✅\")\n",
    "        break\n",
    "    else:\n",
    "        print(\"Wrong password ❌\")\n",
    "        attempts += 1\n",
    "\n",
    "if attempts == 3:\n",
    "    print(\"Too many attempts. Access denied 🔒\")\n"
   ]
  },
  {
   "cell_type": "code",
   "execution_count": 45,
   "id": "54b6ee01-be2d-4c36-838b-686922eb2ebb",
   "metadata": {},
   "outputs": [
    {
     "name": "stdin",
     "output_type": "stream",
     "text": [
      "Enter a number:  1\n"
     ]
    },
    {
     "name": "stdout",
     "output_type": "stream",
     "text": [
      "Running total: 1\n"
     ]
    },
    {
     "name": "stdin",
     "output_type": "stream",
     "text": [
      "Enter a number:  1\n"
     ]
    },
    {
     "name": "stdout",
     "output_type": "stream",
     "text": [
      "Running total: 2\n"
     ]
    },
    {
     "name": "stdin",
     "output_type": "stream",
     "text": [
      "Enter a number:  1\n"
     ]
    },
    {
     "name": "stdout",
     "output_type": "stream",
     "text": [
      "Running total: 3\n"
     ]
    },
    {
     "name": "stdin",
     "output_type": "stream",
     "text": [
      "Enter a number:  1\n"
     ]
    },
    {
     "name": "stdout",
     "output_type": "stream",
     "text": [
      "Running total: 4\n"
     ]
    },
    {
     "name": "stdin",
     "output_type": "stream",
     "text": [
      "Enter a number:  1\n"
     ]
    },
    {
     "name": "stdout",
     "output_type": "stream",
     "text": [
      "Running total: 5\n"
     ]
    }
   ],
   "source": [
    "total = 0\n",
    "attempt  = 0\n",
    "while total <= 5 :\n",
    "    num = int(input(\"Enter a number: \"))\n",
    "    total += num\n",
    "    print(f\"Running total: {total}\")\n",
    "    attempt  += 1\n",
    "\n",
    "    if attempt == 5:\n",
    "        break\n",
    "\n"
   ]
  },
  {
   "cell_type": "code",
   "execution_count": 56,
   "id": "7b9cc557-fed1-4900-b617-9e6fc0a3bef5",
   "metadata": {},
   "outputs": [],
   "source": [
    "# Function"
   ]
  },
  {
   "cell_type": "code",
   "execution_count": 61,
   "id": "9579ba16-2a6a-4963-8af8-27c249943cfe",
   "metadata": {},
   "outputs": [],
   "source": [
    "def hello():\n",
    "    print(\"Hi\")"
   ]
  },
  {
   "cell_type": "code",
   "execution_count": 62,
   "id": "583db110-329f-4064-92ae-89f2113f9614",
   "metadata": {},
   "outputs": [
    {
     "name": "stdout",
     "output_type": "stream",
     "text": [
      "Hi\n"
     ]
    }
   ],
   "source": [
    "hello()"
   ]
  },
  {
   "cell_type": "code",
   "execution_count": 72,
   "id": "9d097739-be29-43db-ab68-66d6e1dcf6b7",
   "metadata": {},
   "outputs": [],
   "source": [
    "def hello(name):\n",
    "    print(f\"My name is {name}\")\n"
   ]
  },
  {
   "cell_type": "code",
   "execution_count": 73,
   "id": "745fb11e-2300-4b52-8081-f45c1f3e32c2",
   "metadata": {},
   "outputs": [
    {
     "name": "stdout",
     "output_type": "stream",
     "text": [
      "My name is Vishnu\n"
     ]
    }
   ],
   "source": [
    "hello(\"Vishnu\")"
   ]
  },
  {
   "cell_type": "code",
   "execution_count": 60,
   "id": "4b4f69ce-d322-4ccf-a9f8-1eccf6c63239",
   "metadata": {},
   "outputs": [
    {
     "name": "stdout",
     "output_type": "stream",
     "text": [
      "8\n"
     ]
    }
   ],
   "source": [
    "def add(x, y):\n",
    "    return x + y\n",
    "\n",
    "result = add(3, 5)\n",
    "print(result) "
   ]
  },
  {
   "cell_type": "code",
   "execution_count": 59,
   "id": "4b61359d-fe15-404c-821f-9e4c197412e0",
   "metadata": {},
   "outputs": [
    {
     "name": "stdout",
     "output_type": "stream",
     "text": [
      "Hello, Alice!\n",
      "Hi, Bob!\n"
     ]
    }
   ],
   "source": [
    "def greet(name, greeting=\"Hello\"):\n",
    "    return f\"{greeting}, {name}!\"\n",
    "\n",
    "print(greet(\"Alice\"))      \n",
    "print(greet(\"Bob\", greeting=\"Hi\"))  \n"
   ]
  },
  {
   "cell_type": "code",
   "execution_count": 74,
   "id": "9f0ee28a-770b-4bac-b6b0-2edc95daed7c",
   "metadata": {},
   "outputs": [
    {
     "name": "stdout",
     "output_type": "stream",
     "text": [
      "10\n"
     ]
    }
   ],
   "source": [
    "def total(*numbers):\n",
    "    return sum(numbers)\n",
    "\n",
    "print(total(1, 2, 3, 4)) "
   ]
  },
  {
   "cell_type": "code",
   "execution_count": 75,
   "id": "d251ab7a-d944-458b-97e7-7e1b85bac545",
   "metadata": {},
   "outputs": [
    {
     "name": "stdout",
     "output_type": "stream",
     "text": [
      "name: Alice\n",
      "age: 30\n",
      "job: Data Scientist\n"
     ]
    }
   ],
   "source": [
    "def profile(**info):\n",
    "    for key, value in info.items():\n",
    "        print(f\"{key}: {value}\")\n",
    "profile(name=\"Alice\", age=30, job=\"Data Scientist\")\n",
    "        "
   ]
  },
  {
   "cell_type": "code",
   "execution_count": null,
   "id": "c2a1e03f-fef2-4a4c-b193-f4ccbbfdada9",
   "metadata": {},
   "outputs": [],
   "source": [
    "# Lambda "
   ]
  },
  {
   "cell_type": "code",
   "execution_count": 76,
   "id": "7861cfff-a5f1-402c-ba8f-0ec9784b0db9",
   "metadata": {},
   "outputs": [
    {
     "name": "stdout",
     "output_type": "stream",
     "text": [
      "25\n"
     ]
    }
   ],
   "source": [
    "square = lambda x: x * x\n",
    "print(square(5))"
   ]
  },
  {
   "cell_type": "code",
   "execution_count": 79,
   "id": "2e30291e-628e-4218-8a2d-90918b77832a",
   "metadata": {},
   "outputs": [],
   "source": [
    "names = [\"alice\", \"Bob\", \"charlie\"]\n",
    "sorted_names = sorted(names,key = lambda name:name.lower())"
   ]
  },
  {
   "cell_type": "code",
   "execution_count": 80,
   "id": "a07661be-3373-4f4c-a154-4e4027b783f0",
   "metadata": {},
   "outputs": [
    {
     "name": "stdout",
     "output_type": "stream",
     "text": [
      "['alice', 'Bob', 'charlie']\n"
     ]
    }
   ],
   "source": [
    "print(sorted_names)"
   ]
  },
  {
   "cell_type": "code",
   "execution_count": 86,
   "id": "1947a621-d326-4f5d-b176-4d058a85b200",
   "metadata": {},
   "outputs": [
    {
     "data": {
      "text/plain": [
       "[1, 2, 3, 4]"
      ]
     },
     "execution_count": 86,
     "metadata": {},
     "output_type": "execute_result"
    }
   ],
   "source": [
    "nums"
   ]
  },
  {
   "cell_type": "code",
   "execution_count": 81,
   "id": "55221c19-4e77-4071-ae14-8a10ab523ce5",
   "metadata": {},
   "outputs": [],
   "source": [
    "#map"
   ]
  },
  {
   "cell_type": "code",
   "execution_count": 83,
   "id": "49f43b6c-2c5d-458b-93ab-d7ec6ca3fbda",
   "metadata": {},
   "outputs": [
    {
     "name": "stdout",
     "output_type": "stream",
     "text": [
      "[1, 4, 9, 16]\n"
     ]
    }
   ],
   "source": [
    "nums = [1, 2, 3, 4]\n",
    "squares = list(map(lambda x: x * x, nums))\n",
    "print(squares)  "
   ]
  },
  {
   "cell_type": "code",
   "execution_count": 84,
   "id": "6505582a-44e6-4dd3-af06-900e874b2489",
   "metadata": {},
   "outputs": [],
   "source": [
    "#filter"
   ]
  },
  {
   "cell_type": "code",
   "execution_count": 85,
   "id": "4138b96b-e5ed-4967-a817-9ad25c8edd55",
   "metadata": {},
   "outputs": [
    {
     "name": "stdout",
     "output_type": "stream",
     "text": [
      "[2, 4]\n"
     ]
    }
   ],
   "source": [
    "evens = list(filter(lambda x: x % 2 == 0, nums))\n",
    "print(evens)"
   ]
  },
  {
   "cell_type": "code",
   "execution_count": 87,
   "id": "08bad5fe-215b-4c03-b436-a20775b94014",
   "metadata": {},
   "outputs": [
    {
     "name": "stdout",
     "output_type": "stream",
     "text": [
      "24\n"
     ]
    }
   ],
   "source": [
    "from functools import reduce\n",
    "\n",
    "product = reduce(lambda x, y: x * y, nums)\n",
    "print(product) "
   ]
  },
  {
   "cell_type": "markdown",
   "id": "afadf650-0705-4f25-b975-8b9f34da10e6",
   "metadata": {},
   "source": [
    "# What is functools.partial?\n",
    "### It creates a new version of a function with some arguments pre-filled.\n",
    "\n",
    "### This is super useful when you want to:\n",
    "##### Reuse a function with some fixed parameters\n",
    "##### Simplify callbacks or pipelines\n",
    "##### Avoid repeatedly passing the same values"
   ]
  },
  {
   "cell_type": "code",
   "execution_count": 96,
   "id": "9cb6bcd9-2b2d-4d93-99b2-455d23c1eca3",
   "metadata": {},
   "outputs": [],
   "source": [
    "from functools import partial\n",
    "def multiply(x, y):\n",
    "    return x * y\n"
   ]
  },
  {
   "cell_type": "code",
   "execution_count": 97,
   "id": "4b3f8978-31e4-4e60-b959-1d7c4c41cd6b",
   "metadata": {},
   "outputs": [
    {
     "data": {
      "text/plain": [
       "8"
      ]
     },
     "execution_count": 97,
     "metadata": {},
     "output_type": "execute_result"
    }
   ],
   "source": [
    "multiply(4, 2)"
   ]
  },
  {
   "cell_type": "code",
   "execution_count": 98,
   "id": "ec35bb48-3008-47c3-818e-2cea9b9bb00d",
   "metadata": {},
   "outputs": [],
   "source": [
    "# creating new partial \n",
    "double = partial(multiply, y=2)"
   ]
  },
  {
   "cell_type": "code",
   "execution_count": 99,
   "id": "2cc3da0d-6a30-4242-b443-5d1370ce3c1f",
   "metadata": {},
   "outputs": [
    {
     "name": "stdout",
     "output_type": "stream",
     "text": [
      "10\n",
      "14\n"
     ]
    }
   ],
   "source": [
    "print(double(5)) \n",
    "print(double(7)) "
   ]
  },
  {
   "cell_type": "code",
   "execution_count": 106,
   "id": "dddbf54e-7354-4806-b398-ba9300ce32dd",
   "metadata": {},
   "outputs": [
    {
     "name": "stdout",
     "output_type": "stream",
     "text": [
      "1344.0\n",
      "1416.0\n"
     ]
    }
   ],
   "source": [
    "def apply_tax(price,tax):\n",
    "    return price+(price*tax)\n",
    "\n",
    "add_gst = partial(apply_tax,tax=0.18)\n",
    "print(apply_tax(1200,0.12))\n",
    "print(add_gst(1200))"
   ]
  },
  {
   "cell_type": "markdown",
   "id": "b6694b1a-9a59-47f6-95ab-e085059e36a6",
   "metadata": {},
   "source": [
    "| Concept              | Use Case                            | Example                        |\r\n",
    "| -------------------- | ----------------------------------- | ------------------------------ |\r\n",
    "| `def` + `return`     | Create a function                   | `def add(x, y): return x + y`  |\r\n",
    "| `*args` / `**kwargs` | Flexible argument handling          | `def total(*nums):`            |\r\n",
    "| `lambda`             | Quick anonymous function            | `lambda x: x + 1`              |\r\n",
    "| `map()`              | Transform each item in iterable     | `map(lambda x: x**2, lst)`     |\r\n",
    "| `filter()`           | Filter items from iterable          | `filter(lambda x: x > 0, lst)` |\r\n",
    "| `reduce()`           | Reduce list to single value         | `reduce(lambda x,y: x+y, lst)` |\r\n",
    "| `partial()`          | Fix certain arguments in a function | `partial(func, arg=value)`     |\r\n"
   ]
  },
  {
   "cell_type": "markdown",
   "id": "39b9c83f-fcc1-459e-8b2e-5503e46a1811",
   "metadata": {},
   "source": [
    "# ✅ What is a Generator?\n",
    "#### A generator function is like a normal function, but it uses yield to return one value at a time, instead of return which ends the function."
   ]
  },
  {
   "cell_type": "code",
   "execution_count": 108,
   "id": "ef0ca372-ee34-409d-946f-be2fed2acb11",
   "metadata": {},
   "outputs": [
    {
     "name": "stdout",
     "output_type": "stream",
     "text": [
      "Hello\n",
      "World\n"
     ]
    }
   ],
   "source": [
    "def simple_generator():\n",
    "    yield \"Hello\"\n",
    "    yield \"World\"\n",
    "\n",
    "for word in simple_generator():\n",
    "    print(word)\n"
   ]
  },
  {
   "cell_type": "code",
   "execution_count": 109,
   "id": "0a19c3dd-9f84-4231-a575-370a5fa83704",
   "metadata": {},
   "outputs": [
    {
     "name": "stdout",
     "output_type": "stream",
     "text": [
      "1\n",
      "2\n",
      "3\n"
     ]
    }
   ],
   "source": [
    "def count_three():\n",
    "    yield 1\n",
    "    yield 2\n",
    "    yield 3\n",
    "\n",
    "for num in count_three():\n",
    "    print(num)"
   ]
  },
  {
   "cell_type": "code",
   "execution_count": 110,
   "id": "e393d148-446f-43d1-8c65-3d4717422d78",
   "metadata": {},
   "outputs": [
    {
     "name": "stdout",
     "output_type": "stream",
     "text": [
      "0\n",
      "1\n",
      "4\n",
      "9\n",
      "16\n"
     ]
    }
   ],
   "source": [
    "#List Comprehensions\n",
    "\n",
    "squares = (x * x for x in range(5))\n",
    "\n",
    "for square in squares:\n",
    "    print(square)"
   ]
  },
  {
   "cell_type": "code",
   "execution_count": 131,
   "id": "5309d480-89f4-4770-93ba-8f56c41395e2",
   "metadata": {},
   "outputs": [
    {
     "name": "stdout",
     "output_type": "stream",
     "text": [
      "[2, 4]\n"
     ]
    }
   ],
   "source": [
    "even_nums = [x for x in nums if x % 2 == 0]\n",
    "print(even_nums)"
   ]
  },
  {
   "cell_type": "code",
   "execution_count": 133,
   "id": "8de447af-a950-4da1-ad27-1f7951491efb",
   "metadata": {},
   "outputs": [
    {
     "name": "stdout",
     "output_type": "stream",
     "text": [
      "['Odd', 'Even', 'Odd', 'Even']\n"
     ]
    }
   ],
   "source": [
    "labels = ['Even' if x % 2 == 0 else 'Odd' for x in nums]\n",
    "print(labels)"
   ]
  },
  {
   "cell_type": "code",
   "execution_count": 132,
   "id": "5a0b7cfa-9a9b-4084-812a-7025cf76c9f8",
   "metadata": {},
   "outputs": [
    {
     "name": "stdout",
     "output_type": "stream",
     "text": [
      "{'c', 'a', 'b'}\n"
     ]
    }
   ],
   "source": [
    "words = [\"apple\", \"banana\", \"apple\", \"cherry\"]\n",
    "unique_letters = {w[0] for w in words}\n",
    "print(unique_letters)"
   ]
  },
  {
   "cell_type": "code",
   "execution_count": 111,
   "id": "8009b1f8-0b1c-4722-a928-1ebe4010e25a",
   "metadata": {},
   "outputs": [],
   "source": [
    "## Decorators - A function that wraps another function to extend its behavior."
   ]
  },
  {
   "cell_type": "code",
   "execution_count": 112,
   "id": "d61e8bc7-c04c-4374-9d1c-c3d887d715ba",
   "metadata": {},
   "outputs": [
    {
     "name": "stdout",
     "output_type": "stream",
     "text": [
      "Before the function runs\n",
      "Hello!\n",
      "After the function runs\n"
     ]
    }
   ],
   "source": [
    "def simple_decorator(func):\n",
    "    def wrapper():\n",
    "        print(\"Before the function runs\")\n",
    "        func()\n",
    "        print(\"After the function runs\")\n",
    "    return wrapper\n",
    "\n",
    "@simple_decorator\n",
    "def say_hello():\n",
    "    print(\"Hello!\")\n",
    "\n",
    "say_hello()"
   ]
  },
  {
   "cell_type": "code",
   "execution_count": 130,
   "id": "23a3fe37-abc1-47d4-b7a8-daf605f0d72c",
   "metadata": {},
   "outputs": [
    {
     "name": "stdout",
     "output_type": "stream",
     "text": [
      "My full name is:\n",
      "Vishnu Kumar\n"
     ]
    }
   ],
   "source": [
    "def announce(func):\n",
    "    def wrapper(first, last):\n",
    "        print(\"My full name is:\")\n",
    "        func(first, last)\n",
    "    return wrapper\n",
    "\n",
    "@announce\n",
    "def full_name(first, last):\n",
    "    print(f\"{first} {last}\")\n",
    "\n",
    "full_name(\"Vishnu\", \"Kumar\")\n"
   ]
  },
  {
   "cell_type": "code",
   "execution_count": null,
   "id": "8671b63a-8b80-41b6-b3a9-00e25193ffb8",
   "metadata": {},
   "outputs": [],
   "source": [
    "## OOPs - Object oriented programming"
   ]
  },
  {
   "cell_type": "code",
   "execution_count": 9,
   "id": "cdf5d367-6ca6-4960-b909-94cadfeea814",
   "metadata": {},
   "outputs": [],
   "source": [
    "# Simple Class"
   ]
  },
  {
   "cell_type": "code",
   "execution_count": 134,
   "id": "04af1d8a-5b92-4a8c-ba2a-3950981a128a",
   "metadata": {},
   "outputs": [],
   "source": [
    "class MyClass:\n",
    "  x = 5"
   ]
  },
  {
   "cell_type": "code",
   "execution_count": 135,
   "id": "e889b7a1-5c5f-4f8c-b766-1ad93343952f",
   "metadata": {},
   "outputs": [
    {
     "name": "stdout",
     "output_type": "stream",
     "text": [
      "<class '__main__.MyClass'>\n"
     ]
    }
   ],
   "source": [
    "print(MyClass)"
   ]
  },
  {
   "cell_type": "code",
   "execution_count": 136,
   "id": "cc145606-b440-4073-9815-9c1404f24c32",
   "metadata": {},
   "outputs": [
    {
     "name": "stdout",
     "output_type": "stream",
     "text": [
      "5\n"
     ]
    }
   ],
   "source": [
    "p1 = MyClass()\n",
    "print(p1.x)"
   ]
  },
  {
   "cell_type": "code",
   "execution_count": 139,
   "id": "f759fcc0-5a7f-4b43-837d-c77275a6c831",
   "metadata": {},
   "outputs": [
    {
     "name": "stdout",
     "output_type": "stream",
     "text": [
      "<__main__.Person object at 0x000002966CE0F800>\n",
      "John\n",
      "36\n"
     ]
    }
   ],
   "source": [
    "class Person:\n",
    "  def __init__(self, name, age):\n",
    "    self.name = name\n",
    "    self.age = age\n",
    "\n",
    "p1 = Person(\"John\", 36)\n",
    "\n",
    "print(p1)\n",
    "print(p1.name)\n",
    "print(p1.age)"
   ]
  },
  {
   "cell_type": "code",
   "execution_count": 137,
   "id": "5b2d9111-05ee-4810-9230-ebc5503d567a",
   "metadata": {},
   "outputs": [
    {
     "name": "stdout",
     "output_type": "stream",
     "text": [
      "YXT\n",
      "4\n",
      "120\n"
     ]
    }
   ],
   "source": [
    "class car:\n",
    "    def __init__(self,model,wheels,speed):\n",
    "        self.model = model\n",
    "        self.wheels = wheels\n",
    "        self.speed = speed\n",
    "\n",
    "car1 = car(\"YXT\",4,120)\n",
    "print(car1.model)\n",
    "print(car1.wheels)\n",
    "print(car1.speed)"
   ]
  },
  {
   "cell_type": "markdown",
   "id": "ef739cbc-3ccf-4f00-9926-a66cac7fa4af",
   "metadata": {},
   "source": [
    "# 1. Class and Object"
   ]
  },
  {
   "cell_type": "code",
   "execution_count": null,
   "id": "0dd71684-af60-4ea4-9d57-7478da49203d",
   "metadata": {},
   "outputs": [],
   "source": [
    "class Dog:\n",
    "    def __init__(self, name):\n",
    "        self.name = name\n",
    "    def bark(self):\n",
    "        print(\"Woof!\")\n",
    "\n",
    "my_dog = Dog(\"Buddy\")\n",
    "my_dog.bark()"
   ]
  },
  {
   "cell_type": "markdown",
   "id": "b796b731-3f78-41b8-870e-aa2b366b87ee",
   "metadata": {},
   "source": [
    "# 2. Encapsulation"
   ]
  },
  {
   "cell_type": "code",
   "execution_count": null,
   "id": "92195ef3-e795-4970-a394-5f8f0422b656",
   "metadata": {},
   "outputs": [],
   "source": [
    "class Counter:\n",
    "    def __init__(self):\n",
    "        self.__count = 0  # Private\n",
    "\n",
    "    def increment(self):\n",
    "        self.__count += 1\n",
    "\n",
    "    def get_count(self):\n",
    "        return self.__count\n",
    "\n",
    "c = Counter()\n",
    "c.increment()\n",
    "print(c.get_count())"
   ]
  },
  {
   "cell_type": "markdown",
   "id": "215b885d-aa54-4c47-8aac-647669e633fa",
   "metadata": {},
   "source": [
    "# 3. Inheritance"
   ]
  },
  {
   "cell_type": "code",
   "execution_count": 19,
   "id": "d05ea1ae-65d1-432e-9736-9c53ce577f90",
   "metadata": {},
   "outputs": [
    {
     "name": "stdout",
     "output_type": "stream",
     "text": [
      "Meow!\n"
     ]
    }
   ],
   "source": [
    "class Animal:\n",
    "    def speak(self):\n",
    "        print(\"Sound!\")\n",
    "\n",
    "class Cat(Animal):\n",
    "    def speak(self):\n",
    "        print(\"Meow!\")\n",
    "\n",
    "my_cat = Cat()\n",
    "my_cat.speak()"
   ]
  },
  {
   "cell_type": "markdown",
   "id": "a795e439-9f64-419f-9e37-98799e254a9e",
   "metadata": {},
   "source": [
    "# 4. Polymorphism"
   ]
  },
  {
   "cell_type": "code",
   "execution_count": 20,
   "id": "cdb86b32-fb1c-4b5c-b59a-4e570cb3b613",
   "metadata": {},
   "outputs": [
    {
     "name": "stdout",
     "output_type": "stream",
     "text": [
      "Sparrow flying fast\n"
     ]
    }
   ],
   "source": [
    "class Bird:\n",
    "    def fly(self):\n",
    "        print(\"Bird flying\")\n",
    "\n",
    "class Sparrow(Bird):\n",
    "    def fly(self):\n",
    "        print(\"Sparrow flying fast\")\n",
    "\n",
    "def make_fly(bird):\n",
    "    bird.fly()\n",
    "\n",
    "sparrow = Sparrow()\n",
    "make_fly(sparrow)"
   ]
  },
  {
   "cell_type": "markdown",
   "id": "ef67a6ad-efcd-4186-bbff-42dc9a060f50",
   "metadata": {},
   "source": [
    "# 5. Abstraction"
   ]
  },
  {
   "cell_type": "code",
   "execution_count": 21,
   "id": "1929162e-647a-4419-9729-a05484275eb1",
   "metadata": {},
   "outputs": [
    {
     "name": "stdout",
     "output_type": "stream",
     "text": [
      "6\n"
     ]
    }
   ],
   "source": [
    "from abc import ABC, abstractmethod\n",
    "\n",
    "class Shape(ABC):\n",
    "    @abstractmethod\n",
    "    def area(self):\n",
    "        pass\n",
    "\n",
    "class Rectangle(Shape):\n",
    "    def __init__(self, w, h):\n",
    "        self.w = w\n",
    "        self.h = h\n",
    "    def area(self):\n",
    "        return self.w * self.h\n",
    "\n",
    "r = Rectangle(2, 3)\n",
    "print(r.area())"
   ]
  },
  {
   "cell_type": "code",
   "execution_count": null,
   "id": "8592b636-d480-4f8f-a301-7962a0e28a42",
   "metadata": {},
   "outputs": [],
   "source": []
  },
  {
   "cell_type": "code",
   "execution_count": null,
   "id": "e40e08e5-d071-4571-a19c-1632dd89addc",
   "metadata": {},
   "outputs": [],
   "source": []
  },
  {
   "cell_type": "code",
   "execution_count": null,
   "id": "1dfe038f-e8af-4659-976b-0fb51c5e5479",
   "metadata": {},
   "outputs": [],
   "source": [
    "# ADVANCED OOPS"
   ]
  },
  {
   "cell_type": "code",
   "execution_count": 10,
   "id": "7ace70fe-55f5-4685-9877-14da919795e3",
   "metadata": {},
   "outputs": [
    {
     "name": "stdout",
     "output_type": "stream",
     "text": [
      "Road tire material: rubber\n",
      "The black rubber wheel with a diameter of 26 inches is rolling!\n",
      "The brown reinforced rubber wheel with a diameter of 30 inches is rolling!\n"
     ]
    }
   ],
   "source": [
    "# Class (Blueprint for a Wheel)\n",
    "class Wheel:\n",
    "    def __init__(self, material, diameter, color):\n",
    "        self.material = material\n",
    "        self.diameter = diameter\n",
    "        self.color = color\n",
    "\n",
    "    def roll(self):\n",
    "        print(f\"The {self.color} {self.material} wheel with a diameter of {self.diameter} inches is rolling!\")\n",
    "\n",
    "# Objects (Actual Wheels)\n",
    "road_tire = Wheel(\"rubber\", 26, \"black\")\n",
    "off_road_tire = Wheel(\"reinforced rubber\", 30, \"brown\")\n",
    "\n",
    "# Using the objects\n",
    "print(f\"Road tire material: {road_tire.material}\")\n",
    "road_tire.roll()\n",
    "off_road_tire.roll()"
   ]
  },
  {
   "cell_type": "code",
   "execution_count": null,
   "id": "010b2295-2a1f-4acd-962b-0e54aa94985f",
   "metadata": {},
   "outputs": [],
   "source": [
    "# 2. Encapsulation\n",
    "# Encapsulation is like wrapping things up neatly and controlling access."
   ]
  },
  {
   "cell_type": "code",
   "execution_count": 11,
   "id": "33490f16-3730-43e0-bab2-2e01067f6555",
   "metadata": {},
   "outputs": [
    {
     "name": "stdout",
     "output_type": "stream",
     "text": [
      "The Sedan drove 100 miles.\n",
      "The Sedan drove 50 miles.\n",
      "Current mileage: 150\n"
     ]
    }
   ],
   "source": [
    "class Car:\n",
    "    def __init__(self, model):\n",
    "        self.model = model\n",
    "        self.__mileage = 0  # Private attribute (starts with __)\n",
    "\n",
    "    def drive(self, distance):\n",
    "        if distance > 0:\n",
    "            self.__mileage += distance\n",
    "            print(f\"The {self.model} drove {distance} miles.\")\n",
    "        else:\n",
    "            print(\"Cannot drive a negative distance.\")\n",
    "\n",
    "    def get_mileage(self):\n",
    "        return self.__mileage\n",
    "\n",
    "my_car = Car(\"Sedan\")\n",
    "my_car.drive(100)\n",
    "my_car.drive(50)\n",
    "# print(my_car.__mileage) # This would cause an AttributeError because __mileage is intended to be private\n",
    "print(f\"Current mileage: {my_car.get_mileage()}\")"
   ]
  },
  {
   "cell_type": "code",
   "execution_count": 12,
   "id": "14c23e58-c031-4695-b6b9-9497f03e5903",
   "metadata": {},
   "outputs": [],
   "source": [
    "# 3. Inheritance\n",
    "# Inheritance is like inheriting traits from your parents."
   ]
  },
  {
   "cell_type": "code",
   "execution_count": 13,
   "id": "317591a6-b2e2-4703-b070-b104433de177",
   "metadata": {},
   "outputs": [
    {
     "name": "stdout",
     "output_type": "stream",
     "text": [
      "Name: Alice and age: 5\n"
     ]
    }
   ],
   "source": [
    "## Inheritance\n",
    "class Parent:\n",
    "    def __init__(self, name, age):\n",
    "        self.name = name\n",
    "        self.age = age\n",
    "\n",
    "class Child(Parent): \n",
    "    def __init__(self, name, age):\n",
    "        super().__init__(name, age) \n",
    "        print(f\"Name: {self.name} and age: {self.age}\")\n",
    "\n",
    "my_child = Child(\"Alice\", 5)\n"
   ]
  },
  {
   "cell_type": "code",
   "execution_count": 14,
   "id": "81332606-0b5a-4f21-8ed8-6670dea1916e",
   "metadata": {},
   "outputs": [
    {
     "name": "stdout",
     "output_type": "stream",
     "text": [
      "The Schwinn Cruiser is starting.\n",
      "The Schwinn Cruiser with 7 gears is pedaling.\n",
      "The Toyota Camry is starting.\n",
      "The Toyota Camry with 4 doors is driving.\n"
     ]
    }
   ],
   "source": [
    "class Vehicle:\n",
    "    def __init__(self, make, model):\n",
    "        self.make = make\n",
    "        self.model = model\n",
    "\n",
    "    def start(self):\n",
    "        print(f\"The {self.make} {self.model} is starting.\")\n",
    "\n",
    "class Bicycle(Vehicle):\n",
    "    def __init__(self, make, model, num_gears):\n",
    "        super().__init__(make, model) # Call the parent's __init__\n",
    "        self.num_gears = num_gears\n",
    "\n",
    "    def pedal(self):\n",
    "        print(f\"The {self.make} {self.model} with {self.num_gears} gears is pedaling.\")\n",
    "\n",
    "class Car(Vehicle):\n",
    "    def __init__(self, make, model, num_doors):\n",
    "        super().__init__(make, model) # Call the parent's __init__\n",
    "        self.num_doors = num_doors\n",
    "\n",
    "    def drive(self):\n",
    "        print(f\"The {self.make} {self.model} with {self.num_doors} doors is driving.\")\n",
    "\n",
    "my_bicycle = Bicycle(\"Schwinn\", \"Cruiser\", 7)\n",
    "my_car = Car(\"Toyota\", \"Camry\", 4)\n",
    "\n",
    "my_bicycle.start()\n",
    "my_bicycle.pedal()\n",
    "my_car.start()\n",
    "my_car.drive()"
   ]
  },
  {
   "cell_type": "code",
   "execution_count": 15,
   "id": "43cde1f1-df64-4435-86eb-730905fafc48",
   "metadata": {},
   "outputs": [],
   "source": [
    "# 4. Polymorphism\n",
    "# Polymorphism means \"many forms.\""
   ]
  },
  {
   "cell_type": "code",
   "execution_count": 16,
   "id": "56d1f998-bf9e-437a-a247-90f065470e3c",
   "metadata": {},
   "outputs": [
    {
     "name": "stdout",
     "output_type": "stream",
     "text": [
      "Woof!\n",
      "Meow!\n",
      "Generic animal sound\n"
     ]
    }
   ],
   "source": [
    "class Animal:\n",
    "    def speak(self):\n",
    "        print(\"Generic animal sound\")\n",
    "\n",
    "class Dog(Animal):\n",
    "    def speak(self):\n",
    "        print(\"Woof!\")\n",
    "\n",
    "class Cat(Animal):\n",
    "    def speak(self):\n",
    "        print(\"Meow!\")\n",
    "\n",
    "def animal_sound(animal):\n",
    "    animal.speak()\n",
    "\n",
    "my_dog = Dog()\n",
    "my_cat = Cat()\n",
    "generic_animal = Animal()\n",
    "\n",
    "animal_sound(my_dog)      # Output: Woof!\n",
    "animal_sound(my_cat)      # Output: Meow!\n",
    "animal_sound(generic_animal) # Output: Generic animal sound"
   ]
  },
  {
   "cell_type": "code",
   "execution_count": 17,
   "id": "cead4b82-1c62-4d0d-978b-c3021a806a25",
   "metadata": {},
   "outputs": [],
   "source": [
    "# 5. Abstraction\n",
    "# Abstraction is about hiding complex implementation details and showing only what's necessary."
   ]
  },
  {
   "cell_type": "code",
   "execution_count": 18,
   "id": "869fdb12-4c9d-4c36-9626-0ff0c8189105",
   "metadata": {},
   "outputs": [
    {
     "name": "stdout",
     "output_type": "stream",
     "text": [
      "Connecting to CSV file: my_data.csv\n",
      "Fetching data from CSV file: my_data.csv\n",
      "Processing fetched data...\n",
      "Connecting to database: localhost:5432\n",
      "Fetching data from database: localhost:5432\n",
      "Processing fetched data...\n"
     ]
    }
   ],
   "source": [
    "from abc import ABC, abstractmethod\n",
    "\n",
    "class DataConnector(ABC):\n",
    "    @abstractmethod\n",
    "    def connect(self):\n",
    "        pass\n",
    "\n",
    "    @abstractmethod\n",
    "    def fetch_data(self):\n",
    "        pass\n",
    "\n",
    "    def process_data(self):\n",
    "        data = self.fetch_data()\n",
    "        print(\"Processing fetched data...\")\n",
    "        # ... complex data processing logic ...\n",
    "\n",
    "class CSVConnector(DataConnector):\n",
    "    def __init__(self, file_path):\n",
    "        self.file_path = file_path\n",
    "\n",
    "    def connect(self):\n",
    "        print(f\"Connecting to CSV file: {self.file_path}\")\n",
    "        # ... specific CSV connection logic ...\n",
    "\n",
    "    def fetch_data(self):\n",
    "        print(f\"Fetching data from CSV file: {self.file_path}\")\n",
    "        # ... specific CSV data reading logic ...\n",
    "        return [\"data1\", \"data2\", \"data3\"] # Simulate fetched data\n",
    "\n",
    "class DatabaseConnector(DataConnector):\n",
    "    def __init__(self, db_url, username, password):\n",
    "        self.db_url = db_url\n",
    "        self.username = username\n",
    "        self.password = password\n",
    "\n",
    "    def connect(self):\n",
    "        print(f\"Connecting to database: {self.db_url}\")\n",
    "        # ... specific database connection logic ...\n",
    "\n",
    "    def fetch_data(self):\n",
    "        print(f\"Fetching data from database: {self.db_url}\")\n",
    "        # ... specific database query logic ...\n",
    "        return [10, 20, 30, 40] # Simulate fetched data\n",
    "\n",
    "csv_conn = CSVConnector(\"my_data.csv\")\n",
    "db_conn = DatabaseConnector(\"localhost:5432\", \"user\", \"password\")\n",
    "\n",
    "csv_conn.connect()\n",
    "csv_conn.process_data()\n",
    "\n",
    "db_conn.connect()\n",
    "db_conn.process_data()"
   ]
  },
  {
   "cell_type": "markdown",
   "id": "f332fb7b-5f6e-4c84-9287-74d94a4f50aa",
   "metadata": {},
   "source": []
  },
  {
   "cell_type": "code",
   "execution_count": 28,
   "id": "ee02b47c-bc92-45cc-857c-865ea56b9e8b",
   "metadata": {},
   "outputs": [],
   "source": [
    "# File Handling - Allows reading/writing files using Python (.txt, .csv, etc.)"
   ]
  },
  {
   "cell_type": "code",
   "execution_count": 37,
   "id": "c261f16d-6c37-485d-b8d3-456dd3cf2c6a",
   "metadata": {},
   "outputs": [],
   "source": [
    "file = open(\"data.txt\", \"w\")\n",
    "file.write(\"Hello, Vicky!\\nWelcome to file handling in Python.\")\n",
    "file.close()"
   ]
  },
  {
   "cell_type": "code",
   "execution_count": 38,
   "id": "e57480f9-44bd-425d-b077-1b94f806ef2a",
   "metadata": {},
   "outputs": [
    {
     "name": "stdout",
     "output_type": "stream",
     "text": [
      "Hello, Vicky!\n",
      "Welcome to file handling in Python.\n"
     ]
    }
   ],
   "source": [
    "file = open(\"data.txt\", \"r\")\n",
    "content = file.read()\n",
    "print(content)\n",
    "file.close()\n"
   ]
  },
  {
   "cell_type": "code",
   "execution_count": 31,
   "id": "2b34df2c-8551-4792-a13d-cb0a61c10095",
   "metadata": {},
   "outputs": [
    {
     "name": "stdout",
     "output_type": "stream",
     "text": [
      "Hello, Vicky!\n",
      "\n"
     ]
    }
   ],
   "source": [
    "with open(\"data.txt\", \"r\") as f:\n",
    "    content = f.read()\n",
    "    print(content)"
   ]
  },
  {
   "cell_type": "code",
   "execution_count": 32,
   "id": "a35e5669-6c54-495c-af71-b7f429778c92",
   "metadata": {},
   "outputs": [
    {
     "name": "stdout",
     "output_type": "stream",
     "text": [
      "Hello, Vicky!\n",
      "\n"
     ]
    }
   ],
   "source": [
    "file = open(\"data.txt\", \"r\")\n",
    "content = file.read()\n",
    "print(content)\n",
    "file.close()\n"
   ]
  },
  {
   "cell_type": "code",
   "execution_count": 33,
   "id": "a79831da-8f8c-440e-8daa-f6b82263b9ca",
   "metadata": {},
   "outputs": [
    {
     "name": "stdout",
     "output_type": "stream",
     "text": [
      "Hello, Vicky!\n"
     ]
    }
   ],
   "source": [
    "with open(\"data.txt\", \"r\") as file:\n",
    "    for line in file:\n",
    "        print(line.strip()) "
   ]
  },
  {
   "cell_type": "code",
   "execution_count": 35,
   "id": "1fab204d-a97f-4b52-8afb-198f3e006d7e",
   "metadata": {},
   "outputs": [
    {
     "name": "stdout",
     "output_type": "stream",
     "text": [
      "Hello, Vicky!\n",
      "\n"
     ]
    }
   ],
   "source": [
    "with open(\"data.txt\", \"r\") as file:\n",
    "    print(file.readline())"
   ]
  },
  {
   "cell_type": "code",
   "execution_count": null,
   "id": "5d034cbe-8a69-4a60-88b4-06ac361a08b9",
   "metadata": {},
   "outputs": [],
   "source": []
  },
  {
   "cell_type": "code",
   "execution_count": 40,
   "id": "0e14ea12-5248-4754-a588-caf4872d940b",
   "metadata": {},
   "outputs": [],
   "source": [
    "# What is Exception Handling?\n",
    "# Exception handling lets your program catch and handle errors gracefully, instead of crashing."
   ]
  },
  {
   "cell_type": "code",
   "execution_count": 41,
   "id": "23882894-5b81-488d-8b67-58d15a907709",
   "metadata": {},
   "outputs": [
    {
     "name": "stdout",
     "output_type": "stream",
     "text": [
      "You can't divide by zero!\n"
     ]
    }
   ],
   "source": [
    "try:\n",
    "    x = 10 / 0\n",
    "except ZeroDivisionError:\n",
    "    print(\"You can't divide by zero!\")\n"
   ]
  },
  {
   "cell_type": "code",
   "execution_count": 42,
   "id": "3caa59fc-fde2-4c44-a066-999cdd7b272b",
   "metadata": {},
   "outputs": [
    {
     "name": "stdout",
     "output_type": "stream",
     "text": [
      "❌ Invalid number format.\n"
     ]
    }
   ],
   "source": [
    "try:\n",
    "    number = int(\"abc\")  # Trying to convert a string to int\n",
    "except ValueError:\n",
    "    print(\"❌ Invalid number format.\")\n"
   ]
  },
  {
   "cell_type": "code",
   "execution_count": 43,
   "id": "7bcd00a6-9384-43a7-a630-18137c8d1425",
   "metadata": {},
   "outputs": [
    {
     "name": "stdout",
     "output_type": "stream",
     "text": [
      "❌ File not found.\n"
     ]
    }
   ],
   "source": [
    "try:\n",
    "    with open(\"non_existent_file.txt\", \"r\") as file:\n",
    "        content = file.read()\n",
    "except FileNotFoundError:\n",
    "    print(\"❌ File not found.\")\n"
   ]
  },
  {
   "cell_type": "code",
   "execution_count": 44,
   "id": "dd151a11-fdd6-4dd0-b18d-7590af9d0830",
   "metadata": {},
   "outputs": [
    {
     "name": "stdout",
     "output_type": "stream",
     "text": [
      "❌ Index out of range.\n"
     ]
    }
   ],
   "source": [
    "try:\n",
    "    items = [1, 2, 3]\n",
    "    print(items[5])\n",
    "except IndexError:\n",
    "    print(\"❌ Index out of range.\")\n"
   ]
  },
  {
   "cell_type": "code",
   "execution_count": 45,
   "id": "21712faf-669a-4f17-a93c-7cc5b6572ff8",
   "metadata": {},
   "outputs": [
    {
     "name": "stdout",
     "output_type": "stream",
     "text": [
      "❌ Key not found in dictionary.\n"
     ]
    }
   ],
   "source": [
    "try:\n",
    "    my_dict = {\"name\": \"Vicky\"}\n",
    "    print(my_dict[\"age\"])\n",
    "except KeyError:\n",
    "    print(\"❌ Key not found in dictionary.\")\n"
   ]
  },
  {
   "cell_type": "code",
   "execution_count": 46,
   "id": "707a8d4f-35b0-46aa-94aa-f70a6e975429",
   "metadata": {},
   "outputs": [
    {
     "name": "stdout",
     "output_type": "stream",
     "text": [
      "❌ That method doesn’t exist for this type.\n"
     ]
    }
   ],
   "source": [
    "try:\n",
    "    number = 10\n",
    "    number.append(5)  # int doesn’t have append\n",
    "except AttributeError:\n",
    "    print(\"❌ That method doesn’t exist for this type.\")\n"
   ]
  },
  {
   "cell_type": "code",
   "execution_count": 48,
   "id": "1bd91d5f-a638-44ff-88ff-7a9d7ff23600",
   "metadata": {},
   "outputs": [
    {
     "name": "stdin",
     "output_type": "stream",
     "text": [
      "Enter a number:  43\n"
     ]
    },
    {
     "name": "stdout",
     "output_type": "stream",
     "text": [
      "2.3255813953488373\n"
     ]
    }
   ],
   "source": [
    "try:\n",
    "    number = int(input(\"Enter a number: \"))\n",
    "    print(100 / number)\n",
    "except ValueError:\n",
    "    print(\"That's not a valid number.\")\n",
    "except ZeroDivisionError:\n",
    "    print(\"Cannot divide by zero.\")\n"
   ]
  },
  {
   "cell_type": "code",
   "execution_count": null,
   "id": "ae216e76-ebb3-48d7-9279-79bddc37f622",
   "metadata": {},
   "outputs": [],
   "source": [
    "# What is a Module?\n",
    "# A module is simply a .py file that contains functions, classes, or variables you want to reuse."
   ]
  },
  {
   "cell_type": "code",
   "execution_count": 54,
   "id": "e53a4cba-9d86-4b28-ac20-44b16296889e",
   "metadata": {},
   "outputs": [],
   "source": [
    "# math_utils is the model of python file written in this Folder"
   ]
  },
  {
   "cell_type": "code",
   "execution_count": 52,
   "id": "ac528747-ee2b-45b4-80ca-a8aabcf38455",
   "metadata": {},
   "outputs": [
    {
     "name": "stdout",
     "output_type": "stream",
     "text": [
      "7\n",
      "12\n"
     ]
    }
   ],
   "source": [
    "import math_utils\n",
    "\n",
    "print(math_utils.add(3, 4))       \n",
    "print(math_utils.multiply(3, 4))\n"
   ]
  },
  {
   "cell_type": "code",
   "execution_count": 55,
   "id": "1591101b-413e-4200-af23-82991992acd9",
   "metadata": {},
   "outputs": [],
   "source": [
    "# What is a Package?\n",
    "# A package is a folder that contains a group of related modules and a special file called __init__.py."
   ]
  },
  {
   "cell_type": "code",
   "execution_count": null,
   "id": "10ec0b5c-cfaf-4c78-b6e6-66aa4b0579fd",
   "metadata": {},
   "outputs": [],
   "source": [
    "\n",
    "my_package/\n",
    "├── __init__.py\n",
    "├── operations.py\n",
    "└── greetings.py\n"
   ]
  },
  {
   "cell_type": "code",
   "execution_count": 65,
   "id": "d22d29da-7cd9-46ae-b0ad-d845c2d4355d",
   "metadata": {},
   "outputs": [],
   "source": [
    "## Data Times"
   ]
  },
  {
   "cell_type": "markdown",
   "id": "d6f2b19e-8f61-469c-be26-1bb92bf81366",
   "metadata": {},
   "source": [
    "##### Write a code to print only the current month and year at the time of answering this question."
   ]
  },
  {
   "cell_type": "code",
   "execution_count": 61,
   "id": "6890822e-6b28-4478-b3f2-70cf8b63059a",
   "metadata": {},
   "outputs": [
    {
     "name": "stdout",
     "output_type": "stream",
     "text": [
      "The current month and year are: May, 2025\n"
     ]
    }
   ],
   "source": [
    "import datetime\n",
    "\n",
    "now = datetime.datetime.now()\n",
    "\n",
    "current_month_year = now.strftime(\"%B, %Y\")\n",
    "\n",
    "print(f\"The current month and year are: {current_month_year}\")"
   ]
  },
  {
   "cell_type": "code",
   "execution_count": 58,
   "id": "aeed84b2-4afa-42b0-b2d1-1e5526832b26",
   "metadata": {},
   "outputs": [
    {
     "name": "stdout",
     "output_type": "stream",
     "text": [
      "2025-05-19\n",
      "2025\n",
      "5\n",
      "19\n"
     ]
    }
   ],
   "source": [
    "import datetime\n",
    "today = datetime.date.today()\n",
    "print(today)           \n",
    "print(today.year)      \n",
    "print(today.month)    \n",
    "print(today.day)       "
   ]
  },
  {
   "cell_type": "code",
   "execution_count": 62,
   "id": "88156342-bb17-4b21-8b06-07f73323d593",
   "metadata": {},
   "outputs": [
    {
     "name": "stdout",
     "output_type": "stream",
     "text": [
      "7 days later: 2025-05-26\n"
     ]
    }
   ],
   "source": [
    "from datetime import timedelta\n",
    "\n",
    "today = datetime.date.today()\n",
    "future = today + timedelta(days=7)\n",
    "print(\"7 days later:\", future)"
   ]
  },
  {
   "cell_type": "code",
   "execution_count": 63,
   "id": "cbb49cf4-4a75-462e-a6d9-27f9fb78eb90",
   "metadata": {},
   "outputs": [
    {
     "name": "stdout",
     "output_type": "stream",
     "text": [
      "19-05-2025 19:50\n"
     ]
    }
   ],
   "source": [
    "now = datetime.datetime.now()\n",
    "print(now.strftime(\"%d-%m-%Y %H:%M\")) "
   ]
  },
  {
   "cell_type": "code",
   "execution_count": 66,
   "id": "a4c6faac-231e-4669-934a-e6f9868a1039",
   "metadata": {},
   "outputs": [
    {
     "name": "stdout",
     "output_type": "stream",
     "text": [
      "        date  sales\n",
      "0 2025-01-01    169\n",
      "1 2025-01-02    184\n",
      "2 2025-01-03    144\n",
      "3 2025-01-04    153\n",
      "4 2025-01-05    102\n",
      "5 2025-01-06    185\n",
      "6 2025-01-07    107\n"
     ]
    }
   ],
   "source": [
    "import numpy as np\n",
    "\n",
    "ts = pd.DataFrame({\n",
    "    \"date\": pd.date_range(start=\"2025-01-01\", periods=7),\n",
    "    \"sales\": np.random.randint(100, 200, size=7)\n",
    "})\n",
    "print(ts)\n"
   ]
  },
  {
   "cell_type": "code",
   "execution_count": null,
   "id": "4d814dfd-7b96-4381-97ef-d672b5b1cfa7",
   "metadata": {},
   "outputs": [],
   "source": []
  },
  {
   "cell_type": "code",
   "execution_count": 67,
   "id": "62654e33-ec38-4376-bf4b-391af7157725",
   "metadata": {},
   "outputs": [],
   "source": [
    "# NEXT \n",
    "\n",
    "# Python Libraries\n"
   ]
  },
  {
   "cell_type": "code",
   "execution_count": null,
   "id": "63a55efe-2db4-4341-a2cd-f35dbe85c65f",
   "metadata": {},
   "outputs": [],
   "source": []
  },
  {
   "cell_type": "code",
   "execution_count": null,
   "id": "d182a010-4958-4145-8219-1e57dbaf4519",
   "metadata": {},
   "outputs": [],
   "source": []
  },
  {
   "cell_type": "code",
   "execution_count": null,
   "id": "33d6812e-f2b1-4d3a-a1ad-367c836cab74",
   "metadata": {},
   "outputs": [],
   "source": []
  },
  {
   "cell_type": "code",
   "execution_count": null,
   "id": "575e1fb7-af72-4e66-a91f-72c58f671d11",
   "metadata": {},
   "outputs": [],
   "source": [
    "\n"
   ]
  }
 ],
 "metadata": {
  "kernelspec": {
   "display_name": "Python 3 (ipykernel)",
   "language": "python",
   "name": "python3"
  },
  "language_info": {
   "codemirror_mode": {
    "name": "ipython",
    "version": 3
   },
   "file_extension": ".py",
   "mimetype": "text/x-python",
   "name": "python",
   "nbconvert_exporter": "python",
   "pygments_lexer": "ipython3",
   "version": "3.12.4"
  }
 },
 "nbformat": 4,
 "nbformat_minor": 5
}
