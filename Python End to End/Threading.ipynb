{
 "cells": [
  {
   "cell_type": "code",
   "execution_count": 1,
   "id": "83f43034-703b-424d-9252-b7bfeef15986",
   "metadata": {},
   "outputs": [],
   "source": [
    "import threading"
   ]
  },
  {
   "cell_type": "markdown",
   "id": "cc1f1d76-ec3c-4805-a860-b2a188ea9d64",
   "metadata": {},
   "source": [
    "#### Threading in Python enables concurrent execution of different parts of a program, enhancing efficiency and responsiveness. "
   ]
  },
  {
   "cell_type": "markdown",
   "id": "98838409-0ca9-4c91-b494-a1b4488d1365",
   "metadata": {},
   "source": [
    "threading.Thread creates a new thread.\n",
    "\n",
    "target=add specifies the function to run.\n",
    "\n",
    "args=(5, 10) passes the arguments to the function.\n",
    "\n",
    "start() begins the thread.\n",
    "\n",
    "join() makes sure the main program waits for the thread to complete."
   ]
  },
  {
   "cell_type": "code",
   "execution_count": 3,
   "id": "331b35ff-4b79-43f4-809a-97b396696031",
   "metadata": {},
   "outputs": [],
   "source": [
    "def add(a,b):\n",
    "    print(f\" add {a} and {b} is : {a+b}\")"
   ]
  },
  {
   "cell_type": "code",
   "execution_count": 4,
   "id": "c3288d73-bf00-4c40-a785-38789ea70745",
   "metadata": {},
   "outputs": [
    {
     "name": "stdout",
     "output_type": "stream",
     "text": [
      " add 12 and 9 is : 21\n"
     ]
    }
   ],
   "source": [
    "add(12,9)"
   ]
  },
  {
   "cell_type": "code",
   "execution_count": 14,
   "id": "5a0bea7e-b161-4053-b32d-857d3c211791",
   "metadata": {},
   "outputs": [],
   "source": [
    "thread = threading.Thread(target=add, args=(1,41))"
   ]
  },
  {
   "cell_type": "code",
   "execution_count": 18,
   "id": "310b9aeb-d019-422b-b301-479f20752ece",
   "metadata": {},
   "outputs": [
    {
     "name": "stdout",
     "output_type": "stream",
     "text": [
      " add 1 and 41 is : 42\n"
     ]
    }
   ],
   "source": [
    "thread.start()"
   ]
  },
  {
   "cell_type": "code",
   "execution_count": 19,
   "id": "cecfc27c-3977-4e0a-bc34-5f831a333aac",
   "metadata": {},
   "outputs": [],
   "source": [
    "thread.join()"
   ]
  },
  {
   "cell_type": "code",
   "execution_count": 24,
   "id": "0d51949f-2e88-4e1d-8b0c-8f9892b5625f",
   "metadata": {},
   "outputs": [],
   "source": [
    "def test(id) :\n",
    "    print(\"this is my test id %d \" % id)"
   ]
  },
  {
   "cell_type": "code",
   "execution_count": 25,
   "id": "eb6d19b5-0185-470f-8598-85dd8c67ed01",
   "metadata": {},
   "outputs": [
    {
     "name": "stdout",
     "output_type": "stream",
     "text": [
      "this is my test id 4 \n"
     ]
    }
   ],
   "source": [
    "test(4)"
   ]
  },
  {
   "cell_type": "code",
   "execution_count": 26,
   "id": "8855e2d3-91d0-486b-b763-35db3ba6fbc6",
   "metadata": {},
   "outputs": [],
   "source": [
    "thred = [threading.Thread(target=test , args = (i,)) for i in [10 , 1 ,3]]"
   ]
  },
  {
   "cell_type": "code",
   "execution_count": 27,
   "id": "b68bdf15-91bc-434b-a287-be4525ef79dc",
   "metadata": {},
   "outputs": [
    {
     "data": {
      "text/plain": [
       "[<Thread(Thread-8 (test), initial)>,\n",
       " <Thread(Thread-9 (test), initial)>,\n",
       " <Thread(Thread-10 (test), initial)>]"
      ]
     },
     "execution_count": 27,
     "metadata": {},
     "output_type": "execute_result"
    }
   ],
   "source": [
    "thred"
   ]
  },
  {
   "cell_type": "code",
   "execution_count": 28,
   "id": "ba36eece-0f8c-46b3-afb5-bdebff6166f4",
   "metadata": {},
   "outputs": [
    {
     "name": "stdout",
     "output_type": "stream",
     "text": [
      "this is my test id 10 \n",
      "this is my test id 1 \n",
      "this is my test id 3 \n"
     ]
    }
   ],
   "source": [
    "for t in thred:\n",
    "    t.start()"
   ]
  },
  {
   "cell_type": "code",
   "execution_count": 29,
   "id": "339a280c-ded5-4ab9-a49f-e3dfe245f3cd",
   "metadata": {},
   "outputs": [],
   "source": [
    "## Urllib request"
   ]
  },
  {
   "cell_type": "code",
   "execution_count": 30,
   "id": "9c58b296-ef63-4e32-a2c1-08a3f7e0e3ab",
   "metadata": {},
   "outputs": [],
   "source": [
    "import urllib.request\n",
    "\n",
    "def file_download(url , filename):\n",
    "    urllib.request.urlretrieve(url , filename)"
   ]
  },
  {
   "cell_type": "code",
   "execution_count": 31,
   "id": "2f2c630c-b7c2-439a-b773-3d82605d5535",
   "metadata": {},
   "outputs": [],
   "source": [
    "file_download('https://raw.githubusercontent.com/itsfoss/text-files/master/agatha.txt' , \"test1.txt\")"
   ]
  },
  {
   "cell_type": "code",
   "execution_count": 32,
   "id": "c69ffed5-3938-4a2e-bd72-3ce0d5a3b715",
   "metadata": {},
   "outputs": [],
   "source": [
    "url_list = ['https://raw.githubusercontent.com/itsfoss/text-files/master/agatha.txt' , 'https://raw.githubusercontent.com/itsfoss/text-files/master/sherlock.txt' ,'https://raw.githubusercontent.com/itsfoss/text-files/master/sample_log_file.txt' ]"
   ]
  },
  {
   "cell_type": "code",
   "execution_count": 33,
   "id": "76884f3d-a4be-42b2-ada1-28e76de346dc",
   "metadata": {},
   "outputs": [
    {
     "data": {
      "text/plain": [
       "['https://raw.githubusercontent.com/itsfoss/text-files/master/agatha.txt',\n",
       " 'https://raw.githubusercontent.com/itsfoss/text-files/master/sherlock.txt',\n",
       " 'https://raw.githubusercontent.com/itsfoss/text-files/master/sample_log_file.txt']"
      ]
     },
     "execution_count": 33,
     "metadata": {},
     "output_type": "execute_result"
    }
   ],
   "source": [
    "url_list"
   ]
  },
  {
   "cell_type": "code",
   "execution_count": 34,
   "id": "3178d872-a698-4d9b-bc0d-5e31a1e63001",
   "metadata": {},
   "outputs": [],
   "source": [
    "data_file_list = ['data1.txt', 'data2.txt','data3.txt']"
   ]
  },
  {
   "cell_type": "code",
   "execution_count": 35,
   "id": "5220ad53-b8aa-4b53-80d6-ae29aae83fe6",
   "metadata": {},
   "outputs": [
    {
     "data": {
      "text/plain": [
       "['data1.txt', 'data2.txt', 'data3.txt']"
      ]
     },
     "execution_count": 35,
     "metadata": {},
     "output_type": "execute_result"
    }
   ],
   "source": [
    "data_file_list"
   ]
  },
  {
   "cell_type": "code",
   "execution_count": 36,
   "id": "d4f8e944-e278-49e1-9e3b-30f08a04f070",
   "metadata": {},
   "outputs": [],
   "source": [
    "thread1 = [threading.Thread(target=file_download , args=(url_list[i],data_file_list[i])) for i in range(len(url_list))]"
   ]
  },
  {
   "cell_type": "code",
   "execution_count": 37,
   "id": "1a7d5f05-dfdf-41f5-b421-b94904e7496c",
   "metadata": {},
   "outputs": [],
   "source": [
    "for t in thread1:\n",
    "    t.start()"
   ]
  },
  {
   "cell_type": "code",
   "execution_count": 38,
   "id": "a86a60ad-9925-4054-bd12-d3d492ffb4bd",
   "metadata": {},
   "outputs": [
    {
     "data": {
      "text/plain": [
       "[<Thread(Thread-11 (file_download), stopped 1192)>,\n",
       " <Thread(Thread-12 (file_download), stopped 16732)>,\n",
       " <Thread(Thread-13 (file_download), stopped 920)>]"
      ]
     },
     "execution_count": 38,
     "metadata": {},
     "output_type": "execute_result"
    }
   ],
   "source": [
    "thread1"
   ]
  },
  {
   "cell_type": "code",
   "execution_count": 40,
   "id": "7a7612d2-b486-4a47-afb2-2ebee722d061",
   "metadata": {},
   "outputs": [],
   "source": [
    "import time"
   ]
  },
  {
   "cell_type": "code",
   "execution_count": 41,
   "id": "3ab9b834-810d-4205-a722-d7311fb56c8d",
   "metadata": {
    "scrolled": true
   },
   "outputs": [
    {
     "name": "stdout",
     "output_type": "stream",
     "text": [
      "value of x 1 and value of shareed_var 1 \n",
      "value of x 2 and value of shareed_var 2 \n",
      "value of x 3 and value of shareed_var 3 \n",
      "value of x 4 and value of shareed_var 4 \n",
      "value of x 4 and value of shareed_var 5 \n",
      "value of x 5 and value of shareed_var 6 \n"
     ]
    }
   ],
   "source": [
    "shared_var = 0 \n",
    "lock_var = threading.Lock()\n",
    "def test4(x) : \n",
    "    global shared_var\n",
    "    with lock_var : \n",
    "        shared_var = shared_var + 1\n",
    "        print(\"value of x %d and value of shareed_var %d \" %(x, shared_var))\n",
    "        time.sleep(1)\n",
    " \n",
    "thread5  = [threading.Thread(target=test4 , args = (i,)) for i in [1,2,3,4,4,5]]\n",
    "for t in thread5 : \n",
    "    t.start()"
   ]
  },
  {
   "cell_type": "code",
   "execution_count": 42,
   "id": "8a750395-2d06-4d0d-8e6f-db12466e215c",
   "metadata": {},
   "outputs": [],
   "source": [
    "# sleep - sleep for given time"
   ]
  },
  {
   "cell_type": "code",
   "execution_count": null,
   "id": "288bcdd9-534c-40f3-a0cd-00c43c41a7f5",
   "metadata": {},
   "outputs": [],
   "source": []
  }
 ],
 "metadata": {
  "kernelspec": {
   "display_name": "Python 3 (ipykernel)",
   "language": "python",
   "name": "python3"
  },
  "language_info": {
   "codemirror_mode": {
    "name": "ipython",
    "version": 3
   },
   "file_extension": ".py",
   "mimetype": "text/x-python",
   "name": "python",
   "nbconvert_exporter": "python",
   "pygments_lexer": "ipython3",
   "version": "3.12.4"
  }
 },
 "nbformat": 4,
 "nbformat_minor": 5
}
