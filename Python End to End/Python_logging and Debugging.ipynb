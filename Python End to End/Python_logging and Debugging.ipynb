{
 "cells": [
  {
   "cell_type": "code",
   "execution_count": 1,
   "id": "8c55ac4a-335f-4c1b-9b49-c9837dece030",
   "metadata": {},
   "outputs": [
    {
     "name": "stdout",
     "output_type": "stream",
     "text": [
      "Hello World\n"
     ]
    }
   ],
   "source": [
    "print(\"Hello World\")"
   ]
  },
  {
   "cell_type": "code",
   "execution_count": 2,
   "id": "561337ca-bace-4728-a5c7-5f52f44eff97",
   "metadata": {},
   "outputs": [],
   "source": [
    "import logging"
   ]
  },
  {
   "cell_type": "code",
   "execution_count": null,
   "id": "31b57138-93b6-4d58-9ce2-7d38f01bce15",
   "metadata": {},
   "outputs": [],
   "source": [
    "# Why do we use logging ?\n",
    "# We use logging to store the process information like what's going on ?\n",
    "# and if there is any issues you can check in log file know the isssue and solve it."
   ]
  },
  {
   "cell_type": "code",
   "execution_count": 3,
   "id": "26100eed-6173-4a8c-8dad-c674383a0cd3",
   "metadata": {},
   "outputs": [],
   "source": [
    "import logging"
   ]
  },
  {
   "cell_type": "code",
   "execution_count": 4,
   "id": "b47fab94-6d45-47ca-834a-08b848b041be",
   "metadata": {},
   "outputs": [],
   "source": [
    "logging.basicConfig(filename = \"test.log\",level = logging.INFO)"
   ]
  },
  {
   "cell_type": "code",
   "execution_count": 5,
   "id": "91d5603a-0ed8-4814-816f-091de1ae0294",
   "metadata": {},
   "outputs": [],
   "source": [
    "logging.info(\"Hello My name is Vishnu\")"
   ]
  },
  {
   "cell_type": "code",
   "execution_count": 6,
   "id": "58119eb5-f4d8-4e86-aeb1-b37542a454ae",
   "metadata": {},
   "outputs": [],
   "source": [
    "logging.error(\" Error in code\")"
   ]
  },
  {
   "cell_type": "code",
   "execution_count": 7,
   "id": "6026c57d-c0d9-4c21-8b3b-88769645ac33",
   "metadata": {},
   "outputs": [],
   "source": [
    "logging.critical(\"First code critical\")"
   ]
  },
  {
   "cell_type": "code",
   "execution_count": 8,
   "id": "943c190b-7c7d-47b4-b432-ca9e785ddf51",
   "metadata": {},
   "outputs": [],
   "source": [
    "logging.warning(\"Do this it is warning \")"
   ]
  },
  {
   "cell_type": "code",
   "execution_count": 9,
   "id": "d8b2d585-c172-464b-836b-bbb3fcc3d18a",
   "metadata": {},
   "outputs": [],
   "source": [
    "logging.debug(\"code  to  be debug\")"
   ]
  },
  {
   "cell_type": "code",
   "execution_count": 10,
   "id": "4d63c1a3-2e52-4ebf-b2b2-501ff28ad996",
   "metadata": {},
   "outputs": [],
   "source": [
    "logging.shutdown()"
   ]
  },
  {
   "cell_type": "code",
   "execution_count": 13,
   "id": "7ef5f384-902c-4681-928d-b976f60910ca",
   "metadata": {},
   "outputs": [
    {
     "name": "stdout",
     "output_type": "stream",
     "text": [
      "INFO:root:Hello My name is Vishnu\n",
      "ERROR:root: Error in code\n",
      "CRITICAL:root:First code critical\n",
      "WARNING:root:Do this it is warning \n",
      "\n"
     ]
    }
   ],
   "source": [
    "with open('test.log', 'r') as file:\n",
    "    content = file.read()\n",
    "    print(content)"
   ]
  },
  {
   "cell_type": "code",
   "execution_count": 14,
   "id": "4ba20d0e-6b2d-4125-80f6-53bd7024e3a6",
   "metadata": {},
   "outputs": [],
   "source": [
    "logging.basicConfig(filename = \"test3.log\" , level = logging.DEBUG, format = '%(asctime)s %(name)s %(levelname)s  %(message)s')"
   ]
  },
  {
   "cell_type": "code",
   "execution_count": 15,
   "id": "cf82a5e5-f574-443c-8f9a-0101db8c3e6b",
   "metadata": {},
   "outputs": [],
   "source": [
    "logging.info(\"this is my info log\")"
   ]
  },
  {
   "cell_type": "code",
   "execution_count": 16,
   "id": "cb4ac2d5-0c42-4889-b373-d729749bfb5e",
   "metadata": {},
   "outputs": [
    {
     "name": "stdout",
     "output_type": "stream",
     "text": [
      "INFO:root:Hello My name is Vishnu\n",
      "ERROR:root: Error in code\n",
      "CRITICAL:root:First code critical\n",
      "WARNING:root:Do this it is warning \n",
      "INFO:root:this is my info log\n",
      "\n"
     ]
    }
   ],
   "source": [
    "with open('test.log', 'r') as file:\n",
    "    content = file.read()\n",
    "    print(content)"
   ]
  },
  {
   "cell_type": "code",
   "execution_count": 18,
   "id": "0ad892b7-93bd-40e2-90ab-0767f44937ea",
   "metadata": {},
   "outputs": [
    {
     "name": "stdout",
     "output_type": "stream",
     "text": [
      "a = 10, b = 2\n"
     ]
    },
    {
     "data": {
      "text/plain": [
       "5.0"
      ]
     },
     "execution_count": 18,
     "metadata": {},
     "output_type": "execute_result"
    }
   ],
   "source": [
    "def divide(a, b):\n",
    "    print(f\"a = {a}, b = {b}\")\n",
    "    logging.info(f\"Data a is {a} and b is {b}\")\n",
    "    return a / b\n",
    "\n",
    "divide(10, 2)\n"
   ]
  },
  {
   "cell_type": "code",
   "execution_count": 19,
   "id": "0a71fea6-53ba-4eb3-81a1-cb708f7da027",
   "metadata": {},
   "outputs": [
    {
     "name": "stdout",
     "output_type": "stream",
     "text": [
      "INFO:root:Hello My name is Vishnu\n",
      "ERROR:root: Error in code\n",
      "CRITICAL:root:First code critical\n",
      "WARNING:root:Do this it is warning \n",
      "INFO:root:this is my info log\n",
      "INFO:root:Data a is 10 and b is 2\n",
      "\n"
     ]
    }
   ],
   "source": [
    "with open('test.log', 'r') as file:\n",
    "    content = file.read()\n",
    "    print(content)"
   ]
  },
  {
   "cell_type": "code",
   "execution_count": 56,
   "id": "72d5986f-ac10-42fd-a594-a1f9b153cc2b",
   "metadata": {},
   "outputs": [],
   "source": [
    "import logging\n",
    "logging.basicConfig(filename=\"bankdata.log\", level=logging.INFO)"
   ]
  },
  {
   "cell_type": "code",
   "execution_count": 4,
   "id": "684163db-4b92-4ab6-8b85-93361dc5b797",
   "metadata": {},
   "outputs": [
    {
     "name": "stdin",
     "output_type": "stream",
     "text": [
      "Enter card number:  133\n"
     ]
    },
    {
     "name": "stdout",
     "output_type": "stream",
     "text": [
      "Invalid card number.\n"
     ]
    }
   ],
   "source": [
    "# atm\n",
    "\n",
    "card_balance_amount = {\"1111\": 1990, \"2222\": 27272, \"3333\": 8282}\n",
    "\n",
    "card_data = input(\"Enter card number: \")\n",
    "if card_data in card_balance_amount:\n",
    "    logging.info(f\"Card number {card_data} is valid. Proceeding with withdrawal.\")\n",
    "    print(\"Valid card. You can withdraw.\")\n",
    "    print(\"-- Please enter the amount to withdraw --\")\n",
    "\n",
    "    try:\n",
    "        withdraw = int(input(\"Enter amount to withdraw: \"))\n",
    "        current_balance = card_balance_amount[card_data]\n",
    "        logging.info(f\"Current balance: {current_balance}\")\n",
    "\n",
    "        if withdraw > 0 and withdraw <= current_balance:\n",
    "            new_balance = current_balance - withdraw\n",
    "            card_balance_amount[card_data] = new_balance\n",
    "            logging.info(f\"Balance after withdrawal: {new_balance}\")\n",
    "            print(f\"Withdrawal successful! Remaining balance: {new_balance}\")\n",
    "        else:\n",
    "            print(\"Insufficient balance or invalid amount.\")\n",
    "            logging.error(\"Entered invalid amount or insufficient balance.\")\n",
    "    except ValueError:\n",
    "        print(\"Invalid input. Please enter a numeric amount.\")\n",
    "        logging.error(\"Non-integer value entered for withdrawal.\")\n",
    "else:\n",
    "    print(\"Invalid card number.\")\n",
    "    logging.error(\"Entered invalid card number.\")\n"
   ]
  },
  {
   "cell_type": "code",
   "execution_count": 3,
   "id": "60ae24b1-9853-480c-a175-0b5fb08a272c",
   "metadata": {},
   "outputs": [
    {
     "name": "stdout",
     "output_type": "stream",
     "text": [
      "INFO:root:Logging system initialized.\n",
      "INFO:root:Card number 1111 is valid. Proceeding with withdrawal.\n",
      "INFO:root:Current balance: 1990\n",
      "INFO:root:Balance after withdrawal: 756\n",
      "\n"
     ]
    }
   ],
   "source": [
    "with open(\"bankdata.log\", \"r\") as file:\n",
    "    content = file.read()\n",
    "    print(content)\n"
   ]
  },
  {
   "cell_type": "code",
   "execution_count": 5,
   "id": "80d0aae5-ed26-40bf-b12b-d8ff399797cb",
   "metadata": {},
   "outputs": [
    {
     "name": "stdout",
     "output_type": "stream",
     "text": [
      "INFO:root:Logging system initialized.\n",
      "INFO:root:Card number 1111 is valid. Proceeding with withdrawal.\n",
      "INFO:root:Current balance: 1990\n",
      "INFO:root:Balance after withdrawal: 756\n",
      "ERROR:root:Entered invalid card number.\n",
      "\n"
     ]
    }
   ],
   "source": [
    "with open(\"bankdata.log\", \"r\") as file:\n",
    "    content = file.read()\n",
    "    print(content)\n"
   ]
  },
  {
   "cell_type": "code",
   "execution_count": 6,
   "id": "92e777c3-d83b-42fc-8527-86dae4f0fc50",
   "metadata": {},
   "outputs": [],
   "source": [
    "logging.basicConfig(filename = \"test3.log\" , level = logging.DEBUG, format = '%(asctime)s %(name)s %(levelname)s  %(message)s')"
   ]
  },
  {
   "cell_type": "code",
   "execution_count": 8,
   "id": "17b8ab04-fe03-4b5f-9132-d4695928c3f7",
   "metadata": {},
   "outputs": [],
   "source": [
    "l = [1,2,3,4,[4,5,6] , \"Vishnu\" ,\"kumar\"]"
   ]
  },
  {
   "cell_type": "code",
   "execution_count": 9,
   "id": "0694019c-c3c2-4ff1-bfed-f88f7f0506e7",
   "metadata": {},
   "outputs": [],
   "source": [
    "l1_int = []\n",
    "l2_str = []\n",
    "for i in l : \n",
    "    logging.info(\"this is the start of my first for loop {}\".format(l))\n",
    "    logging.info(\"this is the value of i am logging {}\".format(i))\n",
    "    if type(i) == list:\n",
    "        for j in i :\n",
    "            logging.info(\"logggin my j {j} and i is {i}\".format(i = i ,j = j))\n",
    "            if type(j) == int :\n",
    "                l1_int.append(j)\n",
    "    elif type(i) == int :\n",
    "        l1_int.append(i)\n",
    "        \n",
    "    else :\n",
    "        if type(i) == str:\n",
    "            l2_str.append(i)\n",
    "logging.info(\"this is my final result  with all int {l1} ,with all str{l2}\".format(l1 =l1_int ,l2 =l2_str ))\n",
    "        "
   ]
  },
  {
   "cell_type": "code",
   "execution_count": null,
   "id": "fc7bd458-de79-4c8c-b4cd-7fd1af640747",
   "metadata": {},
   "outputs": [],
   "source": []
  }
 ],
 "metadata": {
  "kernelspec": {
   "display_name": "Python 3 (ipykernel)",
   "language": "python",
   "name": "python3"
  },
  "language_info": {
   "codemirror_mode": {
    "name": "ipython",
    "version": 3
   },
   "file_extension": ".py",
   "mimetype": "text/x-python",
   "name": "python",
   "nbconvert_exporter": "python",
   "pygments_lexer": "ipython3",
   "version": "3.12.4"
  }
 },
 "nbformat": 4,
 "nbformat_minor": 5
}
