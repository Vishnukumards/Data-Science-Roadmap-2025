{
 "cells": [
  {
   "cell_type": "code",
   "execution_count": 1,
   "id": "7ab79f24-1240-411b-b020-cf49e9c0ceb8",
   "metadata": {},
   "outputs": [],
   "source": [
    "import pandas as pd"
   ]
  },
  {
   "cell_type": "code",
   "execution_count": 4,
   "id": "9cc58998-055d-41c8-8637-9fd4de61e089",
   "metadata": {},
   "outputs": [],
   "source": [
    "course_name = [\"Data Science\", \"Machine Learning\", \"Big Data\", \"Data Engineer\"]\n",
    "duration = [2,3,6,4]\n",
    "df = pd.DataFrame(data = {\"course_name\" : course_name, \"duration\" : duration})"
   ]
  },
  {
   "cell_type": "code",
   "execution_count": 5,
   "id": "e92e7cca-fd01-4e2c-92c6-00734c438a02",
   "metadata": {},
   "outputs": [
    {
     "data": {
      "text/html": [
       "<div>\n",
       "<style scoped>\n",
       "    .dataframe tbody tr th:only-of-type {\n",
       "        vertical-align: middle;\n",
       "    }\n",
       "\n",
       "    .dataframe tbody tr th {\n",
       "        vertical-align: top;\n",
       "    }\n",
       "\n",
       "    .dataframe thead th {\n",
       "        text-align: right;\n",
       "    }\n",
       "</style>\n",
       "<table border=\"1\" class=\"dataframe\">\n",
       "  <thead>\n",
       "    <tr style=\"text-align: right;\">\n",
       "      <th></th>\n",
       "      <th>course_name</th>\n",
       "      <th>duration</th>\n",
       "    </tr>\n",
       "  </thead>\n",
       "  <tbody>\n",
       "    <tr>\n",
       "      <th>0</th>\n",
       "      <td>Data Science</td>\n",
       "      <td>2</td>\n",
       "    </tr>\n",
       "    <tr>\n",
       "      <th>1</th>\n",
       "      <td>Machine Learning</td>\n",
       "      <td>3</td>\n",
       "    </tr>\n",
       "    <tr>\n",
       "      <th>2</th>\n",
       "      <td>Big Data</td>\n",
       "      <td>6</td>\n",
       "    </tr>\n",
       "    <tr>\n",
       "      <th>3</th>\n",
       "      <td>Data Engineer</td>\n",
       "      <td>4</td>\n",
       "    </tr>\n",
       "  </tbody>\n",
       "</table>\n",
       "</div>"
      ],
      "text/plain": [
       "        course_name  duration\n",
       "0      Data Science         2\n",
       "1  Machine Learning         3\n",
       "2          Big Data         6\n",
       "3     Data Engineer         4"
      ]
     },
     "execution_count": 5,
     "metadata": {},
     "output_type": "execute_result"
    }
   ],
   "source": [
    "df"
   ]
  },
  {
   "cell_type": "markdown",
   "id": "7d63162e-725a-45c4-84ea-453ad3fe13db",
   "metadata": {},
   "source": [
    "### code to print the data present in the second row"
   ]
  },
  {
   "cell_type": "code",
   "execution_count": 13,
   "id": "c0da4d97-97ce-406b-88bd-cd197e81e612",
   "metadata": {},
   "outputs": [
    {
     "data": {
      "text/plain": [
       "course_name    Big Data\n",
       "duration              6\n",
       "Name: 2, dtype: object"
      ]
     },
     "execution_count": 13,
     "metadata": {},
     "output_type": "execute_result"
    }
   ],
   "source": [
    "df.loc[2]"
   ]
  },
  {
   "cell_type": "code",
   "execution_count": 15,
   "id": "dbf4908a-68f4-486b-8011-5b6347142757",
   "metadata": {},
   "outputs": [],
   "source": [
    "# What is the difference between the functions loc and iloc in pandas.DataFrame?\n",
    "\n",
    "# Use loc when you know the specific labels of the rows and columns you want to access. \n",
    "# Use iloc when you want to select data based on its position in the DataFrame, regardless of the labels."
   ]
  },
  {
   "cell_type": "markdown",
   "id": "966718a9-ac21-466a-b8c9-795d20943669",
   "metadata": {},
   "source": [
    "### Reindex = [3,0,1,2] , find the output for both new_df.loc[2] and new_df.iloc[2]."
   ]
  },
  {
   "cell_type": "code",
   "execution_count": 19,
   "id": "53ea6f60-8acc-48ab-9e73-bb04f61d1a83",
   "metadata": {},
   "outputs": [
    {
     "name": "stdout",
     "output_type": "stream",
     "text": [
      "Original DataFrame:\n",
      "   col1  col2\n",
      "0    10   100\n",
      "1    20   200\n",
      "2    30   300\n",
      "3    40   400\n"
     ]
    }
   ],
   "source": [
    "import pandas as pd\n",
    "\n",
    "# Given DataFrame (assuming you meant a DataFrame like this)\n",
    "data = {'col1': [10, 20, 30, 40],\n",
    "        'col2': [100, 200, 300, 400]}\n",
    "df = pd.DataFrame(data)\n",
    "print(\"Original DataFrame:\")\n",
    "print(df)"
   ]
  },
  {
   "cell_type": "code",
   "execution_count": 21,
   "id": "48acffb8-948f-4872-9e96-7489ced54d02",
   "metadata": {},
   "outputs": [],
   "source": [
    "# Reindexing variable\n",
    "reindex_list = [3, 0, 1, 2]\n",
    "new_df = df.reindex(reindex_list)"
   ]
  },
  {
   "cell_type": "code",
   "execution_count": 23,
   "id": "d8dbb7ff-c55b-4e12-9083-bb381d1b25cb",
   "metadata": {},
   "outputs": [
    {
     "data": {
      "text/plain": [
       "col1     30\n",
       "col2    300\n",
       "Name: 2, dtype: int64"
      ]
     },
     "execution_count": 23,
     "metadata": {},
     "output_type": "execute_result"
    }
   ],
   "source": [
    "new_df.loc[2]"
   ]
  },
  {
   "cell_type": "code",
   "execution_count": 24,
   "id": "797994e1-c149-44e0-97f0-60d7c324c59c",
   "metadata": {},
   "outputs": [
    {
     "data": {
      "text/plain": [
       "col1     20\n",
       "col2    200\n",
       "Name: 1, dtype: int64"
      ]
     },
     "execution_count": 24,
     "metadata": {},
     "output_type": "execute_result"
    }
   ],
   "source": [
    "new_df.iloc[2]"
   ]
  },
  {
   "cell_type": "markdown",
   "id": "b7f4bd06-b12e-4561-801b-fbb1168133e7",
   "metadata": {},
   "source": [
    "#### Mean of each column  and Standard Deviation of column_2"
   ]
  },
  {
   "cell_type": "code",
   "execution_count": 26,
   "id": "4c40f4f4-f275-4549-9df8-18f3e4b8dafe",
   "metadata": {},
   "outputs": [],
   "source": [
    "import pandas as pd\n",
    "import numpy as np\n",
    "columns = ['column_1', 'column_2', 'column_3', 'column_4', 'column_5', 'column_6']\n",
    "indices = [1,2,3,4,5,6]\n",
    "#Creating a dataframe:\n",
    "df1 = pd.DataFrame(np.random.rand(6,6), columns = columns, index = indices)"
   ]
  },
  {
   "cell_type": "code",
   "execution_count": 30,
   "id": "3cd8ef87-3d5f-4799-a0e8-af718b62f3db",
   "metadata": {},
   "outputs": [
    {
     "data": {
      "text/plain": [
       "column_1    0.544667\n",
       "column_2    0.487910\n",
       "column_3    0.482903\n",
       "column_4    0.452133\n",
       "column_5    0.449635\n",
       "column_6    0.676716\n",
       "dtype: float64"
      ]
     },
     "execution_count": 30,
     "metadata": {},
     "output_type": "execute_result"
    }
   ],
   "source": [
    "df1.mean()"
   ]
  },
  {
   "cell_type": "code",
   "execution_count": 35,
   "id": "46542cfd-f9d3-4d98-809e-236e58d6b62a",
   "metadata": {},
   "outputs": [
    {
     "data": {
      "text/plain": [
       "0.2569394578664882"
      ]
     },
     "execution_count": 35,
     "metadata": {},
     "output_type": "execute_result"
    }
   ],
   "source": [
    "df1[\"column_2\"].std()"
   ]
  },
  {
   "cell_type": "markdown",
   "id": "79df256d-1718-494f-8276-4fd13ed8c19e",
   "metadata": {},
   "source": [
    "#### Replace the data present in the second row of column, ‘column_2’ with mean of \"column_2\""
   ]
  },
  {
   "cell_type": "code",
   "execution_count": 49,
   "id": "eab31cef-917a-457f-b5d7-28a05babbe9a",
   "metadata": {},
   "outputs": [],
   "source": [
    "df1[\"column_2\"].loc[2] = df1[\"column_2\"].mean()"
   ]
  },
  {
   "cell_type": "code",
   "execution_count": 48,
   "id": "9831f290-f6aa-49e7-9b43-b1e9ac181b5f",
   "metadata": {},
   "outputs": [
    {
     "data": {
      "text/html": [
       "<div>\n",
       "<style scoped>\n",
       "    .dataframe tbody tr th:only-of-type {\n",
       "        vertical-align: middle;\n",
       "    }\n",
       "\n",
       "    .dataframe tbody tr th {\n",
       "        vertical-align: top;\n",
       "    }\n",
       "\n",
       "    .dataframe thead th {\n",
       "        text-align: right;\n",
       "    }\n",
       "</style>\n",
       "<table border=\"1\" class=\"dataframe\">\n",
       "  <thead>\n",
       "    <tr style=\"text-align: right;\">\n",
       "      <th></th>\n",
       "      <th>column_1</th>\n",
       "      <th>column_2</th>\n",
       "      <th>column_3</th>\n",
       "      <th>column_4</th>\n",
       "      <th>column_5</th>\n",
       "      <th>column_6</th>\n",
       "    </tr>\n",
       "  </thead>\n",
       "  <tbody>\n",
       "    <tr>\n",
       "      <th>1</th>\n",
       "      <td>0.004672</td>\n",
       "      <td>0.522555</td>\n",
       "      <td>0.025431</td>\n",
       "      <td>0.368891</td>\n",
       "      <td>0.945505</td>\n",
       "      <td>0.756178</td>\n",
       "    </tr>\n",
       "    <tr>\n",
       "      <th>2</th>\n",
       "      <td>0.843989</td>\n",
       "      <td>0.487910</td>\n",
       "      <td>0.274337</td>\n",
       "      <td>0.361264</td>\n",
       "      <td>0.723940</td>\n",
       "      <td>0.321056</td>\n",
       "    </tr>\n",
       "    <tr>\n",
       "      <th>3</th>\n",
       "      <td>0.949941</td>\n",
       "      <td>0.853194</td>\n",
       "      <td>0.992127</td>\n",
       "      <td>0.582920</td>\n",
       "      <td>0.371854</td>\n",
       "      <td>0.131983</td>\n",
       "    </tr>\n",
       "    <tr>\n",
       "      <th>4</th>\n",
       "      <td>0.718832</td>\n",
       "      <td>0.692259</td>\n",
       "      <td>0.691376</td>\n",
       "      <td>0.594596</td>\n",
       "      <td>0.553083</td>\n",
       "      <td>0.980859</td>\n",
       "    </tr>\n",
       "    <tr>\n",
       "      <th>5</th>\n",
       "      <td>0.601151</td>\n",
       "      <td>0.431622</td>\n",
       "      <td>0.595146</td>\n",
       "      <td>0.608075</td>\n",
       "      <td>0.053509</td>\n",
       "      <td>0.894401</td>\n",
       "    </tr>\n",
       "    <tr>\n",
       "      <th>6</th>\n",
       "      <td>0.149418</td>\n",
       "      <td>0.227764</td>\n",
       "      <td>0.319001</td>\n",
       "      <td>0.197054</td>\n",
       "      <td>0.049917</td>\n",
       "      <td>0.975821</td>\n",
       "    </tr>\n",
       "  </tbody>\n",
       "</table>\n",
       "</div>"
      ],
      "text/plain": [
       "   column_1  column_2  column_3  column_4  column_5  column_6\n",
       "1  0.004672  0.522555  0.025431  0.368891  0.945505  0.756178\n",
       "2  0.843989  0.487910  0.274337  0.361264  0.723940  0.321056\n",
       "3  0.949941  0.853194  0.992127  0.582920  0.371854  0.131983\n",
       "4  0.718832  0.692259  0.691376  0.594596  0.553083  0.980859\n",
       "5  0.601151  0.431622  0.595146  0.608075  0.053509  0.894401\n",
       "6  0.149418  0.227764  0.319001  0.197054  0.049917  0.975821"
      ]
     },
     "execution_count": 48,
     "metadata": {},
     "output_type": "execute_result"
    }
   ],
   "source": [
    "df1"
   ]
  },
  {
   "cell_type": "code",
   "execution_count": 50,
   "id": "00198f5c-1693-46ee-8930-31e5291f482e",
   "metadata": {},
   "outputs": [],
   "source": [
    "# What is windows function in pandas?"
   ]
  },
  {
   "cell_type": "markdown",
   "id": "28f730a0-1371-4d2f-84eb-e94a9ba6ae01",
   "metadata": {},
   "source": [
    "##### Window function operates on a window of rows related to current row I will give an idea\n",
    "###  I will give an idea\n",
    "\n",
    "#### \"\"\"\" Think of a window function like a special key of calculation that works on set of rows instead of Justice giving you one result for the whole set it gives you a result for each row in the set\"\"\"\"\n",
    "\n",
    "\n"
   ]
  },
  {
   "cell_type": "markdown",
   "id": "e406f0b5-30a3-40ef-9750-85b96092f19c",
   "metadata": {},
   "source": [
    "| Feature         | **Pandas (Python)**                                                                                                             | **SQL**                                                                                        | **Excel**                                                                    |\n",
    "| --------------- | ------------------------------------------------------------------------------------------------------------------------------- | ---------------------------------------------------------------------------------------------- | ---------------------------------------------------------------------------- |\n",
    "| **What is it?** | A method using `.rolling()`, `.expanding()`, or `.groupby().transform()` to apply calculations over a sliding or grouped window | A clause (`OVER()`) that performs calculations across a set of rows related to the current row | Functions like `AVERAGE`, `SUM`, `RANK` used over dynamic or relative ranges |\n",
    "| **Why used?**   | To compute moving stats, ranks, or cumulative values                                                                            | To get ranks, running totals, moving averages without collapsing rows                          | To analyze dynamic trends in a dataset using formulas                        |\n"
   ]
  },
  {
   "cell_type": "code",
   "execution_count": 51,
   "id": "55052fa0-e5bc-4cac-bde5-2d4d9e600e79",
   "metadata": {},
   "outputs": [
    {
     "name": "stdout",
     "output_type": "stream",
     "text": [
      "  Name  Score  Rolling_Avg\n",
      "0    A     80          NaN\n",
      "1    B     70         75.0\n",
      "2    C     90         80.0\n",
      "3    D     60         75.0\n"
     ]
    }
   ],
   "source": [
    "import pandas as pd\n",
    "\n",
    "df = pd.DataFrame({'Name': ['A', 'B', 'C', 'D'], 'Score': [80, 70, 90, 60]})\n",
    "df['Rolling_Avg'] = df['Score'].rolling(window=2).mean()\n",
    "print(df)\n",
    "# window = 2 means two Scores taken and applied mean by rolling one by one"
   ]
  },
  {
   "cell_type": "code",
   "execution_count": 57,
   "id": "49f327bf-cfbd-42c4-805c-3fa317bb068a",
   "metadata": {},
   "outputs": [
    {
     "data": {
      "text/plain": [
       "0     NaN\n",
       "1    75.0\n",
       "2    80.0\n",
       "3    75.0\n",
       "Name: Rolling_Avg, dtype: float64"
      ]
     },
     "execution_count": 57,
     "metadata": {},
     "output_type": "execute_result"
    }
   ],
   "source": [
    "df[\"Rolling_Avg\"]\n",
    "# 0 = Nan beacuse no preceding row\n",
    "# 1 =  window is 2 so (80,70) and mean (80+70)/2\n",
    "# 2 = window is 2 so (70,90) and mean ( 70+90)/2\n",
    "# 3 = window is 2 so (90,60) and mean (90+60)/2"
   ]
  },
  {
   "cell_type": "code",
   "execution_count": 61,
   "id": "dc86675a-2509-4bb6-8ed3-fa6927d7bc9c",
   "metadata": {},
   "outputs": [],
   "source": [
    "df['Expending'] = df['Score'].expanding().mean()"
   ]
  },
  {
   "cell_type": "code",
   "execution_count": 59,
   "id": "071f3dde-50e0-42ed-a4eb-56f5807911d7",
   "metadata": {},
   "outputs": [
    {
     "data": {
      "text/html": [
       "<div>\n",
       "<style scoped>\n",
       "    .dataframe tbody tr th:only-of-type {\n",
       "        vertical-align: middle;\n",
       "    }\n",
       "\n",
       "    .dataframe tbody tr th {\n",
       "        vertical-align: top;\n",
       "    }\n",
       "\n",
       "    .dataframe thead th {\n",
       "        text-align: right;\n",
       "    }\n",
       "</style>\n",
       "<table border=\"1\" class=\"dataframe\">\n",
       "  <thead>\n",
       "    <tr style=\"text-align: right;\">\n",
       "      <th></th>\n",
       "      <th>Name</th>\n",
       "      <th>Score</th>\n",
       "      <th>Rolling_Avg</th>\n",
       "      <th>Expending</th>\n",
       "    </tr>\n",
       "  </thead>\n",
       "  <tbody>\n",
       "    <tr>\n",
       "      <th>0</th>\n",
       "      <td>A</td>\n",
       "      <td>80</td>\n",
       "      <td>NaN</td>\n",
       "      <td>80.0</td>\n",
       "    </tr>\n",
       "    <tr>\n",
       "      <th>1</th>\n",
       "      <td>B</td>\n",
       "      <td>70</td>\n",
       "      <td>75.0</td>\n",
       "      <td>75.0</td>\n",
       "    </tr>\n",
       "    <tr>\n",
       "      <th>2</th>\n",
       "      <td>C</td>\n",
       "      <td>90</td>\n",
       "      <td>80.0</td>\n",
       "      <td>80.0</td>\n",
       "    </tr>\n",
       "    <tr>\n",
       "      <th>3</th>\n",
       "      <td>D</td>\n",
       "      <td>60</td>\n",
       "      <td>75.0</td>\n",
       "      <td>75.0</td>\n",
       "    </tr>\n",
       "  </tbody>\n",
       "</table>\n",
       "</div>"
      ],
      "text/plain": [
       "  Name  Score  Rolling_Avg  Expending\n",
       "0    A     80          NaN       80.0\n",
       "1    B     70         75.0       75.0\n",
       "2    C     90         80.0       80.0\n",
       "3    D     60         75.0       75.0"
      ]
     },
     "execution_count": 59,
     "metadata": {},
     "output_type": "execute_result"
    }
   ],
   "source": [
    "df"
   ]
  },
  {
   "cell_type": "code",
   "execution_count": 62,
   "id": "8365a836-4a43-4c78-ab25-d02f72068064",
   "metadata": {},
   "outputs": [
    {
     "data": {
      "text/plain": [
       "0    80.0\n",
       "1    75.0\n",
       "2    80.0\n",
       "3    75.0\n",
       "Name: Expending, dtype: float64"
      ]
     },
     "execution_count": 62,
     "metadata": {},
     "output_type": "execute_result"
    }
   ],
   "source": [
    "df[\"Expending\"]\n",
    "# Row 0 = window includes only the first value [80]. mean 80 / 1 = 80\n",
    "# Row 1 = window includes the first two values [80, 70]. mean is (80 + 70) / 2 = 75 \n",
    "# Row 2 = window includes the first three values [80, 70, 90]. mean (80 + 70 + 90) / 3 \n",
    "# Row 3 = window includes all four values [80, 70, 90, 60]. mean (80 + 70 + 90 + 60) / 4 "
   ]
  },
  {
   "cell_type": "code",
   "execution_count": 44,
   "id": "1f012c41-cad6-4f17-a52d-2445a60002fe",
   "metadata": {
    "scrolled": true
   },
   "outputs": [
    {
     "data": {
      "text/html": [
       "<div>\n",
       "<style scoped>\n",
       "    .dataframe tbody tr th:only-of-type {\n",
       "        vertical-align: middle;\n",
       "    }\n",
       "\n",
       "    .dataframe tbody tr th {\n",
       "        vertical-align: top;\n",
       "    }\n",
       "\n",
       "    .dataframe thead th {\n",
       "        text-align: right;\n",
       "    }\n",
       "</style>\n",
       "<table border=\"1\" class=\"dataframe\">\n",
       "  <thead>\n",
       "    <tr style=\"text-align: right;\">\n",
       "      <th></th>\n",
       "      <th>column_1</th>\n",
       "      <th>column_2</th>\n",
       "      <th>column_3</th>\n",
       "      <th>column_4</th>\n",
       "      <th>column_5</th>\n",
       "      <th>column_6</th>\n",
       "    </tr>\n",
       "  </thead>\n",
       "  <tbody>\n",
       "    <tr>\n",
       "      <th>1</th>\n",
       "      <td>0.004672</td>\n",
       "      <td>0.522555</td>\n",
       "      <td>0.025431</td>\n",
       "      <td>0.368891</td>\n",
       "      <td>0.945505</td>\n",
       "      <td>0.756178</td>\n",
       "    </tr>\n",
       "    <tr>\n",
       "      <th>2</th>\n",
       "      <td>0.843989</td>\n",
       "      <td>0.200066</td>\n",
       "      <td>0.274337</td>\n",
       "      <td>0.361264</td>\n",
       "      <td>0.723940</td>\n",
       "      <td>0.321056</td>\n",
       "    </tr>\n",
       "    <tr>\n",
       "      <th>3</th>\n",
       "      <td>0.949941</td>\n",
       "      <td>0.853194</td>\n",
       "      <td>0.992127</td>\n",
       "      <td>0.582920</td>\n",
       "      <td>0.371854</td>\n",
       "      <td>0.131983</td>\n",
       "    </tr>\n",
       "    <tr>\n",
       "      <th>4</th>\n",
       "      <td>0.718832</td>\n",
       "      <td>0.692259</td>\n",
       "      <td>0.691376</td>\n",
       "      <td>0.594596</td>\n",
       "      <td>0.553083</td>\n",
       "      <td>0.980859</td>\n",
       "    </tr>\n",
       "    <tr>\n",
       "      <th>5</th>\n",
       "      <td>0.601151</td>\n",
       "      <td>0.431622</td>\n",
       "      <td>0.595146</td>\n",
       "      <td>0.608075</td>\n",
       "      <td>0.053509</td>\n",
       "      <td>0.894401</td>\n",
       "    </tr>\n",
       "    <tr>\n",
       "      <th>6</th>\n",
       "      <td>0.149418</td>\n",
       "      <td>0.227764</td>\n",
       "      <td>0.319001</td>\n",
       "      <td>0.197054</td>\n",
       "      <td>0.049917</td>\n",
       "      <td>0.975821</td>\n",
       "    </tr>\n",
       "  </tbody>\n",
       "</table>\n",
       "</div>"
      ],
      "text/plain": [
       "   column_1  column_2  column_3  column_4  column_5  column_6\n",
       "1  0.004672  0.522555  0.025431  0.368891  0.945505  0.756178\n",
       "2  0.843989  0.200066  0.274337  0.361264  0.723940  0.321056\n",
       "3  0.949941  0.853194  0.992127  0.582920  0.371854  0.131983\n",
       "4  0.718832  0.692259  0.691376  0.594596  0.553083  0.980859\n",
       "5  0.601151  0.431622  0.595146  0.608075  0.053509  0.894401\n",
       "6  0.149418  0.227764  0.319001  0.197054  0.049917  0.975821"
      ]
     },
     "execution_count": 44,
     "metadata": {},
     "output_type": "execute_result"
    }
   ],
   "source": [
    "df1"
   ]
  },
  {
   "cell_type": "code",
   "execution_count": null,
   "id": "8ace5071-3675-4274-b2a4-f426140c3848",
   "metadata": {},
   "outputs": [],
   "source": []
  },
  {
   "cell_type": "code",
   "execution_count": null,
   "id": "2895aa7e-4036-4608-96c7-f522a44df04a",
   "metadata": {},
   "outputs": [],
   "source": []
  },
  {
   "cell_type": "code",
   "execution_count": null,
   "id": "f8b125a4-d4b5-4f1d-9870-11898a5d1cef",
   "metadata": {},
   "outputs": [],
   "source": []
  },
  {
   "cell_type": "code",
   "execution_count": null,
   "id": "3359b838-f97d-4bd6-80e7-dd41713bb40e",
   "metadata": {},
   "outputs": [],
   "source": []
  },
  {
   "cell_type": "code",
   "execution_count": null,
   "id": "107d0f81-b65b-4307-87b1-af3199495917",
   "metadata": {},
   "outputs": [],
   "source": []
  },
  {
   "cell_type": "code",
   "execution_count": null,
   "id": "225b8e1b-d3ee-46d3-a97c-8853188cd1d1",
   "metadata": {},
   "outputs": [],
   "source": []
  },
  {
   "cell_type": "code",
   "execution_count": null,
   "id": "19ba8ef2-0fbe-4203-a861-1ac895f4f673",
   "metadata": {},
   "outputs": [],
   "source": []
  },
  {
   "cell_type": "code",
   "execution_count": null,
   "id": "75701ba4-97ef-4339-a5cb-a6d23223130a",
   "metadata": {},
   "outputs": [],
   "source": []
  },
  {
   "cell_type": "code",
   "execution_count": null,
   "id": "cbca87d1-3616-48b2-8eb9-947f674c2c43",
   "metadata": {},
   "outputs": [],
   "source": []
  },
  {
   "cell_type": "code",
   "execution_count": null,
   "id": "c7ff6287-76f8-42e6-ad13-8f8f89b46818",
   "metadata": {},
   "outputs": [],
   "source": []
  },
  {
   "cell_type": "markdown",
   "id": "4498e9ba-d834-46bb-bfe8-108e8a55bdcc",
   "metadata": {},
   "source": [
    "# Types of Window Functions in Pandas:\n",
    "\n",
    "#### Based on how the window is defined and the operations performed, we can categorize pandas window functions as follows:\n",
    "\n",
    "# Rolling Window Functions (.rolling()):\n",
    "\n",
    "##### These operate on a fixed-size window that slides through the data.\n",
    "####   Common operations include:\n",
    "##### Aggregation Functions: .sum(), .mean(), .median(), .min(), .max(), .std(), .var(), .count().\n",
    "##### Other Functions: .corr(), .cov(), .skew(), .kurt().\n",
    "##### Custom Functions: .apply(func).\n",
    "##### The window size is typically specified by the window parameter (number of rows) or an offset for time series.\n",
    "\n",
    "# Expanding Window Functions (.expanding()):\n",
    "\n",
    "##### These windows start at the beginning of the Series/DataFrame and expand to include the current row.\n",
    "##### Common operations are similar to rolling windows: .sum(), .mean(), .median(), .min(), .max(), .std(), .var(), .count(), and .apply(func).\n",
    "# Exponentially Weighted Window Functions (.ewm()):\n",
    "\n",
    "##### These assign exponentially decreasing weights to observations as they get older. This means more recent observations have a higher influence on the result.\n",
    "##### Parameters like alpha, com, span, and halflife control the rate of weight decay.\n",
    "##### Common operations include .mean(), .std(), .var().\n",
    "# GroupBy with Rolling/Expanding:\n",
    "\n",
    "##### While groupby() itself isn't a window function, it's often used in conjunction with .rolling() or .expanding() to perform window calculations within each group of a DataFrame. This allows for analyzing trends or performing comparisons that are specific to certain categories.\n",
    "# Other Window-Like Operations (Less Explicitly \"Window Functions\" but Related):\n",
    "\n",
    "##### shift(): Shifts the index by a desired number of periods, which can be useful for comparing current values to past or future values.\n",
    "##### diff(): Calculates the difference between consecutive elements.\n",
    "##### rank(): Assigns ranks to the values within a Series."
   ]
  },
  {
   "cell_type": "code",
   "execution_count": null,
   "id": "6e0654e5-0488-44cb-aa22-59903fb5693c",
   "metadata": {},
   "outputs": [],
   "source": []
  },
  {
   "cell_type": "code",
   "execution_count": null,
   "id": "d6950224-d5d4-423f-a285-3986e8d70f2b",
   "metadata": {},
   "outputs": [],
   "source": []
  },
  {
   "cell_type": "code",
   "execution_count": null,
   "id": "135e0ca2-791d-41be-9ff5-ea82c640ab7f",
   "metadata": {},
   "outputs": [],
   "source": []
  }
 ],
 "metadata": {
  "kernelspec": {
   "display_name": "Python 3 (ipykernel)",
   "language": "python",
   "name": "python3"
  },
  "language_info": {
   "codemirror_mode": {
    "name": "ipython",
    "version": 3
   },
   "file_extension": ".py",
   "mimetype": "text/x-python",
   "name": "python",
   "nbconvert_exporter": "python",
   "pygments_lexer": "ipython3",
   "version": "3.12.4"
  }
 },
 "nbformat": 4,
 "nbformat_minor": 5
}
