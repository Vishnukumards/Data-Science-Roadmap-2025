{
 "cells": [
  {
   "cell_type": "code",
   "execution_count": 1,
   "id": "0f16d365",
   "metadata": {},
   "outputs": [
    {
     "name": "stdout",
     "output_type": "stream",
     "text": [
      "Hello world\n"
     ]
    }
   ],
   "source": [
    "print(\"Hello world\")"
   ]
  },
  {
   "cell_type": "code",
   "execution_count": 22,
   "id": "82d6c40b",
   "metadata": {},
   "outputs": [
    {
     "name": "stdout",
     "output_type": "stream",
     "text": [
      "1124\n"
     ]
    }
   ],
   "source": [
    "a= 1124\n",
    "print(a)"
   ]
  },
  {
   "cell_type": "code",
   "execution_count": 26,
   "id": "6389f143",
   "metadata": {},
   "outputs": [
    {
     "name": "stdout",
     "output_type": "stream",
     "text": [
      "11\n"
     ]
    }
   ],
   "source": [
    "aa=10++1\n",
    "print(aa)"
   ]
  },
  {
   "cell_type": "code",
   "execution_count": 27,
   "id": "66e5ff84",
   "metadata": {},
   "outputs": [
    {
     "name": "stdout",
     "output_type": "stream",
     "text": [
      "11\n",
      "11\n"
     ]
    }
   ],
   "source": [
    "bb=1++10\n",
    "print(aa)\n",
    "print(bb)"
   ]
  },
  {
   "cell_type": "code",
   "execution_count": 43,
   "id": "90e21783",
   "metadata": {},
   "outputs": [
    {
     "name": "stdout",
     "output_type": "stream",
     "text": [
      "h\n",
      "h\n",
      "e\n",
      "e\n",
      "l\n",
      "l\n",
      "l\n",
      "l\n",
      "o\n",
      "o\n",
      " \n",
      " \n",
      "W\n",
      "W\n",
      "o\n",
      "o\n",
      "r\n",
      "r\n",
      "l\n",
      "l\n",
      "d\n",
      "d\n"
     ]
    }
   ],
   "source": [
    "apple = \"hello World\"\n",
    "for letter in apple:\n",
    "    i =letter\n",
    "    print(letter)\n",
    "\n",
    "    print(i)\n",
    " \n",
    "    "
   ]
  },
  {
   "cell_type": "code",
   "execution_count": null,
   "id": "91e55636",
   "metadata": {},
   "outputs": [
    {
     "ename": "ValueError",
     "evalue": "invalid literal for int() with base 10: ''",
     "output_type": "error",
     "traceback": [
      "\u001b[1;31m---------------------------------------------------------------------------\u001b[0m",
      "\u001b[1;31mValueError\u001b[0m                                Traceback (most recent call last)",
      "Cell \u001b[1;32mIn[2], line 1\u001b[0m\n\u001b[1;32m----> 1\u001b[0m age \u001b[38;5;241m=\u001b[39m \u001b[38;5;28;43mint\u001b[39;49m\u001b[43m(\u001b[49m\u001b[38;5;28;43minput\u001b[39;49m\u001b[43m(\u001b[49m\u001b[38;5;124;43m\"\u001b[39;49m\u001b[38;5;124;43mEnter Age\u001b[39;49m\u001b[38;5;124;43m\"\u001b[39;49m\u001b[43m)\u001b[49m\u001b[43m)\u001b[49m\n\u001b[0;32m      2\u001b[0m \u001b[38;5;28mprint\u001b[39m(\u001b[38;5;124m\"\u001b[39m\u001b[38;5;124mNot Eligible for Voting\u001b[39m\u001b[38;5;124m\"\u001b[39m \u001b[38;5;28;01mif\u001b[39;00m age \u001b[38;5;241m<\u001b[39m\u001b[38;5;241m=\u001b[39m\u001b[38;5;241m18\u001b[39m \u001b[38;5;28;01melse\u001b[39;00m \u001b[38;5;124m\"\u001b[39m\u001b[38;5;124meligible for voting \u001b[39m\u001b[38;5;124m\"\u001b[39m)\n",
      "\u001b[1;31mValueError\u001b[0m: invalid literal for int() with base 10: ''"
     ]
    }
   ],
   "source": [
    "age = int(input(\"Enter Age\"))\n",
    "print(\"Not Eligible for Voting\" if age <=18 else \"eligible for voting\")"
   ]
  },
  {
   "cell_type": "code",
   "execution_count": 40,
   "id": "acd045bf",
   "metadata": {},
   "outputs": [],
   "source": [
    "\n",
    "list = [] \n",
    "list.append(letter)"
   ]
  },
  {
   "cell_type": "markdown",
   "id": "58a20cfa",
   "metadata": {},
   "source": []
  },
  {
   "cell_type": "code",
   "execution_count": 41,
   "id": "b1880202",
   "metadata": {},
   "outputs": [
    {
     "data": {
      "text/plain": [
       "['d']"
      ]
     },
     "execution_count": 41,
     "metadata": {},
     "output_type": "execute_result"
    }
   ],
   "source": [
    "list"
   ]
  },
  {
   "cell_type": "code",
   "execution_count": 34,
   "id": "06e57fe2",
   "metadata": {},
   "outputs": [
    {
     "name": "stdout",
     "output_type": "stream",
     "text": [
      "gsffjgjgs\n"
     ]
    }
   ],
   "source": [
    "hdd = 'gsffjgjgs'\n",
    "print(hdd)"
   ]
  },
  {
   "cell_type": "code",
   "execution_count": 44,
   "id": "41d7ff12",
   "metadata": {},
   "outputs": [
    {
     "name": "stdout",
     "output_type": "stream",
     "text": [
      "d\n"
     ]
    }
   ],
   "source": [
    "print(letter)"
   ]
  },
  {
   "cell_type": "code",
   "execution_count": 2,
   "id": "a2a5fdf0",
   "metadata": {},
   "outputs": [],
   "source": [
    "# variables"
   ]
  },
  {
   "cell_type": "code",
   "execution_count": 47,
   "id": "3c5b7f52",
   "metadata": {
    "scrolled": false
   },
   "outputs": [
    {
     "name": "stdout",
     "output_type": "stream",
     "text": [
      "-1\n",
      "9\n",
      "20\n",
      "0\n",
      "0.8\n",
      "4\n"
     ]
    }
   ],
   "source": [
    "a=4\n",
    "b=5\n",
    "print(a-b) #sub\n",
    "print(a+b) #Add\n",
    "print(a*b) #Mult\n",
    "print(a//b) # divide which doesnot get the decimal\n",
    "print(a/b) #divide\n",
    "print(a%b) #reminder"
   ]
  },
  {
   "cell_type": "code",
   "execution_count": 50,
   "id": "91cac7ff",
   "metadata": {},
   "outputs": [
    {
     "data": {
      "text/plain": [
       "\" hjjshgdhgdhsgf khd king's \""
      ]
     },
     "execution_count": 50,
     "metadata": {},
     "output_type": "execute_result"
    }
   ],
   "source": [
    "''' hjjshgdhgdhsgf khd king's '''"
   ]
  },
  {
   "cell_type": "code",
   "execution_count": 45,
   "id": "1869714b",
   "metadata": {},
   "outputs": [
    {
     "name": "stdout",
     "output_type": "stream",
     "text": [
      "123\n",
      "1234\n"
     ]
    }
   ],
   "source": [
    "# Variable are case sensitive \n",
    "\n",
    "abhi = 123\n",
    "Abhi = 1234\n",
    "print(abhi)\n",
    "print(Abhi)"
   ]
  },
  {
   "cell_type": "markdown",
   "id": "8f5aff82",
   "metadata": {},
   "source": [
    "#String format"
   ]
  },
  {
   "cell_type": "code",
   "execution_count": 4,
   "id": "70a9db9f",
   "metadata": {},
   "outputs": [
    {
     "name": "stdout",
     "output_type": "stream",
     "text": [
      "Iam John and iam 28 years old\n"
     ]
    }
   ],
   "source": [
    "first_name = \"John\"\n",
    "second_name = \"28\"\n",
    "print(\"Iam {} and iam {} years old\". format(first_name, second_name))\n"
   ]
  },
  {
   "cell_type": "code",
   "execution_count": 5,
   "id": "8bd4cf98",
   "metadata": {},
   "outputs": [
    {
     "data": {
      "text/plain": [
       "'Jhon is playing'"
      ]
     },
     "execution_count": 5,
     "metadata": {},
     "output_type": "execute_result"
    }
   ],
   "source": [
    " x = \"Jhon is playing\"\n",
    "x"
   ]
  },
  {
   "cell_type": "code",
   "execution_count": 6,
   "id": "ef76540b",
   "metadata": {},
   "outputs": [
    {
     "name": "stdout",
     "output_type": "stream",
     "text": [
      "34.0\n",
      "55\n",
      "565655\n"
     ]
    }
   ],
   "source": [
    "y=float(34)\n",
    "z=int(55.77)\n",
    "m=str(565655)\n",
    "print(y)\n",
    "print(z)\n",
    "print(m)"
   ]
  },
  {
   "cell_type": "code",
   "execution_count": 7,
   "id": "0cc40d35",
   "metadata": {},
   "outputs": [
    {
     "name": "stdout",
     "output_type": "stream",
     "text": [
      "<class 'str'>\n"
     ]
    }
   ],
   "source": [
    "print(type(m))"
   ]
  },
  {
   "cell_type": "code",
   "execution_count": 8,
   "id": "2c9ea498",
   "metadata": {},
   "outputs": [
    {
     "name": "stdout",
     "output_type": "stream",
     "text": [
      "<class 'int'>\n"
     ]
    }
   ],
   "source": [
    "print(type(z))"
   ]
  },
  {
   "cell_type": "code",
   "execution_count": 9,
   "id": "1a8291a5",
   "metadata": {},
   "outputs": [
    {
     "name": "stdout",
     "output_type": "stream",
     "text": [
      "<class 'float'>\n"
     ]
    }
   ],
   "source": [
    "print(type(y))"
   ]
  },
  {
   "cell_type": "code",
   "execution_count": 10,
   "id": "a199fa3a",
   "metadata": {},
   "outputs": [],
   "source": [
    "my_var='''He's father was a police  '''"
   ]
  },
  {
   "cell_type": "code",
   "execution_count": 11,
   "id": "7f2eb7b9",
   "metadata": {},
   "outputs": [
    {
     "data": {
      "text/plain": [
       "\"He's father was a police  \""
      ]
     },
     "execution_count": 11,
     "metadata": {},
     "output_type": "execute_result"
    }
   ],
   "source": [
    "my_var"
   ]
  },
  {
   "cell_type": "code",
   "execution_count": 12,
   "id": "45940d3d",
   "metadata": {},
   "outputs": [],
   "source": [
    "my_variable='HE is good player'"
   ]
  },
  {
   "cell_type": "code",
   "execution_count": 13,
   "id": "78386258",
   "metadata": {},
   "outputs": [
    {
     "data": {
      "text/plain": [
       "'HE is good player'"
      ]
     },
     "execution_count": 13,
     "metadata": {},
     "output_type": "execute_result"
    }
   ],
   "source": [
    "my_variable"
   ]
  },
  {
   "cell_type": "code",
   "execution_count": 14,
   "id": "25355057",
   "metadata": {},
   "outputs": [
    {
     "name": "stdout",
     "output_type": "stream",
     "text": [
      "Five is greater than two!\n"
     ]
    }
   ],
   "source": [
    "if 5>2:\n",
    "    print(\"Five is greater than two!\")"
   ]
  },
  {
   "cell_type": "code",
   "execution_count": 15,
   "id": "5b77d682",
   "metadata": {},
   "outputs": [
    {
     "name": "stdout",
     "output_type": "stream",
     "text": [
      "SEVEN\n"
     ]
    }
   ],
   "source": [
    "if 7>=7:\n",
    "    print(\"SEVEN\")"
   ]
  },
  {
   "cell_type": "code",
   "execution_count": 16,
   "id": "6855bb36",
   "metadata": {},
   "outputs": [
    {
     "name": "stdout",
     "output_type": "stream",
     "text": [
      "TWO\n"
     ]
    }
   ],
   "source": [
    "if 9<24:\n",
    "    print(\"TWO\")"
   ]
  },
  {
   "cell_type": "code",
   "execution_count": 17,
   "id": "1d5681ee",
   "metadata": {},
   "outputs": [
    {
     "name": "stdout",
     "output_type": "stream",
     "text": [
      "College\n"
     ]
    }
   ],
   "source": [
    "if 35<5:\n",
    "    print(\"SCHOOL\")\n",
    "else:\n",
    "    print(\"College\")\n",
    "    "
   ]
  },
  {
   "cell_type": "code",
   "execution_count": 18,
   "id": "61bbe49c",
   "metadata": {},
   "outputs": [
    {
     "name": "stdout",
     "output_type": "stream",
     "text": [
      "GooGLE\n"
     ]
    }
   ],
   "source": [
    "x=y=z=\"GooGLE\"\n",
    "print(x)"
   ]
  },
  {
   "cell_type": "code",
   "execution_count": 19,
   "id": "c0c486d9",
   "metadata": {},
   "outputs": [
    {
     "name": "stdout",
     "output_type": "stream",
     "text": [
      "orange\n",
      "Banana\n",
      "cherry\n"
     ]
    }
   ],
   "source": [
    "x,y,z=\"orange\",\"Banana\",\"cherry\"\n",
    "print(x)\n",
    "print(y)\n",
    "print(z)"
   ]
  },
  {
   "cell_type": "code",
   "execution_count": 20,
   "id": "af65bb85",
   "metadata": {},
   "outputs": [
    {
     "name": "stdout",
     "output_type": "stream",
     "text": [
      "6\n"
     ]
    }
   ],
   "source": [
    "print(len(x))"
   ]
  },
  {
   "cell_type": "code",
   "execution_count": 21,
   "id": "4de1f333",
   "metadata": {},
   "outputs": [
    {
     "name": "stdout",
     "output_type": "stream",
     "text": [
      "python is awesome\n"
     ]
    }
   ],
   "source": [
    "x=\"python\"\n",
    "y=\"is\"\n",
    "z=\"awesome\"\n",
    "print(x+\" \"+y+\" \"+z)"
   ]
  },
  {
   "cell_type": "code",
   "execution_count": 29,
   "id": "848bed5a",
   "metadata": {},
   "outputs": [
    {
     "name": "stdout",
     "output_type": "stream",
     "text": [
      "15\n"
     ]
    }
   ],
   "source": [
    "a=5\n",
    "b=10\n",
    "print(a+b)"
   ]
  },
  {
   "cell_type": "code",
   "execution_count": 35,
   "id": "16808dd0",
   "metadata": {},
   "outputs": [
    {
     "name": "stdout",
     "output_type": "stream",
     "text": [
      "python is fantastic\n"
     ]
    }
   ],
   "source": [
    "def myfunc():\n",
    "    x=\"fantastic\"\n",
    "    print(\"python is\" +\" \"+ x)\n",
    "myfunc()\n",
    " "
   ]
  },
  {
   "cell_type": "code",
   "execution_count": 36,
   "id": "bd0b3148",
   "metadata": {},
   "outputs": [],
   "source": [
    "def my_love():\n",
    "    l=\"I love you\"\n",
    "    print(\"I miss you,\"+\" \"+l)"
   ]
  },
  {
   "cell_type": "code",
   "execution_count": 38,
   "id": "a71a30c4",
   "metadata": {},
   "outputs": [
    {
     "name": "stdout",
     "output_type": "stream",
     "text": [
      "I miss you, I love you\n"
     ]
    }
   ],
   "source": [
    "my_love()"
   ]
  },
  {
   "cell_type": "code",
   "execution_count": 39,
   "id": "607a71e3",
   "metadata": {},
   "outputs": [
    {
     "data": {
      "text/plain": [
       "'volvo'"
      ]
     },
     "execution_count": 39,
     "metadata": {},
     "output_type": "execute_result"
    }
   ],
   "source": [
    "car=\"volvo\"\n",
    "car"
   ]
  },
  {
   "cell_type": "code",
   "execution_count": 40,
   "id": "3e7a32b4",
   "metadata": {},
   "outputs": [],
   "source": [
    "# Data Types"
   ]
  },
  {
   "cell_type": "code",
   "execution_count": 41,
   "id": "ac5c9b7d",
   "metadata": {},
   "outputs": [],
   "source": [
    "#string"
   ]
  },
  {
   "cell_type": "code",
   "execution_count": 42,
   "id": "6c701a54",
   "metadata": {},
   "outputs": [],
   "source": [
    "a = \"I love you and I miss you\""
   ]
  },
  {
   "cell_type": "code",
   "execution_count": 43,
   "id": "dca5794c",
   "metadata": {},
   "outputs": [
    {
     "data": {
      "text/plain": [
       "'I love you and I miss you'"
      ]
     },
     "execution_count": 43,
     "metadata": {},
     "output_type": "execute_result"
    }
   ],
   "source": [
    "a"
   ]
  },
  {
   "cell_type": "code",
   "execution_count": 45,
   "id": "18fc22a9",
   "metadata": {},
   "outputs": [
    {
     "name": "stdout",
     "output_type": "stream",
     "text": [
      "5\n",
      "5.77\n",
      "(8+7j)\n"
     ]
    }
   ],
   "source": [
    "x = 5  # integers\n",
    "print(x)\n",
    "y = 5.77  # float\n",
    "print(y)\n",
    "z=8+7j  #complex\n",
    "print(z)"
   ]
  },
  {
   "cell_type": "code",
   "execution_count": 48,
   "id": "6a59a81b",
   "metadata": {},
   "outputs": [
    {
     "name": "stdout",
     "output_type": "stream",
     "text": [
      "['orange', 'Cherry', 'Apple']\n",
      "<class 'list'>\n"
     ]
    }
   ],
   "source": [
    "#list -\" \" enclosed by brackets\n",
    "\n",
    "z=[\"orange\",\"Cherry\",\"Apple\"]\n",
    "print(z)\n",
    "print(type(z))"
   ]
  },
  {
   "cell_type": "code",
   "execution_count": 49,
   "id": "a8571d2d",
   "metadata": {},
   "outputs": [],
   "source": [
    "k=list((\"mango\",\"mangoes\",\"mangoess\"))"
   ]
  },
  {
   "cell_type": "code",
   "execution_count": 50,
   "id": "29ab15cc",
   "metadata": {},
   "outputs": [
    {
     "data": {
      "text/plain": [
       "['mango', 'mangoes', 'mangoess']"
      ]
     },
     "execution_count": 50,
     "metadata": {},
     "output_type": "execute_result"
    }
   ],
   "source": [
    "k"
   ]
  },
  {
   "cell_type": "code",
   "execution_count": 51,
   "id": "3bb8fc7b",
   "metadata": {},
   "outputs": [
    {
     "data": {
      "text/plain": [
       "('john', 'google', 'faster')"
      ]
     },
     "execution_count": 51,
     "metadata": {},
     "output_type": "execute_result"
    }
   ],
   "source": [
    "k=tuple((\"john\",\"google\",\"faster\"))\n",
    "k"
   ]
  },
  {
   "cell_type": "code",
   "execution_count": 52,
   "id": "952fcab3",
   "metadata": {},
   "outputs": [
    {
     "data": {
      "text/plain": [
       "{'1234', 'magal', 'mission'}"
      ]
     },
     "execution_count": 52,
     "metadata": {},
     "output_type": "execute_result"
    }
   ],
   "source": [
    "k=set((\"mission\",\"magal\",\"1234\"))\n",
    "k"
   ]
  },
  {
   "cell_type": "code",
   "execution_count": 56,
   "id": "0a930ab9",
   "metadata": {},
   "outputs": [
    {
     "data": {
      "text/plain": [
       "{'teddy': '45', 'oneplus': '4446', 'realme': '7777'}"
      ]
     },
     "execution_count": 56,
     "metadata": {},
     "output_type": "execute_result"
    }
   ],
   "source": [
    "k=dict(teddy=\"45\", oneplus=\"4446\", realme=\"7777\")\n",
    "k"
   ]
  },
  {
   "cell_type": "code",
   "execution_count": 58,
   "id": "58b9d19f",
   "metadata": {},
   "outputs": [],
   "source": [
    "y=bool(5)\n",
    "x=bytes(5)\n",
    "v=bytearray(5)"
   ]
  },
  {
   "cell_type": "code",
   "execution_count": 60,
   "id": "eadfa023",
   "metadata": {},
   "outputs": [
    {
     "name": "stdout",
     "output_type": "stream",
     "text": [
      "True\n",
      "b'\\x00\\x00\\x00\\x00\\x00'\n",
      "bytearray(b'\\x00\\x00\\x00\\x00\\x00')\n"
     ]
    }
   ],
   "source": [
    "print(y)\n",
    "print(x)\n",
    "print(v)"
   ]
  },
  {
   "cell_type": "code",
   "execution_count": 61,
   "id": "45b3d9dd",
   "metadata": {},
   "outputs": [],
   "source": [
    "import random"
   ]
  },
  {
   "cell_type": "code",
   "execution_count": 66,
   "id": "d15411a8",
   "metadata": {},
   "outputs": [
    {
     "name": "stdout",
     "output_type": "stream",
     "text": [
      "7\n"
     ]
    }
   ],
   "source": [
    "print(random.randrange(1,15)) # random range"
   ]
  },
  {
   "cell_type": "code",
   "execution_count": 4,
   "id": "2d39369d",
   "metadata": {},
   "outputs": [
    {
     "name": "stdout",
     "output_type": "stream",
     "text": [
      "hello\n"
     ]
    }
   ],
   "source": [
    "# Index \n",
    "\n",
    "a=\"hello world\"\n",
    "print(a[:5])"
   ]
  },
  {
   "cell_type": "code",
   "execution_count": 5,
   "id": "100a2ad1",
   "metadata": {},
   "outputs": [
    {
     "name": "stdout",
     "output_type": "stream",
     "text": [
      " world\n"
     ]
    }
   ],
   "source": [
    "print(a[5:])"
   ]
  },
  {
   "cell_type": "code",
   "execution_count": 6,
   "id": "db5b6c4b",
   "metadata": {},
   "outputs": [
    {
     "name": "stdout",
     "output_type": "stream",
     "text": [
      "hello wo\n"
     ]
    }
   ],
   "source": [
    "print(a[:8])"
   ]
  },
  {
   "cell_type": "code",
   "execution_count": 8,
   "id": "436d647e",
   "metadata": {},
   "outputs": [
    {
     "name": "stdout",
     "output_type": "stream",
     "text": [
      "d\n"
     ]
    }
   ],
   "source": [
    "print(a[-1])"
   ]
  },
  {
   "cell_type": "code",
   "execution_count": 11,
   "id": "1ce1c07a",
   "metadata": {},
   "outputs": [
    {
     "name": "stdout",
     "output_type": "stream",
     "text": [
      "hello \n"
     ]
    }
   ],
   "source": [
    "print(a[:-5])"
   ]
  },
  {
   "cell_type": "code",
   "execution_count": 12,
   "id": "6396c1e8",
   "metadata": {},
   "outputs": [
    {
     "name": "stdout",
     "output_type": "stream",
     "text": [
      "tanmoy is in love \n"
     ]
    }
   ],
   "source": [
    "g=\"tanmoy is in love \"\n",
    "print(g)"
   ]
  },
  {
   "cell_type": "code",
   "execution_count": 13,
   "id": "ab37c282",
   "metadata": {},
   "outputs": [
    {
     "name": "stdout",
     "output_type": "stream",
     "text": [
      "18\n"
     ]
    }
   ],
   "source": [
    "print(len(g))"
   ]
  },
  {
   "cell_type": "code",
   "execution_count": 9,
   "id": "f74801cb",
   "metadata": {},
   "outputs": [
    {
     "name": "stdout",
     "output_type": "stream",
     "text": [
      "it has bad market\n"
     ]
    }
   ],
   "source": [
    "example=\"cotton has very Badmarket future\"\n",
    "if \"Badmarket\" not in example:\n",
    "    print(\"it has good market\")\n",
    "    \n",
    "else:\n",
    "    print(\"it has bad market\")"
   ]
  },
  {
   "cell_type": "code",
   "execution_count": null,
   "id": "36f006fd",
   "metadata": {},
   "outputs": [],
   "source": [
    "exam =\"The best things in life are free!\"\n",
    "if \"free\""
   ]
  },
  {
   "cell_type": "code",
   "execution_count": 2,
   "id": "2fc03c0b",
   "metadata": {},
   "outputs": [
    {
     "name": "stdout",
     "output_type": "stream",
     "text": [
      "b\n",
      "a\n",
      "n\n",
      "a\n",
      "n\n",
      "a\n"
     ]
    }
   ],
   "source": [
    "for x in \"banana\":\n",
    "    print(x)"
   ]
  },
  {
   "cell_type": "code",
   "execution_count": 16,
   "id": "175f0ef6",
   "metadata": {},
   "outputs": [
    {
     "name": "stdout",
     "output_type": "stream",
     "text": [
      "hello world!\n"
     ]
    }
   ],
   "source": [
    "b = \"hello world!\"\n",
    "print(b)"
   ]
  },
  {
   "cell_type": "code",
   "execution_count": 1,
   "id": "c0aa538f",
   "metadata": {},
   "outputs": [
    {
     "data": {
      "text/plain": [
       "'ranjith'"
      ]
     },
     "execution_count": 1,
     "metadata": {},
     "output_type": "execute_result"
    }
   ],
   "source": [
    "a= \"ranjith\"\n",
    "a"
   ]
  },
  {
   "cell_type": "code",
   "execution_count": 7,
   "id": "835ff88f",
   "metadata": {},
   "outputs": [
    {
     "name": "stdout",
     "output_type": "stream",
     "text": [
      "ith\n"
     ]
    }
   ],
   "source": [
    "print(a[-3:])"
   ]
  },
  {
   "cell_type": "code",
   "execution_count": 8,
   "id": "0e940c80",
   "metadata": {},
   "outputs": [
    {
     "data": {
      "text/plain": [
       "'dabar'"
      ]
     },
     "execution_count": 8,
     "metadata": {},
     "output_type": "execute_result"
    }
   ],
   "source": [
    "p=\"dabar\"\n",
    "p"
   ]
  },
  {
   "cell_type": "code",
   "execution_count": 9,
   "id": "cad0be67",
   "metadata": {},
   "outputs": [
    {
     "name": "stdout",
     "output_type": "stream",
     "text": [
      "ar\n"
     ]
    }
   ],
   "source": [
    "print(p[-2:])"
   ]
  },
  {
   "cell_type": "code",
   "execution_count": 11,
   "id": "ba7ab9ff",
   "metadata": {},
   "outputs": [
    {
     "name": "stdout",
     "output_type": "stream",
     "text": [
      "dab\n"
     ]
    }
   ],
   "source": [
    "print(p[:3])"
   ]
  },
  {
   "cell_type": "code",
   "execution_count": 12,
   "id": "e23d003a",
   "metadata": {},
   "outputs": [
    {
     "name": "stdout",
     "output_type": "stream",
     "text": [
      "r\n"
     ]
    }
   ],
   "source": [
    "print(p[-1:])"
   ]
  },
  {
   "cell_type": "code",
   "execution_count": 18,
   "id": "9dccd9c7",
   "metadata": {},
   "outputs": [
    {
     "name": "stdout",
     "output_type": "stream",
     "text": [
      "DABAR\n"
     ]
    }
   ],
   "source": [
    "print(p.upper())"
   ]
  },
  {
   "cell_type": "code",
   "execution_count": 19,
   "id": "7982b28f",
   "metadata": {},
   "outputs": [
    {
     "name": "stdout",
     "output_type": "stream",
     "text": [
      "dabar\n"
     ]
    }
   ],
   "source": [
    "print(p.lower())"
   ]
  },
  {
   "cell_type": "code",
   "execution_count": 25,
   "id": "3e26672f",
   "metadata": {},
   "outputs": [
    {
     "name": "stdout",
     "output_type": "stream",
     "text": [
      "Jello world\n"
     ]
    }
   ],
   "source": [
    "m=\"Hello world\"\n",
    "m\n",
    "print(m.replace(\"H\",\"J\"))"
   ]
  },
  {
   "cell_type": "code",
   "execution_count": 26,
   "id": "e8b78676",
   "metadata": {},
   "outputs": [
    {
     "name": "stdout",
     "output_type": "stream",
     "text": [
      "['Hello world']\n"
     ]
    }
   ],
   "source": [
    "print(m.split(\",\"))"
   ]
  },
  {
   "cell_type": "code",
   "execution_count": 27,
   "id": "155057c7",
   "metadata": {},
   "outputs": [
    {
     "name": "stdout",
     "output_type": "stream",
     "text": [
      "helloworld\n"
     ]
    }
   ],
   "source": [
    "v= \"hello\"\n",
    "n=\"world\"\n",
    "print(v+n)"
   ]
  },
  {
   "cell_type": "code",
   "execution_count": 28,
   "id": "3a7f7302",
   "metadata": {},
   "outputs": [
    {
     "name": "stdout",
     "output_type": "stream",
     "text": [
      "hello world\n"
     ]
    }
   ],
   "source": [
    "print(v+\" \"+n)"
   ]
  },
  {
   "cell_type": "code",
   "execution_count": 29,
   "id": "d12a780e",
   "metadata": {},
   "outputs": [
    {
     "name": "stdout",
     "output_type": "stream",
     "text": [
      "hello world\n"
     ]
    }
   ],
   "source": [
    "g= v+\" \"+n\n",
    "print(g)\n"
   ]
  },
  {
   "cell_type": "code",
   "execution_count": 30,
   "id": "bd470678",
   "metadata": {},
   "outputs": [
    {
     "name": "stdout",
     "output_type": "stream",
     "text": [
      "hello Forld\n"
     ]
    }
   ],
   "source": [
    "print(g.replace(\"w\",\"F\"))"
   ]
  },
  {
   "cell_type": "code",
   "execution_count": 31,
   "id": "5a5a304d",
   "metadata": {},
   "outputs": [
    {
     "name": "stdout",
     "output_type": "stream",
     "text": [
      "My name is Jhon ,and Iam 36\n"
     ]
    }
   ],
   "source": [
    "age = 36\n",
    "txt =\"My name is Jhon ,and Iam {}\"\n",
    "print(txt.format(age))"
   ]
  },
  {
   "cell_type": "code",
   "execution_count": 33,
   "id": "915631bb",
   "metadata": {},
   "outputs": [
    {
     "name": "stdout",
     "output_type": "stream",
     "text": [
      "the bag price is 2000,bat price is 444 and ball price 80 \n"
     ]
    }
   ],
   "source": [
    "bag=444\n",
    "bat=2000\n",
    "ball=80\n",
    "price=\"the bag price is {},bat price is {} and ball price {} \"\n",
    "print(price.format(bat,bag,ball))"
   ]
  },
  {
   "cell_type": "code",
   "execution_count": 38,
   "id": "15602b18",
   "metadata": {},
   "outputs": [],
   "source": [
    "h = \"iam in banglore\\niam in chennai\\niam in Tirupathi\""
   ]
  },
  {
   "cell_type": "code",
   "execution_count": 40,
   "id": "6913f18c",
   "metadata": {},
   "outputs": [
    {
     "name": "stdout",
     "output_type": "stream",
     "text": [
      "iam in banglore\n",
      "iam in chennai\n",
      "iam in Tirupathi\n"
     ]
    }
   ],
   "source": [
    "print(h)"
   ]
  },
  {
   "cell_type": "code",
   "execution_count": 41,
   "id": "571149f7",
   "metadata": {},
   "outputs": [],
   "source": [
    "j = \"iam in dimbala\\' in dimbala \""
   ]
  },
  {
   "cell_type": "code",
   "execution_count": 42,
   "id": "cb8f6c18",
   "metadata": {},
   "outputs": [
    {
     "name": "stdout",
     "output_type": "stream",
     "text": [
      "iam in dimbala' in dimbala \n"
     ]
    }
   ],
   "source": [
    "print(j)"
   ]
  },
  {
   "cell_type": "code",
   "execution_count": 43,
   "id": "b63ae436",
   "metadata": {},
   "outputs": [
    {
     "name": "stdout",
     "output_type": "stream",
     "text": [
      "iam in ronur \\ google\n"
     ]
    }
   ],
   "source": [
    "h=\"iam in ronur \\\\ google\"\n",
    "print(h)"
   ]
  },
  {
   "cell_type": "code",
   "execution_count": 44,
   "id": "9a4b38b6",
   "metadata": {},
   "outputs": [],
   "source": [
    "#octal value\n",
    "#hex value"
   ]
  },
  {
   "cell_type": "raw",
   "id": "be1bee95",
   "metadata": {},
   "source": [
    "## octal - 8\n",
    "\n",
    "\n",
    "0     000\n",
    "1     001\n",
    "2     010\n",
    "3     011 \n",
    "4     100\n",
    "5     101\n",
    "6     110\n",
    "7     111\n"
   ]
  },
  {
   "cell_type": "code",
   "execution_count": 1,
   "id": "65551240",
   "metadata": {},
   "outputs": [],
   "source": [
    "q =bool(222)"
   ]
  },
  {
   "cell_type": "code",
   "execution_count": 2,
   "id": "6693411e",
   "metadata": {},
   "outputs": [
    {
     "data": {
      "text/plain": [
       "True"
      ]
     },
     "execution_count": 2,
     "metadata": {},
     "output_type": "execute_result"
    }
   ],
   "source": [
    "q"
   ]
  },
  {
   "cell_type": "code",
   "execution_count": 3,
   "id": "b8d380ed",
   "metadata": {},
   "outputs": [],
   "source": [
    "w=bool(\"false\")"
   ]
  },
  {
   "cell_type": "code",
   "execution_count": 4,
   "id": "9db72c75",
   "metadata": {},
   "outputs": [
    {
     "data": {
      "text/plain": [
       "True"
      ]
     },
     "execution_count": 4,
     "metadata": {},
     "output_type": "execute_result"
    }
   ],
   "source": [
    "w"
   ]
  },
  {
   "cell_type": "code",
   "execution_count": 7,
   "id": "3c545d81",
   "metadata": {},
   "outputs": [
    {
     "data": {
      "text/plain": [
       "33.44"
      ]
     },
     "execution_count": 7,
     "metadata": {},
     "output_type": "execute_result"
    }
   ],
   "source": [
    "a=33.44\n",
    "a"
   ]
  },
  {
   "cell_type": "code",
   "execution_count": 8,
   "id": "dbbf8034",
   "metadata": {},
   "outputs": [
    {
     "name": "stdout",
     "output_type": "stream",
     "text": [
      "<class 'float'>\n"
     ]
    }
   ],
   "source": [
    "print(type(a))"
   ]
  },
  {
   "cell_type": "code",
   "execution_count": 9,
   "id": "fae1d43f",
   "metadata": {},
   "outputs": [],
   "source": [
    "r=bool(a)"
   ]
  },
  {
   "cell_type": "code",
   "execution_count": 10,
   "id": "f82341af",
   "metadata": {},
   "outputs": [
    {
     "name": "stdout",
     "output_type": "stream",
     "text": [
      "<class 'bool'>\n"
     ]
    }
   ],
   "source": [
    "print(type(r))"
   ]
  },
  {
   "cell_type": "code",
   "execution_count": 20,
   "id": "06acb8e8",
   "metadata": {},
   "outputs": [],
   "source": [
    "def my_functii():\n",
    "    2<222;\n",
    "    print(\"he is good\")"
   ]
  },
  {
   "cell_type": "code",
   "execution_count": 21,
   "id": "36616c0b",
   "metadata": {},
   "outputs": [
    {
     "name": "stdout",
     "output_type": "stream",
     "text": [
      "he is good\n"
     ]
    }
   ],
   "source": [
    "my_functii()"
   ]
  },
  {
   "cell_type": "code",
   "execution_count": 22,
   "id": "cea72216",
   "metadata": {},
   "outputs": [
    {
     "name": "stdout",
     "output_type": "stream",
     "text": [
      "A is greaterthan B \n"
     ]
    }
   ],
   "source": [
    "b=99\n",
    "g=100\n",
    "\n",
    "if b > a:\n",
    "    print(\"A is greaterthan B \")\n",
    "\n",
    "else:\n",
    "    print(\"A is lesserthan B\")\n"
   ]
  },
  {
   "cell_type": "code",
   "execution_count": 28,
   "id": "7bda8cea",
   "metadata": {},
   "outputs": [
    {
     "name": "stdout",
     "output_type": "stream",
     "text": [
      "True\n"
     ]
    }
   ],
   "source": [
    "class my_class():\n",
    "    def __len__(self):\n",
    "        return 10\n",
    "        \n",
    "t = my_class()\n",
    "print(bool(t))"
   ]
  },
  {
   "cell_type": "code",
   "execution_count": 29,
   "id": "c3e9075c",
   "metadata": {},
   "outputs": [
    {
     "name": "stdout",
     "output_type": "stream",
     "text": [
      "False\n"
     ]
    }
   ],
   "source": [
    "class MY_Class():\n",
    "    def __len__(self):\n",
    "        return 0\n",
    "p = MY_Class()\n",
    "print(bool(p))"
   ]
  },
  {
   "cell_type": "code",
   "execution_count": 31,
   "id": "b41c8740",
   "metadata": {},
   "outputs": [
    {
     "name": "stdout",
     "output_type": "stream",
     "text": [
      "24\n"
     ]
    }
   ],
   "source": [
    "x = 22\n",
    "x+=2\n",
    "\n",
    "print(x)"
   ]
  },
  {
   "cell_type": "code",
   "execution_count": 32,
   "id": "a2fabffb",
   "metadata": {},
   "outputs": [
    {
     "name": "stdout",
     "output_type": "stream",
     "text": [
      "-31\n"
     ]
    }
   ],
   "source": [
    "x-=55\n",
    "print(x)"
   ]
  },
  {
   "cell_type": "code",
   "execution_count": 33,
   "id": "1ef42dd9",
   "metadata": {},
   "outputs": [],
   "source": [
    "x<<=4"
   ]
  },
  {
   "cell_type": "code",
   "execution_count": 34,
   "id": "6609ae50",
   "metadata": {},
   "outputs": [
    {
     "name": "stdout",
     "output_type": "stream",
     "text": [
      "-496\n"
     ]
    }
   ],
   "source": [
    "print(x)"
   ]
  },
  {
   "cell_type": "raw",
   "id": "626da6a3",
   "metadata": {},
   "source": [
    "# and :-   Returns True if both statements are true\tx < 5 and  x < 10\t\n",
    "or\t:-     Returns True if one of the statements is true\tx < 5 or x < 4\t\n",
    "not\t :-    Reverse the result, returns False if the result is true"
   ]
  },
  {
   "cell_type": "code",
   "execution_count": 35,
   "id": "3b3430d1",
   "metadata": {},
   "outputs": [],
   "source": [
    " g = list((\"single\",\"married\",\"unmarried\"))"
   ]
  },
  {
   "cell_type": "code",
   "execution_count": 36,
   "id": "98e1db33",
   "metadata": {},
   "outputs": [
    {
     "name": "stdout",
     "output_type": "stream",
     "text": [
      "['single', 'married', 'unmarried']\n"
     ]
    }
   ],
   "source": [
    "print(g)"
   ]
  },
  {
   "cell_type": "code",
   "execution_count": 37,
   "id": "af696ee9",
   "metadata": {},
   "outputs": [],
   "source": [
    "f=[\"11\",\"22\",\"33\",\"44\",\"55\"]"
   ]
  },
  {
   "cell_type": "code",
   "execution_count": 38,
   "id": "c2a491e7",
   "metadata": {},
   "outputs": [
    {
     "name": "stdout",
     "output_type": "stream",
     "text": [
      "['11', '22', '33', '44', '55']\n"
     ]
    }
   ],
   "source": [
    "print(f)"
   ]
  },
  {
   "cell_type": "code",
   "execution_count": 39,
   "id": "eee0df13",
   "metadata": {},
   "outputs": [
    {
     "name": "stdout",
     "output_type": "stream",
     "text": [
      "5\n"
     ]
    }
   ],
   "source": [
    "print(len(f))"
   ]
  },
  {
   "cell_type": "code",
   "execution_count": 40,
   "id": "f884c05b",
   "metadata": {},
   "outputs": [
    {
     "name": "stdout",
     "output_type": "stream",
     "text": [
      "<class 'list'>\n"
     ]
    }
   ],
   "source": [
    "print(type(f))"
   ]
  },
  {
   "cell_type": "code",
   "execution_count": 41,
   "id": "5c1bad84",
   "metadata": {},
   "outputs": [],
   "source": [
    "My_var = [\"apple\",23,True,\"and\"]"
   ]
  },
  {
   "cell_type": "code",
   "execution_count": 43,
   "id": "1251b924",
   "metadata": {},
   "outputs": [
    {
     "data": {
      "text/plain": [
       "['apple', 23, True, 'and']"
      ]
     },
     "execution_count": 43,
     "metadata": {},
     "output_type": "execute_result"
    }
   ],
   "source": [
    "My_var"
   ]
  },
  {
   "cell_type": "code",
   "execution_count": 45,
   "id": "94bfe31e",
   "metadata": {},
   "outputs": [
    {
     "name": "stdout",
     "output_type": "stream",
     "text": [
      "<class 'list'>\n"
     ]
    }
   ],
   "source": [
    "print(type(My_var))"
   ]
  },
  {
   "cell_type": "code",
   "execution_count": 52,
   "id": "176733d2",
   "metadata": {},
   "outputs": [
    {
     "name": "stdout",
     "output_type": "stream",
     "text": [
      "[23, True, 'and']\n"
     ]
    }
   ],
   "source": [
    "print(My_var[1:4])"
   ]
  },
  {
   "cell_type": "code",
   "execution_count": 54,
   "id": "e76c5625",
   "metadata": {},
   "outputs": [
    {
     "name": "stdout",
     "output_type": "stream",
     "text": [
      "[True, 'and']\n"
     ]
    }
   ],
   "source": [
    "print(My_var[2:4])"
   ]
  },
  {
   "cell_type": "code",
   "execution_count": 56,
   "id": "c612432b",
   "metadata": {},
   "outputs": [
    {
     "name": "stdout",
     "output_type": "stream",
     "text": [
      "[True, 'and']\n"
     ]
    }
   ],
   "source": [
    "print(My_var[-2:])"
   ]
  },
  {
   "cell_type": "code",
   "execution_count": 57,
   "id": "c5e4aad9",
   "metadata": {},
   "outputs": [
    {
     "name": "stdout",
     "output_type": "stream",
     "text": [
      "['apple', 23, True, 'Lovers']\n"
     ]
    }
   ],
   "source": [
    "My_var[3]=\"Lovers\"\n",
    "print(My_var)"
   ]
  },
  {
   "cell_type": "code",
   "execution_count": 58,
   "id": "f8102d85",
   "metadata": {},
   "outputs": [],
   "source": [
    "My_var.insert(4,\"couple\")   # insert means giving the value where it should be added"
   ]
  },
  {
   "cell_type": "code",
   "execution_count": 59,
   "id": "96e94f65",
   "metadata": {},
   "outputs": [
    {
     "data": {
      "text/plain": [
       "['apple', 23, True, 'Lovers', 'couple']"
      ]
     },
     "execution_count": 59,
     "metadata": {},
     "output_type": "execute_result"
    }
   ],
   "source": [
    "My_var"
   ]
  },
  {
   "cell_type": "code",
   "execution_count": 60,
   "id": "2b81314d",
   "metadata": {},
   "outputs": [],
   "source": [
    "MY_var = [\"DON\",\"Mass\",\"Marri\"]"
   ]
  },
  {
   "cell_type": "code",
   "execution_count": 61,
   "id": "80b53c58",
   "metadata": {},
   "outputs": [
    {
     "data": {
      "text/plain": [
       "['DON', 'Mass', 'Marri']"
      ]
     },
     "execution_count": 61,
     "metadata": {},
     "output_type": "execute_result"
    }
   ],
   "source": [
    "MY_var"
   ]
  },
  {
   "cell_type": "code",
   "execution_count": 64,
   "id": "00ffcaa4",
   "metadata": {},
   "outputs": [],
   "source": [
    "My_var.append(\"Krack\") # append meand add"
   ]
  },
  {
   "cell_type": "code",
   "execution_count": 63,
   "id": "0056959a",
   "metadata": {},
   "outputs": [
    {
     "data": {
      "text/plain": [
       "['apple', 23, True, 'Lovers', 'couple', 'Krack']"
      ]
     },
     "execution_count": 63,
     "metadata": {},
     "output_type": "execute_result"
    }
   ],
   "source": [
    "My_var"
   ]
  },
  {
   "cell_type": "code",
   "execution_count": 65,
   "id": "85ee31ec",
   "metadata": {},
   "outputs": [],
   "source": [
    "My_var.extend(MY_var)"
   ]
  },
  {
   "cell_type": "code",
   "execution_count": 66,
   "id": "3442312a",
   "metadata": {},
   "outputs": [
    {
     "name": "stdout",
     "output_type": "stream",
     "text": [
      "['apple', 23, True, 'Lovers', 'couple', 'Krack', 'Krack', 'DON', 'Mass', 'Marri']\n"
     ]
    }
   ],
   "source": [
    "print(My_var)"
   ]
  },
  {
   "cell_type": "code",
   "execution_count": 71,
   "id": "16dbf334",
   "metadata": {},
   "outputs": [
    {
     "name": "stdout",
     "output_type": "stream",
     "text": [
      "['apple', 23, 'Lovers', 'couple', 'Krack', 'Krack', 'DON', 'Mass', 'Marri']\n"
     ]
    }
   ],
   "source": [
    "print(My_var)"
   ]
  },
  {
   "cell_type": "code",
   "execution_count": 72,
   "id": "ff7b4168",
   "metadata": {},
   "outputs": [],
   "source": [
    "My_var.remove(23)"
   ]
  },
  {
   "cell_type": "code",
   "execution_count": 73,
   "id": "7be2ff8a",
   "metadata": {},
   "outputs": [
    {
     "name": "stdout",
     "output_type": "stream",
     "text": [
      "['apple', 'Lovers', 'couple', 'Krack', 'Krack', 'DON', 'Mass', 'Marri']\n"
     ]
    }
   ],
   "source": [
    "print(My_var)"
   ]
  },
  {
   "cell_type": "code",
   "execution_count": 78,
   "id": "ba3b5ace",
   "metadata": {},
   "outputs": [],
   "source": [
    "#  del :- delete\n",
    "#  pop :- only show the random value and other will be invisible"
   ]
  },
  {
   "cell_type": "code",
   "execution_count": 75,
   "id": "85332014",
   "metadata": {},
   "outputs": [
    {
     "data": {
      "text/plain": [
       "'couple'"
      ]
     },
     "execution_count": 75,
     "metadata": {},
     "output_type": "execute_result"
    }
   ],
   "source": [
    "My_var.pop(2)"
   ]
  },
  {
   "cell_type": "code",
   "execution_count": 77,
   "id": "b6dc75d8",
   "metadata": {},
   "outputs": [
    {
     "data": {
      "text/plain": [
       "'Mass'"
      ]
     },
     "execution_count": 77,
     "metadata": {},
     "output_type": "execute_result"
    }
   ],
   "source": [
    "My_var.pop()"
   ]
  },
  {
   "cell_type": "code",
   "execution_count": 79,
   "id": "f72e9900",
   "metadata": {},
   "outputs": [],
   "source": [
    "# for is show character prallel ;;;  \n",
    "# no bracket in function "
   ]
  },
  {
   "cell_type": "code",
   "execution_count": 80,
   "id": "8288b1d8",
   "metadata": {},
   "outputs": [
    {
     "data": {
      "text/plain": [
       "['apple', 'Lovers', 'Krack', 'Krack', 'DON']"
      ]
     },
     "execution_count": 80,
     "metadata": {},
     "output_type": "execute_result"
    }
   ],
   "source": [
    "My_var"
   ]
  },
  {
   "cell_type": "code",
   "execution_count": 82,
   "id": "11a7d978",
   "metadata": {},
   "outputs": [
    {
     "name": "stdout",
     "output_type": "stream",
     "text": [
      "apple\n",
      "Lovers\n",
      "Krack\n",
      "Krack\n",
      "DON\n"
     ]
    }
   ],
   "source": [
    "for x in My_var:\n",
    "    print(x)"
   ]
  },
  {
   "cell_type": "code",
   "execution_count": 84,
   "id": "a770cd59",
   "metadata": {},
   "outputs": [
    {
     "name": "stdout",
     "output_type": "stream",
     "text": [
      "apple\n",
      "banana\n",
      "cherry\n"
     ]
    }
   ],
   "source": [
    "thislist = [\"apple\",\"banana\",\"cherry\"]\n",
    "for i in range(len(thislist)):\n",
    "    print(thislist[i])"
   ]
  },
  {
   "cell_type": "code",
   "execution_count": 85,
   "id": "cf6536bf",
   "metadata": {},
   "outputs": [
    {
     "name": "stdout",
     "output_type": "stream",
     "text": [
      "apple\n",
      "banana\n",
      "cherry\n"
     ]
    }
   ],
   "source": [
    "i = 0\n",
    "while i < len(thislist):\n",
    "    print(thislist[i])\n",
    "    i=i+1\n"
   ]
  },
  {
   "cell_type": "code",
   "execution_count": 1,
   "id": "9efd94ff",
   "metadata": {},
   "outputs": [
    {
     "name": "stdout",
     "output_type": "stream",
     "text": [
      "['apple', 'banana', 'cherry']\n"
     ]
    }
   ],
   "source": [
    "mylist = [\"apple\",\"banana\",\"cherry\"]\n",
    "print(mylist)"
   ]
  },
  {
   "cell_type": "code",
   "execution_count": 2,
   "id": "e1e1173d",
   "metadata": {},
   "outputs": [
    {
     "name": "stdout",
     "output_type": "stream",
     "text": [
      "3\n"
     ]
    }
   ],
   "source": [
    "print(len(mylist))"
   ]
  },
  {
   "cell_type": "code",
   "execution_count": 3,
   "id": "367e5af4",
   "metadata": {},
   "outputs": [],
   "source": [
    "list1 = [\"apple\",\"banana\",\"cherry\"]\n",
    "list2 = [1,2,3,4,5,6]\n",
    "list3 = [True,False,False]"
   ]
  },
  {
   "cell_type": "code",
   "execution_count": 5,
   "id": "cb5ce693",
   "metadata": {},
   "outputs": [
    {
     "name": "stdout",
     "output_type": "stream",
     "text": [
      "['apple', 'banana', 'cherry']\n",
      "[1, 2, 3, 4, 5, 6]\n",
      "[True, False, False]\n"
     ]
    }
   ],
   "source": [
    "print(list1)\n",
    "print(list2)\n",
    "print(list3)"
   ]
  },
  {
   "cell_type": "code",
   "execution_count": 6,
   "id": "eafbe6e1",
   "metadata": {},
   "outputs": [
    {
     "name": "stdout",
     "output_type": "stream",
     "text": [
      "<class 'list'>\n"
     ]
    }
   ],
   "source": [
    "print(type(list1))"
   ]
  },
  {
   "cell_type": "code",
   "execution_count": 7,
   "id": "7c5d6964",
   "metadata": {},
   "outputs": [
    {
     "name": "stdout",
     "output_type": "stream",
     "text": [
      "banana\n"
     ]
    }
   ],
   "source": [
    "print(list1[1])"
   ]
  },
  {
   "cell_type": "code",
   "execution_count": 10,
   "id": "7a8b5f1b",
   "metadata": {},
   "outputs": [
    {
     "name": "stdout",
     "output_type": "stream",
     "text": [
      "cherry\n"
     ]
    }
   ],
   "source": [
    "print(list1[2])"
   ]
  },
  {
   "cell_type": "code",
   "execution_count": 12,
   "id": "6f9407d4",
   "metadata": {},
   "outputs": [
    {
     "name": "stdout",
     "output_type": "stream",
     "text": [
      "apple\n"
     ]
    }
   ],
   "source": [
    "print(list1[0])"
   ]
  },
  {
   "cell_type": "code",
   "execution_count": 13,
   "id": "17fd1b71",
   "metadata": {},
   "outputs": [
    {
     "name": "stdout",
     "output_type": "stream",
     "text": [
      "['banana']\n"
     ]
    }
   ],
   "source": [
    "print(list1[-2:-1])"
   ]
  },
  {
   "cell_type": "code",
   "execution_count": 16,
   "id": "b8aa8e06",
   "metadata": {},
   "outputs": [
    {
     "name": "stdout",
     "output_type": "stream",
     "text": [
      "[1, 2, 3, 4, 7, 6]\n"
     ]
    }
   ],
   "source": [
    "list2[4]=7\n",
    "print(list2)"
   ]
  },
  {
   "cell_type": "code",
   "execution_count": 17,
   "id": "2516244b",
   "metadata": {},
   "outputs": [
    {
     "name": "stdout",
     "output_type": "stream",
     "text": [
      "[1, 'Watermelon', 2, 3, 4, 7, 6]\n"
     ]
    }
   ],
   "source": [
    "list2.insert(1,\"Watermelon\")\n",
    "print(list2)"
   ]
  },
  {
   "cell_type": "code",
   "execution_count": 18,
   "id": "441701bc",
   "metadata": {},
   "outputs": [
    {
     "name": "stdout",
     "output_type": "stream",
     "text": [
      "[1, 'Watermelon', 2, 3, 4, 7, 6, 'bus']\n"
     ]
    }
   ],
   "source": [
    "list2.append(\"bus\")\n",
    "print(list2)"
   ]
  },
  {
   "cell_type": "code",
   "execution_count": 19,
   "id": "62eaebbe",
   "metadata": {},
   "outputs": [
    {
     "name": "stdout",
     "output_type": "stream",
     "text": [
      "[1, 2, 3, 4, 7, 6, 'bus']\n"
     ]
    }
   ],
   "source": [
    "list2.remove(\"Watermelon\")\n",
    "print(list2)"
   ]
  },
  {
   "cell_type": "code",
   "execution_count": 20,
   "id": "7c754ec8",
   "metadata": {},
   "outputs": [
    {
     "name": "stdout",
     "output_type": "stream",
     "text": [
      "[1, 2, 3, 4, 7, 6]\n"
     ]
    }
   ],
   "source": [
    "list2.remove(\"bus\")\n",
    "print(list2)"
   ]
  },
  {
   "cell_type": "code",
   "execution_count": 21,
   "id": "de08275a",
   "metadata": {},
   "outputs": [
    {
     "name": "stdout",
     "output_type": "stream",
     "text": [
      "[1, 2, 3, 4, 6]\n"
     ]
    }
   ],
   "source": [
    "del list2[4]\n",
    "print(list2)"
   ]
  },
  {
   "cell_type": "code",
   "execution_count": 22,
   "id": "de6d346a",
   "metadata": {},
   "outputs": [
    {
     "name": "stdout",
     "output_type": "stream",
     "text": [
      "[]\n"
     ]
    }
   ],
   "source": [
    "list2.clear()\n",
    "print(list2)"
   ]
  },
  {
   "cell_type": "code",
   "execution_count": 1,
   "id": "d6faa1e1",
   "metadata": {},
   "outputs": [
    {
     "name": "stdout",
     "output_type": "stream",
     "text": [
      "['apple', 'ban', 'pan', 'Goal']\n"
     ]
    }
   ],
   "source": [
    "list7=[\"apple\",\"ban\",\"pan\",\"Goal\"]\n",
    "print(list7)"
   ]
  },
  {
   "cell_type": "code",
   "execution_count": 3,
   "id": "12dcc897",
   "metadata": {},
   "outputs": [],
   "source": [
    "list7.append(\"gun\")"
   ]
  },
  {
   "cell_type": "code",
   "execution_count": 4,
   "id": "58a61d58",
   "metadata": {},
   "outputs": [
    {
     "name": "stdout",
     "output_type": "stream",
     "text": [
      "['apple', 'ban', 'pan', 'Goal', 'gun', 'gun']\n"
     ]
    }
   ],
   "source": [
    "print(list7)"
   ]
  },
  {
   "cell_type": "code",
   "execution_count": 5,
   "id": "b98a35d7",
   "metadata": {},
   "outputs": [],
   "source": [
    "list7.insert(2,\"pan masala\")"
   ]
  },
  {
   "cell_type": "code",
   "execution_count": 6,
   "id": "8e411fab",
   "metadata": {},
   "outputs": [
    {
     "data": {
      "text/plain": [
       "['apple', 'ban', 'pan masala', 'pan', 'Goal', 'gun', 'gun']"
      ]
     },
     "execution_count": 6,
     "metadata": {},
     "output_type": "execute_result"
    }
   ],
   "source": [
    "list7"
   ]
  },
  {
   "cell_type": "code",
   "execution_count": 7,
   "id": "9c29d6b7",
   "metadata": {},
   "outputs": [],
   "source": [
    "list7.remove(\"pan\")"
   ]
  },
  {
   "cell_type": "code",
   "execution_count": 8,
   "id": "104ad5c9",
   "metadata": {},
   "outputs": [
    {
     "name": "stdout",
     "output_type": "stream",
     "text": [
      "['apple', 'ban', 'pan masala', 'Goal', 'gun', 'gun']\n"
     ]
    }
   ],
   "source": [
    "print(list7)"
   ]
  },
  {
   "cell_type": "code",
   "execution_count": 22,
   "id": "0d472b75",
   "metadata": {},
   "outputs": [],
   "source": [
    "g1 = list((\"Fan\",\"ban\",\"horse\",\"gun\"))"
   ]
  },
  {
   "cell_type": "code",
   "execution_count": 23,
   "id": "b43fd9b4",
   "metadata": {},
   "outputs": [
    {
     "name": "stdout",
     "output_type": "stream",
     "text": [
      "<class 'list'>\n"
     ]
    }
   ],
   "source": [
    "print(type(g1))"
   ]
  },
  {
   "cell_type": "code",
   "execution_count": 24,
   "id": "341262a7",
   "metadata": {},
   "outputs": [
    {
     "data": {
      "text/plain": [
       "['Fan', 'ban', 'horse', 'gun']"
      ]
     },
     "execution_count": 24,
     "metadata": {},
     "output_type": "execute_result"
    }
   ],
   "source": [
    "g1"
   ]
  },
  {
   "cell_type": "code",
   "execution_count": 25,
   "id": "49d45594",
   "metadata": {},
   "outputs": [
    {
     "name": "stdout",
     "output_type": "stream",
     "text": [
      "Fan\n",
      "ban\n",
      "horse\n",
      "gun\n"
     ]
    }
   ],
   "source": [
    "g1\n",
    "for x in g1:\n",
    "    print(x)"
   ]
  },
  {
   "cell_type": "code",
   "execution_count": 26,
   "id": "bf08feca",
   "metadata": {},
   "outputs": [
    {
     "name": "stdout",
     "output_type": "stream",
     "text": [
      "4\n"
     ]
    }
   ],
   "source": [
    "print(len(g1))"
   ]
  },
  {
   "cell_type": "code",
   "execution_count": 28,
   "id": "f306798c",
   "metadata": {},
   "outputs": [],
   "source": [
    "g1.remove(\"horse\")"
   ]
  },
  {
   "cell_type": "code",
   "execution_count": 29,
   "id": "ae93bb46",
   "metadata": {},
   "outputs": [
    {
     "data": {
      "text/plain": [
       "['Fan', 'ban', 'gun']"
      ]
     },
     "execution_count": 29,
     "metadata": {},
     "output_type": "execute_result"
    }
   ],
   "source": [
    "g1"
   ]
  },
  {
   "cell_type": "code",
   "execution_count": 30,
   "id": "323cfae8",
   "metadata": {},
   "outputs": [
    {
     "name": "stdout",
     "output_type": "stream",
     "text": [
      "I love you\n",
      "I love you\n"
     ]
    }
   ],
   "source": [
    "g1\n",
    "for x in g1:\n",
    "    if \"a\" in x:\n",
    "        print(\"I love you\")"
   ]
  },
  {
   "cell_type": "code",
   "execution_count": 31,
   "id": "57445f8c",
   "metadata": {},
   "outputs": [],
   "source": [
    "fruits= [\"key\",\"tab\",\"shift\"]"
   ]
  },
  {
   "cell_type": "code",
   "execution_count": 35,
   "id": "1bab510d",
   "metadata": {},
   "outputs": [
    {
     "name": "stdout",
     "output_type": "stream",
     "text": [
      "['tab', 'shift']\n"
     ]
    }
   ],
   "source": [
    "newlist =[x for x in fruits if \"t\" in x]\n",
    "print(newlist)"
   ]
  },
  {
   "cell_type": "code",
   "execution_count": 37,
   "id": "7e741771",
   "metadata": {},
   "outputs": [
    {
     "name": "stdout",
     "output_type": "stream",
     "text": [
      "['key', 'shift', 'tab']\n"
     ]
    }
   ],
   "source": [
    "# sort - alphabetical\n",
    "fruits.sort()\n",
    "print(fruits)"
   ]
  },
  {
   "cell_type": "code",
   "execution_count": 45,
   "id": "6c619f7b",
   "metadata": {},
   "outputs": [],
   "source": [
    "al=((\"alpha\",True,False,45))"
   ]
  },
  {
   "cell_type": "code",
   "execution_count": 46,
   "id": "513eb5e0",
   "metadata": {},
   "outputs": [
    {
     "data": {
      "text/plain": [
       "('alpha', True, False, 45)"
      ]
     },
     "execution_count": 46,
     "metadata": {},
     "output_type": "execute_result"
    }
   ],
   "source": [
    "al"
   ]
  },
  {
   "cell_type": "code",
   "execution_count": 47,
   "id": "ba587d33",
   "metadata": {},
   "outputs": [
    {
     "name": "stdout",
     "output_type": "stream",
     "text": [
      "<class 'tuple'>\n"
     ]
    }
   ],
   "source": [
    "print(type(al))"
   ]
  },
  {
   "cell_type": "code",
   "execution_count": 48,
   "id": "cb3f5e3c",
   "metadata": {},
   "outputs": [
    {
     "name": "stdout",
     "output_type": "stream",
     "text": [
      "4\n"
     ]
    }
   ],
   "source": [
    "print(len(al))"
   ]
  },
  {
   "cell_type": "code",
   "execution_count": 50,
   "id": "2792c4f0",
   "metadata": {},
   "outputs": [],
   "source": [
    "x=(\"apple\",\"banana\",\"cherry\")\n",
    "y=list(x)\n",
    "y[2]=\"kiwi\"\n",
    "x =tuple(y)"
   ]
  },
  {
   "cell_type": "code",
   "execution_count": 51,
   "id": "408c4079",
   "metadata": {},
   "outputs": [
    {
     "name": "stdout",
     "output_type": "stream",
     "text": [
      "('apple', 'banana', 'kiwi')\n"
     ]
    }
   ],
   "source": [
    "print(x)"
   ]
  },
  {
   "cell_type": "code",
   "execution_count": 54,
   "id": "bba68540",
   "metadata": {},
   "outputs": [
    {
     "data": {
      "text/plain": [
       "('apple', 'banana', 'kiwi')"
      ]
     },
     "execution_count": 54,
     "metadata": {},
     "output_type": "execute_result"
    }
   ],
   "source": [
    "x"
   ]
  },
  {
   "cell_type": "code",
   "execution_count": 55,
   "id": "d0f35d8a",
   "metadata": {},
   "outputs": [],
   "source": [
    "y=list(x)\n",
    "y.append(\"cherry\")\n",
    "x=tuple(y)"
   ]
  },
  {
   "cell_type": "code",
   "execution_count": 56,
   "id": "b8dfa12a",
   "metadata": {},
   "outputs": [
    {
     "name": "stdout",
     "output_type": "stream",
     "text": [
      "('apple', 'banana', 'kiwi', 'cherry')\n"
     ]
    }
   ],
   "source": [
    "print(x)"
   ]
  },
  {
   "cell_type": "code",
   "execution_count": 57,
   "id": "d65cde01",
   "metadata": {},
   "outputs": [
    {
     "name": "stdout",
     "output_type": "stream",
     "text": [
      "<class 'tuple'>\n"
     ]
    }
   ],
   "source": [
    "print(type(x))"
   ]
  },
  {
   "cell_type": "code",
   "execution_count": 61,
   "id": "84c1b4c1",
   "metadata": {},
   "outputs": [
    {
     "name": "stdout",
     "output_type": "stream",
     "text": [
      "['apple', 'mango']\n",
      "cashewnut\n",
      "grapes\n"
     ]
    }
   ],
   "source": [
    "fruitss=(\"apple\",\"mango\",\"cashewnut\",\"grapes\")\n",
    "\n",
    "(*flower,lily,red)=fruitss\n",
    "\n",
    "print(flower)\n",
    "print(lily)\n",
    "print(red)"
   ]
  },
  {
   "cell_type": "code",
   "execution_count": 62,
   "id": "4fc8f817",
   "metadata": {},
   "outputs": [
    {
     "name": "stdout",
     "output_type": "stream",
     "text": [
      "1\n",
      "2\n",
      "3\n",
      "4\n",
      "5\n"
     ]
    }
   ],
   "source": [
    "thistuple=(\"1\",\"2\",\"3\",\"4\",\"5\")\n",
    "for x in thistuple:\n",
    "    print(x)"
   ]
  },
  {
   "cell_type": "code",
   "execution_count": 63,
   "id": "e3f79f24",
   "metadata": {},
   "outputs": [
    {
     "name": "stdout",
     "output_type": "stream",
     "text": [
      "1\n",
      "2\n",
      "3\n",
      "4\n",
      "5\n"
     ]
    }
   ],
   "source": [
    "thistuple\n",
    "for i in range(len(thistuple)):\n",
    "    print(thistuple[i])"
   ]
  },
  {
   "cell_type": "code",
   "execution_count": 64,
   "id": "572f20fd",
   "metadata": {},
   "outputs": [],
   "source": [
    "# set"
   ]
  },
  {
   "cell_type": "code",
   "execution_count": 1,
   "id": "11953360",
   "metadata": {},
   "outputs": [
    {
     "name": "stdout",
     "output_type": "stream",
     "text": [
      "<class 'set'>\n"
     ]
    }
   ],
   "source": [
    "set1 = {\"apple\",\"bannana\",\"cherry\"}\n",
    "print(type(set1))"
   ]
  },
  {
   "cell_type": "code",
   "execution_count": 3,
   "id": "bf8ea2dd",
   "metadata": {},
   "outputs": [
    {
     "name": "stdout",
     "output_type": "stream",
     "text": [
      "3\n"
     ]
    }
   ],
   "source": [
    "print(len(set1))"
   ]
  },
  {
   "cell_type": "code",
   "execution_count": 2,
   "id": "24dd33b0",
   "metadata": {},
   "outputs": [],
   "source": [
    "x=list(set1)"
   ]
  },
  {
   "cell_type": "code",
   "execution_count": 10,
   "id": "7e1719ff",
   "metadata": {},
   "outputs": [
    {
     "name": "stdout",
     "output_type": "stream",
     "text": [
      "['apple', 'cherry', 'bannana', 'Mango']\n"
     ]
    }
   ],
   "source": [
    "print(x)"
   ]
  },
  {
   "cell_type": "code",
   "execution_count": 11,
   "id": "dd28ac95",
   "metadata": {},
   "outputs": [
    {
     "name": "stdout",
     "output_type": "stream",
     "text": [
      "<class 'list'>\n"
     ]
    }
   ],
   "source": [
    "print(type(x))"
   ]
  },
  {
   "cell_type": "code",
   "execution_count": 12,
   "id": "33ace773",
   "metadata": {},
   "outputs": [],
   "source": [
    "y=set(x)"
   ]
  },
  {
   "cell_type": "code",
   "execution_count": 13,
   "id": "66f8972f",
   "metadata": {},
   "outputs": [
    {
     "name": "stdout",
     "output_type": "stream",
     "text": [
      "<class 'set'>\n"
     ]
    }
   ],
   "source": [
    "print(type(y))"
   ]
  },
  {
   "cell_type": "code",
   "execution_count": 14,
   "id": "d03d3a59",
   "metadata": {},
   "outputs": [
    {
     "name": "stdout",
     "output_type": "stream",
     "text": [
      "{'apple', 'Mango', 'cherry', 'bannana'}\n",
      "{'apple', 'Mango', 'cherry', 'bannana'}\n",
      "{'apple', 'Mango', 'cherry', 'bannana'}\n",
      "{'apple', 'Mango', 'cherry', 'bannana'}\n"
     ]
    }
   ],
   "source": [
    "y\n",
    "for x in y:\n",
    "    print(y)"
   ]
  },
  {
   "cell_type": "code",
   "execution_count": 18,
   "id": "3e4c2e90",
   "metadata": {},
   "outputs": [
    {
     "name": "stdout",
     "output_type": "stream",
     "text": [
      "in valid\n"
     ]
    }
   ],
   "source": [
    "y\n",
    "\n",
    "if \"Mano\" in y:\n",
    "    print(y)\n",
    "\n",
    "else:\n",
    "    print(\"in valid\")"
   ]
  },
  {
   "cell_type": "code",
   "execution_count": 19,
   "id": "d1b3b1b5",
   "metadata": {},
   "outputs": [],
   "source": [
    "y.add(\"loops\")"
   ]
  },
  {
   "cell_type": "code",
   "execution_count": 20,
   "id": "f13b8206",
   "metadata": {},
   "outputs": [
    {
     "data": {
      "text/plain": [
       "{'Mango', 'apple', 'bannana', 'cherry', 'loops'}"
      ]
     },
     "execution_count": 20,
     "metadata": {},
     "output_type": "execute_result"
    }
   ],
   "source": [
    "y"
   ]
  },
  {
   "cell_type": "code",
   "execution_count": 21,
   "id": "5934712c",
   "metadata": {},
   "outputs": [],
   "source": [
    "x=[\"1\",\"3\",\"7\"]"
   ]
  },
  {
   "cell_type": "code",
   "execution_count": 22,
   "id": "24ec7e6b",
   "metadata": {},
   "outputs": [
    {
     "name": "stdout",
     "output_type": "stream",
     "text": [
      "{'apple', 'bannana', '1', 'loops', 'Mango', '3', '7', 'cherry'}\n"
     ]
    }
   ],
   "source": [
    "y.update(x)\n",
    "print(y)"
   ]
  },
  {
   "cell_type": "code",
   "execution_count": 23,
   "id": "24067038",
   "metadata": {},
   "outputs": [],
   "source": [
    "y.remove(\"1\")"
   ]
  },
  {
   "cell_type": "code",
   "execution_count": 24,
   "id": "8dc2f591",
   "metadata": {},
   "outputs": [
    {
     "data": {
      "text/plain": [
       "{'3', '7', 'Mango', 'apple', 'bannana', 'cherry', 'loops'}"
      ]
     },
     "execution_count": 24,
     "metadata": {},
     "output_type": "execute_result"
    }
   ],
   "source": [
    "y"
   ]
  },
  {
   "cell_type": "code",
   "execution_count": 25,
   "id": "779a6f92",
   "metadata": {},
   "outputs": [
    {
     "data": {
      "text/plain": [
       "'apple'"
      ]
     },
     "execution_count": 25,
     "metadata": {},
     "output_type": "execute_result"
    }
   ],
   "source": [
    "y.pop()"
   ]
  },
  {
   "cell_type": "code",
   "execution_count": 26,
   "id": "f51883f2",
   "metadata": {},
   "outputs": [
    {
     "data": {
      "text/plain": [
       "{'3', '7', 'Mango', 'bannana', 'cherry', 'loops'}"
      ]
     },
     "execution_count": 26,
     "metadata": {},
     "output_type": "execute_result"
    }
   ],
   "source": [
    "y"
   ]
  },
  {
   "cell_type": "code",
   "execution_count": 27,
   "id": "8697d6e6",
   "metadata": {},
   "outputs": [],
   "source": [
    "y.discard(\"3\")"
   ]
  },
  {
   "cell_type": "code",
   "execution_count": 28,
   "id": "f29df6ef",
   "metadata": {},
   "outputs": [
    {
     "data": {
      "text/plain": [
       "{'7', 'Mango', 'bannana', 'cherry', 'loops'}"
      ]
     },
     "execution_count": 28,
     "metadata": {},
     "output_type": "execute_result"
    }
   ],
   "source": [
    "y"
   ]
  },
  {
   "cell_type": "code",
   "execution_count": 29,
   "id": "4421d537",
   "metadata": {},
   "outputs": [],
   "source": [
    "u={'sam','jam','good'}"
   ]
  },
  {
   "cell_type": "code",
   "execution_count": 30,
   "id": "7c51924d",
   "metadata": {},
   "outputs": [
    {
     "name": "stdout",
     "output_type": "stream",
     "text": [
      "jam\n",
      "good\n",
      "sam\n"
     ]
    }
   ],
   "source": [
    "for x in u:\n",
    "    print(x)"
   ]
  },
  {
   "cell_type": "code",
   "execution_count": 32,
   "id": "09604e44",
   "metadata": {},
   "outputs": [],
   "source": [
    "set1={'2','2','3','4'}\n",
    "set2={\"56\",'666','66','66'}\n",
    "set3=set1.union(set2)"
   ]
  },
  {
   "cell_type": "code",
   "execution_count": 33,
   "id": "65f5742b",
   "metadata": {},
   "outputs": [
    {
     "data": {
      "text/plain": [
       "{'2', '3', '4', '56', '66', '666'}"
      ]
     },
     "execution_count": 33,
     "metadata": {},
     "output_type": "execute_result"
    }
   ],
   "source": [
    "set3"
   ]
  },
  {
   "cell_type": "code",
   "execution_count": 2,
   "id": "8e647e56",
   "metadata": {},
   "outputs": [
    {
     "name": "stdout",
     "output_type": "stream",
     "text": [
      "{'brand': 'ford', 'model': 'Mustang', 'year': 1999}\n"
     ]
    }
   ],
   "source": [
    "#dict\n",
    "thisdic = {\n",
    "    \"brand\":\"ford\",\n",
    "    \"model\":\"Mustang\",\n",
    "    \"year\" : 1999}\n",
    "\n",
    "print(thisdic)"
   ]
  },
  {
   "cell_type": "code",
   "execution_count": 3,
   "id": "0bac215c",
   "metadata": {},
   "outputs": [
    {
     "name": "stdout",
     "output_type": "stream",
     "text": [
      "ford\n"
     ]
    }
   ],
   "source": [
    "print(thisdic[\"brand\"])"
   ]
  },
  {
   "cell_type": "code",
   "execution_count": 6,
   "id": "5f4cbfef",
   "metadata": {},
   "outputs": [],
   "source": [
    "x = thisdic.keys()"
   ]
  },
  {
   "cell_type": "code",
   "execution_count": 7,
   "id": "a6930636",
   "metadata": {},
   "outputs": [
    {
     "data": {
      "text/plain": [
       "dict_keys(['brand', 'model', 'year'])"
      ]
     },
     "execution_count": 7,
     "metadata": {},
     "output_type": "execute_result"
    }
   ],
   "source": [
    "x"
   ]
  },
  {
   "cell_type": "code",
   "execution_count": 8,
   "id": "efcb430b",
   "metadata": {},
   "outputs": [],
   "source": [
    "y=thisdic.values()"
   ]
  },
  {
   "cell_type": "code",
   "execution_count": 9,
   "id": "825ef2ab",
   "metadata": {},
   "outputs": [
    {
     "data": {
      "text/plain": [
       "dict_values(['ford', 'Mustang', 1999])"
      ]
     },
     "execution_count": 9,
     "metadata": {},
     "output_type": "execute_result"
    }
   ],
   "source": [
    "y"
   ]
  },
  {
   "cell_type": "code",
   "execution_count": 10,
   "id": "8bc1310a",
   "metadata": {},
   "outputs": [],
   "source": [
    "thisdic[\"model\"]=\"Vishnu\""
   ]
  },
  {
   "cell_type": "code",
   "execution_count": 11,
   "id": "784db2b4",
   "metadata": {},
   "outputs": [
    {
     "name": "stdout",
     "output_type": "stream",
     "text": [
      "{'brand': 'ford', 'model': 'Vishnu', 'year': 1999}\n"
     ]
    }
   ],
   "source": [
    "print(thisdic)"
   ]
  },
  {
   "cell_type": "code",
   "execution_count": 12,
   "id": "fbe2a170",
   "metadata": {},
   "outputs": [],
   "source": [
    "h=thisdic.items()"
   ]
  },
  {
   "cell_type": "code",
   "execution_count": 13,
   "id": "8a934bb0",
   "metadata": {},
   "outputs": [
    {
     "data": {
      "text/plain": [
       "dict_items([('brand', 'ford'), ('model', 'Vishnu'), ('year', 1999)])"
      ]
     },
     "execution_count": 13,
     "metadata": {},
     "output_type": "execute_result"
    }
   ],
   "source": [
    "h"
   ]
  },
  {
   "cell_type": "code",
   "execution_count": 14,
   "id": "e620ebe2",
   "metadata": {},
   "outputs": [],
   "source": [
    "thisdic.update({\"colour\":\"blue\"})"
   ]
  },
  {
   "cell_type": "code",
   "execution_count": 15,
   "id": "f884a56a",
   "metadata": {},
   "outputs": [
    {
     "data": {
      "text/plain": [
       "{'brand': 'ford', 'model': 'Vishnu', 'year': 1999, 'colour': 'blue'}"
      ]
     },
     "execution_count": 15,
     "metadata": {},
     "output_type": "execute_result"
    }
   ],
   "source": [
    "thisdic"
   ]
  },
  {
   "cell_type": "code",
   "execution_count": 16,
   "id": "4477ac35",
   "metadata": {},
   "outputs": [],
   "source": [
    "thisdic.update({\"year\":2020})"
   ]
  },
  {
   "cell_type": "code",
   "execution_count": 17,
   "id": "4ed24f34",
   "metadata": {},
   "outputs": [
    {
     "data": {
      "text/plain": [
       "{'brand': 'ford', 'model': 'Vishnu', 'year': 2020, 'colour': 'blue'}"
      ]
     },
     "execution_count": 17,
     "metadata": {},
     "output_type": "execute_result"
    }
   ],
   "source": [
    "thisdic"
   ]
  },
  {
   "cell_type": "code",
   "execution_count": 18,
   "id": "1242f234",
   "metadata": {},
   "outputs": [
    {
     "data": {
      "text/plain": [
       "'Vishnu'"
      ]
     },
     "execution_count": 18,
     "metadata": {},
     "output_type": "execute_result"
    }
   ],
   "source": [
    "thisdic.pop(\"model\")"
   ]
  },
  {
   "cell_type": "code",
   "execution_count": 19,
   "id": "5f620a11",
   "metadata": {},
   "outputs": [
    {
     "data": {
      "text/plain": [
       "{'brand': 'ford', 'year': 2020, 'colour': 'blue'}"
      ]
     },
     "execution_count": 19,
     "metadata": {},
     "output_type": "execute_result"
    }
   ],
   "source": [
    "thisdic"
   ]
  },
  {
   "cell_type": "code",
   "execution_count": 22,
   "id": "4959a703",
   "metadata": {},
   "outputs": [],
   "source": [
    "thisdic.clear()"
   ]
  },
  {
   "cell_type": "code",
   "execution_count": 23,
   "id": "c6cde5e2",
   "metadata": {},
   "outputs": [
    {
     "data": {
      "text/plain": [
       "{}"
      ]
     },
     "execution_count": 23,
     "metadata": {},
     "output_type": "execute_result"
    }
   ],
   "source": [
    "thisdic"
   ]
  },
  {
   "cell_type": "code",
   "execution_count": 32,
   "id": "282d6f2b",
   "metadata": {},
   "outputs": [],
   "source": [
    "man={\"good\",\"bad\",\"man\"}\n",
    "\n"
   ]
  },
  {
   "cell_type": "markdown",
   "id": "eb1b619a",
   "metadata": {},
   "source": [
    "man={\"good\",\"bad\",\"man\"}\n",
    "for x in man:\n",
    "    print(man[x])"
   ]
  },
  {
   "cell_type": "markdown",
   "id": "da42d4e3",
   "metadata": {},
   "source": [
    "man={\"good\",\"bad\",\"man\"}\n",
    "for x in man.values():\n",
    "    print(x)"
   ]
  },
  {
   "cell_type": "markdown",
   "id": "177727de",
   "metadata": {},
   "source": [
    "man={\"good\",\"bad\",\"man\"}\n",
    "for x, y in man.items():\n",
    "    print(x,y)"
   ]
  },
  {
   "cell_type": "code",
   "execution_count": 1,
   "id": "5107f6e9",
   "metadata": {},
   "outputs": [],
   "source": [
    "car = {\"apple\",\"banana\",\"dad\"}"
   ]
  },
  {
   "cell_type": "code",
   "execution_count": 2,
   "id": "c88175bc",
   "metadata": {},
   "outputs": [],
   "source": [
    "car.add(\"apples\")"
   ]
  },
  {
   "cell_type": "code",
   "execution_count": 3,
   "id": "62e09b15",
   "metadata": {},
   "outputs": [
    {
     "data": {
      "text/plain": [
       "{'apple', 'apples', 'banana', 'dad'}"
      ]
     },
     "execution_count": 3,
     "metadata": {},
     "output_type": "execute_result"
    }
   ],
   "source": [
    "car"
   ]
  },
  {
   "cell_type": "code",
   "execution_count": 4,
   "id": "4a024270",
   "metadata": {},
   "outputs": [
    {
     "name": "stdout",
     "output_type": "stream",
     "text": [
      "<class 'set'>\n"
     ]
    }
   ],
   "source": [
    "print(type(car))"
   ]
  },
  {
   "cell_type": "code",
   "execution_count": 7,
   "id": "b437a248",
   "metadata": {},
   "outputs": [],
   "source": [
    "car.remove(\"apples\")"
   ]
  },
  {
   "cell_type": "code",
   "execution_count": 8,
   "id": "347f123c",
   "metadata": {},
   "outputs": [
    {
     "data": {
      "text/plain": [
       "{'apple', 'banana', 'dad'}"
      ]
     },
     "execution_count": 8,
     "metadata": {},
     "output_type": "execute_result"
    }
   ],
   "source": [
    "car"
   ]
  },
  {
   "cell_type": "code",
   "execution_count": 9,
   "id": "d93d4d28",
   "metadata": {},
   "outputs": [],
   "source": [
    "#DIC"
   ]
  },
  {
   "cell_type": "code",
   "execution_count": 10,
   "id": "8e57eeda",
   "metadata": {},
   "outputs": [
    {
     "name": "stdout",
     "output_type": "stream",
     "text": [
      "{'brand': 'Ford', 'model': 'Mustang', 'year': 1964}\n"
     ]
    }
   ],
   "source": [
    "thisdict = {\n",
    "    \"brand\":\"Ford\",\n",
    "    \"model\":\"Mustang\",\n",
    "    \"year\":1964\n",
    "}\n",
    "print(thisdict)"
   ]
  },
  {
   "cell_type": "code",
   "execution_count": 11,
   "id": "62dca35a",
   "metadata": {},
   "outputs": [
    {
     "name": "stdout",
     "output_type": "stream",
     "text": [
      "Ford\n"
     ]
    }
   ],
   "source": [
    "print(thisdict[\"brand\"])"
   ]
  },
  {
   "cell_type": "code",
   "execution_count": 12,
   "id": "746e3440",
   "metadata": {},
   "outputs": [
    {
     "name": "stdout",
     "output_type": "stream",
     "text": [
      "3\n"
     ]
    }
   ],
   "source": [
    "print(len(thisdict))"
   ]
  },
  {
   "cell_type": "code",
   "execution_count": 13,
   "id": "b8590468",
   "metadata": {},
   "outputs": [
    {
     "name": "stdout",
     "output_type": "stream",
     "text": [
      "Mustang\n"
     ]
    }
   ],
   "source": [
    "thisdict\n",
    "x=thisdict[\"model\"]\n",
    "print(x)"
   ]
  },
  {
   "cell_type": "code",
   "execution_count": 14,
   "id": "7c64b5c0",
   "metadata": {},
   "outputs": [
    {
     "name": "stdout",
     "output_type": "stream",
     "text": [
      "Mustang\n"
     ]
    }
   ],
   "source": [
    "thisdict\n",
    "x=thisdict.get(\"model\")\n",
    "print(x)"
   ]
  },
  {
   "cell_type": "code",
   "execution_count": 15,
   "id": "fa8c3736",
   "metadata": {},
   "outputs": [],
   "source": [
    "x=thisdict.keys()"
   ]
  },
  {
   "cell_type": "code",
   "execution_count": 16,
   "id": "22d973dd",
   "metadata": {},
   "outputs": [
    {
     "name": "stdout",
     "output_type": "stream",
     "text": [
      "dict_keys(['brand', 'model', 'year'])\n"
     ]
    }
   ],
   "source": [
    "print(x)"
   ]
  },
  {
   "cell_type": "code",
   "execution_count": 17,
   "id": "35b2660c",
   "metadata": {},
   "outputs": [
    {
     "name": "stdout",
     "output_type": "stream",
     "text": [
      "dict_values(['Ford', 'Mustang', 1964])\n"
     ]
    }
   ],
   "source": [
    "x=thisdict.values()\n",
    "print(x)"
   ]
  },
  {
   "cell_type": "code",
   "execution_count": 18,
   "id": "045dd826",
   "metadata": {},
   "outputs": [],
   "source": [
    "x=thisdict.items()"
   ]
  },
  {
   "cell_type": "code",
   "execution_count": 19,
   "id": "89a6da48",
   "metadata": {},
   "outputs": [
    {
     "name": "stdout",
     "output_type": "stream",
     "text": [
      "dict_items([('brand', 'Ford'), ('model', 'Mustang'), ('year', 1964)])\n"
     ]
    }
   ],
   "source": [
    "print(x)"
   ]
  },
  {
   "cell_type": "code",
   "execution_count": 20,
   "id": "53147563",
   "metadata": {},
   "outputs": [],
   "source": [
    "car = {\n",
    "    \"brand\":\"Ford\",\n",
    "    \"model\":\"Mustang\",\n",
    "    \"year\":1946\n",
    "}\n",
    "x=car.items()"
   ]
  },
  {
   "cell_type": "code",
   "execution_count": 21,
   "id": "e2266b45",
   "metadata": {},
   "outputs": [
    {
     "name": "stdout",
     "output_type": "stream",
     "text": [
      "dict_items([('brand', 'Ford'), ('model', 'Mustang'), ('year', 1946)])\n"
     ]
    }
   ],
   "source": [
    "print(x)"
   ]
  },
  {
   "cell_type": "code",
   "execution_count": 22,
   "id": "c2b35431",
   "metadata": {},
   "outputs": [],
   "source": [
    "car[\"year\"]=2020"
   ]
  },
  {
   "cell_type": "code",
   "execution_count": 23,
   "id": "071e16b4",
   "metadata": {},
   "outputs": [
    {
     "name": "stdout",
     "output_type": "stream",
     "text": [
      "dict_items([('brand', 'Ford'), ('model', 'Mustang'), ('year', 2020)])\n"
     ]
    }
   ],
   "source": [
    "print(x)"
   ]
  },
  {
   "cell_type": "code",
   "execution_count": 25,
   "id": "5171ec49",
   "metadata": {},
   "outputs": [],
   "source": [
    "car.update({\"month\":7})"
   ]
  },
  {
   "cell_type": "code",
   "execution_count": 26,
   "id": "2c06ef38",
   "metadata": {},
   "outputs": [
    {
     "data": {
      "text/plain": [
       "{'brand': 'Ford', 'model': 'Mustang', 'year': 2020, 'month': 7}"
      ]
     },
     "execution_count": 26,
     "metadata": {},
     "output_type": "execute_result"
    }
   ],
   "source": [
    "car"
   ]
  },
  {
   "cell_type": "code",
   "execution_count": 28,
   "id": "1e754146",
   "metadata": {},
   "outputs": [],
   "source": [
    "del car[\"month\"]"
   ]
  },
  {
   "cell_type": "code",
   "execution_count": 29,
   "id": "9feca21d",
   "metadata": {},
   "outputs": [
    {
     "data": {
      "text/plain": [
       "{'brand': 'Ford', 'model': 'Mustang', 'year': 2020}"
      ]
     },
     "execution_count": 29,
     "metadata": {},
     "output_type": "execute_result"
    }
   ],
   "source": [
    "car"
   ]
  },
  {
   "cell_type": "code",
   "execution_count": 30,
   "id": "bb414017",
   "metadata": {},
   "outputs": [
    {
     "data": {
      "text/plain": [
       "('year', 2020)"
      ]
     },
     "execution_count": 30,
     "metadata": {},
     "output_type": "execute_result"
    }
   ],
   "source": [
    "car.popitem()"
   ]
  },
  {
   "cell_type": "code",
   "execution_count": 31,
   "id": "736d0d8d",
   "metadata": {},
   "outputs": [
    {
     "name": "stdout",
     "output_type": "stream",
     "text": [
      "{'brand': 'Ford', 'model': 'Mustang'}\n"
     ]
    }
   ],
   "source": [
    "print(car)"
   ]
  },
  {
   "cell_type": "code",
   "execution_count": 32,
   "id": "40b069d6",
   "metadata": {},
   "outputs": [],
   "source": [
    "car.clear()"
   ]
  },
  {
   "cell_type": "code",
   "execution_count": 33,
   "id": "19cdc0bf",
   "metadata": {},
   "outputs": [
    {
     "name": "stdout",
     "output_type": "stream",
     "text": [
      "{}\n"
     ]
    }
   ],
   "source": [
    "print(car)"
   ]
  },
  {
   "cell_type": "code",
   "execution_count": 34,
   "id": "7ca6eafc",
   "metadata": {},
   "outputs": [],
   "source": [
    "thisdict={\"brand\":\"Ford\",\"model\":\"Musstang\",\"year\":1964,\"month\":6}"
   ]
  },
  {
   "cell_type": "code",
   "execution_count": 35,
   "id": "31d9e079",
   "metadata": {},
   "outputs": [
    {
     "name": "stdout",
     "output_type": "stream",
     "text": [
      "brand\n",
      "model\n",
      "year\n",
      "month\n"
     ]
    }
   ],
   "source": [
    "for x in thisdict:\n",
    "    print(x)"
   ]
  },
  {
   "cell_type": "code",
   "execution_count": 36,
   "id": "60306cb6",
   "metadata": {},
   "outputs": [
    {
     "name": "stdout",
     "output_type": "stream",
     "text": [
      "Ford\n",
      "Musstang\n",
      "1964\n",
      "6\n"
     ]
    }
   ],
   "source": [
    "for x in thisdict:\n",
    "    print(thisdict[x])"
   ]
  },
  {
   "cell_type": "code",
   "execution_count": 37,
   "id": "8316a986",
   "metadata": {},
   "outputs": [
    {
     "name": "stdout",
     "output_type": "stream",
     "text": [
      "Ford\n",
      "Musstang\n",
      "1964\n",
      "6\n"
     ]
    }
   ],
   "source": [
    "for x in thisdict.values():\n",
    "    print(x)"
   ]
  },
  {
   "cell_type": "code",
   "execution_count": 38,
   "id": "c8ca52d8",
   "metadata": {},
   "outputs": [
    {
     "name": "stdout",
     "output_type": "stream",
     "text": [
      "brand\n",
      "model\n",
      "year\n",
      "month\n"
     ]
    }
   ],
   "source": [
    "for x in thisdict.keys():\n",
    "    print(x)"
   ]
  },
  {
   "cell_type": "code",
   "execution_count": 39,
   "id": "43509fb3",
   "metadata": {},
   "outputs": [
    {
     "name": "stdout",
     "output_type": "stream",
     "text": [
      "brand Ford\n",
      "model Musstang\n",
      "year 1964\n",
      "month 6\n"
     ]
    }
   ],
   "source": [
    "for x, y in thisdict.items():\n",
    "    print(x, y)"
   ]
  },
  {
   "cell_type": "code",
   "execution_count": 40,
   "id": "aa8250c8",
   "metadata": {},
   "outputs": [
    {
     "name": "stdout",
     "output_type": "stream",
     "text": [
      "{'brand': 'Ford', 'model': 'Mustang', 'year': 1964}\n"
     ]
    }
   ],
   "source": [
    "thisdict={\n",
    "    \"brand\":\"Ford\",\n",
    "    \"model\":\"Mustang\",\n",
    "    \"year\":1964\n",
    "}\n",
    "mydict = thisdict.copy()\n",
    "print(mydict)"
   ]
  },
  {
   "cell_type": "code",
   "execution_count": 41,
   "id": "9da4e915",
   "metadata": {},
   "outputs": [
    {
     "name": "stdout",
     "output_type": "stream",
     "text": [
      "{'brand': 'Ford', 'model': 'Mustang', 'year': 1964}\n"
     ]
    }
   ],
   "source": [
    "thisdict ={\n",
    "    \"brand\":\"Ford\",\n",
    "    \"model\":\"Mustang\",\n",
    "    \"year\":1964\n",
    "}\n",
    "mydict = dict(thisdict)\n",
    "print(mydict)"
   ]
  },
  {
   "cell_type": "code",
   "execution_count": 42,
   "id": "9d3934f1",
   "metadata": {},
   "outputs": [],
   "source": [
    "myfamily = {\n",
    "    \"child1\":{\n",
    "        \"name\":\"Emil\",\n",
    "        \"year\":2004\n",
    "    },\n",
    "    \"child2\":{\n",
    "        \"name\":\"tobias\",\n",
    "        \"year\":2007\n",
    "    },\n",
    "    \"child3\":{\n",
    "        \"name\":\"Linus\",\n",
    "        \"year\":2022\n",
    "    }\n",
    "}"
   ]
  },
  {
   "cell_type": "code",
   "execution_count": 43,
   "id": "81e73f32",
   "metadata": {},
   "outputs": [
    {
     "data": {
      "text/plain": [
       "{'child1': {'name': 'Emil', 'year': 2004},\n",
       " 'child2': {'name': 'tobias', 'year': 2007},\n",
       " 'child3': {'name': 'Linus', 'year': 2022}}"
      ]
     },
     "execution_count": 43,
     "metadata": {},
     "output_type": "execute_result"
    }
   ],
   "source": [
    "myfamily"
   ]
  },
  {
   "cell_type": "code",
   "execution_count": 3,
   "id": "f532ae21",
   "metadata": {},
   "outputs": [],
   "source": [
    "my_family = {\n",
    "    \"childs\":{\n",
    "        \"name\":\"sham\",\n",
    "        \"DOB\":27//8//2001,\n",
    "        \"Father name \":\"barath\"\n",
    "    },\n",
    "    \"childss\":{\n",
    "        \"name\":\"raju\",\n",
    "        \"DOB\":14//3//2000,\n",
    "        \"Father name\":\"anil\"\n",
    "    },\n",
    "    \"childsss\":{\n",
    "        \"name\":\"Babubhaya\",\n",
    "        \"DOB\":15//8//2001,\n",
    "        \"Father name\":\"kumar apthe\"\n",
    "    }\n",
    "}"
   ]
  },
  {
   "cell_type": "code",
   "execution_count": 4,
   "id": "5ae3c1f6",
   "metadata": {},
   "outputs": [
    {
     "data": {
      "text/plain": [
       "{'childs': {'name': 'sham', 'DOB': 0, 'Father name ': 'barath'},\n",
       " 'childss': {'name': 'raju', 'DOB': 0, 'Father name': 'anil'},\n",
       " 'childsss': {'name': 'Babubhaya', 'DOB': 0, 'Father name': 'kumar apthe'}}"
      ]
     },
     "execution_count": 4,
     "metadata": {},
     "output_type": "execute_result"
    }
   ],
   "source": [
    "my_family"
   ]
  },
  {
   "cell_type": "code",
   "execution_count": 5,
   "id": "ff0683fc",
   "metadata": {},
   "outputs": [],
   "source": [
    "del my_family"
   ]
  },
  {
   "cell_type": "code",
   "execution_count": 7,
   "id": "5abc4fd2",
   "metadata": {},
   "outputs": [],
   "source": [
    "a=55\n",
    "b=20\n",
    "if b>a:\n",
    "    print(\"B is greater than A\")"
   ]
  },
  {
   "cell_type": "code",
   "execution_count": 10,
   "id": "ffba506d",
   "metadata": {},
   "outputs": [
    {
     "name": "stdout",
     "output_type": "stream",
     "text": [
      "A is greater than B\n"
     ]
    }
   ],
   "source": [
    "if a>b:\n",
    "    print(\"A is greater than B\")\n",
    "elif a<b:\n",
    "    print(\"in valid\")"
   ]
  },
  {
   "cell_type": "code",
   "execution_count": 15,
   "id": "c66a8d04",
   "metadata": {},
   "outputs": [
    {
     "name": "stdout",
     "output_type": "stream",
     "text": [
      "b is equal to a\n"
     ]
    }
   ],
   "source": [
    "a = 3\n",
    "b = 3\n",
    "if b>a:\n",
    "    print(\"b is greater than a\")\n",
    "elif b==a:\n",
    "    print(\"b is equal to a\")\n",
    "    "
   ]
  },
  {
   "cell_type": "code",
   "execution_count": 18,
   "id": "2ac84614",
   "metadata": {},
   "outputs": [
    {
     "name": "stdout",
     "output_type": "stream",
     "text": [
      "invalid\n"
     ]
    }
   ],
   "source": [
    "b1 = 2\n",
    "b2 = 2\n",
    "if b1>b2:\n",
    "    print(\"it is greater\")\n",
    "else:\n",
    "    print(\"invalid\")"
   ]
  },
  {
   "cell_type": "code",
   "execution_count": 22,
   "id": "8d9c1263",
   "metadata": {},
   "outputs": [
    {
     "name": "stdout",
     "output_type": "stream",
     "text": [
      "it's invalid \n"
     ]
    }
   ],
   "source": [
    "v1 = 200\n",
    "v2 = 300\n",
    "v3 = 10\n",
    "if v1>v2:\n",
    "    print(\" it is greater\")\n",
    "elif v2>v1 and v2>v3:\n",
    "    print(\"it's invalid \")"
   ]
  },
  {
   "cell_type": "code",
   "execution_count": 23,
   "id": "0fbf75d9",
   "metadata": {},
   "outputs": [
    {
     "name": "stdout",
     "output_type": "stream",
     "text": [
      "It's working\n"
     ]
    }
   ],
   "source": [
    "if v1>v2 or v3<v2:\n",
    "    print(\"It's working\")"
   ]
  },
  {
   "cell_type": "code",
   "execution_count": 26,
   "id": "f0300036",
   "metadata": {},
   "outputs": [],
   "source": [
    " if a>b:\n",
    "        pass"
   ]
  },
  {
   "cell_type": "code",
   "execution_count": 27,
   "id": "3ad347a0",
   "metadata": {},
   "outputs": [
    {
     "name": "stdout",
     "output_type": "stream",
     "text": [
      "1\n",
      "2\n",
      "3\n",
      "4\n",
      "5\n"
     ]
    }
   ],
   "source": [
    "i = 1\n",
    "while i<6:\n",
    "    print(i)\n",
    "    i += 1"
   ]
  },
  {
   "cell_type": "code",
   "execution_count": 31,
   "id": "2c47738e",
   "metadata": {},
   "outputs": [
    {
     "name": "stdout",
     "output_type": "stream",
     "text": [
      "1\n",
      "2\n",
      "3\n",
      "4\n",
      "5\n",
      "6\n",
      "7\n",
      "8\n",
      "9\n",
      "10\n"
     ]
    }
   ],
   "source": [
    "i = 1\n",
    "while i<11:\n",
    "    print(i)\n",
    "    i+=1"
   ]
  },
  {
   "cell_type": "code",
   "execution_count": 36,
   "id": "f0b6c745",
   "metadata": {},
   "outputs": [
    {
     "name": "stdout",
     "output_type": "stream",
     "text": [
      "1\n",
      "2\n",
      "3\n",
      "5\n",
      "6\n"
     ]
    }
   ],
   "source": [
    "i = 0\n",
    "while i<6:\n",
    "    i +=1\n",
    "    if i == 4:                    # disappers\n",
    "        continue\n",
    "    print(i)\n",
    "    "
   ]
  },
  {
   "cell_type": "code",
   "execution_count": 42,
   "id": "ef414a3c",
   "metadata": {},
   "outputs": [],
   "source": [
    "i ==0\n",
    "while i<6:\n",
    "    i+=1\n",
    "    if i == 4:\n",
    "        continue\n",
    "    print(i)"
   ]
  },
  {
   "cell_type": "code",
   "execution_count": 46,
   "id": "09ba7dda",
   "metadata": {},
   "outputs": [
    {
     "name": "stdout",
     "output_type": "stream",
     "text": [
      "apple\n",
      "cherry\n",
      "mango\n"
     ]
    }
   ],
   "source": [
    "fruitss = [\"apple\",\"cherry\",\"mango\"]\n",
    "for x in fruitss:\n",
    "    print(x)"
   ]
  },
  {
   "cell_type": "code",
   "execution_count": 50,
   "id": "6a0719e5",
   "metadata": {},
   "outputs": [
    {
     "name": "stdout",
     "output_type": "stream",
     "text": [
      "apple\n"
     ]
    }
   ],
   "source": [
    "for x in fruitss:\n",
    "    print(x)\n",
    "    if x == \"apple\":\n",
    "        break"
   ]
  },
  {
   "cell_type": "code",
   "execution_count": 51,
   "id": "968c5e25",
   "metadata": {},
   "outputs": [
    {
     "name": "stdout",
     "output_type": "stream",
     "text": [
      "2\n",
      "3\n",
      "4\n",
      "5\n"
     ]
    }
   ],
   "source": [
    "for x in range(2, 6):\n",
    "    print(x)"
   ]
  },
  {
   "cell_type": "code",
   "execution_count": 58,
   "id": "dc86a5b2",
   "metadata": {},
   "outputs": [
    {
     "name": "stdout",
     "output_type": "stream",
     "text": [
      "0\n",
      "5\n",
      "10\n",
      "15\n"
     ]
    }
   ],
   "source": [
    "for x  in range(0,20,5):\n",
    "    print(x)"
   ]
  },
  {
   "cell_type": "code",
   "execution_count": 60,
   "id": "49d81bee",
   "metadata": {},
   "outputs": [
    {
     "name": "stdout",
     "output_type": "stream",
     "text": [
      "0\n",
      "1\n",
      "2\n",
      "3\n"
     ]
    }
   ],
   "source": [
    "for x in range(6):\n",
    "    if x == 4:\n",
    "        break\n",
    "    print(x)"
   ]
  },
  {
   "cell_type": "code",
   "execution_count": 61,
   "id": "0882ae44",
   "metadata": {},
   "outputs": [],
   "source": [
    "for x in [0, 1, 2]:\n",
    "    pass"
   ]
  },
  {
   "cell_type": "code",
   "execution_count": 2,
   "id": "2cc6de96",
   "metadata": {},
   "outputs": [
    {
     "name": "stdout",
     "output_type": "stream",
     "text": [
      "15\n"
     ]
    }
   ],
   "source": [
    "x = lambda a : a+10\n",
    "print(x(5))"
   ]
  },
  {
   "cell_type": "code",
   "execution_count": 1,
   "id": "d3632dc5",
   "metadata": {},
   "outputs": [
    {
     "name": "stdout",
     "output_type": "stream",
     "text": [
      "['BMW', 'Volo', 'Ford', 'kia']\n"
     ]
    }
   ],
   "source": [
    "cars = [\"BMW\",\"Volo\",\"Ford\"]\n",
    "cars.append(\"kia\")\n",
    "print(cars)"
   ]
  },
  {
   "cell_type": "code",
   "execution_count": 2,
   "id": "cb26637b",
   "metadata": {},
   "outputs": [
    {
     "name": "stdout",
     "output_type": "stream",
     "text": [
      "['BMW', 'Ford', 'kia']\n"
     ]
    }
   ],
   "source": [
    "cars.pop(1)\n",
    "print(cars)"
   ]
  },
  {
   "cell_type": "code",
   "execution_count": 3,
   "id": "963543ff",
   "metadata": {},
   "outputs": [],
   "source": [
    "cars.remove(\"Ford\")"
   ]
  },
  {
   "cell_type": "code",
   "execution_count": 4,
   "id": "e7921bb3",
   "metadata": {},
   "outputs": [
    {
     "data": {
      "text/plain": [
       "['BMW', 'kia']"
      ]
     },
     "execution_count": 4,
     "metadata": {},
     "output_type": "execute_result"
    }
   ],
   "source": [
    "cars"
   ]
  },
  {
   "cell_type": "code",
   "execution_count": 6,
   "id": "4b7e8d08",
   "metadata": {},
   "outputs": [
    {
     "name": "stdout",
     "output_type": "stream",
     "text": [
      "<class '__main__.MyClass'>\n"
     ]
    }
   ],
   "source": [
    "class MyClass:\n",
    "    x =5\n",
    "print(MyClass)"
   ]
  },
  {
   "cell_type": "code",
   "execution_count": 7,
   "id": "2b484bd4",
   "metadata": {},
   "outputs": [
    {
     "name": "stdout",
     "output_type": "stream",
     "text": [
      "5\n"
     ]
    }
   ],
   "source": [
    "class MyClass:\n",
    "    x =5\n",
    "p1=MyClass()\n",
    "print(p1.x)"
   ]
  },
  {
   "cell_type": "code",
   "execution_count": 8,
   "id": "ddc861ff",
   "metadata": {},
   "outputs": [
    {
     "name": "stdout",
     "output_type": "stream",
     "text": [
      "john\n",
      "34\n"
     ]
    }
   ],
   "source": [
    "class Person:\n",
    "    def __init__(self,name,age):\n",
    "        self.name = name\n",
    "        self.age = age\n",
    "p1= Person(\"john\",34)\n",
    "\n",
    "print(p1.name)\n",
    "print(p1.age)"
   ]
  },
  {
   "cell_type": "code",
   "execution_count": 12,
   "id": "ae036c3c",
   "metadata": {},
   "outputs": [
    {
     "name": "stdout",
     "output_type": "stream",
     "text": [
      "Hello my name is john\n"
     ]
    }
   ],
   "source": [
    "class Person:\n",
    "    def __init__(self,name,age):\n",
    "        self.name = name\n",
    "        self.age = age\n",
    "        \n",
    "    def My_func(self):\n",
    "            print(\"Hello my name is \"+ self.name)\n",
    "p1=Person(\"john\",34)\n",
    "p1.My_func()"
   ]
  },
  {
   "cell_type": "code",
   "execution_count": 21,
   "id": "442ed0de",
   "metadata": {},
   "outputs": [
    {
     "name": "stdout",
     "output_type": "stream",
     "text": [
      "I love this car,BMW\n"
     ]
    }
   ],
   "source": [
    "class Cars:\n",
    "    def __init__(self,name,model):\n",
    "        self.name = name\n",
    "        self.model = model\n",
    "    def my_Func(self):\n",
    "        print(\"I love this car,\"+ self.name)\n",
    "\n",
    "p1=Cars(\"BMW\",\"VF87\")\n",
    "p1.my_Func()"
   ]
  },
  {
   "cell_type": "code",
   "execution_count": 34,
   "id": "90e3fcbe",
   "metadata": {},
   "outputs": [
    {
     "name": "stdout",
     "output_type": "stream",
     "text": [
      "MY age is ,john\n",
      "34\n"
     ]
    }
   ],
   "source": [
    "class Human:\n",
    "    def __init__(self,name,age):\n",
    "        self.name =name\n",
    "        self.age =age\n",
    "    \n",
    "    def My_fUn(self):\n",
    "        print(\"MY age is ,\" + self.name)\n",
    "\n",
    "p2 = Human(\"john\",34)\n",
    "p2.My_fUn()\n",
    "print(p2.age)"
   ]
  },
  {
   "cell_type": "code",
   "execution_count": 36,
   "id": "43e0e2ee",
   "metadata": {},
   "outputs": [
    {
     "ename": "AttributeError",
     "evalue": "'Human' object has no attribute 'age'",
     "output_type": "error",
     "traceback": [
      "\u001b[1;31m---------------------------------------------------------------------------\u001b[0m",
      "\u001b[1;31mAttributeError\u001b[0m                            Traceback (most recent call last)",
      "\u001b[1;32m<ipython-input-36-5c9847268969>\u001b[0m in \u001b[0;36m<module>\u001b[1;34m\u001b[0m\n\u001b[0;32m      9\u001b[0m \u001b[0mp2\u001b[0m \u001b[1;33m=\u001b[0m \u001b[0mHuman\u001b[0m\u001b[1;33m(\u001b[0m\u001b[1;34m\"john\"\u001b[0m\u001b[1;33m,\u001b[0m\u001b[1;36m34\u001b[0m\u001b[1;33m)\u001b[0m\u001b[1;33m\u001b[0m\u001b[1;33m\u001b[0m\u001b[0m\n\u001b[0;32m     10\u001b[0m \u001b[1;32mdel\u001b[0m \u001b[0mp2\u001b[0m\u001b[1;33m.\u001b[0m\u001b[0mage\u001b[0m\u001b[1;33m\u001b[0m\u001b[1;33m\u001b[0m\u001b[0m\n\u001b[1;32m---> 11\u001b[1;33m \u001b[0mprint\u001b[0m\u001b[1;33m(\u001b[0m\u001b[0mp2\u001b[0m\u001b[1;33m.\u001b[0m\u001b[0mage\u001b[0m\u001b[1;33m)\u001b[0m\u001b[1;33m\u001b[0m\u001b[1;33m\u001b[0m\u001b[0m\n\u001b[0m",
      "\u001b[1;31mAttributeError\u001b[0m: 'Human' object has no attribute 'age'"
     ]
    }
   ],
   "source": [
    "class Human:\n",
    "    def __init__(self,name,age):\n",
    "        self.name =name\n",
    "        self.age =age\n",
    "    \n",
    "    def My_fUn(self):\n",
    "        print(\"MY age is ,\" + self.name)\n",
    "\n",
    "p2 = Human(\"john\",34)\n",
    "\n",
    "del p2.age\n",
    "print(p2.age)"
   ]
  },
  {
   "cell_type": "code",
   "execution_count": 38,
   "id": "556e79a5",
   "metadata": {},
   "outputs": [
    {
     "name": "stdout",
     "output_type": "stream",
     "text": [
      "VST KJH\n"
     ]
    }
   ],
   "source": [
    "class Model:\n",
    "    def __init__(self,year,month):\n",
    "        self.year = year\n",
    "        self.month = month\n",
    "    def var(self):\n",
    "        print(self.year,self.month)\n",
    "x= Model(\"VST\",\"KJH\")\n",
    "x.var()\n",
    "        "
   ]
  },
  {
   "cell_type": "code",
   "execution_count": 39,
   "id": "ba922a76",
   "metadata": {},
   "outputs": [
    {
     "name": "stdout",
     "output_type": "stream",
     "text": [
      "Mike Olsen\n"
     ]
    }
   ],
   "source": [
    "class Person:\n",
    "  def __init__(self, fname, lname):\n",
    "    self.firstname = fname\n",
    "    self.lastname = lname\n",
    "\n",
    "  def printname(self):\n",
    "    print(self.firstname, self.lastname)\n",
    "\n",
    "class Student(Person):\n",
    "  pass\n",
    "\n",
    "x = Student(\"Mike\", \"Olsen\")\n",
    "x.printname()\n"
   ]
  },
  {
   "cell_type": "code",
   "execution_count": 40,
   "id": "9b6eb75d",
   "metadata": {},
   "outputs": [
    {
     "name": "stdout",
     "output_type": "stream",
     "text": [
      "apple\n",
      "banana\n",
      "cherry\n"
     ]
    }
   ],
   "source": [
    "mytuple = (\"apple\", \"banana\", \"cherry\")\n",
    "myit = iter(mytuple)\n",
    "\n",
    "print(next(myit))\n",
    "print(next(myit))\n",
    "print(next(myit))\n"
   ]
  },
  {
   "cell_type": "code",
   "execution_count": 42,
   "id": "213c1be4",
   "metadata": {},
   "outputs": [
    {
     "name": "stdout",
     "output_type": "stream",
     "text": [
      "apple\n",
      "banana\n",
      "cherry\n"
     ]
    }
   ],
   "source": [
    "mytuple = (\"apple\", \"banana\", \"cherry\")\n",
    "\n",
    "for x in mytuple:\n",
    "    print(x)\n"
   ]
  },
  {
   "cell_type": "code",
   "execution_count": 48,
   "id": "42a7400c",
   "metadata": {},
   "outputs": [
    {
     "ename": "IndentationError",
     "evalue": "unindent does not match any outer indentation level (<tokenize>, line 6)",
     "output_type": "error",
     "traceback": [
      "\u001b[1;36m  File \u001b[1;32m\"<tokenize>\"\u001b[1;36m, line \u001b[1;32m6\u001b[0m\n\u001b[1;33m    def __next__(self):\u001b[0m\n\u001b[1;37m    ^\u001b[0m\n\u001b[1;31mIndentationError\u001b[0m\u001b[1;31m:\u001b[0m unindent does not match any outer indentation level\n"
     ]
    }
   ],
   "source": [
    "class MyNumbers:\n",
    "def __iter__(self):\n",
    "    self.a = 1\n",
    "    return self\n",
    "\n",
    "  def __next__(self):\n",
    "    if self.a <= 20:\n",
    "        x = self.a\n",
    "        self.a += 1\n",
    "        return x\n",
    "    else:\n",
    "        raise StopIteration\n",
    "\n",
    "myclass = MyNumbers()\n",
    "myiter = iter(myclass)\n",
    "\n",
    "for x in myiter:\n",
    "    print(x)"
   ]
  },
  {
   "cell_type": "code",
   "execution_count": 49,
   "id": "a73f44d1",
   "metadata": {},
   "outputs": [
    {
     "name": "stdout",
     "output_type": "stream",
     "text": [
      "300\n"
     ]
    }
   ],
   "source": [
    "def myfunc():\n",
    "    x = 300\n",
    "    print(x)\n",
    "\n",
    "myfunc()"
   ]
  },
  {
   "cell_type": "code",
   "execution_count": 1,
   "id": "ee0d177e",
   "metadata": {},
   "outputs": [],
   "source": [
    "car1=\"apple\",\"mango\",\"sand\"\n",
    "car2=\"sandal\",\"bolly\",\"Tolly\"\n",
    "Car3='gang',\"bang\",\"pan\""
   ]
  },
  {
   "cell_type": "code",
   "execution_count": 2,
   "id": "e819dc67",
   "metadata": {},
   "outputs": [
    {
     "name": "stdout",
     "output_type": "stream",
     "text": [
      "('apple', 'mango', 'sand')\n"
     ]
    }
   ],
   "source": [
    "print(car1)"
   ]
  },
  {
   "cell_type": "code",
   "execution_count": 3,
   "id": "d69f11ca",
   "metadata": {},
   "outputs": [
    {
     "name": "stdout",
     "output_type": "stream",
     "text": [
      "<class 'tuple'>\n"
     ]
    }
   ],
   "source": [
    "print(type(car1))"
   ]
  },
  {
   "cell_type": "code",
   "execution_count": 5,
   "id": "f66fe0b9",
   "metadata": {},
   "outputs": [],
   "source": [
    "# Array\n",
    "\n",
    "# it is a collection of all element\n",
    "# it a special type of variable ,where we can store one or more variable at same time "
   ]
  },
  {
   "cell_type": "code",
   "execution_count": 7,
   "id": "787be203",
   "metadata": {},
   "outputs": [],
   "source": [
    "x= car1"
   ]
  },
  {
   "cell_type": "code",
   "execution_count": 8,
   "id": "d7699f63",
   "metadata": {},
   "outputs": [
    {
     "name": "stdout",
     "output_type": "stream",
     "text": [
      "mango\n"
     ]
    }
   ],
   "source": [
    "print(car1[1])"
   ]
  },
  {
   "cell_type": "code",
   "execution_count": 10,
   "id": "93f38746",
   "metadata": {},
   "outputs": [],
   "source": [
    "x = len(car1)"
   ]
  },
  {
   "cell_type": "code",
   "execution_count": 11,
   "id": "ad820173",
   "metadata": {},
   "outputs": [
    {
     "name": "stdout",
     "output_type": "stream",
     "text": [
      "3\n"
     ]
    }
   ],
   "source": [
    "print(x)"
   ]
  },
  {
   "cell_type": "code",
   "execution_count": 13,
   "id": "99ae814e",
   "metadata": {},
   "outputs": [
    {
     "name": "stdout",
     "output_type": "stream",
     "text": [
      "apple\n",
      "mango\n",
      "sand\n"
     ]
    }
   ],
   "source": [
    "for x in car1:\n",
    "    print(x)"
   ]
  },
  {
   "cell_type": "code",
   "execution_count": 14,
   "id": "7d3c65e0",
   "metadata": {},
   "outputs": [
    {
     "name": "stdout",
     "output_type": "stream",
     "text": [
      "sandal\n",
      "bolly\n",
      "Tolly\n"
     ]
    }
   ],
   "source": [
    "for x in car2:\n",
    "    print(x)"
   ]
  },
  {
   "cell_type": "code",
   "execution_count": 20,
   "id": "dc9fb2c2",
   "metadata": {},
   "outputs": [],
   "source": [
    "x =list(car1)"
   ]
  },
  {
   "cell_type": "code",
   "execution_count": 21,
   "id": "ce349a7f",
   "metadata": {},
   "outputs": [
    {
     "data": {
      "text/plain": [
       "['apple', 'mango', 'sand']"
      ]
     },
     "execution_count": 21,
     "metadata": {},
     "output_type": "execute_result"
    }
   ],
   "source": [
    "x"
   ]
  },
  {
   "cell_type": "code",
   "execution_count": 22,
   "id": "cfd0e8e1",
   "metadata": {},
   "outputs": [
    {
     "data": {
      "text/plain": [
       "('apple', 'mango', 'sand')"
      ]
     },
     "execution_count": 22,
     "metadata": {},
     "output_type": "execute_result"
    }
   ],
   "source": [
    "car1"
   ]
  },
  {
   "cell_type": "code",
   "execution_count": 25,
   "id": "e4829b94",
   "metadata": {},
   "outputs": [],
   "source": [
    "x.append(\"honda\")"
   ]
  },
  {
   "cell_type": "code",
   "execution_count": 26,
   "id": "602dfbbe",
   "metadata": {},
   "outputs": [
    {
     "data": {
      "text/plain": [
       "['apple', 'mango', 'sand', 'honda']"
      ]
     },
     "execution_count": 26,
     "metadata": {},
     "output_type": "execute_result"
    }
   ],
   "source": [
    "x"
   ]
  },
  {
   "cell_type": "code",
   "execution_count": 28,
   "id": "51d57845",
   "metadata": {},
   "outputs": [
    {
     "data": {
      "text/plain": [
       "'mango'"
      ]
     },
     "execution_count": 28,
     "metadata": {},
     "output_type": "execute_result"
    }
   ],
   "source": [
    "x.pop(1)"
   ]
  },
  {
   "cell_type": "code",
   "execution_count": 29,
   "id": "e416f84f",
   "metadata": {},
   "outputs": [],
   "source": [
    "x.remove(\"honda\")"
   ]
  },
  {
   "cell_type": "code",
   "execution_count": 30,
   "id": "545dcf04",
   "metadata": {},
   "outputs": [
    {
     "data": {
      "text/plain": [
       "['apple', 'sand']"
      ]
     },
     "execution_count": 30,
     "metadata": {},
     "output_type": "execute_result"
    }
   ],
   "source": [
    "x"
   ]
  },
  {
   "cell_type": "code",
   "execution_count": 31,
   "id": "18213837",
   "metadata": {},
   "outputs": [],
   "source": [
    "class MyClass:\n",
    "    x = 5"
   ]
  },
  {
   "cell_type": "code",
   "execution_count": 33,
   "id": "779cd522",
   "metadata": {},
   "outputs": [
    {
     "name": "stdout",
     "output_type": "stream",
     "text": [
      "<class '__main__.MyClass'>\n"
     ]
    }
   ],
   "source": [
    "print(MyClass)"
   ]
  },
  {
   "cell_type": "code",
   "execution_count": 34,
   "id": "d413cbcd",
   "metadata": {},
   "outputs": [
    {
     "name": "stdout",
     "output_type": "stream",
     "text": [
      "5\n"
     ]
    }
   ],
   "source": [
    "p1 = MyClass()\n",
    "print(p1.x)"
   ]
  },
  {
   "cell_type": "code",
   "execution_count": 35,
   "id": "886ee829",
   "metadata": {},
   "outputs": [],
   "source": [
    "class My_Class:\n",
    "    x=5\n"
   ]
  },
  {
   "cell_type": "code",
   "execution_count": 36,
   "id": "d2fa2e96",
   "metadata": {},
   "outputs": [
    {
     "name": "stdout",
     "output_type": "stream",
     "text": [
      "5\n"
     ]
    }
   ],
   "source": [
    "p1 = My_Class()\n",
    "print(p1.x)"
   ]
  },
  {
   "cell_type": "code",
   "execution_count": 40,
   "id": "36abf22c",
   "metadata": {},
   "outputs": [
    {
     "name": "stdout",
     "output_type": "stream",
     "text": [
      "john\n",
      "36\n"
     ]
    }
   ],
   "source": [
    "class Person:\n",
    "    def __init__(self,name,age):\n",
    "        self.name = name\n",
    "        self.age = age\n",
    "p1 = Person(\"john\",36)\n",
    "\n",
    "print(p1.name)\n",
    "print(p1.age)"
   ]
  },
  {
   "cell_type": "code",
   "execution_count": 41,
   "id": "01495035",
   "metadata": {},
   "outputs": [
    {
     "name": "stdout",
     "output_type": "stream",
     "text": [
      "Games\n",
      "45\n"
     ]
    }
   ],
   "source": [
    "class Person:\n",
    "    def __init__(self,name,age):\n",
    "        self.name=name\n",
    "        self.age=age\n",
    "p1 = Person(\"Games\",45)\n",
    "\n",
    "print(p1.name)\n",
    "print(p1.age)"
   ]
  },
  {
   "cell_type": "code",
   "execution_count": 42,
   "id": "bdaf4725",
   "metadata": {},
   "outputs": [],
   "source": [
    "class Person:\n",
    "    def __init__(self,firstname,lastname):\n",
    "        self.firstname=firstname\n",
    "        self.lastname=lastname\n",
    "        \n",
    "    def printname(self):\n",
    "        print(self.firstname,self.lastname)\n"
   ]
  },
  {
   "cell_type": "code",
   "execution_count": 43,
   "id": "1d4bb1be",
   "metadata": {},
   "outputs": [
    {
     "name": "stdout",
     "output_type": "stream",
     "text": [
      "john Doe\n"
     ]
    }
   ],
   "source": [
    "x = Person(\"john\",\"Doe\")\n",
    "x.printname()"
   ]
  },
  {
   "cell_type": "code",
   "execution_count": 47,
   "id": "9ad60e2a",
   "metadata": {},
   "outputs": [
    {
     "name": "stdout",
     "output_type": "stream",
     "text": [
      "welcome Mike Olsen to the class of  2019\n"
     ]
    }
   ],
   "source": [
    "class Person:\n",
    "    def __init__(self,fname,lname):\n",
    "        self.firstname=fname\n",
    "        self.lastname=lname\n",
    "        \n",
    "    def printname(self):\n",
    "            print(self.fristname,self.lastname)\n",
    "class student(Person):\n",
    "    def __init__(self,fname,lname,year):\n",
    "        super().__init__(fname,lname)\n",
    "        self.graduationyear = year\n",
    "\n",
    "    def welcome(self):\n",
    "         print(\"welcome\",self.firstname,self.lastname,\"to the class of \",self.graduationyear)\n",
    "    \n",
    "x = student(\"Mike\",\"Olsen\",2019)\n",
    "x.welcome()"
   ]
  },
  {
   "cell_type": "code",
   "execution_count": 53,
   "id": "ed912db4",
   "metadata": {},
   "outputs": [
    {
     "name": "stdout",
     "output_type": "stream",
     "text": [
      "300\n"
     ]
    }
   ],
   "source": [
    "def myfunc():                                     # FUncion in function\n",
    "    x=300\n",
    "    def myinnerfunc():\n",
    "        print(x)\n",
    "    myinnerfunc()\n",
    "myfunc()"
   ]
  },
  {
   "cell_type": "code",
   "execution_count": 51,
   "id": "a33d3580",
   "metadata": {},
   "outputs": [
    {
     "name": "stdout",
     "output_type": "stream",
     "text": [
      "400\n",
      "400\n"
     ]
    }
   ],
   "source": [
    "x = 400        #global scope \n",
    "\n",
    "def myfunc():\n",
    "    print(x)\n",
    "    \n",
    "myfunc()\n",
    "\n",
    "print(x)"
   ]
  },
  {
   "cell_type": "code",
   "execution_count": 52,
   "id": "6703712a",
   "metadata": {},
   "outputs": [
    {
     "name": "stdout",
     "output_type": "stream",
     "text": [
      "200\n",
      "900\n"
     ]
    }
   ],
   "source": [
    "x = 900          # naming variable\n",
    "def myfunc():\n",
    "    x =200\n",
    "    print(x)\n",
    "myfunc()\n",
    "print(x)"
   ]
  },
  {
   "cell_type": "code",
   "execution_count": 54,
   "id": "931fa5c6",
   "metadata": {},
   "outputs": [
    {
     "name": "stdout",
     "output_type": "stream",
     "text": [
      "300\n"
     ]
    }
   ],
   "source": [
    "def myfunc():     # global key\n",
    "    global x \n",
    "    x=300\n",
    "    \n",
    "myfunc()\n",
    "print(x)"
   ]
  },
  {
   "cell_type": "code",
   "execution_count": 55,
   "id": "e3b04c19",
   "metadata": {},
   "outputs": [],
   "source": [
    "# Math\n",
    "\n",
    "# BUILT in\n",
    "\n",
    "#min\n",
    "#max\n",
    "#abs\n",
    "#pow\n",
    "#sqrt\n"
   ]
  },
  {
   "cell_type": "code",
   "execution_count": 56,
   "id": "7f36a7d4",
   "metadata": {},
   "outputs": [],
   "source": [
    "import math"
   ]
  },
  {
   "cell_type": "code",
   "execution_count": 57,
   "id": "274a934d",
   "metadata": {},
   "outputs": [
    {
     "data": {
      "text/plain": [
       "93"
      ]
     },
     "execution_count": 57,
     "metadata": {},
     "output_type": "execute_result"
    }
   ],
   "source": [
    "x =45\n",
    "y =48\n",
    "\n",
    "x+y"
   ]
  },
  {
   "cell_type": "code",
   "execution_count": 58,
   "id": "39b2b23f",
   "metadata": {},
   "outputs": [],
   "source": [
    "x =min(5,10,25)\n",
    "y =max(5,10,25)"
   ]
  },
  {
   "cell_type": "code",
   "execution_count": 59,
   "id": "9247cc48",
   "metadata": {},
   "outputs": [
    {
     "data": {
      "text/plain": [
       "5"
      ]
     },
     "execution_count": 59,
     "metadata": {},
     "output_type": "execute_result"
    }
   ],
   "source": [
    "x"
   ]
  },
  {
   "cell_type": "code",
   "execution_count": 60,
   "id": "7cd487af",
   "metadata": {},
   "outputs": [
    {
     "data": {
      "text/plain": [
       "25"
      ]
     },
     "execution_count": 60,
     "metadata": {},
     "output_type": "execute_result"
    }
   ],
   "source": [
    "y"
   ]
  },
  {
   "cell_type": "code",
   "execution_count": 61,
   "id": "50859488",
   "metadata": {},
   "outputs": [],
   "source": [
    "x=abs(-6.55)"
   ]
  },
  {
   "cell_type": "code",
   "execution_count": 62,
   "id": "26059e88",
   "metadata": {},
   "outputs": [
    {
     "data": {
      "text/plain": [
       "6.55"
      ]
     },
     "execution_count": 62,
     "metadata": {},
     "output_type": "execute_result"
    }
   ],
   "source": [
    "x"
   ]
  },
  {
   "cell_type": "code",
   "execution_count": 65,
   "id": "38e1774d",
   "metadata": {},
   "outputs": [],
   "source": [
    "x = pow(4,8)"
   ]
  },
  {
   "cell_type": "code",
   "execution_count": 66,
   "id": "1617124e",
   "metadata": {},
   "outputs": [
    {
     "data": {
      "text/plain": [
       "65536"
      ]
     },
     "execution_count": 66,
     "metadata": {},
     "output_type": "execute_result"
    }
   ],
   "source": [
    "x"
   ]
  },
  {
   "cell_type": "code",
   "execution_count": 69,
   "id": "fa5df9e9",
   "metadata": {},
   "outputs": [
    {
     "data": {
      "text/plain": [
       "65536"
      ]
     },
     "execution_count": 69,
     "metadata": {},
     "output_type": "execute_result"
    }
   ],
   "source": [
    "4*4*4*4*4*4*4*4"
   ]
  },
  {
   "cell_type": "code",
   "execution_count": 70,
   "id": "be97366f",
   "metadata": {},
   "outputs": [
    {
     "name": "stdout",
     "output_type": "stream",
     "text": [
      "8.0\n"
     ]
    }
   ],
   "source": [
    "x = math.sqrt(64)\n",
    "print(x)"
   ]
  },
  {
   "cell_type": "code",
   "execution_count": 71,
   "id": "90f425ff",
   "metadata": {},
   "outputs": [
    {
     "name": "stdout",
     "output_type": "stream",
     "text": [
      "8.0\n"
     ]
    }
   ],
   "source": [
    "y = math.pi\n",
    "print(x)\n"
   ]
  },
  {
   "cell_type": "code",
   "execution_count": 72,
   "id": "877ae419",
   "metadata": {},
   "outputs": [],
   "source": [
    "import json"
   ]
  },
  {
   "cell_type": "code",
   "execution_count": 73,
   "id": "a7b7c879",
   "metadata": {},
   "outputs": [],
   "source": [
    "x = '{\"name\":\"jhon\",\"age\":45,\"city\":\"newyork\"}'"
   ]
  },
  {
   "cell_type": "code",
   "execution_count": 74,
   "id": "c9ab643d",
   "metadata": {},
   "outputs": [],
   "source": [
    "y= json.loads(x)"
   ]
  },
  {
   "cell_type": "code",
   "execution_count": 75,
   "id": "c46f4671",
   "metadata": {},
   "outputs": [
    {
     "name": "stdout",
     "output_type": "stream",
     "text": [
      "45\n"
     ]
    }
   ],
   "source": [
    "print(y[\"age\"])"
   ]
  },
  {
   "cell_type": "code",
   "execution_count": 77,
   "id": "45fe26cb",
   "metadata": {},
   "outputs": [],
   "source": [
    "# python object can convert in to a json string by using \n",
    "   # json.dumps()"
   ]
  },
  {
   "cell_type": "code",
   "execution_count": 79,
   "id": "f52e5467",
   "metadata": {},
   "outputs": [
    {
     "name": "stdout",
     "output_type": "stream",
     "text": [
      "{\"name\": \"john\", \"age\": 50}\n"
     ]
    }
   ],
   "source": [
    "print(json.dumps({\"name\":\"john\",\"age\":50}))"
   ]
  },
  {
   "cell_type": "code",
   "execution_count": 80,
   "id": "5d04de57",
   "metadata": {},
   "outputs": [
    {
     "name": "stdout",
     "output_type": "stream",
     "text": [
      "<class 'function'>\n"
     ]
    }
   ],
   "source": [
    "print(type(json.dumps))"
   ]
  },
  {
   "cell_type": "raw",
   "id": "aa98c679",
   "metadata": {},
   "source": [
    "# python to Json \n",
    "\n",
    "\n",
    "Python   -  JSON\n",
    "\n",
    "dict   -   Object\n",
    "list   -   Array\n",
    "tuple  -   Array\n",
    "str    -   string\n",
    "int    -   Number\n",
    "float  -   Number\n",
    "True   -   true\n",
    "False  -   false\n",
    "None   =   null"
   ]
  },
  {
   "cell_type": "code",
   "execution_count": 82,
   "id": "b76445b4",
   "metadata": {},
   "outputs": [],
   "source": [
    "# Python string formatting"
   ]
  },
  {
   "cell_type": "code",
   "execution_count": 83,
   "id": "7249e9f3",
   "metadata": {},
   "outputs": [
    {
     "name": "stdout",
     "output_type": "stream",
     "text": [
      "The price is 49 dollars\n"
     ]
    }
   ],
   "source": [
    "price =49\n",
    "txt=\"The price is {} dollars\"\n",
    "print(txt.format(price))"
   ]
  },
  {
   "cell_type": "code",
   "execution_count": 84,
   "id": "e6bbe706",
   "metadata": {},
   "outputs": [
    {
     "name": "stdout",
     "output_type": "stream",
     "text": [
      "i want 5 pieces of item number  567 for 49.00 dollars.\n"
     ]
    }
   ],
   "source": [
    "quantity = 5\n",
    "itemno =567\n",
    "price = 49\n",
    "myorder = \"i want {} pieces of item number  {} for {:.2f} dollars.\"\n",
    "print(myorder.format(quantity,itemno,price))"
   ]
  },
  {
   "cell_type": "code",
   "execution_count": 1,
   "id": "3c935a0b",
   "metadata": {},
   "outputs": [],
   "source": [
    "f = open(\"myfile.txt\",\"x\")"
   ]
  },
  {
   "cell_type": "code",
   "execution_count": 2,
   "id": "124baff3",
   "metadata": {},
   "outputs": [],
   "source": [
    "f = open(\"IAM VERY GOOD BOY \", \"w\")"
   ]
  },
  {
   "cell_type": "code",
   "execution_count": 4,
   "id": "a1d3c3d4",
   "metadata": {},
   "outputs": [],
   "source": [
    "f=open(\"myfile.txt\",\"r\")"
   ]
  },
  {
   "cell_type": "code",
   "execution_count": 5,
   "id": "a4722919",
   "metadata": {},
   "outputs": [
    {
     "name": "stdout",
     "output_type": "stream",
     "text": [
      "\n"
     ]
    }
   ],
   "source": [
    "print(f.read())"
   ]
  },
  {
   "cell_type": "code",
   "execution_count": 6,
   "id": "544a923a",
   "metadata": {},
   "outputs": [
    {
     "name": "stdout",
     "output_type": "stream",
     "text": [
      "\n"
     ]
    }
   ],
   "source": [
    "print(f.readline())"
   ]
  },
  {
   "cell_type": "code",
   "execution_count": 7,
   "id": "121da445",
   "metadata": {},
   "outputs": [],
   "source": [
    "f = open(\"myyfile.txt\",\"x\")"
   ]
  },
  {
   "cell_type": "code",
   "execution_count": 8,
   "id": "a2509b90",
   "metadata": {},
   "outputs": [
    {
     "data": {
      "text/plain": [
       "14"
      ]
     },
     "execution_count": 8,
     "metadata": {},
     "output_type": "execute_result"
    }
   ],
   "source": [
    "f.write(\"iam a good boy\")"
   ]
  },
  {
   "cell_type": "code",
   "execution_count": 9,
   "id": "53f7ecbd",
   "metadata": {},
   "outputs": [],
   "source": [
    "f.close()"
   ]
  },
  {
   "cell_type": "code",
   "execution_count": 10,
   "id": "cea9d026",
   "metadata": {},
   "outputs": [
    {
     "data": {
      "text/plain": [
       "'iam a good boy'"
      ]
     },
     "execution_count": 10,
     "metadata": {},
     "output_type": "execute_result"
    }
   ],
   "source": [
    "f=open(\"myyfile.txt\",\"r\")\n",
    "f.read()"
   ]
  },
  {
   "cell_type": "code",
   "execution_count": 12,
   "id": "7dd9f3d8",
   "metadata": {},
   "outputs": [],
   "source": [
    "f.close()"
   ]
  },
  {
   "cell_type": "code",
   "execution_count": 13,
   "id": "49460340",
   "metadata": {},
   "outputs": [],
   "source": [
    "f = open(\"myyfile.txt\",\"a\")"
   ]
  },
  {
   "cell_type": "code",
   "execution_count": 14,
   "id": "30512d20",
   "metadata": {},
   "outputs": [
    {
     "data": {
      "text/plain": [
       "24"
      ]
     },
     "execution_count": 14,
     "metadata": {},
     "output_type": "execute_result"
    }
   ],
   "source": [
    "f.write(\"But, Iam an Bad boy also\")"
   ]
  },
  {
   "cell_type": "code",
   "execution_count": 15,
   "id": "c7612947",
   "metadata": {},
   "outputs": [],
   "source": [
    "f.close()"
   ]
  },
  {
   "cell_type": "code",
   "execution_count": 16,
   "id": "7dc451e6",
   "metadata": {},
   "outputs": [],
   "source": [
    "f = open(\"myyfile.txt\",\"r\")"
   ]
  },
  {
   "cell_type": "code",
   "execution_count": 17,
   "id": "9b13d959",
   "metadata": {},
   "outputs": [
    {
     "data": {
      "text/plain": [
       "'iam a good boyBut, Iam an Bad boy also'"
      ]
     },
     "execution_count": 17,
     "metadata": {},
     "output_type": "execute_result"
    }
   ],
   "source": [
    "f.read()"
   ]
  },
  {
   "cell_type": "code",
   "execution_count": 18,
   "id": "8f158ed1",
   "metadata": {},
   "outputs": [],
   "source": [
    "import os"
   ]
  },
  {
   "cell_type": "code",
   "execution_count": 19,
   "id": "f7276b13",
   "metadata": {},
   "outputs": [],
   "source": [
    "os.remove(\"myfile.txt\")"
   ]
  },
  {
   "cell_type": "code",
   "execution_count": null,
   "id": "01d5594e",
   "metadata": {},
   "outputs": [],
   "source": [
    "s"
   ]
  }
 ],
 "metadata": {
  "kernelspec": {
   "display_name": "Python 3",
   "language": "python",
   "name": "python3"
  },
  "language_info": {
   "codemirror_mode": {
    "name": "ipython",
    "version": 3
   },
   "file_extension": ".py",
   "mimetype": "text/x-python",
   "name": "python",
   "nbconvert_exporter": "python",
   "pygments_lexer": "ipython3",
   "version": "3.12.10"
  }
 },
 "nbformat": 4,
 "nbformat_minor": 5
}
